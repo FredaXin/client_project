{
 "cells": [
  {
   "cell_type": "markdown",
   "metadata": {},
   "source": [
    "# Modeling - Option 1:\n",
    "## predicting affluence in our NYC clusters"
   ]
  },
  {
   "cell_type": "markdown",
   "metadata": {},
   "source": [
    "In the prior Data Cleaning & Exploratory Data Analysis notebook - we noted some very interesting insights based on the relative percentages of business types in each NYC Borough.\n",
    "\n",
    "Here are some example observations we made, related to business categories within the borough: \n",
    "- Manhattan has a higher percentage of coffee shops\n",
    "- Bronx and Staten Island have a higher percentage of Pizza shops\n",
    "- Queens businesses lean toward Chinese restaurants\n",
    "- Staten Island has the highest percentage of Hot Dog businesses\n",
    "\n",
    "Also, we had made some observations based on the business 'price' level (example: \\$\\$)\n",
    "- Manhattan has a predominance of 2 dollar sign businesses \n",
    "- Manhattan also the largest percentage of 3 and 4 dollar-sign businesses relative to the other boroughs\n",
    "- Bronx contains predominantly 1 dollar sign businesses.\n",
    "\n",
    "We believe that these observations are key in highlighting the relative types of businesses within a neighborhood. In this notebook, we explore these types of questions via modeling methods - to establish whether we can predict the affluence of one of our business 'clusters' by utilizing the percentages of types of businesses within all clusters.\n",
    "\n",
    "We will train and test our model based on the relative fractional presence of businesses within each cluster...\n",
    "\n",
    "(in progress!)"
   ]
  },
  {
   "cell_type": "markdown",
   "metadata": {},
   "source": [
    "## Import Libraries and Data"
   ]
  },
  {
   "cell_type": "markdown",
   "metadata": {},
   "source": [
    "### Import libraries"
   ]
  },
  {
   "cell_type": "code",
   "execution_count": 1,
   "metadata": {},
   "outputs": [],
   "source": [
    "import numpy as np\n",
    "import pandas as pd\n",
    "import matplotlib.pyplot as plt\n",
    "import seaborn as sns\n",
    "\n",
    "from sklearn.preprocessing import StandardScaler\n",
    "from sklearn.model_selection import train_test_split, GridSearchCV, cross_val_score\n",
    "from sklearn.pipeline import Pipeline\n",
    "\n",
    "from sklearn.linear_model import LogisticRegression\n",
    "from sklearn.neighbors import KNeighborsClassifier\n",
    "from sklearn.tree import DecisionTreeClassifier\n",
    "from sklearn.svm import SVC\n",
    "from sklearn.ensemble import BaggingClassifier, RandomForestClassifier, AdaBoostClassifier, VotingClassifier\n",
    "from sklearn import svm\n",
    "\n",
    "from sklearn.metrics import confusion_matrix, roc_curve, auc, make_scorer, roc_auc_score\n",
    "\n",
    "import matplotlib\n",
    "\n",
    "# Styling \n",
    "from IPython.display import HTML, display\n",
    "import tabulate\n",
    "\n",
    "import warnings\n",
    "warnings.simplefilter(action='ignore', category=FutureWarning)\n",
    "\n",
    "%matplotlib inline\n"
   ]
  },
  {
   "cell_type": "markdown",
   "metadata": {},
   "source": [
    "### Load data"
   ]
  },
  {
   "cell_type": "code",
   "execution_count": 2,
   "metadata": {},
   "outputs": [],
   "source": [
    "# Import our clean yelp data, with the cluster and 'is_affluent' columns\n",
    "\n",
    "yelp = pd.read_csv('../data/yelp_clean.csv')"
   ]
  },
  {
   "cell_type": "markdown",
   "metadata": {},
   "source": [
    "## Feature fractions & modeling"
   ]
  },
  {
   "cell_type": "code",
   "execution_count": 3,
   "metadata": {},
   "outputs": [
    {
     "data": {
      "text/html": [
       "<div>\n",
       "<style scoped>\n",
       "    .dataframe tbody tr th:only-of-type {\n",
       "        vertical-align: middle;\n",
       "    }\n",
       "\n",
       "    .dataframe tbody tr th {\n",
       "        vertical-align: top;\n",
       "    }\n",
       "\n",
       "    .dataframe thead th {\n",
       "        text-align: right;\n",
       "    }\n",
       "</style>\n",
       "<table border=\"1\" class=\"dataframe\">\n",
       "  <thead>\n",
       "    <tr style=\"text-align: right;\">\n",
       "      <th></th>\n",
       "      <th>Unnamed: 0</th>\n",
       "      <th>name</th>\n",
       "      <th>review_count</th>\n",
       "      <th>rating</th>\n",
       "      <th>price</th>\n",
       "      <th>cat1</th>\n",
       "      <th>zip_code</th>\n",
       "      <th>nyc</th>\n",
       "      <th>borough</th>\n",
       "      <th>cluster</th>\n",
       "      <th>is_affluent</th>\n",
       "    </tr>\n",
       "  </thead>\n",
       "  <tbody>\n",
       "    <tr>\n",
       "      <th>0</th>\n",
       "      <td>0</td>\n",
       "      <td>Com Tam Ninh Kieu</td>\n",
       "      <td>379</td>\n",
       "      <td>4.0</td>\n",
       "      <td>2</td>\n",
       "      <td>vietnamese</td>\n",
       "      <td>10468</td>\n",
       "      <td>True</td>\n",
       "      <td>Bronx</td>\n",
       "      <td>12</td>\n",
       "      <td>0</td>\n",
       "    </tr>\n",
       "    <tr>\n",
       "      <th>1</th>\n",
       "      <td>1</td>\n",
       "      <td>Antonio's Trattoria</td>\n",
       "      <td>773</td>\n",
       "      <td>4.5</td>\n",
       "      <td>2</td>\n",
       "      <td>italian</td>\n",
       "      <td>10458</td>\n",
       "      <td>True</td>\n",
       "      <td>Bronx</td>\n",
       "      <td>12</td>\n",
       "      <td>0</td>\n",
       "    </tr>\n",
       "    <tr>\n",
       "      <th>2</th>\n",
       "      <td>2</td>\n",
       "      <td>Bronx Alehouse</td>\n",
       "      <td>749</td>\n",
       "      <td>4.0</td>\n",
       "      <td>2</td>\n",
       "      <td>tradamerican</td>\n",
       "      <td>10463</td>\n",
       "      <td>True</td>\n",
       "      <td>Bronx</td>\n",
       "      <td>62</td>\n",
       "      <td>0</td>\n",
       "    </tr>\n",
       "    <tr>\n",
       "      <th>3</th>\n",
       "      <td>4</td>\n",
       "      <td>The Bronx Public</td>\n",
       "      <td>443</td>\n",
       "      <td>4.0</td>\n",
       "      <td>2</td>\n",
       "      <td>sportsbars</td>\n",
       "      <td>10463</td>\n",
       "      <td>True</td>\n",
       "      <td>Bronx</td>\n",
       "      <td>62</td>\n",
       "      <td>0</td>\n",
       "    </tr>\n",
       "    <tr>\n",
       "      <th>4</th>\n",
       "      <td>5</td>\n",
       "      <td>Trattoria Zero Otto Nove</td>\n",
       "      <td>749</td>\n",
       "      <td>4.0</td>\n",
       "      <td>2</td>\n",
       "      <td>italian</td>\n",
       "      <td>10458</td>\n",
       "      <td>True</td>\n",
       "      <td>Bronx</td>\n",
       "      <td>12</td>\n",
       "      <td>0</td>\n",
       "    </tr>\n",
       "  </tbody>\n",
       "</table>\n",
       "</div>"
      ],
      "text/plain": [
       "   Unnamed: 0                      name  review_count  rating  price  \\\n",
       "0           0         Com Tam Ninh Kieu           379     4.0      2   \n",
       "1           1       Antonio's Trattoria           773     4.5      2   \n",
       "2           2            Bronx Alehouse           749     4.0      2   \n",
       "3           4          The Bronx Public           443     4.0      2   \n",
       "4           5  Trattoria Zero Otto Nove           749     4.0      2   \n",
       "\n",
       "           cat1  zip_code   nyc borough  cluster  is_affluent  \n",
       "0    vietnamese     10468  True   Bronx       12            0  \n",
       "1       italian     10458  True   Bronx       12            0  \n",
       "2  tradamerican     10463  True   Bronx       62            0  \n",
       "3    sportsbars     10463  True   Bronx       62            0  \n",
       "4       italian     10458  True   Bronx       12            0  "
      ]
     },
     "execution_count": 3,
     "metadata": {},
     "output_type": "execute_result"
    }
   ],
   "source": [
    "# Quick view of the data set\n",
    "yelp.head()"
   ]
  },
  {
   "cell_type": "code",
   "execution_count": 4,
   "metadata": {},
   "outputs": [],
   "source": [
    "# Define function to calculate the percentage presence for each feature category across all the others\n",
    "# In our current use case, the group is our cluster and the fraction is the % of the feature type (price or category)\n",
    "def class_fraction_feature(df_feature, group_col, feature_col):\n",
    "    '''Function to create percent features. Take in a data frame, df_feature, collect the \n",
    "    categories in the group_col identify the features in feature_col and give a percent of the feature for the group.\n",
    "    '''\n",
    "    # identify unique groups and the unique features\n",
    "    groups   = df_feature[group_col].unique().tolist()\n",
    "    features = df_feature[feature_col].unique().tolist()    \n",
    "    \n",
    "    # Create a dictionary to store the groups. Iterate through the groups and collect counts for the features\n",
    "    data = []\n",
    "    for g in groups:\n",
    "        # empty dictionary to fill up the group\n",
    "        g_dict = {'group_col':g}\n",
    "        \n",
    "        for f in features:\n",
    "            g_dict[f] = df_feature[(df_feature[group_col]==g)&(df_feature[feature_col]==f)][feature_col].count()\n",
    "    \n",
    "        # append the dictionary entry for a group to the list of groups\n",
    "        data.append(g_dict)\n",
    "        \n",
    "    data = pd.DataFrame(data)\n",
    "    \n",
    "    # Create total by row and create fraction on each column\n",
    "    data['total'] = data[features].sum(axis = 1)\n",
    "    for f in features:\n",
    "        data[ str(f) + '_fraction'] = data[f]/data['total']\n",
    "   \n",
    "    return data"
   ]
  },
  {
   "cell_type": "code",
   "execution_count": 5,
   "metadata": {},
   "outputs": [],
   "source": [
    "\n",
    "# Calculating the percentages for each business type\n",
    "cluster_price_fraction = class_fraction_feature(yelp,'cluster','price')\n",
    "cluster_type_fraction = class_fraction_feature(yelp,'cluster','cat1')\n"
   ]
  },
  {
   "cell_type": "code",
   "execution_count": 6,
   "metadata": {},
   "outputs": [
    {
     "data": {
      "text/html": [
       "<div>\n",
       "<style scoped>\n",
       "    .dataframe tbody tr th:only-of-type {\n",
       "        vertical-align: middle;\n",
       "    }\n",
       "\n",
       "    .dataframe tbody tr th {\n",
       "        vertical-align: top;\n",
       "    }\n",
       "\n",
       "    .dataframe thead th {\n",
       "        text-align: right;\n",
       "    }\n",
       "</style>\n",
       "<table border=\"1\" class=\"dataframe\">\n",
       "  <thead>\n",
       "    <tr style=\"text-align: right;\">\n",
       "      <th></th>\n",
       "      <th>group_col</th>\n",
       "      <th>2</th>\n",
       "      <th>1</th>\n",
       "      <th>3</th>\n",
       "      <th>4</th>\n",
       "      <th>total</th>\n",
       "      <th>2_fraction</th>\n",
       "      <th>1_fraction</th>\n",
       "      <th>3_fraction</th>\n",
       "      <th>4_fraction</th>\n",
       "    </tr>\n",
       "  </thead>\n",
       "  <tbody>\n",
       "    <tr>\n",
       "      <th>0</th>\n",
       "      <td>12</td>\n",
       "      <td>76</td>\n",
       "      <td>129</td>\n",
       "      <td>3</td>\n",
       "      <td>1</td>\n",
       "      <td>209</td>\n",
       "      <td>0.363636</td>\n",
       "      <td>0.617225</td>\n",
       "      <td>0.014354</td>\n",
       "      <td>0.004785</td>\n",
       "    </tr>\n",
       "    <tr>\n",
       "      <th>1</th>\n",
       "      <td>62</td>\n",
       "      <td>72</td>\n",
       "      <td>69</td>\n",
       "      <td>3</td>\n",
       "      <td>0</td>\n",
       "      <td>144</td>\n",
       "      <td>0.500000</td>\n",
       "      <td>0.479167</td>\n",
       "      <td>0.020833</td>\n",
       "      <td>0.000000</td>\n",
       "    </tr>\n",
       "    <tr>\n",
       "      <th>2</th>\n",
       "      <td>42</td>\n",
       "      <td>70</td>\n",
       "      <td>74</td>\n",
       "      <td>1</td>\n",
       "      <td>0</td>\n",
       "      <td>145</td>\n",
       "      <td>0.482759</td>\n",
       "      <td>0.510345</td>\n",
       "      <td>0.006897</td>\n",
       "      <td>0.000000</td>\n",
       "    </tr>\n",
       "    <tr>\n",
       "      <th>3</th>\n",
       "      <td>38</td>\n",
       "      <td>21</td>\n",
       "      <td>70</td>\n",
       "      <td>0</td>\n",
       "      <td>0</td>\n",
       "      <td>91</td>\n",
       "      <td>0.230769</td>\n",
       "      <td>0.769231</td>\n",
       "      <td>0.000000</td>\n",
       "      <td>0.000000</td>\n",
       "    </tr>\n",
       "    <tr>\n",
       "      <th>4</th>\n",
       "      <td>56</td>\n",
       "      <td>42</td>\n",
       "      <td>108</td>\n",
       "      <td>0</td>\n",
       "      <td>1</td>\n",
       "      <td>151</td>\n",
       "      <td>0.278146</td>\n",
       "      <td>0.715232</td>\n",
       "      <td>0.000000</td>\n",
       "      <td>0.006623</td>\n",
       "    </tr>\n",
       "    <tr>\n",
       "      <th>...</th>\n",
       "      <td>...</td>\n",
       "      <td>...</td>\n",
       "      <td>...</td>\n",
       "      <td>...</td>\n",
       "      <td>...</td>\n",
       "      <td>...</td>\n",
       "      <td>...</td>\n",
       "      <td>...</td>\n",
       "      <td>...</td>\n",
       "      <td>...</td>\n",
       "    </tr>\n",
       "    <tr>\n",
       "      <th>74</th>\n",
       "      <td>59</td>\n",
       "      <td>110</td>\n",
       "      <td>85</td>\n",
       "      <td>3</td>\n",
       "      <td>1</td>\n",
       "      <td>199</td>\n",
       "      <td>0.552764</td>\n",
       "      <td>0.427136</td>\n",
       "      <td>0.015075</td>\n",
       "      <td>0.005025</td>\n",
       "    </tr>\n",
       "    <tr>\n",
       "      <th>75</th>\n",
       "      <td>71</td>\n",
       "      <td>8</td>\n",
       "      <td>22</td>\n",
       "      <td>0</td>\n",
       "      <td>0</td>\n",
       "      <td>30</td>\n",
       "      <td>0.266667</td>\n",
       "      <td>0.733333</td>\n",
       "      <td>0.000000</td>\n",
       "      <td>0.000000</td>\n",
       "    </tr>\n",
       "    <tr>\n",
       "      <th>76</th>\n",
       "      <td>64</td>\n",
       "      <td>78</td>\n",
       "      <td>117</td>\n",
       "      <td>7</td>\n",
       "      <td>1</td>\n",
       "      <td>203</td>\n",
       "      <td>0.384236</td>\n",
       "      <td>0.576355</td>\n",
       "      <td>0.034483</td>\n",
       "      <td>0.004926</td>\n",
       "    </tr>\n",
       "    <tr>\n",
       "      <th>77</th>\n",
       "      <td>51</td>\n",
       "      <td>19</td>\n",
       "      <td>35</td>\n",
       "      <td>0</td>\n",
       "      <td>0</td>\n",
       "      <td>54</td>\n",
       "      <td>0.351852</td>\n",
       "      <td>0.648148</td>\n",
       "      <td>0.000000</td>\n",
       "      <td>0.000000</td>\n",
       "    </tr>\n",
       "    <tr>\n",
       "      <th>78</th>\n",
       "      <td>20</td>\n",
       "      <td>55</td>\n",
       "      <td>83</td>\n",
       "      <td>1</td>\n",
       "      <td>0</td>\n",
       "      <td>139</td>\n",
       "      <td>0.395683</td>\n",
       "      <td>0.597122</td>\n",
       "      <td>0.007194</td>\n",
       "      <td>0.000000</td>\n",
       "    </tr>\n",
       "  </tbody>\n",
       "</table>\n",
       "<p>79 rows × 10 columns</p>\n",
       "</div>"
      ],
      "text/plain": [
       "    group_col    2    1  3  4  total  2_fraction  1_fraction  3_fraction  \\\n",
       "0          12   76  129  3  1    209    0.363636    0.617225    0.014354   \n",
       "1          62   72   69  3  0    144    0.500000    0.479167    0.020833   \n",
       "2          42   70   74  1  0    145    0.482759    0.510345    0.006897   \n",
       "3          38   21   70  0  0     91    0.230769    0.769231    0.000000   \n",
       "4          56   42  108  0  1    151    0.278146    0.715232    0.000000   \n",
       "..        ...  ...  ... .. ..    ...         ...         ...         ...   \n",
       "74         59  110   85  3  1    199    0.552764    0.427136    0.015075   \n",
       "75         71    8   22  0  0     30    0.266667    0.733333    0.000000   \n",
       "76         64   78  117  7  1    203    0.384236    0.576355    0.034483   \n",
       "77         51   19   35  0  0     54    0.351852    0.648148    0.000000   \n",
       "78         20   55   83  1  0    139    0.395683    0.597122    0.007194   \n",
       "\n",
       "    4_fraction  \n",
       "0     0.004785  \n",
       "1     0.000000  \n",
       "2     0.000000  \n",
       "3     0.000000  \n",
       "4     0.006623  \n",
       "..         ...  \n",
       "74    0.005025  \n",
       "75    0.000000  \n",
       "76    0.004926  \n",
       "77    0.000000  \n",
       "78    0.000000  \n",
       "\n",
       "[79 rows x 10 columns]"
      ]
     },
     "execution_count": 6,
     "metadata": {},
     "output_type": "execute_result"
    }
   ],
   "source": [
    "# Show the cluster_price_fraction\n",
    "cluster_price_fraction"
   ]
  },
  {
   "cell_type": "code",
   "execution_count": 7,
   "metadata": {},
   "outputs": [],
   "source": [
    "# Create a reference dataframe of the cluster numbers and their affluence category\n",
    "cluster_is_affluent = yelp[['cluster', 'is_affluent']]\n",
    "cluster_is_affluent = cluster_is_affluent.drop_duplicates(keep ='first')"
   ]
  },
  {
   "cell_type": "code",
   "execution_count": 8,
   "metadata": {},
   "outputs": [
    {
     "data": {
      "text/html": [
       "<div>\n",
       "<style scoped>\n",
       "    .dataframe tbody tr th:only-of-type {\n",
       "        vertical-align: middle;\n",
       "    }\n",
       "\n",
       "    .dataframe tbody tr th {\n",
       "        vertical-align: top;\n",
       "    }\n",
       "\n",
       "    .dataframe thead th {\n",
       "        text-align: right;\n",
       "    }\n",
       "</style>\n",
       "<table border=\"1\" class=\"dataframe\">\n",
       "  <thead>\n",
       "    <tr style=\"text-align: right;\">\n",
       "      <th></th>\n",
       "      <th>cluster</th>\n",
       "      <th>is_affluent</th>\n",
       "      <th>2</th>\n",
       "      <th>1</th>\n",
       "      <th>3</th>\n",
       "      <th>4</th>\n",
       "      <th>total_x</th>\n",
       "      <th>2_fraction</th>\n",
       "      <th>1_fraction</th>\n",
       "      <th>3_fraction</th>\n",
       "      <th>...</th>\n",
       "      <th>giftshops_fraction</th>\n",
       "      <th>spas_fraction</th>\n",
       "      <th>singaporean_fraction</th>\n",
       "      <th>diyfood_fraction</th>\n",
       "      <th>kids_activities_fraction</th>\n",
       "      <th>shopping_fraction</th>\n",
       "      <th>cookingschools_fraction</th>\n",
       "      <th>burmese_fraction</th>\n",
       "      <th>sicilian_fraction</th>\n",
       "      <th>farmersmarket_fraction</th>\n",
       "    </tr>\n",
       "  </thead>\n",
       "  <tbody>\n",
       "    <tr>\n",
       "      <th>0</th>\n",
       "      <td>12</td>\n",
       "      <td>0</td>\n",
       "      <td>76</td>\n",
       "      <td>129</td>\n",
       "      <td>3</td>\n",
       "      <td>1</td>\n",
       "      <td>209</td>\n",
       "      <td>0.363636</td>\n",
       "      <td>0.617225</td>\n",
       "      <td>0.014354</td>\n",
       "      <td>...</td>\n",
       "      <td>0.0</td>\n",
       "      <td>0.0</td>\n",
       "      <td>0.0</td>\n",
       "      <td>0.0</td>\n",
       "      <td>0.0</td>\n",
       "      <td>0.0</td>\n",
       "      <td>0.0</td>\n",
       "      <td>0.0</td>\n",
       "      <td>0.0</td>\n",
       "      <td>0.0</td>\n",
       "    </tr>\n",
       "    <tr>\n",
       "      <th>1</th>\n",
       "      <td>62</td>\n",
       "      <td>0</td>\n",
       "      <td>72</td>\n",
       "      <td>69</td>\n",
       "      <td>3</td>\n",
       "      <td>0</td>\n",
       "      <td>144</td>\n",
       "      <td>0.500000</td>\n",
       "      <td>0.479167</td>\n",
       "      <td>0.020833</td>\n",
       "      <td>...</td>\n",
       "      <td>0.0</td>\n",
       "      <td>0.0</td>\n",
       "      <td>0.0</td>\n",
       "      <td>0.0</td>\n",
       "      <td>0.0</td>\n",
       "      <td>0.0</td>\n",
       "      <td>0.0</td>\n",
       "      <td>0.0</td>\n",
       "      <td>0.0</td>\n",
       "      <td>0.0</td>\n",
       "    </tr>\n",
       "    <tr>\n",
       "      <th>2</th>\n",
       "      <td>42</td>\n",
       "      <td>0</td>\n",
       "      <td>70</td>\n",
       "      <td>74</td>\n",
       "      <td>1</td>\n",
       "      <td>0</td>\n",
       "      <td>145</td>\n",
       "      <td>0.482759</td>\n",
       "      <td>0.510345</td>\n",
       "      <td>0.006897</td>\n",
       "      <td>...</td>\n",
       "      <td>0.0</td>\n",
       "      <td>0.0</td>\n",
       "      <td>0.0</td>\n",
       "      <td>0.0</td>\n",
       "      <td>0.0</td>\n",
       "      <td>0.0</td>\n",
       "      <td>0.0</td>\n",
       "      <td>0.0</td>\n",
       "      <td>0.0</td>\n",
       "      <td>0.0</td>\n",
       "    </tr>\n",
       "    <tr>\n",
       "      <th>3</th>\n",
       "      <td>38</td>\n",
       "      <td>0</td>\n",
       "      <td>21</td>\n",
       "      <td>70</td>\n",
       "      <td>0</td>\n",
       "      <td>0</td>\n",
       "      <td>91</td>\n",
       "      <td>0.230769</td>\n",
       "      <td>0.769231</td>\n",
       "      <td>0.000000</td>\n",
       "      <td>...</td>\n",
       "      <td>0.0</td>\n",
       "      <td>0.0</td>\n",
       "      <td>0.0</td>\n",
       "      <td>0.0</td>\n",
       "      <td>0.0</td>\n",
       "      <td>0.0</td>\n",
       "      <td>0.0</td>\n",
       "      <td>0.0</td>\n",
       "      <td>0.0</td>\n",
       "      <td>0.0</td>\n",
       "    </tr>\n",
       "    <tr>\n",
       "      <th>4</th>\n",
       "      <td>56</td>\n",
       "      <td>0</td>\n",
       "      <td>42</td>\n",
       "      <td>108</td>\n",
       "      <td>0</td>\n",
       "      <td>1</td>\n",
       "      <td>151</td>\n",
       "      <td>0.278146</td>\n",
       "      <td>0.715232</td>\n",
       "      <td>0.000000</td>\n",
       "      <td>...</td>\n",
       "      <td>0.0</td>\n",
       "      <td>0.0</td>\n",
       "      <td>0.0</td>\n",
       "      <td>0.0</td>\n",
       "      <td>0.0</td>\n",
       "      <td>0.0</td>\n",
       "      <td>0.0</td>\n",
       "      <td>0.0</td>\n",
       "      <td>0.0</td>\n",
       "      <td>0.0</td>\n",
       "    </tr>\n",
       "  </tbody>\n",
       "</table>\n",
       "<p>5 rows × 524 columns</p>\n",
       "</div>"
      ],
      "text/plain": [
       "   cluster  is_affluent   2    1  3  4  total_x  2_fraction  1_fraction  \\\n",
       "0       12            0  76  129  3  1      209    0.363636    0.617225   \n",
       "1       62            0  72   69  3  0      144    0.500000    0.479167   \n",
       "2       42            0  70   74  1  0      145    0.482759    0.510345   \n",
       "3       38            0  21   70  0  0       91    0.230769    0.769231   \n",
       "4       56            0  42  108  0  1      151    0.278146    0.715232   \n",
       "\n",
       "   3_fraction  ...  giftshops_fraction  spas_fraction  singaporean_fraction  \\\n",
       "0    0.014354  ...                 0.0            0.0                   0.0   \n",
       "1    0.020833  ...                 0.0            0.0                   0.0   \n",
       "2    0.006897  ...                 0.0            0.0                   0.0   \n",
       "3    0.000000  ...                 0.0            0.0                   0.0   \n",
       "4    0.000000  ...                 0.0            0.0                   0.0   \n",
       "\n",
       "   diyfood_fraction  kids_activities_fraction  shopping_fraction  \\\n",
       "0               0.0                       0.0                0.0   \n",
       "1               0.0                       0.0                0.0   \n",
       "2               0.0                       0.0                0.0   \n",
       "3               0.0                       0.0                0.0   \n",
       "4               0.0                       0.0                0.0   \n",
       "\n",
       "   cookingschools_fraction  burmese_fraction  sicilian_fraction  \\\n",
       "0                      0.0               0.0                0.0   \n",
       "1                      0.0               0.0                0.0   \n",
       "2                      0.0               0.0                0.0   \n",
       "3                      0.0               0.0                0.0   \n",
       "4                      0.0               0.0                0.0   \n",
       "\n",
       "   farmersmarket_fraction  \n",
       "0                     0.0  \n",
       "1                     0.0  \n",
       "2                     0.0  \n",
       "3                     0.0  \n",
       "4                     0.0  \n",
       "\n",
       "[5 rows x 524 columns]"
      ]
     },
     "execution_count": 8,
     "metadata": {},
     "output_type": "execute_result"
    }
   ],
   "source": [
    "# Join the fractions together to create a combined set for the clusters\n",
    "cluster_fraction = cluster_price_fraction.merge(cluster_type_fraction, on = 'group_col', suffixes = ('_x','_y'))\n",
    "\n",
    "# join on affluence\n",
    "cluster_fraction = cluster_fraction.rename(columns={'group_col':'cluster'})\n",
    "cluster_fraction = cluster_is_affluent.merge(cluster_fraction, on = 'cluster')\n",
    "\n",
    "# View the dataframe with all count and fractional columns.\n",
    "cluster_fraction.head()\n"
   ]
  },
  {
   "cell_type": "code",
   "execution_count": null,
   "metadata": {},
   "outputs": [],
   "source": []
  },
  {
   "cell_type": "code",
   "execution_count": null,
   "metadata": {},
   "outputs": [],
   "source": []
  },
  {
   "cell_type": "code",
   "execution_count": 9,
   "metadata": {},
   "outputs": [
    {
     "data": {
      "text/plain": [
       "Index([                 'cluster',              'is_affluent',\n",
       "                                2,                          1,\n",
       "                                3,                          4,\n",
       "                        'total_x',               '2_fraction',\n",
       "                     '1_fraction',               '3_fraction',\n",
       "       ...\n",
       "           'singaporean_fraction',         'diyfood_fraction',\n",
       "       'kids_activities_fraction',        'shopping_fraction',\n",
       "        'cookingschools_fraction',         'burmese_fraction',\n",
       "              'sicilian_fraction',   'farmersmarket_fraction',\n",
       "                   '1_2_fraction',             '3_4_fraction'],\n",
       "      dtype='object', length=526)"
      ]
     },
     "execution_count": 9,
     "metadata": {},
     "output_type": "execute_result"
    }
   ],
   "source": [
    "# Adding two engineered columns based on dollar sign groupings\n",
    "cluster_fraction['1_2_fraction'] = cluster_fraction['1_fraction'] + cluster_fraction['2_fraction']\n",
    "cluster_fraction['3_4_fraction'] = cluster_fraction['3_fraction'] + cluster_fraction['4_fraction']\n",
    "cluster_fraction.columns"
   ]
  },
  {
   "cell_type": "code",
   "execution_count": 10,
   "metadata": {},
   "outputs": [
    {
     "data": {
      "text/plain": [
       "Index([                 'cluster',              'is_affluent',\n",
       "                                2,                          1,\n",
       "                                3,                          4,\n",
       "                        'total_x',               '2_fraction',\n",
       "                     '1_fraction',               '3_fraction',\n",
       "       ...\n",
       "           'singaporean_fraction',         'diyfood_fraction',\n",
       "       'kids_activities_fraction',        'shopping_fraction',\n",
       "        'cookingschools_fraction',         'burmese_fraction',\n",
       "              'sicilian_fraction',   'farmersmarket_fraction',\n",
       "                   '1_2_fraction',             '3_4_fraction'],\n",
       "      dtype='object', length=526)"
      ]
     },
     "execution_count": 10,
     "metadata": {},
     "output_type": "execute_result"
    }
   ],
   "source": [
    "cluster_fraction.columns"
   ]
  },
  {
   "cell_type": "code",
   "execution_count": 11,
   "metadata": {},
   "outputs": [
    {
     "data": {
      "text/plain": [
       "['2_fraction',\n",
       " '1_fraction',\n",
       " '3_fraction',\n",
       " '4_fraction',\n",
       " 'vietnamese_fraction',\n",
       " 'italian_fraction',\n",
       " 'tradamerican_fraction',\n",
       " 'sportsbars_fraction',\n",
       " 'desserts_fraction',\n",
       " 'mexican_fraction',\n",
       " 'coffee_fraction',\n",
       " 'bars_fraction',\n",
       " 'breakfast_brunch_fraction',\n",
       " 'comfortfood_fraction',\n",
       " 'delis_fraction',\n",
       " 'pizza_fraction',\n",
       " 'bakeries_fraction',\n",
       " 'japanese_fraction',\n",
       " 'venezuelan_fraction',\n",
       " 'catering_fraction',\n",
       " 'greek_fraction',\n",
       " 'burgers_fraction',\n",
       " 'meats_fraction',\n",
       " 'beergardens_fraction',\n",
       " 'newamerican_fraction',\n",
       " 'tapasmallplates_fraction',\n",
       " 'foodtrucks_fraction',\n",
       " 'cuban_fraction',\n",
       " 'spanish_fraction',\n",
       " 'diners_fraction',\n",
       " 'coffeeroasteries_fraction',\n",
       " 'irish_fraction',\n",
       " 'lounges_fraction',\n",
       " 'wine_bars_fraction',\n",
       " 'latin_fraction',\n",
       " 'modern_european_fraction',\n",
       " 'cafes_fraction',\n",
       " 'bbq_fraction',\n",
       " 'drugstores_fraction',\n",
       " 'halal_fraction',\n",
       " 'thai_fraction',\n",
       " 'icecream_fraction',\n",
       " 'juicebars_fraction',\n",
       " 'asianfusion_fraction',\n",
       " 'indpak_fraction',\n",
       " 'seafood_fraction',\n",
       " 'chinese_fraction',\n",
       " 'pubs_fraction',\n",
       " 'bagels_fraction',\n",
       " 'sushi_fraction',\n",
       " 'dominican_fraction',\n",
       " 'caribbean_fraction',\n",
       " 'grocery_fraction',\n",
       " 'pakistani_fraction',\n",
       " 'divebars_fraction',\n",
       " 'hotdogs_fraction',\n",
       " 'donuts_fraction',\n",
       " 'tex-mex_fraction',\n",
       " 'african_fraction',\n",
       " 'mediterranean_fraction',\n",
       " 'poolhalls_fraction',\n",
       " 'kosher_fraction',\n",
       " 'chicken_wings_fraction',\n",
       " 'restaurants_fraction',\n",
       " 'salvadoran_fraction',\n",
       " 'vegetarian_fraction',\n",
       " 'cigarbars_fraction',\n",
       " 'buffets_fraction',\n",
       " 'salad_fraction',\n",
       " 'convenience_fraction',\n",
       " 'danceclubs_fraction',\n",
       " 'cafeteria_fraction',\n",
       " 'sandwiches_fraction',\n",
       " 'tacos_fraction',\n",
       " 'cantonese_fraction',\n",
       " 'foodstands_fraction',\n",
       " 'steak_fraction',\n",
       " 'markets_fraction',\n",
       " 'moroccan_fraction',\n",
       " 'southern_fraction',\n",
       " 'french_fraction',\n",
       " 'argentine_fraction',\n",
       " 'laundromat_fraction',\n",
       " 'szechuan_fraction',\n",
       " 'venues_fraction',\n",
       " 'hotdog_fraction',\n",
       " 'korean_fraction',\n",
       " 'cheese_fraction',\n",
       " 'bowling_fraction',\n",
       " 'streetvendors_fraction',\n",
       " 'gastropubs_fraction',\n",
       " 'chocolate_fraction',\n",
       " 'filipino_fraction',\n",
       " 'noodles_fraction',\n",
       " 'macarons_fraction',\n",
       " 'tea_fraction',\n",
       " 'food_court_fraction',\n",
       " 'waffles_fraction',\n",
       " 'acaibowls_fraction',\n",
       " 'dimsum_fraction',\n",
       " 'bubbletea_fraction',\n",
       " 'champagne_bars_fraction',\n",
       " 'cocktailbars_fraction',\n",
       " 'soup_fraction',\n",
       " 'landmarks_fraction',\n",
       " 'nonprofit_fraction',\n",
       " 'vegan_fraction',\n",
       " 'ramen_fraction',\n",
       " 'ethiopian_fraction',\n",
       " 'tapas_fraction',\n",
       " 'mideastern_fraction',\n",
       " 'falafel_fraction',\n",
       " 'fishnchips_fraction',\n",
       " 'soulfood_fraction',\n",
       " 'gelato_fraction',\n",
       " 'bookstores_fraction',\n",
       " 'hookah_bars_fraction',\n",
       " 'poke_fraction',\n",
       " 'customcakes_fraction',\n",
       " 'tobaccoshops_fraction',\n",
       " 'hotpot_fraction',\n",
       " 'turkish_fraction',\n",
       " 'shanghainese_fraction',\n",
       " 'pastashops_fraction',\n",
       " 'russian_fraction',\n",
       " 'uzbek_fraction',\n",
       " 'peruvian_fraction',\n",
       " 'taiwanese_fraction',\n",
       " 'cajun_fraction',\n",
       " 'polish_fraction',\n",
       " 'gourmet_fraction',\n",
       " 'malaysian_fraction',\n",
       " 'chickenshop_fraction',\n",
       " 'afghani_fraction',\n",
       " 'karaoke_fraction',\n",
       " 'ukrainian_fraction',\n",
       " 'irish_pubs_fraction',\n",
       " 'georgian_fraction',\n",
       " 'german_fraction',\n",
       " 'srilankan_fraction',\n",
       " 'candy_fraction',\n",
       " 'healthmarkets_fraction',\n",
       " 'musicvideo_fraction',\n",
       " 'colombian_fraction',\n",
       " 'magicians_fraction',\n",
       " 'pretzels_fraction',\n",
       " 'comedyclubs_fraction',\n",
       " 'beer_and_wine_fraction',\n",
       " 'speakeasies_fraction',\n",
       " 'shavedice_fraction',\n",
       " 'cupcakes_fraction',\n",
       " 'brazilian_fraction',\n",
       " 'himalayan_fraction',\n",
       " 'beerbar_fraction',\n",
       " 'tikibars_fraction',\n",
       " 'belgian_fraction',\n",
       " 'musicvenues_fraction',\n",
       " 'teppanyaki_fraction',\n",
       " 'izakaya_fraction',\n",
       " 'persian_fraction',\n",
       " 'japacurry_fraction',\n",
       " 'butcher_fraction',\n",
       " 'supperclubs_fraction',\n",
       " 'arcades_fraction',\n",
       " 'whiskeybars_fraction',\n",
       " 'portuguese_fraction',\n",
       " 'australian_fraction',\n",
       " 'publicmarkets_fraction',\n",
       " 'gaybars_fraction',\n",
       " 'mags_fraction',\n",
       " 'cheesesteaks_fraction',\n",
       " 'hawaiian_fraction',\n",
       " 'artmuseums_fraction',\n",
       " 'scandinavian_fraction',\n",
       " 'indonesian_fraction',\n",
       " 'hair_fraction',\n",
       " 'jazzandblues_fraction',\n",
       " 'cambodian_fraction',\n",
       " 'british_fraction',\n",
       " 'seafoodmarkets_fraction',\n",
       " 'lebanese_fraction',\n",
       " 'boating_fraction',\n",
       " 'panasian_fraction',\n",
       " 'gluten_free_fraction',\n",
       " 'armenian_fraction',\n",
       " 'themedcafes_fraction',\n",
       " 'empanadas_fraction',\n",
       " 'hkcafe_fraction',\n",
       " 'cakeshop_fraction',\n",
       " 'tours_fraction',\n",
       " 'hobbyshops_fraction',\n",
       " 'basque_fraction',\n",
       " 'fondue_fraction',\n",
       " 'pianobars_fraction',\n",
       " 'sports_clubs_fraction',\n",
       " 'golflessons_fraction',\n",
       " 'boxing_fraction',\n",
       " 'museums_fraction',\n",
       " 'creperies_fraction',\n",
       " 'fooddeliveryservices_fraction',\n",
       " 'intlgrocery_fraction',\n",
       " 'barbers_fraction',\n",
       " 'tuscan_fraction',\n",
       " 'eventplanning_fraction',\n",
       " 'newmexican_fraction',\n",
       " 'movietheaters_fraction',\n",
       " 'laotian_fraction',\n",
       " 'mongolian_fraction',\n",
       " 'wraps_fraction',\n",
       " 'hungarian_fraction',\n",
       " 'trinidadian_fraction',\n",
       " 'haitian_fraction',\n",
       " 'puertorican_fraction',\n",
       " 'festivals_fraction',\n",
       " 'servicestations_fraction',\n",
       " 'theater_fraction',\n",
       " 'kebab_fraction',\n",
       " 'austrian_fraction',\n",
       " 'distilleries_fraction',\n",
       " 'breweries_fraction',\n",
       " 'skate_parks_fraction',\n",
       " 'czech_fraction',\n",
       " 'shoppingcenters_fraction',\n",
       " 'southafrican_fraction',\n",
       " 'petstore_fraction',\n",
       " 'sharedofficespaces_fraction',\n",
       " 'popuprestaurants_fraction',\n",
       " 'hotels_fraction',\n",
       " 'egyptian_fraction',\n",
       " 'tattoo_fraction',\n",
       " 'organic_stores_fraction',\n",
       " 'vinyl_records_fraction',\n",
       " 'senegalese_fraction',\n",
       " 'galleries_fraction',\n",
       " 'bangladeshi_fraction',\n",
       " 'brasseries_fraction',\n",
       " 'sportswear_fraction',\n",
       " 'vapeshops_fraction',\n",
       " 'florists_fraction',\n",
       " 'cookingclasses_fraction',\n",
       " 'kitchenandbath_fraction',\n",
       " 'culturalcenter_fraction',\n",
       " 'sportgoods_fraction',\n",
       " 'nightlife_fraction',\n",
       " 'eatertainment_fraction',\n",
       " 'food_fraction',\n",
       " 'herbsandspices_fraction',\n",
       " 'localservices_fraction',\n",
       " 'airportlounges_fraction',\n",
       " 'golf_fraction',\n",
       " 'giftshops_fraction',\n",
       " 'spas_fraction',\n",
       " 'singaporean_fraction',\n",
       " 'diyfood_fraction',\n",
       " 'kids_activities_fraction',\n",
       " 'shopping_fraction',\n",
       " 'cookingschools_fraction',\n",
       " 'burmese_fraction',\n",
       " 'sicilian_fraction',\n",
       " 'farmersmarket_fraction',\n",
       " '1_2_fraction',\n",
       " '3_4_fraction',\n",
       " 'is_affluent']"
      ]
     },
     "execution_count": 11,
     "metadata": {},
     "output_type": "execute_result"
    }
   ],
   "source": [
    "# Remove columns that are based on count, vs fraction\n",
    "\n",
    "cols = [c for c in cluster_fraction.columns if str(c).endswith('fraction')]\n",
    "\n",
    "cols.append('is_affluent')\n",
    "\n",
    "cols\n",
    "        "
   ]
  },
  {
   "cell_type": "code",
   "execution_count": 12,
   "metadata": {},
   "outputs": [],
   "source": [
    "cluster_fraction = cluster_fraction[cols]"
   ]
  },
  {
   "cell_type": "code",
   "execution_count": 13,
   "metadata": {},
   "outputs": [
    {
     "data": {
      "text/html": [
       "<div>\n",
       "<style scoped>\n",
       "    .dataframe tbody tr th:only-of-type {\n",
       "        vertical-align: middle;\n",
       "    }\n",
       "\n",
       "    .dataframe tbody tr th {\n",
       "        vertical-align: top;\n",
       "    }\n",
       "\n",
       "    .dataframe thead th {\n",
       "        text-align: right;\n",
       "    }\n",
       "</style>\n",
       "<table border=\"1\" class=\"dataframe\">\n",
       "  <thead>\n",
       "    <tr style=\"text-align: right;\">\n",
       "      <th></th>\n",
       "      <th>2_fraction</th>\n",
       "      <th>1_fraction</th>\n",
       "      <th>3_fraction</th>\n",
       "      <th>4_fraction</th>\n",
       "      <th>vietnamese_fraction</th>\n",
       "      <th>italian_fraction</th>\n",
       "      <th>tradamerican_fraction</th>\n",
       "      <th>sportsbars_fraction</th>\n",
       "      <th>desserts_fraction</th>\n",
       "      <th>mexican_fraction</th>\n",
       "      <th>...</th>\n",
       "      <th>diyfood_fraction</th>\n",
       "      <th>kids_activities_fraction</th>\n",
       "      <th>shopping_fraction</th>\n",
       "      <th>cookingschools_fraction</th>\n",
       "      <th>burmese_fraction</th>\n",
       "      <th>sicilian_fraction</th>\n",
       "      <th>farmersmarket_fraction</th>\n",
       "      <th>1_2_fraction</th>\n",
       "      <th>3_4_fraction</th>\n",
       "      <th>is_affluent</th>\n",
       "    </tr>\n",
       "  </thead>\n",
       "  <tbody>\n",
       "    <tr>\n",
       "      <th>0</th>\n",
       "      <td>0.363636</td>\n",
       "      <td>0.617225</td>\n",
       "      <td>0.014354</td>\n",
       "      <td>0.004785</td>\n",
       "      <td>0.004785</td>\n",
       "      <td>0.081340</td>\n",
       "      <td>0.019139</td>\n",
       "      <td>0.014354</td>\n",
       "      <td>0.000000</td>\n",
       "      <td>0.071770</td>\n",
       "      <td>...</td>\n",
       "      <td>0.0</td>\n",
       "      <td>0.0</td>\n",
       "      <td>0.0</td>\n",
       "      <td>0.0</td>\n",
       "      <td>0.0</td>\n",
       "      <td>0.0</td>\n",
       "      <td>0.0</td>\n",
       "      <td>0.980861</td>\n",
       "      <td>0.019139</td>\n",
       "      <td>0</td>\n",
       "    </tr>\n",
       "    <tr>\n",
       "      <th>1</th>\n",
       "      <td>0.500000</td>\n",
       "      <td>0.479167</td>\n",
       "      <td>0.020833</td>\n",
       "      <td>0.000000</td>\n",
       "      <td>0.000000</td>\n",
       "      <td>0.013889</td>\n",
       "      <td>0.034722</td>\n",
       "      <td>0.020833</td>\n",
       "      <td>0.020833</td>\n",
       "      <td>0.048611</td>\n",
       "      <td>...</td>\n",
       "      <td>0.0</td>\n",
       "      <td>0.0</td>\n",
       "      <td>0.0</td>\n",
       "      <td>0.0</td>\n",
       "      <td>0.0</td>\n",
       "      <td>0.0</td>\n",
       "      <td>0.0</td>\n",
       "      <td>0.979167</td>\n",
       "      <td>0.020833</td>\n",
       "      <td>0</td>\n",
       "    </tr>\n",
       "    <tr>\n",
       "      <th>2</th>\n",
       "      <td>0.482759</td>\n",
       "      <td>0.510345</td>\n",
       "      <td>0.006897</td>\n",
       "      <td>0.000000</td>\n",
       "      <td>0.000000</td>\n",
       "      <td>0.013793</td>\n",
       "      <td>0.013793</td>\n",
       "      <td>0.013793</td>\n",
       "      <td>0.020690</td>\n",
       "      <td>0.089655</td>\n",
       "      <td>...</td>\n",
       "      <td>0.0</td>\n",
       "      <td>0.0</td>\n",
       "      <td>0.0</td>\n",
       "      <td>0.0</td>\n",
       "      <td>0.0</td>\n",
       "      <td>0.0</td>\n",
       "      <td>0.0</td>\n",
       "      <td>0.993103</td>\n",
       "      <td>0.006897</td>\n",
       "      <td>0</td>\n",
       "    </tr>\n",
       "    <tr>\n",
       "      <th>3</th>\n",
       "      <td>0.230769</td>\n",
       "      <td>0.769231</td>\n",
       "      <td>0.000000</td>\n",
       "      <td>0.000000</td>\n",
       "      <td>0.000000</td>\n",
       "      <td>0.000000</td>\n",
       "      <td>0.000000</td>\n",
       "      <td>0.000000</td>\n",
       "      <td>0.000000</td>\n",
       "      <td>0.065934</td>\n",
       "      <td>...</td>\n",
       "      <td>0.0</td>\n",
       "      <td>0.0</td>\n",
       "      <td>0.0</td>\n",
       "      <td>0.0</td>\n",
       "      <td>0.0</td>\n",
       "      <td>0.0</td>\n",
       "      <td>0.0</td>\n",
       "      <td>1.000000</td>\n",
       "      <td>0.000000</td>\n",
       "      <td>0</td>\n",
       "    </tr>\n",
       "    <tr>\n",
       "      <th>4</th>\n",
       "      <td>0.278146</td>\n",
       "      <td>0.715232</td>\n",
       "      <td>0.000000</td>\n",
       "      <td>0.006623</td>\n",
       "      <td>0.000000</td>\n",
       "      <td>0.013245</td>\n",
       "      <td>0.013245</td>\n",
       "      <td>0.006623</td>\n",
       "      <td>0.000000</td>\n",
       "      <td>0.052980</td>\n",
       "      <td>...</td>\n",
       "      <td>0.0</td>\n",
       "      <td>0.0</td>\n",
       "      <td>0.0</td>\n",
       "      <td>0.0</td>\n",
       "      <td>0.0</td>\n",
       "      <td>0.0</td>\n",
       "      <td>0.0</td>\n",
       "      <td>0.993377</td>\n",
       "      <td>0.006623</td>\n",
       "      <td>0</td>\n",
       "    </tr>\n",
       "  </tbody>\n",
       "</table>\n",
       "<p>5 rows × 263 columns</p>\n",
       "</div>"
      ],
      "text/plain": [
       "   2_fraction  1_fraction  3_fraction  4_fraction  vietnamese_fraction  \\\n",
       "0    0.363636    0.617225    0.014354    0.004785             0.004785   \n",
       "1    0.500000    0.479167    0.020833    0.000000             0.000000   \n",
       "2    0.482759    0.510345    0.006897    0.000000             0.000000   \n",
       "3    0.230769    0.769231    0.000000    0.000000             0.000000   \n",
       "4    0.278146    0.715232    0.000000    0.006623             0.000000   \n",
       "\n",
       "   italian_fraction  tradamerican_fraction  sportsbars_fraction  \\\n",
       "0          0.081340               0.019139             0.014354   \n",
       "1          0.013889               0.034722             0.020833   \n",
       "2          0.013793               0.013793             0.013793   \n",
       "3          0.000000               0.000000             0.000000   \n",
       "4          0.013245               0.013245             0.006623   \n",
       "\n",
       "   desserts_fraction  mexican_fraction  ...  diyfood_fraction  \\\n",
       "0           0.000000          0.071770  ...               0.0   \n",
       "1           0.020833          0.048611  ...               0.0   \n",
       "2           0.020690          0.089655  ...               0.0   \n",
       "3           0.000000          0.065934  ...               0.0   \n",
       "4           0.000000          0.052980  ...               0.0   \n",
       "\n",
       "   kids_activities_fraction  shopping_fraction  cookingschools_fraction  \\\n",
       "0                       0.0                0.0                      0.0   \n",
       "1                       0.0                0.0                      0.0   \n",
       "2                       0.0                0.0                      0.0   \n",
       "3                       0.0                0.0                      0.0   \n",
       "4                       0.0                0.0                      0.0   \n",
       "\n",
       "   burmese_fraction  sicilian_fraction  farmersmarket_fraction  1_2_fraction  \\\n",
       "0               0.0                0.0                     0.0      0.980861   \n",
       "1               0.0                0.0                     0.0      0.979167   \n",
       "2               0.0                0.0                     0.0      0.993103   \n",
       "3               0.0                0.0                     0.0      1.000000   \n",
       "4               0.0                0.0                     0.0      0.993377   \n",
       "\n",
       "   3_4_fraction  is_affluent  \n",
       "0      0.019139            0  \n",
       "1      0.020833            0  \n",
       "2      0.006897            0  \n",
       "3      0.000000            0  \n",
       "4      0.006623            0  \n",
       "\n",
       "[5 rows x 263 columns]"
      ]
     },
     "execution_count": 13,
     "metadata": {},
     "output_type": "execute_result"
    }
   ],
   "source": [
    "# This our final goal dataframe - with all the fractional categories & the affluence (target) column\n",
    "cluster_fraction.head()"
   ]
  },
  {
   "cell_type": "code",
   "execution_count": null,
   "metadata": {},
   "outputs": [],
   "source": []
  },
  {
   "cell_type": "code",
   "execution_count": null,
   "metadata": {},
   "outputs": [],
   "source": []
  },
  {
   "cell_type": "code",
   "execution_count": null,
   "metadata": {},
   "outputs": [],
   "source": []
  },
  {
   "cell_type": "code",
   "execution_count": null,
   "metadata": {},
   "outputs": [],
   "source": []
  },
  {
   "cell_type": "markdown",
   "metadata": {},
   "source": [
    "# Model Preparation"
   ]
  },
  {
   "cell_type": "code",
   "execution_count": 14,
   "metadata": {},
   "outputs": [],
   "source": [
    "target = 'is_affluent'\n",
    "X = cluster_fraction.drop(columns=target)\n",
    "y = cluster_fraction[target]"
   ]
  },
  {
   "cell_type": "markdown",
   "metadata": {},
   "source": [
    "# Train, Test Split\n",
    "1. We will reserve 30% of the data as test data. \n",
    "2. We will use 'stratify = y' to ensure the classes of y are balanced in both train and test."
   ]
  },
  {
   "cell_type": "code",
   "execution_count": 15,
   "metadata": {},
   "outputs": [],
   "source": [
    "X_train, X_test, y_train, y_test = train_test_split(X, y, random_state=42, test_size=0.2, stratify=y)"
   ]
  },
  {
   "cell_type": "markdown",
   "metadata": {},
   "source": [
    "### Check distributions of Y to see if we have balanced classes"
   ]
  },
  {
   "cell_type": "code",
   "execution_count": 16,
   "metadata": {
    "scrolled": true
   },
   "outputs": [
    {
     "data": {
      "text/plain": [
       "0    0.531646\n",
       "1    0.468354\n",
       "Name: is_affluent, dtype: float64"
      ]
     },
     "execution_count": 16,
     "metadata": {},
     "output_type": "execute_result"
    }
   ],
   "source": [
    "# Check distribution of y, to see if y has unbalanced classes\n",
    "y.value_counts(normalize=True)"
   ]
  },
  {
   "cell_type": "code",
   "execution_count": 17,
   "metadata": {},
   "outputs": [
    {
     "data": {
      "text/plain": [
       "0    0.52381\n",
       "1    0.47619\n",
       "Name: is_affluent, dtype: float64"
      ]
     },
     "execution_count": 17,
     "metadata": {},
     "output_type": "execute_result"
    }
   ],
   "source": [
    "# Check distribution of y_train\n",
    "y_train.value_counts(normalize=True)"
   ]
  },
  {
   "cell_type": "code",
   "execution_count": 18,
   "metadata": {},
   "outputs": [
    {
     "data": {
      "text/plain": [
       "0    0.5625\n",
       "1    0.4375\n",
       "Name: is_affluent, dtype: float64"
      ]
     },
     "execution_count": 18,
     "metadata": {},
     "output_type": "execute_result"
    }
   ],
   "source": [
    "# Check distribution of y_test\n",
    "y_test.value_counts(normalize=True)"
   ]
  },
  {
   "cell_type": "markdown",
   "metadata": {},
   "source": [
    "# Modeling: First Round"
   ]
  },
  {
   "cell_type": "markdown",
   "metadata": {},
   "source": [
    "- In the modeling process, I will first present my baseline model.  \n",
    "- I will then develop 4 major categories of models: Naive Bayes Models (Multinomial and Gaussian), Logistic Regression Models, KNN model, and SVM. \n",
    "- Based on the grid search's cross validation score, I will then fine tune the hyper-parameters for each model to achieve the optimal result. "
   ]
  },
  {
   "cell_type": "markdown",
   "metadata": {},
   "source": [
    "## Evaluation Metric"
   ]
  },
  {
   "cell_type": "markdown",
   "metadata": {},
   "source": [
    "- Before I go into developing the models, I will briefly discuss the evaluation metric: AUC ROC. \n",
    "\n",
    "- \"ROC (Receiver Operating Characteristic) is a probability curve and AUC represents degree or measure of separability. It tells how much model is capable of distinguishing between classes\"[(reference)](https://towardsdatascience.com/understanding-auc-roc-curve-68b2303cc9c5). The higher the ROC, and the better it seperates the two classes r/startrek and r/StarWars. The ROC curve is plotted with True Positive Rate on y-aixs, against the False Positive Rate on the x-axis.\n",
    "\n",
    "- AUC (Area Under the Curve) measures the entire two-dimensional area underneath the entire ROC curve. The closer AUC to 1, the better the model.\n",
    "\n",
    "- I choose AUC ROC since I aim to find the optimal model that can separate the two classes r/startrek and r/StarWars really well. \n",
    "\n",
    "- I will also consider the amount of time each model take to fit. If two models have similar AUC ROC scores, the one that runs faster will be the model we choose. "
   ]
  },
  {
   "cell_type": "markdown",
   "metadata": {},
   "source": [
    "##  Baseline Model"
   ]
  },
  {
   "cell_type": "code",
   "execution_count": 19,
   "metadata": {},
   "outputs": [
    {
     "data": {
      "text/plain": [
       "0.5625"
      ]
     },
     "execution_count": 19,
     "metadata": {},
     "output_type": "execute_result"
    }
   ],
   "source": [
    "y_test.value_counts(normalize=True)[0]"
   ]
  },
  {
   "cell_type": "markdown",
   "metadata": {},
   "source": [
    "## Logistic Regression"
   ]
  },
  {
   "cell_type": "code",
   "execution_count": 20,
   "metadata": {},
   "outputs": [],
   "source": [
    "ss = StandardScaler()\n",
    "ss.fit(X_train)\n",
    "X_train_sc = ss.transform(X_train)\n",
    "X_test_sc = ss.transform(X_test)"
   ]
  },
  {
   "cell_type": "code",
   "execution_count": 21,
   "metadata": {},
   "outputs": [
    {
     "data": {
      "text/plain": [
       "LogisticRegression(C=0.001, class_weight=None, dual=False, fit_intercept=True,\n",
       "                   intercept_scaling=1, l1_ratio=None, max_iter=400,\n",
       "                   multi_class='warn', n_jobs=None, penalty='l2',\n",
       "                   random_state=None, solver='warn', tol=0.0001, verbose=0,\n",
       "                   warm_start=False)"
      ]
     },
     "execution_count": 21,
     "metadata": {},
     "output_type": "execute_result"
    }
   ],
   "source": [
    "# instantiate & fit the logistic classification model\n",
    "log_reg = LogisticRegression(max_iter = 400, C = 0.001, penalty = 'l2')\n",
    "log_reg.fit(X_train_sc, y_train)"
   ]
  },
  {
   "cell_type": "code",
   "execution_count": 22,
   "metadata": {},
   "outputs": [
    {
     "name": "stdout",
     "output_type": "stream",
     "text": [
      "Logistic Regression Train Score:                        0.889\n",
      "Logistic Regression Test Score:                         0.688\n"
     ]
    }
   ],
   "source": [
    "print(f'Logistic Regression Train Score:                        {log_reg.score(X_train_sc, y_train):.3f}')\n",
    "print(f'Logistic Regression Test Score:                         {log_reg.score(X_test_sc, y_test):.3f}')\n"
   ]
  },
  {
   "cell_type": "code",
   "execution_count": null,
   "metadata": {},
   "outputs": [],
   "source": []
  },
  {
   "cell_type": "code",
   "execution_count": 23,
   "metadata": {},
   "outputs": [
    {
     "data": {
      "text/plain": [
       "array([[ 9.51148694e-03, -9.38509045e-03,  4.36456785e-03,\n",
       "         8.73265611e-03,  5.84364956e-03,  3.56052137e-03,\n",
       "        -2.62058891e-03,  1.88071082e-03,  4.33953383e-03,\n",
       "         5.02474226e-04,  1.16934094e-02,  5.27395880e-03,\n",
       "         6.84374431e-04, -6.54572256e-03,  1.13825178e-03,\n",
       "        -1.22480186e-02,  1.54073839e-03, -1.46733541e-03,\n",
       "        -1.07438903e-03,  1.81947887e-03,  2.51908916e-03,\n",
       "        -3.00969553e-03, -1.11179422e-03,  2.08456247e-03,\n",
       "         6.89056526e-03,  2.99781642e-03, -3.37233539e-04,\n",
       "         5.54090830e-03, -6.76299621e-03, -8.92418159e-03,\n",
       "         6.26651813e-03, -5.58811599e-03,  3.16937836e-03,\n",
       "         1.13813230e-02, -5.23545791e-03, -1.16244423e-03,\n",
       "         1.17932598e-02, -9.50767424e-04, -1.86937503e-03,\n",
       "        -4.41511299e-04,  8.09480352e-03, -4.84038586e-03,\n",
       "         2.68349096e-03,  3.42172820e-04, -6.22282435e-04,\n",
       "        -3.93668026e-03, -6.39522458e-03, -8.06880774e-04,\n",
       "        -5.25145197e-03,  6.14694626e-03, -4.13064198e-03,\n",
       "        -2.15302519e-03,  3.06510283e-03, -2.22652050e-03,\n",
       "         6.19970580e-03, -1.06500512e-02, -1.04866744e-02,\n",
       "         2.74400067e-03,  2.32783370e-03,  5.72948034e-03,\n",
       "        -3.25693381e-03,  7.03704612e-03, -7.70870755e-03,\n",
       "        -4.67567711e-03, -6.77464588e-03,  1.02394115e-02,\n",
       "         1.24898224e-03, -5.43097647e-03,  4.23616559e-03,\n",
       "        -3.17588202e-03,  5.66047739e-03,  2.96199302e-03,\n",
       "        -4.08760085e-03,  7.31258137e-03,  2.79200251e-03,\n",
       "         7.83347946e-03,  1.44105221e-03,  2.33736481e-03,\n",
       "         8.03299984e-03,  9.48698870e-03,  1.51267865e-02,\n",
       "        -1.14114080e-03,  3.35004928e-03,  5.34919941e-04,\n",
       "         8.75592025e-03, -2.23414541e-03, -1.48928193e-03,\n",
       "         6.66340831e-03,  3.37917019e-03,  6.98088782e-06,\n",
       "         9.59178616e-03,  8.44545303e-03, -2.06643819e-03,\n",
       "         5.01262146e-03,  5.48279173e-03,  9.16389204e-03,\n",
       "        -2.04005696e-03,  1.70504979e-03, -1.08943458e-03,\n",
       "         5.01941398e-03,  4.27988828e-04,  4.02958004e-03,\n",
       "         1.34286828e-02, -3.26694809e-03,  5.09989753e-03,\n",
       "         3.47213289e-03,  6.49120206e-03,  1.31548817e-02,\n",
       "         6.97071171e-03,  6.26898252e-03,  4.49636062e-03,\n",
       "         9.13985155e-03, -1.82148557e-03,  3.88876088e-03,\n",
       "         2.76003352e-03, -1.34256378e-03, -1.47643642e-03,\n",
       "         5.85626354e-03, -3.94940944e-03,  1.05092588e-03,\n",
       "        -1.32472213e-03,  9.36351525e-04,  3.15221158e-03,\n",
       "        -4.02102389e-03,  1.37378144e-03,  3.70241382e-03,\n",
       "        -3.19208552e-05,  2.87077600e-04,  3.10943614e-04,\n",
       "         4.96148925e-03,  4.28955205e-03,  3.84426375e-03,\n",
       "         5.91977684e-04,  4.21767965e-03,  7.29549176e-03,\n",
       "         4.08550730e-03,  1.64734996e-03,  4.23447126e-03,\n",
       "        -1.11860233e-03, -4.25029903e-03,  2.22701994e-03,\n",
       "        -4.20668524e-03, -3.51689457e-03,  7.12842687e-04,\n",
       "         3.09020778e-03, -3.34519120e-03,  4.52400931e-03,\n",
       "        -3.19293251e-03, -3.06111665e-04, -3.22472952e-03,\n",
       "         4.82236918e-04,  4.16402005e-03, -3.33375684e-03,\n",
       "         1.30404020e-02,  5.21673719e-04,  4.22740581e-03,\n",
       "         1.05859131e-02,  0.00000000e+00,  6.55484731e-03,\n",
       "         4.72471996e-03,  7.12053156e-03,  1.40549976e-03,\n",
       "         2.55323792e-03, -5.31383738e-04,  1.88553313e-03,\n",
       "         4.47680175e-03,  5.16894763e-03,  4.69869218e-03,\n",
       "         4.77518993e-03,  0.00000000e+00,  0.00000000e+00,\n",
       "         7.08281103e-03,  0.00000000e+00,  1.21162325e-03,\n",
       "         5.55256810e-03,  3.09415231e-03,  8.04048685e-03,\n",
       "         5.47158259e-04,  5.36674017e-03, -1.14095334e-03,\n",
       "        -1.31915694e-03,  3.72835285e-03, -2.37508257e-03,\n",
       "         1.61166138e-04,  0.00000000e+00,  0.00000000e+00,\n",
       "         7.26019718e-03, -1.57384463e-03,  4.34600726e-03,\n",
       "         0.00000000e+00,  0.00000000e+00,  3.64072741e-03,\n",
       "         4.29031089e-03,  0.00000000e+00,  0.00000000e+00,\n",
       "         2.97702485e-03,  0.00000000e+00, -1.62007374e-03,\n",
       "         3.53136393e-03, -3.33375684e-03, -6.85518235e-04,\n",
       "         3.37917019e-03,  4.69965983e-03,  3.35004928e-03,\n",
       "         6.00995779e-03,  5.68100001e-03,  3.09415231e-03,\n",
       "         3.09415231e-03,  5.82376861e-03,  2.55323792e-03,\n",
       "        -1.78091070e-03,  1.97765217e-03, -2.14125462e-03,\n",
       "         1.97770450e-03,  0.00000000e+00,  5.73208669e-03,\n",
       "        -3.61025329e-03,  6.31334692e-03,  3.80402515e-03,\n",
       "         7.41949290e-03,  3.49689753e-03,  3.47213289e-03,\n",
       "         4.44222263e-03,  3.72835285e-03, -3.69130832e-03,\n",
       "         3.52979167e-03,  3.52979167e-03,  2.55323792e-03,\n",
       "         4.06864585e-03,  5.42153654e-03,  4.41546472e-03,\n",
       "         3.74319418e-03,  2.89961516e-03, -2.42386829e-03,\n",
       "         1.67534075e-03,  4.63385301e-03,  2.55323792e-03,\n",
       "        -3.19530837e-03, -6.38068260e-04,  3.49689753e-03,\n",
       "         3.74319418e-03,  4.91766180e-03, -3.61025329e-03,\n",
       "         3.09020778e-03,  0.00000000e+00,  0.00000000e+00,\n",
       "        -1.39193220e-04,  3.66214496e-03,  4.29924183e-03,\n",
       "        -3.21656361e-03,  3.72835285e-03, -3.76912913e-03,\n",
       "         0.00000000e+00,  0.00000000e+00,  3.37917019e-03,\n",
       "         3.14227465e-03, -3.33375684e-03, -1.45869388e-03,\n",
       "         4.08550730e-03,  2.55323792e-03, -5.70245936e-03,\n",
       "         5.70245936e-03]])"
      ]
     },
     "execution_count": 23,
     "metadata": {},
     "output_type": "execute_result"
    }
   ],
   "source": [
    "log_coefficients = log_reg.coef_\n",
    "log_coefficients"
   ]
  },
  {
   "cell_type": "code",
   "execution_count": 24,
   "metadata": {},
   "outputs": [],
   "source": [
    "log_coefficients = log_coefficients.ravel()"
   ]
  },
  {
   "cell_type": "code",
   "execution_count": 25,
   "metadata": {},
   "outputs": [
    {
     "data": {
      "text/plain": [
       "(262,)"
      ]
     },
     "execution_count": 25,
     "metadata": {},
     "output_type": "execute_result"
    }
   ],
   "source": [
    "log_coefficients\n",
    "log_coefficients.shape"
   ]
  },
  {
   "cell_type": "code",
   "execution_count": 26,
   "metadata": {},
   "outputs": [],
   "source": [
    "log_features_names  = X_train.columns"
   ]
  },
  {
   "cell_type": "code",
   "execution_count": 27,
   "metadata": {},
   "outputs": [],
   "source": [
    "log_test_coef = pd.DataFrame({'coef' : log_coefficients, 'feature_name' : log_features_names})"
   ]
  },
  {
   "cell_type": "code",
   "execution_count": 28,
   "metadata": {},
   "outputs": [
    {
     "data": {
      "text/html": [
       "<div>\n",
       "<style scoped>\n",
       "    .dataframe tbody tr th:only-of-type {\n",
       "        vertical-align: middle;\n",
       "    }\n",
       "\n",
       "    .dataframe tbody tr th {\n",
       "        vertical-align: top;\n",
       "    }\n",
       "\n",
       "    .dataframe thead th {\n",
       "        text-align: right;\n",
       "    }\n",
       "</style>\n",
       "<table border=\"1\" class=\"dataframe\">\n",
       "  <thead>\n",
       "    <tr style=\"text-align: right;\">\n",
       "      <th></th>\n",
       "      <th>coef</th>\n",
       "      <th>feature_name</th>\n",
       "    </tr>\n",
       "  </thead>\n",
       "  <tbody>\n",
       "    <tr>\n",
       "      <th>80</th>\n",
       "      <td>0.015127</td>\n",
       "      <td>french_fraction</td>\n",
       "    </tr>\n",
       "    <tr>\n",
       "      <th>102</th>\n",
       "      <td>0.013429</td>\n",
       "      <td>cocktailbars_fraction</td>\n",
       "    </tr>\n",
       "    <tr>\n",
       "      <th>107</th>\n",
       "      <td>0.013155</td>\n",
       "      <td>ramen_fraction</td>\n",
       "    </tr>\n",
       "    <tr>\n",
       "      <th>153</th>\n",
       "      <td>0.013040</td>\n",
       "      <td>beerbar_fraction</td>\n",
       "    </tr>\n",
       "    <tr>\n",
       "      <th>36</th>\n",
       "      <td>0.011793</td>\n",
       "      <td>cafes_fraction</td>\n",
       "    </tr>\n",
       "    <tr>\n",
       "      <th>...</th>\n",
       "      <td>...</td>\n",
       "      <td>...</td>\n",
       "    </tr>\n",
       "    <tr>\n",
       "      <th>29</th>\n",
       "      <td>-0.008924</td>\n",
       "      <td>diners_fraction</td>\n",
       "    </tr>\n",
       "    <tr>\n",
       "      <th>1</th>\n",
       "      <td>-0.009385</td>\n",
       "      <td>1_fraction</td>\n",
       "    </tr>\n",
       "    <tr>\n",
       "      <th>56</th>\n",
       "      <td>-0.010487</td>\n",
       "      <td>donuts_fraction</td>\n",
       "    </tr>\n",
       "    <tr>\n",
       "      <th>55</th>\n",
       "      <td>-0.010650</td>\n",
       "      <td>hotdogs_fraction</td>\n",
       "    </tr>\n",
       "    <tr>\n",
       "      <th>15</th>\n",
       "      <td>-0.012248</td>\n",
       "      <td>pizza_fraction</td>\n",
       "    </tr>\n",
       "  </tbody>\n",
       "</table>\n",
       "<p>262 rows × 2 columns</p>\n",
       "</div>"
      ],
      "text/plain": [
       "         coef           feature_name\n",
       "80   0.015127        french_fraction\n",
       "102  0.013429  cocktailbars_fraction\n",
       "107  0.013155         ramen_fraction\n",
       "153  0.013040       beerbar_fraction\n",
       "36   0.011793         cafes_fraction\n",
       "..        ...                    ...\n",
       "29  -0.008924        diners_fraction\n",
       "1   -0.009385             1_fraction\n",
       "56  -0.010487        donuts_fraction\n",
       "55  -0.010650       hotdogs_fraction\n",
       "15  -0.012248         pizza_fraction\n",
       "\n",
       "[262 rows x 2 columns]"
      ]
     },
     "execution_count": 28,
     "metadata": {},
     "output_type": "execute_result"
    }
   ],
   "source": [
    "log_test_coef.sort_values(by = 'coef', ascending = False)"
   ]
  },
  {
   "cell_type": "code",
   "execution_count": null,
   "metadata": {},
   "outputs": [],
   "source": []
  },
  {
   "cell_type": "code",
   "execution_count": null,
   "metadata": {},
   "outputs": [],
   "source": []
  },
  {
   "cell_type": "code",
   "execution_count": 29,
   "metadata": {},
   "outputs": [
    {
     "data": {
      "text/plain": [
       "SVC(C=1.0, cache_size=200, class_weight=None, coef0=0.0,\n",
       "    decision_function_shape='ovr', degree=3, gamma='scale', kernel='rbf',\n",
       "    max_iter=-1, probability=False, random_state=None, shrinking=True,\n",
       "    tol=0.001, verbose=False)"
      ]
     },
     "execution_count": 29,
     "metadata": {},
     "output_type": "execute_result"
    }
   ],
   "source": [
    "# instantiate & fit the KNN model\n",
    "knn_class = KNeighborsClassifier(n_neighbors=5)\n",
    "knn_class.fit(X_train_sc, y_train)\n",
    "\n",
    "# instantiate & fit the Decision Tree model\n",
    "dtt_class = DecisionTreeClassifier()\n",
    "dtt_class.fit(X_train_sc, y_train)\n",
    "\n",
    "# instantiate & fit the Bagging model\n",
    "bag_class = BaggingClassifier()\n",
    "bag_class.fit(X_train_sc, y_train)\n",
    "\n",
    "# instantiate & fit random forest model\n",
    "rf_class = RandomForestClassifier(n_estimators = 100)\n",
    "rf_class.fit(X_train_sc, y_train)\n",
    "\n",
    "# instantiate & fit Adaboost model\n",
    "ada_class = AdaBoostClassifier()\n",
    "ada_class.fit(X_train_sc, y_train)\n",
    "\n",
    "# instantiate & fit support vector classifier\n",
    "svc_class = svm.SVC(gamma = 'scale')\n",
    "svc_class.fit(X_train_sc, y_train)"
   ]
  },
  {
   "cell_type": "code",
   "execution_count": 30,
   "metadata": {},
   "outputs": [
    {
     "name": "stdout",
     "output_type": "stream",
     "text": [
      "Training Scores:\n",
      "Logistic Regression:                          0.889\n",
      "K-Nearest Neighbors Classification:           0.651\n",
      "Decision Tree Classification:                 1.000\n",
      "Set of Bagged Decision Trees Classification:  1.000\n",
      "Random Forest Classification:                 1.000\n",
      "Adaboost Classification:                      1.000\n",
      "Support Vector Classification:                1.000\n"
     ]
    }
   ],
   "source": [
    "# Evaluate Training Scores for each Classification Model\n",
    "print('Training Scores:')\n",
    "print(f'Logistic Regression:                          {log_reg.score(X_train_sc, y_train):.3f}')\n",
    "print(f'K-Nearest Neighbors Classification:           {knn_class.score(X_train_sc, y_train):.3f}')\n",
    "print(f'Decision Tree Classification:                 {dtt_class.score(X_train_sc, y_train):.3f}')\n",
    "print(f'Set of Bagged Decision Trees Classification:  {bag_class.score(X_train_sc, y_train):.3f}')\n",
    "print(f'Random Forest Classification:                 {rf_class.score(X_train_sc, y_train):.3f}')\n",
    "print(f'Adaboost Classification:                      {ada_class.score(X_train_sc, y_train):.3f}')\n",
    "print(f'Support Vector Classification:                {svc_class.score(X_train_sc, y_train):.3f}')"
   ]
  },
  {
   "cell_type": "code",
   "execution_count": 31,
   "metadata": {},
   "outputs": [
    {
     "name": "stdout",
     "output_type": "stream",
     "text": [
      "Testing Scores:\n",
      "Logistic Regression:                          0.688\n",
      "K-Nearest Neighbors Classification:           0.750\n",
      "Decision Tree Classification:                 0.812\n",
      "Set of Bagged Decision Trees Classification:  0.750\n",
      "Random Forest Classification:                 0.750\n",
      "Adaboost Classification:                      0.938\n",
      "Support Vector Classification:                0.688\n"
     ]
    }
   ],
   "source": [
    "# Evaluate Testing Scores for each Classification Model\n",
    "print('Testing Scores:')\n",
    "print(f'Logistic Regression:                          {log_reg.score(X_test_sc, y_test):.3f}')\n",
    "print(f'K-Nearest Neighbors Classification:           {knn_class.score(X_test_sc, y_test):.3f}')\n",
    "print(f'Decision Tree Classification:                 {dtt_class.score(X_test_sc, y_test):.3f}')\n",
    "print(f'Set of Bagged Decision Trees Classification:  {bag_class.score(X_test_sc, y_test):.3f}')\n",
    "print(f'Random Forest Classification:                 {rf_class.score(X_test_sc, y_test):.3f}')\n",
    "print(f'Adaboost Classification:                      {ada_class.score(X_test_sc, y_test):.3f}')\n",
    "print(f'Support Vector Classification:                {svc_class.score(X_test_sc, y_test):.3f}')"
   ]
  },
  {
   "cell_type": "code",
   "execution_count": 32,
   "metadata": {},
   "outputs": [
    {
     "name": "stdout",
     "output_type": "stream",
     "text": [
      "Cross Validation Scores:\n",
      "Logistic Regression:                          0.532\n",
      "K-Nearest Neighbors Classification:           0.657\n",
      "Decision Tree Classification:                 0.746\n",
      "Set of Bagged Decision Trees Classification:  0.783\n",
      "Random Forest Classification:                 0.784\n",
      "Adaboost Classification:                      0.733\n",
      "Support Vector Classification:                0.669\n"
     ]
    }
   ],
   "source": [
    "# Evaluate Cross Validation Scores for each Classification Model\n",
    "print('Cross Validation Scores:')\n",
    "print(f'Logistic Regression:                          {cross_val_score(log_reg, X, y, cv = 3).mean():.3f}')\n",
    "print(f'K-Nearest Neighbors Classification:           {cross_val_score(knn_class, X, y, cv = 3).mean():.3f}')\n",
    "print(f'Decision Tree Classification:                 {cross_val_score(dtt_class, X, y, cv = 3).mean():.3f}')\n",
    "print(f'Set of Bagged Decision Trees Classification:  {cross_val_score(bag_class, X, y, cv = 3).mean():.3f}')\n",
    "print(f'Random Forest Classification:                 {cross_val_score(rf_class, X, y, cv = 3).mean():.3f}')\n",
    "print(f'Adaboost Classification:                      {cross_val_score(ada_class, X, y, cv = 3).mean():.3f}')\n",
    "print(f'Support Vector Classification:                {cross_val_score(svc_class, X, y, cv = 3).mean():.3f}')"
   ]
  },
  {
   "cell_type": "code",
   "execution_count": null,
   "metadata": {},
   "outputs": [],
   "source": []
  },
  {
   "cell_type": "code",
   "execution_count": null,
   "metadata": {},
   "outputs": [],
   "source": []
  },
  {
   "cell_type": "markdown",
   "metadata": {},
   "source": [
    "### Additional modeling"
   ]
  },
  {
   "cell_type": "code",
   "execution_count": 33,
   "metadata": {},
   "outputs": [],
   "source": [
    "pipe = Pipeline(steps=[ \n",
    "    ('lr', LogisticRegression(solver='liblinear'))\n",
    "])\n",
    "\n",
    "pipe_params ={\n",
    "    'lr__C': [0.0001, .001, .01],\n",
    "    'lr__penalty' : ['l1', 'l2']\n",
    "    }\n",
    "\n",
    "gs_lr = GridSearchCV(pipe, \n",
    "                     pipe_params, \n",
    "                     cv=3,\n",
    "                     scoring='roc_auc')\n"
   ]
  },
  {
   "cell_type": "code",
   "execution_count": 34,
   "metadata": {},
   "outputs": [],
   "source": [
    "gs_lr.fit(X_train_sc, y_train);"
   ]
  },
  {
   "cell_type": "code",
   "execution_count": 35,
   "metadata": {},
   "outputs": [
    {
     "data": {
      "text/plain": [
       "{'lr__C': 0.0001, 'lr__penalty': 'l2'}"
      ]
     },
     "execution_count": 35,
     "metadata": {},
     "output_type": "execute_result"
    }
   ],
   "source": [
    "# Check the optimal params\n",
    "gs_lr.best_params_"
   ]
  },
  {
   "cell_type": "code",
   "execution_count": 36,
   "metadata": {},
   "outputs": [
    {
     "data": {
      "text/plain": [
       "Pipeline(memory=None,\n",
       "         steps=[('lr',\n",
       "                 LogisticRegression(C=0.0001, class_weight=None, dual=False,\n",
       "                                    fit_intercept=True, intercept_scaling=1,\n",
       "                                    l1_ratio=None, max_iter=100,\n",
       "                                    multi_class='warn', n_jobs=None,\n",
       "                                    penalty='l2', random_state=None,\n",
       "                                    solver='liblinear', tol=0.0001, verbose=0,\n",
       "                                    warm_start=False))],\n",
       "         verbose=False)"
      ]
     },
     "execution_count": 36,
     "metadata": {},
     "output_type": "execute_result"
    }
   ],
   "source": [
    "gs_lr.best_estimator_"
   ]
  },
  {
   "cell_type": "code",
   "execution_count": 37,
   "metadata": {},
   "outputs": [
    {
     "data": {
      "text/plain": [
       "0.9666666666666667"
      ]
     },
     "execution_count": 37,
     "metadata": {},
     "output_type": "execute_result"
    }
   ],
   "source": [
    "# Train score\n",
    "gs_lr.score(X_train_sc, y_train)"
   ]
  },
  {
   "cell_type": "code",
   "execution_count": 38,
   "metadata": {},
   "outputs": [
    {
     "data": {
      "text/plain": [
       "0.8571428571428572"
      ]
     },
     "execution_count": 38,
     "metadata": {},
     "output_type": "execute_result"
    }
   ],
   "source": [
    "# Test score\n",
    "gs_lr.score(X_test_sc, y_test)"
   ]
  },
  {
   "cell_type": "code",
   "execution_count": 39,
   "metadata": {},
   "outputs": [
    {
     "data": {
      "text/plain": [
       "0.7556471306471306"
      ]
     },
     "execution_count": 39,
     "metadata": {},
     "output_type": "execute_result"
    }
   ],
   "source": [
    "# Cross val score on the whole dataset \n",
    "cross_val_score(gs_lr.best_estimator_, X, y, scoring='roc_auc', cv=3).mean()"
   ]
  },
  {
   "cell_type": "code",
   "execution_count": 40,
   "metadata": {},
   "outputs": [],
   "source": [
    "coef_lr_gs = np.array((gs_lr.best_estimator_.named_steps['lr']).coef_).tolist()[0]\n"
   ]
  },
  {
   "cell_type": "code",
   "execution_count": 41,
   "metadata": {},
   "outputs": [],
   "source": [
    "names = X_train.columns"
   ]
  },
  {
   "cell_type": "code",
   "execution_count": null,
   "metadata": {},
   "outputs": [],
   "source": []
  },
  {
   "cell_type": "code",
   "execution_count": 42,
   "metadata": {},
   "outputs": [
    {
     "data": {
      "text/plain": [
       "[('2_fraction', 0.0012226576839756908),\n",
       " ('1_fraction', -0.001227600252808131),\n",
       " ('3_fraction', 0.0006200391997525432),\n",
       " ('4_fraction', 0.0011207443542802919),\n",
       " ('vietnamese_fraction', 0.0007154360035230666),\n",
       " ('italian_fraction', 0.0004879897267125591),\n",
       " ('tradamerican_fraction', -0.00025344416821194337),\n",
       " ('sportsbars_fraction', 0.00021253074803894337),\n",
       " ('desserts_fraction', 0.0005193980156396114),\n",
       " ('mexican_fraction', 1.8638182967215875e-05),\n",
       " ('coffee_fraction', 0.001387651598629831),\n",
       " ('bars_fraction', 0.0006581823912177446),\n",
       " ('breakfast_brunch_fraction', 0.00015564779212689988),\n",
       " ('comfortfood_fraction', -0.0007372692908750631),\n",
       " ('delis_fraction', 0.0001054260196157139),\n",
       " ('pizza_fraction', -0.0014757093434781738),\n",
       " ('bakeries_fraction', 0.00010911639996792716),\n",
       " ('japanese_fraction', -4.448571345184947e-05),\n",
       " ('venezuelan_fraction', -9.438678875208096e-05),\n",
       " ('catering_fraction', 0.00018021499114770855),\n",
       " ('greek_fraction', 0.0003291966753448914),\n",
       " ('burgers_fraction', -0.0004187091806920306),\n",
       " ('meats_fraction', -0.0001528913460685562),\n",
       " ('beergardens_fraction', 0.00028314079575056736),\n",
       " ('newamerican_fraction', 0.0009188662165830768),\n",
       " ('tapasmallplates_fraction', 0.00047415931279615794),\n",
       " ('foodtrucks_fraction', -5.857695360577246e-05),\n",
       " ('cuban_fraction', 0.0006955979167758576),\n",
       " ('spanish_fraction', -0.0008230325437508363),\n",
       " ('diners_fraction', -0.001024838958221406),\n",
       " ('coffeeroasteries_fraction', 0.0007325319557410972),\n",
       " ('irish_fraction', -0.0005621991718926952),\n",
       " ('lounges_fraction', 0.0004905008855790972),\n",
       " ('wine_bars_fraction', 0.0014176257893269266),\n",
       " ('latin_fraction', -0.0006550718353377424),\n",
       " ('modern_european_fraction', -6.238352563386359e-05),\n",
       " ('cafes_fraction', 0.0014032224113229004),\n",
       " ('bbq_fraction', -7.883280996286397e-05),\n",
       " ('drugstores_fraction', -0.00018649140064657576),\n",
       " ('halal_fraction', -9.686529080859409e-05),\n",
       " ('thai_fraction', 0.0009975090479553608),\n",
       " ('icecream_fraction', -0.0005600557520306802),\n",
       " ('juicebars_fraction', 0.0002998990488629993),\n",
       " ('asianfusion_fraction', 9.403781579800454e-05),\n",
       " ('indpak_fraction', -0.00010816250359269215),\n",
       " ('seafood_fraction', -0.000418428145975196),\n",
       " ('chinese_fraction', -0.0008396044626773783),\n",
       " ('pubs_fraction', -3.057132126499727e-05),\n",
       " ('bagels_fraction', -0.0005945265991757885),\n",
       " ('sushi_fraction', 0.0007166293958979611),\n",
       " ('dominican_fraction', -0.0005059754001643195),\n",
       " ('caribbean_fraction', -0.00031309975611690656),\n",
       " ('grocery_fraction', 0.00034985724264736837),\n",
       " ('pakistani_fraction', -0.0003024533564245192),\n",
       " ('divebars_fraction', 0.0007404173012129942),\n",
       " ('hotdogs_fraction', -0.001302801854182423),\n",
       " ('donuts_fraction', -0.0013036800904737533),\n",
       " ('tex-mex_fraction', 0.00029009298357946954),\n",
       " ('african_fraction', 0.00020529309475335436),\n",
       " ('mediterranean_fraction', 0.0007069974115917453),\n",
       " ('poolhalls_fraction', -0.0003530603820977553),\n",
       " ('kosher_fraction', 0.0007171740677806647),\n",
       " ('chicken_wings_fraction', -0.0009576997869704189),\n",
       " ('restaurants_fraction', -0.0006071157826953778),\n",
       " ('salvadoran_fraction', -0.0007747300282072316),\n",
       " ('vegetarian_fraction', 0.0012121268165617282),\n",
       " ('cigarbars_fraction', 0.00012922815731982267),\n",
       " ('buffets_fraction', -0.0006200855264373262),\n",
       " ('salad_fraction', 0.0005806314431360858),\n",
       " ('convenience_fraction', -0.0004295028133791336),\n",
       " ('danceclubs_fraction', 0.0006941089956054397),\n",
       " ('cafeteria_fraction', 0.00033868347968327357),\n",
       " ('sandwiches_fraction', -0.00044981290654809046),\n",
       " ('tacos_fraction', 0.0008012559308201163),\n",
       " ('cantonese_fraction', 0.00029704256708332097),\n",
       " ('foodstands_fraction', 0.0009240198948566767),\n",
       " ('steak_fraction', 0.0002268192547680015),\n",
       " ('markets_fraction', 0.00031233744339206947),\n",
       " ('moroccan_fraction', 0.0009500966325311131),\n",
       " ('southern_fraction', 0.0010421037880913276),\n",
       " ('french_fraction', 0.001828880372052497),\n",
       " ('argentine_fraction', -0.00012335029322252028),\n",
       " ('laundromat_fraction', 0.0004085525464062328),\n",
       " ('szechuan_fraction', 7.855637690997079e-05),\n",
       " ('venues_fraction', 0.0010630895561695292),\n",
       " ('hotdog_fraction', -0.00025380136348003297),\n",
       " ('korean_fraction', -9.38342215220008e-05),\n",
       " ('cheese_fraction', 0.0008131552412788579),\n",
       " ('bowling_fraction', 0.00040923940839280275),\n",
       " ('streetvendors_fraction', 1.5669618450118952e-07),\n",
       " ('gastropubs_fraction', 0.0011420039252410653),\n",
       " ('chocolate_fraction', 0.001073158061848386),\n",
       " ('filipino_fraction', -0.0002313695242133755),\n",
       " ('noodles_fraction', 0.0006950594554442485),\n",
       " ('macarons_fraction', 0.0006903072253677478),\n",
       " ('tea_fraction', 0.0011188442309686963),\n",
       " ('food_court_fraction', -0.00016804414051131987),\n",
       " ('waffles_fraction', 0.00029673539787517634),\n",
       " ('acaibowls_fraction', -0.0001056493439096532),\n",
       " ('dimsum_fraction', 0.000580429579991711),\n",
       " ('bubbletea_fraction', 9.208277784473936e-05),\n",
       " ('champagne_bars_fraction', 0.0005636585805906743),\n",
       " ('cocktailbars_fraction', 0.0015927879946669285),\n",
       " ('soup_fraction', -0.00029758274171168855),\n",
       " ('landmarks_fraction', 0.0005582797970546186),\n",
       " ('nonprofit_fraction', 0.0004100151073645904),\n",
       " ('vegan_fraction', 0.000833630491983986),\n",
       " ('ramen_fraction', 0.0016082862598839366),\n",
       " ('ethiopian_fraction', 0.000774889710135966),\n",
       " ('tapas_fraction', 0.0007724267648715264),\n",
       " ('mideastern_fraction', 0.0005512253108187442),\n",
       " ('falafel_fraction', 0.0010404258989701156),\n",
       " ('fishnchips_fraction', -0.0002575766942515758),\n",
       " ('soulfood_fraction', 0.0004059180111013646),\n",
       " ('gelato_fraction', 0.0003581051774206493),\n",
       " ('bookstores_fraction', -0.00010406988912517027),\n",
       " ('hookah_bars_fraction', -0.00022060342679373744),\n",
       " ('poke_fraction', 0.0007233467229908417),\n",
       " ('customcakes_fraction', -0.0004657988220259046),\n",
       " ('tobaccoshops_fraction', 0.00010563729202056168),\n",
       " ('hotpot_fraction', -0.00011951335712059055),\n",
       " ('turkish_fraction', 0.00016760247907175567),\n",
       " ('shanghainese_fraction', 0.00039837369798012155),\n",
       " ('pastashops_fraction', -0.00046300234351888273),\n",
       " ('russian_fraction', 0.0001365349376135815),\n",
       " ('uzbek_fraction', 0.00038563127929492084),\n",
       " ('peruvian_fraction', -5.590749416506887e-05),\n",
       " ('taiwanese_fraction', 6.490634503055498e-05),\n",
       " ('cajun_fraction', 4.511950130258948e-05),\n",
       " ('polish_fraction', 0.000562301880941317),\n",
       " ('gourmet_fraction', 0.0005549978525917713),\n",
       " ('malaysian_fraction', 0.00044929358558760116),\n",
       " ('chickenshop_fraction', 6.022167884267288e-05),\n",
       " ('afghani_fraction', 0.0004993672531609455),\n",
       " ('karaoke_fraction', 0.0008487560789083227),\n",
       " ('ukrainian_fraction', 0.00041850393443648286),\n",
       " ('irish_pubs_fraction', 0.00023290444853186394),\n",
       " ('georgian_fraction', 0.0004907573118095094),\n",
       " ('german_fraction', -0.0001284712873164385),\n",
       " ('srilankan_fraction', -0.00046036156555485594),\n",
       " ('candy_fraction', 0.00023950190411204284),\n",
       " ('healthmarkets_fraction', -0.0004771461681678309),\n",
       " ('musicvideo_fraction', -0.00037781264755411997),\n",
       " ('colombian_fraction', 2.766744889707508e-05),\n",
       " ('magicians_fraction', 0.00040420518650495854),\n",
       " ('pretzels_fraction', -0.00037556202533904566),\n",
       " ('comedyclubs_fraction', 0.0005665472978831716),\n",
       " ('beer_and_wine_fraction', -0.00033401651448078823),\n",
       " ('speakeasies_fraction', 4.156994906994057e-05),\n",
       " ('shavedice_fraction', -0.0003738938025766083),\n",
       " ('cupcakes_fraction', 4.498784422091183e-05),\n",
       " ('brazilian_fraction', 0.0005145108849575477),\n",
       " ('himalayan_fraction', -0.0003754925561701427),\n",
       " ('beerbar_fraction', 0.0014925370839459467),\n",
       " ('tikibars_fraction', 4.254473103396423e-05),\n",
       " ('belgian_fraction', 0.0005735907914413486),\n",
       " ('musicvenues_fraction', 0.0013147097378448447),\n",
       " ('teppanyaki_fraction', 0.0),\n",
       " ('izakaya_fraction', 0.0007988318103103228),\n",
       " ('persian_fraction', 0.0005812569427371572),\n",
       " ('japacurry_fraction', 0.0009221154267068805),\n",
       " ('butcher_fraction', 0.00015838917432442208),\n",
       " ('supperclubs_fraction', 0.00039640167583801397),\n",
       " ('arcades_fraction', -2.0764375287314974e-05),\n",
       " ('whiskeybars_fraction', 0.0002434194221752415),\n",
       " ('portuguese_fraction', 0.0005752334066540833),\n",
       " ('australian_fraction', 0.0006770461754743329),\n",
       " ('publicmarkets_fraction', 0.0005583570579391048),\n",
       " ('gaybars_fraction', 0.0006945388603543334),\n",
       " ('mags_fraction', 0.0),\n",
       " ('cheesesteaks_fraction', 0.0),\n",
       " ('hawaiian_fraction', 0.0007894131732359906),\n",
       " ('artmuseums_fraction', 0.0),\n",
       " ('scandinavian_fraction', 0.0001889440930053065),\n",
       " ('indonesian_fraction', 0.0006816438789609962),\n",
       " ('hair_fraction', 0.00040499604332174904),\n",
       " ('jazzandblues_fraction', 0.0009951169853485912),\n",
       " ('cambodian_fraction', 0.00017245237116503625),\n",
       " ('british_fraction', 0.0006983310051758894),\n",
       " ('seafoodmarkets_fraction', -4.7477332636133406e-05),\n",
       " ('lebanese_fraction', -8.122969296822353e-05),\n",
       " ('boating_fraction', 0.0004134464927121754),\n",
       " ('panasian_fraction', -0.00025124685150786595),\n",
       " ('gluten_free_fraction', 4.9442461424193774e-05),\n",
       " ('armenian_fraction', 0.0),\n",
       " ('themedcafes_fraction', 0.0),\n",
       " ('empanadas_fraction', 0.0007625919518467352),\n",
       " ('hkcafe_fraction', -0.00017364867137835123),\n",
       " ('cakeshop_fraction', 0.0004214308534961995),\n",
       " ('tours_fraction', 0.0),\n",
       " ('hobbyshops_fraction', 0.0),\n",
       " ('basque_fraction', 0.0004127989650716292),\n",
       " ('fondue_fraction', 0.0005613274738319253),\n",
       " ('pianobars_fraction', 0.0),\n",
       " ('sports_clubs_fraction', 0.0),\n",
       " ('golflessons_fraction', 0.0004027979264880317),\n",
       " ('boxing_fraction', 0.0),\n",
       " ('museums_fraction', -0.0002122887540770432),\n",
       " ('creperies_fraction', 0.00044661001239882796),\n",
       " ('fooddeliveryservices_fraction', -0.00037549255617014277),\n",
       " ('intlgrocery_fraction', -6.70411610025515e-05),\n",
       " ('barbers_fraction', 0.00040923940839280275),\n",
       " ('tuscan_fraction', 0.0006655039847622118),\n",
       " ('eventplanning_fraction', 0.0004085525464062328),\n",
       " ('newmexican_fraction', 0.0006843298292135558),\n",
       " ('movietheaters_fraction', 0.0006820044563576954),\n",
       " ('laotian_fraction', 0.00040499604332174904),\n",
       " ('mongolian_fraction', 0.00040499604332174904),\n",
       " ('wraps_fraction', 0.0006992923766233538),\n",
       " ('hungarian_fraction', 0.00039640167583801397),\n",
       " ('trinidadian_fraction', -0.00027276303299384407),\n",
       " ('haitian_fraction', 0.00013935674725614827),\n",
       " ('puertorican_fraction', -0.0002602786153260523),\n",
       " ('festivals_fraction', 0.00020251559195805073),\n",
       " ('servicestations_fraction', 0.0),\n",
       " ('theater_fraction', 0.0006400503077273513),\n",
       " ('kebab_fraction', -0.00037894225432484694),\n",
       " ('austrian_fraction', 0.0007073059130427386),\n",
       " ('distilleries_fraction', 0.00041448898927068384),\n",
       " ('breweries_fraction', 0.0008116743794133426),\n",
       " ('skate_parks_fraction', 0.00041058087108395244),\n",
       " ('czech_fraction', 0.0004100151073645904),\n",
       " ('shoppingcenters_fraction', 0.000576961370113675),\n",
       " ('southafrican_fraction', 0.0004134464927121754),\n",
       " ('petstore_fraction', -0.0003796238417112371),\n",
       " ('sharedofficespaces_fraction', 0.00041095454561164055),\n",
       " ('popuprestaurants_fraction', 0.00041095454561164055),\n",
       " ('hotels_fraction', 0.00039640167583801397),\n",
       " ('egyptian_fraction', 0.0004779085550142312),\n",
       " ('tattoo_fraction', 0.0005746526210574932),\n",
       " ('organic_stores_fraction', 0.00046933728199471047),\n",
       " ('vinyl_records_fraction', 0.00041423562332685285),\n",
       " ('senegalese_fraction', 0.0003189085813332729),\n",
       " ('galleries_fraction', -0.00024813475458460103),\n",
       " ('bangladeshi_fraction', 0.00015526718800274228),\n",
       " ('brasseries_fraction', 0.0005368635389340676),\n",
       " ('sportswear_fraction', 0.00039640167583801397),\n",
       " ('vapeshops_fraction', -0.0003731964673773296),\n",
       " ('florists_fraction', -1.8790368288440422e-05),\n",
       " ('cookingclasses_fraction', 0.00041058087108395244),\n",
       " ('kitchenandbath_fraction', 0.00041423562332685285),\n",
       " ('culturalcenter_fraction', 0.0005607181028420558),\n",
       " ('sportgoods_fraction', -0.00037894225432484694),\n",
       " ('nightlife_fraction', 0.00040420518650495854),\n",
       " ('eatertainment_fraction', 0.0),\n",
       " ('food_fraction', 0.0),\n",
       " ('herbsandspices_fraction', 3.620796722226432e-05),\n",
       " ('localservices_fraction', 0.00041275756200130165),\n",
       " ('airportlounges_fraction', 0.00042123667827329004),\n",
       " ('golf_fraction', -0.0003739614844873962),\n",
       " ('giftshops_fraction', 0.0004134464927121754),\n",
       " ('spas_fraction', -0.0003807508843667155),\n",
       " ('singaporean_fraction', 0.0),\n",
       " ('diyfood_fraction', 0.0),\n",
       " ('kids_activities_fraction', 0.00040923940839280275),\n",
       " ('shopping_fraction', 0.0004052076849633013),\n",
       " ('cookingschools_fraction', -0.00037549255617014277),\n",
       " ('burmese_fraction', -0.00015128717493124557),\n",
       " ('sicilian_fraction', 0.00041850393443648286),\n",
       " ('farmersmarket_fraction', 0.00039640167583801397),\n",
       " ('1_2_fraction', -0.0007833647859446764),\n",
       " ('3_4_fraction', 0.0007833647859446765)]"
      ]
     },
     "execution_count": 42,
     "metadata": {},
     "output_type": "execute_result"
    }
   ],
   "source": [
    "gs_lr_betas = list(zip(names, coef_lr_gs))\n",
    "gs_lr_betas"
   ]
  },
  {
   "cell_type": "code",
   "execution_count": 43,
   "metadata": {},
   "outputs": [],
   "source": [
    "# Create final dataframe of words with their corresponding coefficients\n",
    "gs_lr_coefs = pd.DataFrame(gs_lr_betas).rename(columns = {0: 'word', 1: 'coef'}).sort_values(by = 'coef', ascending = False)"
   ]
  },
  {
   "cell_type": "code",
   "execution_count": 44,
   "metadata": {},
   "outputs": [
    {
     "data": {
      "text/html": [
       "<div>\n",
       "<style scoped>\n",
       "    .dataframe tbody tr th:only-of-type {\n",
       "        vertical-align: middle;\n",
       "    }\n",
       "\n",
       "    .dataframe tbody tr th {\n",
       "        vertical-align: top;\n",
       "    }\n",
       "\n",
       "    .dataframe thead th {\n",
       "        text-align: right;\n",
       "    }\n",
       "</style>\n",
       "<table border=\"1\" class=\"dataframe\">\n",
       "  <thead>\n",
       "    <tr style=\"text-align: right;\">\n",
       "      <th></th>\n",
       "      <th>word</th>\n",
       "      <th>coef</th>\n",
       "    </tr>\n",
       "  </thead>\n",
       "  <tbody>\n",
       "    <tr>\n",
       "      <th>80</th>\n",
       "      <td>french_fraction</td>\n",
       "      <td>0.001829</td>\n",
       "    </tr>\n",
       "    <tr>\n",
       "      <th>107</th>\n",
       "      <td>ramen_fraction</td>\n",
       "      <td>0.001608</td>\n",
       "    </tr>\n",
       "    <tr>\n",
       "      <th>102</th>\n",
       "      <td>cocktailbars_fraction</td>\n",
       "      <td>0.001593</td>\n",
       "    </tr>\n",
       "    <tr>\n",
       "      <th>153</th>\n",
       "      <td>beerbar_fraction</td>\n",
       "      <td>0.001493</td>\n",
       "    </tr>\n",
       "    <tr>\n",
       "      <th>33</th>\n",
       "      <td>wine_bars_fraction</td>\n",
       "      <td>0.001418</td>\n",
       "    </tr>\n",
       "    <tr>\n",
       "      <th>...</th>\n",
       "      <td>...</td>\n",
       "      <td>...</td>\n",
       "    </tr>\n",
       "    <tr>\n",
       "      <th>29</th>\n",
       "      <td>diners_fraction</td>\n",
       "      <td>-0.001025</td>\n",
       "    </tr>\n",
       "    <tr>\n",
       "      <th>1</th>\n",
       "      <td>1_fraction</td>\n",
       "      <td>-0.001228</td>\n",
       "    </tr>\n",
       "    <tr>\n",
       "      <th>55</th>\n",
       "      <td>hotdogs_fraction</td>\n",
       "      <td>-0.001303</td>\n",
       "    </tr>\n",
       "    <tr>\n",
       "      <th>56</th>\n",
       "      <td>donuts_fraction</td>\n",
       "      <td>-0.001304</td>\n",
       "    </tr>\n",
       "    <tr>\n",
       "      <th>15</th>\n",
       "      <td>pizza_fraction</td>\n",
       "      <td>-0.001476</td>\n",
       "    </tr>\n",
       "  </tbody>\n",
       "</table>\n",
       "<p>246 rows × 2 columns</p>\n",
       "</div>"
      ],
      "text/plain": [
       "                      word      coef\n",
       "80         french_fraction  0.001829\n",
       "107         ramen_fraction  0.001608\n",
       "102  cocktailbars_fraction  0.001593\n",
       "153       beerbar_fraction  0.001493\n",
       "33      wine_bars_fraction  0.001418\n",
       "..                     ...       ...\n",
       "29         diners_fraction -0.001025\n",
       "1               1_fraction -0.001228\n",
       "55        hotdogs_fraction -0.001303\n",
       "56         donuts_fraction -0.001304\n",
       "15          pizza_fraction -0.001476\n",
       "\n",
       "[246 rows x 2 columns]"
      ]
     },
     "execution_count": 44,
     "metadata": {},
     "output_type": "execute_result"
    }
   ],
   "source": [
    "gs_lr_coefs[gs_lr_coefs['coef'] != 0] "
   ]
  },
  {
   "cell_type": "code",
   "execution_count": null,
   "metadata": {},
   "outputs": [],
   "source": []
  },
  {
   "cell_type": "code",
   "execution_count": null,
   "metadata": {},
   "outputs": [],
   "source": []
  },
  {
   "cell_type": "code",
   "execution_count": null,
   "metadata": {},
   "outputs": [],
   "source": []
  },
  {
   "cell_type": "code",
   "execution_count": null,
   "metadata": {},
   "outputs": [],
   "source": []
  },
  {
   "cell_type": "markdown",
   "metadata": {},
   "source": [
    "## KNN model"
   ]
  },
  {
   "cell_type": "code",
   "execution_count": 45,
   "metadata": {},
   "outputs": [],
   "source": [
    "# Pipe line: CountVectorizer() + LogisticRegression\n",
    "pipe_knn = Pipeline(steps=[\n",
    "    ('ss', StandardScaler()),\n",
    "    ('knn', KNeighborsClassifier())\n",
    "])\n",
    "\n",
    "pipe_params_knn ={\n",
    "    'knn__n_neighbors' : [5, 10, 15, 20]\n",
    "    \n",
    "}\n",
    "\n",
    "gs_knn = GridSearchCV(pipe_knn, \n",
    "                      pipe_params_knn, \n",
    "                      cv=3,\n",
    "                      scoring='roc_auc')"
   ]
  },
  {
   "cell_type": "code",
   "execution_count": 46,
   "metadata": {},
   "outputs": [],
   "source": [
    "gs_knn.fit(X_train, y_train);"
   ]
  },
  {
   "cell_type": "code",
   "execution_count": 47,
   "metadata": {},
   "outputs": [
    {
     "data": {
      "text/plain": [
       "{'knn__n_neighbors': 15}"
      ]
     },
     "execution_count": 47,
     "metadata": {},
     "output_type": "execute_result"
    }
   ],
   "source": [
    "# Check the optimal params\n",
    "gs_knn.best_params_"
   ]
  },
  {
   "cell_type": "code",
   "execution_count": 48,
   "metadata": {},
   "outputs": [
    {
     "data": {
      "text/plain": [
       "0.8964646464646463"
      ]
     },
     "execution_count": 48,
     "metadata": {},
     "output_type": "execute_result"
    }
   ],
   "source": [
    "# Train score\n",
    "gs_knn.score(X_train, y_train)"
   ]
  },
  {
   "cell_type": "code",
   "execution_count": 49,
   "metadata": {},
   "outputs": [
    {
     "data": {
      "text/plain": [
       "0.9206349206349206"
      ]
     },
     "execution_count": 49,
     "metadata": {},
     "output_type": "execute_result"
    }
   ],
   "source": [
    "# Test score\n",
    "gs_knn.score(X_test, y_test)"
   ]
  },
  {
   "cell_type": "code",
   "execution_count": 50,
   "metadata": {},
   "outputs": [
    {
     "data": {
      "text/plain": [
       "0.7218406593406593"
      ]
     },
     "execution_count": 50,
     "metadata": {},
     "output_type": "execute_result"
    }
   ],
   "source": [
    "# Cross val score on the whole dataset \n",
    "cross_val_score(gs_knn.best_estimator_, X, y, scoring='roc_auc', cv=3).mean()"
   ]
  },
  {
   "cell_type": "code",
   "execution_count": 51,
   "metadata": {},
   "outputs": [],
   "source": [
    "#coef_knn_gs = np.array((gs_knn.best_estimator_.named_steps['knn']).coef_).tolist()[0]"
   ]
  },
  {
   "cell_type": "code",
   "execution_count": null,
   "metadata": {},
   "outputs": [],
   "source": []
  },
  {
   "cell_type": "markdown",
   "metadata": {},
   "source": [
    "## Trees"
   ]
  },
  {
   "cell_type": "markdown",
   "metadata": {},
   "source": [
    "### Decision Tree"
   ]
  },
  {
   "cell_type": "code",
   "execution_count": 52,
   "metadata": {},
   "outputs": [],
   "source": [
    "pipe_dt = Pipeline(steps=[\n",
    "    ('ss', StandardScaler()), \n",
    "    ('dt', DecisionTreeClassifier(random_state=42))\n",
    "])\n",
    "\n",
    "pipe_params_dt = {\n",
    "    'dt__max_depth': [3, 5],\n",
    "    'dt__min_samples_split': [2, 3],\n",
    "    'dt__min_samples_leaf': [1, 5, 10]}\n",
    "\n",
    "gs_dt = GridSearchCV(pipe_dt, \n",
    "                     pipe_params_dt, \n",
    "                     cv=3,\n",
    "                     scoring='roc_auc')"
   ]
  },
  {
   "cell_type": "code",
   "execution_count": 53,
   "metadata": {},
   "outputs": [],
   "source": [
    "gs_dt.fit(X_train, y_train);"
   ]
  },
  {
   "cell_type": "code",
   "execution_count": 54,
   "metadata": {},
   "outputs": [
    {
     "data": {
      "text/plain": [
       "{'dt__max_depth': 3, 'dt__min_samples_leaf': 10, 'dt__min_samples_split': 2}"
      ]
     },
     "execution_count": 54,
     "metadata": {},
     "output_type": "execute_result"
    }
   ],
   "source": [
    "# Check the optimal params\n",
    "gs_dt.best_params_"
   ]
  },
  {
   "cell_type": "code",
   "execution_count": 55,
   "metadata": {},
   "outputs": [
    {
     "data": {
      "text/plain": [
       "0.9454545454545455"
      ]
     },
     "execution_count": 55,
     "metadata": {},
     "output_type": "execute_result"
    }
   ],
   "source": [
    "# Train score\n",
    "gs_dt.score(X_train, y_train)"
   ]
  },
  {
   "cell_type": "code",
   "execution_count": 56,
   "metadata": {},
   "outputs": [
    {
     "data": {
      "text/plain": [
       "0.7343559218559218"
      ]
     },
     "execution_count": 56,
     "metadata": {},
     "output_type": "execute_result"
    }
   ],
   "source": [
    "# Cross val score on the whole dataset \n",
    "cross_val_score(gs_dt.best_estimator_, X, y, scoring='roc_auc', cv=3).mean()"
   ]
  },
  {
   "cell_type": "code",
   "execution_count": 57,
   "metadata": {},
   "outputs": [
    {
     "data": {
      "text/plain": [
       "0.8174603174603174"
      ]
     },
     "execution_count": 57,
     "metadata": {},
     "output_type": "execute_result"
    }
   ],
   "source": [
    "# Test score\n",
    "gs_dt.score(X_test, y_test)"
   ]
  },
  {
   "cell_type": "code",
   "execution_count": null,
   "metadata": {},
   "outputs": [],
   "source": []
  },
  {
   "cell_type": "code",
   "execution_count": 58,
   "metadata": {},
   "outputs": [],
   "source": [
    "#coef_dt_gs = np.array((gs_dt.best_estimator_.named_steps['dt']).coef_).tolist()[0]"
   ]
  },
  {
   "cell_type": "code",
   "execution_count": null,
   "metadata": {},
   "outputs": [],
   "source": []
  },
  {
   "cell_type": "code",
   "execution_count": null,
   "metadata": {},
   "outputs": [],
   "source": []
  },
  {
   "cell_type": "code",
   "execution_count": null,
   "metadata": {},
   "outputs": [],
   "source": []
  },
  {
   "cell_type": "code",
   "execution_count": null,
   "metadata": {},
   "outputs": [],
   "source": []
  },
  {
   "cell_type": "markdown",
   "metadata": {},
   "source": [
    "### Bagging Classifier"
   ]
  },
  {
   "cell_type": "code",
   "execution_count": 59,
   "metadata": {},
   "outputs": [],
   "source": [
    "pipe_bc = Pipeline(steps=[\n",
    "    ('ss', StandardScaler()), \n",
    "    ('bc', BaggingClassifier(random_state=42))\n",
    "])\n",
    "\n",
    "pipe_params_bc = {\n",
    "    'bc__n_estimators': [5, 10, 15],\n",
    "    'bc__max_samples': [1, 2, 3]}\n",
    "\n",
    "gs_bc = GridSearchCV(pipe_bc, \n",
    "                     pipe_params_bc, \n",
    "                     cv=3,\n",
    "                     scoring='roc_auc')"
   ]
  },
  {
   "cell_type": "code",
   "execution_count": 60,
   "metadata": {},
   "outputs": [],
   "source": [
    "gs_bc.fit(X_train, y_train);"
   ]
  },
  {
   "cell_type": "code",
   "execution_count": 61,
   "metadata": {},
   "outputs": [
    {
     "data": {
      "text/plain": [
       "{'bc__max_samples': 3, 'bc__n_estimators': 5}"
      ]
     },
     "execution_count": 61,
     "metadata": {},
     "output_type": "execute_result"
    }
   ],
   "source": [
    "# Check the optimal params\n",
    "gs_bc.best_params_"
   ]
  },
  {
   "cell_type": "code",
   "execution_count": 62,
   "metadata": {},
   "outputs": [
    {
     "data": {
      "text/plain": [
       "0.6161616161616161"
      ]
     },
     "execution_count": 62,
     "metadata": {},
     "output_type": "execute_result"
    }
   ],
   "source": [
    "# Train score\n",
    "gs_bc.score(X_train, y_train)"
   ]
  },
  {
   "cell_type": "code",
   "execution_count": 63,
   "metadata": {},
   "outputs": [
    {
     "data": {
      "text/plain": [
       "0.7599969474969476"
      ]
     },
     "execution_count": 63,
     "metadata": {},
     "output_type": "execute_result"
    }
   ],
   "source": [
    "# Cross val score on the whole dataset \n",
    "cross_val_score(gs_bc.best_estimator_, X, y, scoring='roc_auc', cv=3).mean()"
   ]
  },
  {
   "cell_type": "code",
   "execution_count": 64,
   "metadata": {},
   "outputs": [
    {
     "data": {
      "text/plain": [
       "0.6349206349206349"
      ]
     },
     "execution_count": 64,
     "metadata": {},
     "output_type": "execute_result"
    }
   ],
   "source": [
    "# Test score\n",
    "gs_bc.score(X_test, y_test)"
   ]
  },
  {
   "cell_type": "code",
   "execution_count": 65,
   "metadata": {},
   "outputs": [],
   "source": [
    "#coef_bc_gs = np.array((gs_bc.best_estimator_.named_steps['bc']).coef_).tolist()[0]"
   ]
  },
  {
   "cell_type": "code",
   "execution_count": null,
   "metadata": {},
   "outputs": [],
   "source": []
  },
  {
   "cell_type": "code",
   "execution_count": null,
   "metadata": {},
   "outputs": [],
   "source": []
  },
  {
   "cell_type": "code",
   "execution_count": null,
   "metadata": {},
   "outputs": [],
   "source": []
  },
  {
   "cell_type": "markdown",
   "metadata": {},
   "source": [
    "### Random Forest"
   ]
  },
  {
   "cell_type": "code",
   "execution_count": 66,
   "metadata": {},
   "outputs": [],
   "source": [
    "pipe_rf = Pipeline(steps=[ \n",
    "    ('ss', StandardScaler()),\n",
    "    ('rf', RandomForestClassifier(random_state=42))\n",
    "])\n",
    "\n",
    "pipe_params_rf = {\n",
    "    'rf__max_depth': [3, 5],\n",
    "    'rf__min_samples_split': [2, 3],\n",
    "    'rf__min_samples_leaf': [1, 5, 10]}\n",
    "\n",
    "\n",
    "gs_rf = GridSearchCV(pipe_rf, \n",
    "                     pipe_params_rf, \n",
    "                     cv=3,\n",
    "                     scoring='roc_auc')"
   ]
  },
  {
   "cell_type": "code",
   "execution_count": 67,
   "metadata": {},
   "outputs": [],
   "source": [
    "gs_rf.fit(X_train, y_train);"
   ]
  },
  {
   "cell_type": "code",
   "execution_count": 68,
   "metadata": {},
   "outputs": [
    {
     "data": {
      "text/plain": [
       "{'rf__max_depth': 3, 'rf__min_samples_leaf': 10, 'rf__min_samples_split': 2}"
      ]
     },
     "execution_count": 68,
     "metadata": {},
     "output_type": "execute_result"
    }
   ],
   "source": [
    "# Check the optimal params\n",
    "gs_rf.best_params_"
   ]
  },
  {
   "cell_type": "code",
   "execution_count": 69,
   "metadata": {},
   "outputs": [
    {
     "data": {
      "text/plain": [
       "0.9515151515151514"
      ]
     },
     "execution_count": 69,
     "metadata": {},
     "output_type": "execute_result"
    }
   ],
   "source": [
    "# Train score\n",
    "gs_rf.score(X_train, y_train)"
   ]
  },
  {
   "cell_type": "code",
   "execution_count": 70,
   "metadata": {},
   "outputs": [
    {
     "data": {
      "text/plain": [
       "0.8260836385836385"
      ]
     },
     "execution_count": 70,
     "metadata": {},
     "output_type": "execute_result"
    }
   ],
   "source": [
    "# Cross val score on the whole dataset \n",
    "cross_val_score(gs_rf.best_estimator_, X, y, scoring='roc_auc', cv=3).mean()"
   ]
  },
  {
   "cell_type": "code",
   "execution_count": 71,
   "metadata": {},
   "outputs": [
    {
     "data": {
      "text/plain": [
       "0.873015873015873"
      ]
     },
     "execution_count": 71,
     "metadata": {},
     "output_type": "execute_result"
    }
   ],
   "source": [
    "# Test score\n",
    "gs_rf.score(X_test, y_test)"
   ]
  },
  {
   "cell_type": "code",
   "execution_count": 72,
   "metadata": {},
   "outputs": [],
   "source": [
    "#coef_rf_gs = np.array((gs_rf.best_estimator_.named_steps['rf']).coef_).tolist()[0]"
   ]
  },
  {
   "cell_type": "code",
   "execution_count": null,
   "metadata": {},
   "outputs": [],
   "source": []
  },
  {
   "cell_type": "code",
   "execution_count": null,
   "metadata": {},
   "outputs": [],
   "source": [
    "\n"
   ]
  },
  {
   "cell_type": "code",
   "execution_count": null,
   "metadata": {},
   "outputs": [],
   "source": []
  },
  {
   "cell_type": "markdown",
   "metadata": {},
   "source": [
    "### Voting Classifier"
   ]
  },
  {
   "cell_type": "code",
   "execution_count": 73,
   "metadata": {},
   "outputs": [],
   "source": [
    "vc = VotingClassifier(estimators=[('lr', gs_lr), \n",
    "                                  ('knn', gs_knn), \n",
    "                                  ('dt', gs_dt),\n",
    "                                  ('bc', gs_bc),\n",
    "                                  ('rf', gs_rf)], \n",
    "                      voting='soft')"
   ]
  },
  {
   "cell_type": "code",
   "execution_count": 74,
   "metadata": {},
   "outputs": [],
   "source": [
    "vc.fit(X_train, y_train);"
   ]
  },
  {
   "cell_type": "code",
   "execution_count": 75,
   "metadata": {},
   "outputs": [
    {
     "data": {
      "text/plain": [
       "0.7936507936507936"
      ]
     },
     "execution_count": 75,
     "metadata": {},
     "output_type": "execute_result"
    }
   ],
   "source": [
    "# Train score\n",
    "vc.score(X_train, y_train)"
   ]
  },
  {
   "cell_type": "code",
   "execution_count": 76,
   "metadata": {},
   "outputs": [
    {
     "data": {
      "text/plain": [
       "0.8125"
      ]
     },
     "execution_count": 76,
     "metadata": {},
     "output_type": "execute_result"
    }
   ],
   "source": [
    "# Test score\n",
    "vc.score(X_test, y_test)"
   ]
  },
  {
   "cell_type": "markdown",
   "metadata": {},
   "source": [
    "### SVM"
   ]
  },
  {
   "cell_type": "code",
   "execution_count": 77,
   "metadata": {},
   "outputs": [],
   "source": [
    "pipe_svc = Pipeline(steps=[\n",
    "    ('ss', StandardScaler()), \n",
    "    ('svc', SVC(kernel='rbf', class_weight='balanced', probability=True))\n",
    "])\n",
    "\n",
    "pipe_params_svc ={\n",
    "    'svc__C': [1, 5, 10],\n",
    "    'svc__gamma': [0.001, .0001, .01],\n",
    "}\n",
    "gs_svc = GridSearchCV(pipe_svc, \n",
    "                     pipe_params_svc, \n",
    "                     cv=3,\n",
    "                     scoring='roc_auc')"
   ]
  },
  {
   "cell_type": "code",
   "execution_count": 78,
   "metadata": {},
   "outputs": [],
   "source": [
    " gs_svc.fit(X_train, y_train);"
   ]
  },
  {
   "cell_type": "code",
   "execution_count": 79,
   "metadata": {},
   "outputs": [
    {
     "data": {
      "text/plain": [
       "{'svc__C': 1, 'svc__gamma': 0.0001}"
      ]
     },
     "execution_count": 79,
     "metadata": {},
     "output_type": "execute_result"
    }
   ],
   "source": [
    "# # Check the optimal params\n",
    "gs_svc.best_params_"
   ]
  },
  {
   "cell_type": "code",
   "execution_count": 80,
   "metadata": {},
   "outputs": [
    {
     "data": {
      "text/plain": [
       "0.9656565656565657"
      ]
     },
     "execution_count": 80,
     "metadata": {},
     "output_type": "execute_result"
    }
   ],
   "source": [
    "# # Train score\n",
    "gs_svc.score(X_train, y_train)"
   ]
  },
  {
   "cell_type": "code",
   "execution_count": 81,
   "metadata": {},
   "outputs": [
    {
     "data": {
      "text/plain": [
       "0.784035409035409"
      ]
     },
     "execution_count": 81,
     "metadata": {},
     "output_type": "execute_result"
    }
   ],
   "source": [
    "# # Cross val score on the whole dataset \n",
    "cross_val_score(gs_svc.best_estimator_, X, y, scoring='roc_auc', cv=3).mean()"
   ]
  },
  {
   "cell_type": "code",
   "execution_count": 82,
   "metadata": {},
   "outputs": [
    {
     "data": {
      "text/plain": [
       "0.8412698412698413"
      ]
     },
     "execution_count": 82,
     "metadata": {},
     "output_type": "execute_result"
    }
   ],
   "source": [
    "# # Test score\n",
    "gs_svc.score(X_test, y_test)"
   ]
  },
  {
   "cell_type": "markdown",
   "metadata": {},
   "source": [
    "# Model Selection"
   ]
  },
  {
   "cell_type": "markdown",
   "metadata": {},
   "source": [
    "## Define functions that will generate and display AUC ROC scores for all the models"
   ]
  },
  {
   "cell_type": "code",
   "execution_count": 83,
   "metadata": {},
   "outputs": [],
   "source": [
    "# Define a funciton that takes a list of models (could be a list of one model), \n",
    "# Returns the AUC ROC score\n",
    "def evaluation_metrics(list_of_models, X, y):\n",
    "    table = [['Model Name', 'AUC ROC']]\n",
    "    for name, model in list_of_models:\n",
    "        y_proba = model.predict_proba(X)\n",
    "        \n",
    "        false_positive_rate, true_positive_rate, thresholds = roc_curve(y, y_proba[:,1])\n",
    "        auc_roc = round(auc(false_positive_rate, true_positive_rate), 5)\n",
    "        \n",
    "        table.append([name, auc_roc])\n",
    "    return table"
   ]
  },
  {
   "cell_type": "code",
   "execution_count": 84,
   "metadata": {},
   "outputs": [],
   "source": [
    "# Define a funciton that will pretty-print tabular data in Python\n",
    "def display_evaluation_metrics(table):\n",
    "    return display(HTML(tabulate.tabulate(table, tablefmt='html')))"
   ]
  },
  {
   "cell_type": "code",
   "execution_count": 85,
   "metadata": {},
   "outputs": [],
   "source": [
    "table_test = evaluation_metrics([('Logistic Regression', gs_lr), \n",
    "                                 ('KNN', gs_knn),\n",
    "                                 ('Decision Tree', gs_dt),\n",
    "                                 ('Bagging Classifier', gs_bc),\n",
    "                                 ('Random Forest', gs_rf),\n",
    "                                 ('Voting Classifier', vc)\n",
    "                                ],\n",
    "                                X_test, y_test)"
   ]
  },
  {
   "cell_type": "code",
   "execution_count": 86,
   "metadata": {},
   "outputs": [
    {
     "data": {
      "text/html": [
       "<table>\n",
       "<tbody>\n",
       "<tr><td>Model Name         </td><td>AUC ROC</td></tr>\n",
       "<tr><td>Logistic Regression</td><td>0.87302</td></tr>\n",
       "<tr><td>KNN                </td><td>0.92063</td></tr>\n",
       "<tr><td>Decision Tree      </td><td>0.81746</td></tr>\n",
       "<tr><td>Bagging Classifier </td><td>0.63492</td></tr>\n",
       "<tr><td>Random Forest      </td><td>0.87302</td></tr>\n",
       "<tr><td>Voting Classifier  </td><td>0.92063</td></tr>\n",
       "</tbody>\n",
       "</table>"
      ],
      "text/plain": [
       "<IPython.core.display.HTML object>"
      ]
     },
     "metadata": {},
     "output_type": "display_data"
    }
   ],
   "source": [
    "display_evaluation_metrics(table_test)"
   ]
  },
  {
   "cell_type": "code",
   "execution_count": null,
   "metadata": {},
   "outputs": [],
   "source": []
  },
  {
   "cell_type": "markdown",
   "metadata": {},
   "source": [
    "## Model Evaluation"
   ]
  },
  {
   "cell_type": "markdown",
   "metadata": {},
   "source": [
    "### Confusion Matrix"
   ]
  },
  {
   "cell_type": "code",
   "execution_count": 87,
   "metadata": {},
   "outputs": [],
   "source": [
    "y_pred = vc.predict(X_test_sc)"
   ]
  },
  {
   "cell_type": "code",
   "execution_count": 88,
   "metadata": {},
   "outputs": [],
   "source": [
    "TN, FP, FN, TP = confusion_matrix(y_test, y_pred).ravel()"
   ]
  },
  {
   "cell_type": "code",
   "execution_count": 89,
   "metadata": {},
   "outputs": [],
   "source": [
    "cm = confusion_matrix(y_test, y_pred)"
   ]
  },
  {
   "cell_type": "code",
   "execution_count": 90,
   "metadata": {},
   "outputs": [
    {
     "data": {
      "image/png": "[encoded data removed]",
      "text/plain": [
       "<Figure size 576x576 with 1 Axes>"
      ]
     },
     "metadata": {
      "needs_background": "light"
     },
     "output_type": "display_data"
    }
   ],
   "source": [
    "plt.figure(figsize = (8,8))\n",
    "ax = plt.subplot()\n",
    "sns.heatmap(cm, \n",
    "            annot=True, \n",
    "            ax = ax, \n",
    "            fmt='g', \n",
    "            cbar=False,\n",
    "            cmap=\"Blues\"); #annot=True to annotate cells\n",
    "\n",
    "# labels, title and ticks\n",
    "ax.set_title('Confusion Matrix', size=16)\n",
    "ax.set_xlabel('Predicted', size=14)\n",
    "ax.set_ylabel('True', size=14)\n",
    "ax.xaxis.set_ticklabels(['Negative', 'Positive'])\n",
    "ax.yaxis.set_ticklabels(['Negative', 'Positive']);"
   ]
  },
  {
   "cell_type": "markdown",
   "metadata": {},
   "source": [
    "### ROC Curve and AUC ROC"
   ]
  },
  {
   "cell_type": "code",
   "execution_count": 91,
   "metadata": {},
   "outputs": [],
   "source": [
    "y_pred_proba = vc.predict_proba(X_test_sc)"
   ]
  },
  {
   "cell_type": "code",
   "execution_count": 92,
   "metadata": {
    "scrolled": true
   },
   "outputs": [
    {
     "data": {
      "image/png": "[encoded data removed]",
      "text/plain": [
       "<Figure size 720x576 with 1 Axes>"
      ]
     },
     "metadata": {
      "needs_background": "light"
     },
     "output_type": "display_data"
    }
   ],
   "source": [
    "# Reference: https://scikit-learn.org/stable/modules/generated/sklearn.metrics.roc_curve.html#sklearn.metrics.roc_curve\n",
    "fpr, tpr, _= roc_curve(y_test, y_pred_proba[:,1])\n",
    "roc_auc = auc(fpr, tpr)\n",
    "\n",
    "\n",
    "# Plot of a ROC curve for a specific class\n",
    "plt.figure(figsize = (10,8))\n",
    "plt.plot(fpr, tpr, label='ROC curve (area = %0.4f)' % roc_auc)\n",
    "plt.plot([0, 1], [0, 1], 'k--', label='baseline')\n",
    "plt.xlim([-0.02, 1.0])\n",
    "plt.ylim([0.0, 1.02])\n",
    "plt.xlabel('False Positive Rate')\n",
    "plt.ylabel('True Positive Rate')\n",
    "plt.title('Receiver Operating Characteristic Curve', fontsize=15)\n",
    "plt.legend(loc=\"lower right\");"
   ]
  },
  {
   "cell_type": "code",
   "execution_count": null,
   "metadata": {},
   "outputs": [],
   "source": []
  },
  {
   "cell_type": "code",
   "execution_count": null,
   "metadata": {},
   "outputs": [],
   "source": []
  },
  {
   "cell_type": "markdown",
   "metadata": {},
   "source": [
    " "
   ]
  }
 ],
 "metadata": {
  "kernelspec": {
   "display_name": "Python 3",
   "language": "python",
   "name": "python3"
  },
  "language_info": {
   "codemirror_mode": {
    "name": "ipython",
    "version": 3
   },
   "file_extension": ".py",
   "mimetype": "text/x-python",
   "name": "python",
   "nbconvert_exporter": "python",
   "pygments_lexer": "ipython3",
   "version": "3.7.5"
  },
  "toc": {
   "base_numbering": 1,
   "nav_menu": {},
   "number_sections": true,
   "sideBar": true,
   "skip_h1_title": false,
   "title_cell": "Table of Contents",
   "title_sidebar": "Contents",
   "toc_cell": false,
   "toc_position": {},
   "toc_section_display": true,
   "toc_window_display": false
  }
 },
 "nbformat": 4,
 "nbformat_minor": 2
}
