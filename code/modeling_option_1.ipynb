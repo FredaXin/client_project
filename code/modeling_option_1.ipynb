{
 "cells": [
  {
   "cell_type": "markdown",
   "metadata": {},
   "source": [
    "# Modeling - Option 1:\n",
    "## Predicting affluence in our NYC clusters"
   ]
  },
  {
   "cell_type": "markdown",
   "metadata": {},
   "source": [
    "__Context and Motivation for this modeling exercise__:\n",
    "In the prior Data Cleaning & Exploratory Data Analysis notebook, we noted some interesting insights based on the relative percentages of business types in each NYC Borough.\n",
    "\n",
    "__Business Categories__:\n",
    "- Manhattan has a higher percentage of coffee shops relative to other business types\n",
    "- Bronx and Staten Island have a higher percentage of Pizza shops\n",
    "- Queens larger percentage of Chinese businesses, relative to other types\n",
    "- Staten Island has the highest percentage of Hot Dog businesses\n",
    "\n",
    "__Price Categories__:\n",
    "- Manhattan has a predominance of 2 and 3 dollar-sign businesses relative to the other boroughs\n",
    "- Bronx contains predominantly 1 dollar sign businesses.\n",
    "\n",
    "We believe that these observations are key in highlighting the relative types of businesses within a neighborhood and could be a predictor of affluence. In this notebook, we explore these types of questions via modeling methods - to establish whether we can predict the affluence of one of our business 'clusters' by utilizing the percentages of types of businesses within all clusters.\n",
    "\n",
    "We utilize ROC AUC as our measurement metric & explore a variety of classification and tree-based prediction models. Our best model is Random Forest, with a ROC AUC of 0.826.\n"
   ]
  },
  {
   "cell_type": "markdown",
   "metadata": {},
   "source": [
    "## Import Libraries and Data"
   ]
  },
  {
   "cell_type": "markdown",
   "metadata": {},
   "source": [
    "### Import libraries"
   ]
  },
  {
   "cell_type": "code",
   "execution_count": 1,
   "metadata": {},
   "outputs": [],
   "source": [
    "import numpy as np\n",
    "import pandas as pd\n",
    "import matplotlib.pyplot as plt\n",
    "import seaborn as sns\n",
    "\n",
    "from sklearn.preprocessing import StandardScaler\n",
    "from sklearn.model_selection import train_test_split, GridSearchCV, cross_val_score\n",
    "from sklearn.pipeline import Pipeline\n",
    "\n",
    "from sklearn.linear_model import LogisticRegression\n",
    "from sklearn.neighbors import KNeighborsClassifier\n",
    "from sklearn.tree import DecisionTreeClassifier\n",
    "from sklearn.svm import SVC\n",
    "from sklearn.ensemble import BaggingClassifier, RandomForestClassifier, AdaBoostClassifier, VotingClassifier\n",
    "from sklearn import svm\n",
    "from sklearn.decomposition import PCA\n",
    "\n",
    "from sklearn.metrics import confusion_matrix, roc_curve, auc, make_scorer, roc_auc_score\n",
    "\n",
    "import matplotlib\n",
    "\n",
    "# Styling \n",
    "from IPython.display import HTML, display\n",
    "import tabulate\n",
    "\n",
    "import warnings\n",
    "warnings.simplefilter(action='ignore', category=FutureWarning)\n",
    "\n",
    "%matplotlib inline\n",
    "\n",
    "RANDOM_STATE = 42\n"
   ]
  },
  {
   "cell_type": "markdown",
   "metadata": {},
   "source": [
    "### Load data"
   ]
  },
  {
   "cell_type": "code",
   "execution_count": 2,
   "metadata": {},
   "outputs": [],
   "source": [
    "# Import our clean yelp data, with the cluster and 'is_affluent' columns\n",
    "\n",
    "yelp = pd.read_csv('../data/yelp_clean.csv')"
   ]
  },
  {
   "cell_type": "markdown",
   "metadata": {},
   "source": [
    "## Feature Engineering: creating fractional columns"
   ]
  },
  {
   "cell_type": "code",
   "execution_count": 3,
   "metadata": {},
   "outputs": [
    {
     "data": {
      "text/html": [
       "<div>\n",
       "<style scoped>\n",
       "    .dataframe tbody tr th:only-of-type {\n",
       "        vertical-align: middle;\n",
       "    }\n",
       "\n",
       "    .dataframe tbody tr th {\n",
       "        vertical-align: top;\n",
       "    }\n",
       "\n",
       "    .dataframe thead th {\n",
       "        text-align: right;\n",
       "    }\n",
       "</style>\n",
       "<table border=\"1\" class=\"dataframe\">\n",
       "  <thead>\n",
       "    <tr style=\"text-align: right;\">\n",
       "      <th></th>\n",
       "      <th>Unnamed: 0</th>\n",
       "      <th>name</th>\n",
       "      <th>review_count</th>\n",
       "      <th>rating</th>\n",
       "      <th>price</th>\n",
       "      <th>cat1</th>\n",
       "      <th>zip_code</th>\n",
       "      <th>nyc</th>\n",
       "      <th>borough</th>\n",
       "      <th>cluster</th>\n",
       "      <th>is_affluent</th>\n",
       "    </tr>\n",
       "  </thead>\n",
       "  <tbody>\n",
       "    <tr>\n",
       "      <th>0</th>\n",
       "      <td>0</td>\n",
       "      <td>Com Tam Ninh Kieu</td>\n",
       "      <td>379</td>\n",
       "      <td>4.0</td>\n",
       "      <td>2</td>\n",
       "      <td>vietnamese</td>\n",
       "      <td>10468</td>\n",
       "      <td>True</td>\n",
       "      <td>Bronx</td>\n",
       "      <td>12</td>\n",
       "      <td>0</td>\n",
       "    </tr>\n",
       "    <tr>\n",
       "      <th>1</th>\n",
       "      <td>1</td>\n",
       "      <td>Antonio's Trattoria</td>\n",
       "      <td>773</td>\n",
       "      <td>4.5</td>\n",
       "      <td>2</td>\n",
       "      <td>italian</td>\n",
       "      <td>10458</td>\n",
       "      <td>True</td>\n",
       "      <td>Bronx</td>\n",
       "      <td>12</td>\n",
       "      <td>0</td>\n",
       "    </tr>\n",
       "    <tr>\n",
       "      <th>2</th>\n",
       "      <td>2</td>\n",
       "      <td>Bronx Alehouse</td>\n",
       "      <td>749</td>\n",
       "      <td>4.0</td>\n",
       "      <td>2</td>\n",
       "      <td>tradamerican</td>\n",
       "      <td>10463</td>\n",
       "      <td>True</td>\n",
       "      <td>Bronx</td>\n",
       "      <td>62</td>\n",
       "      <td>0</td>\n",
       "    </tr>\n",
       "    <tr>\n",
       "      <th>3</th>\n",
       "      <td>4</td>\n",
       "      <td>The Bronx Public</td>\n",
       "      <td>443</td>\n",
       "      <td>4.0</td>\n",
       "      <td>2</td>\n",
       "      <td>sportsbars</td>\n",
       "      <td>10463</td>\n",
       "      <td>True</td>\n",
       "      <td>Bronx</td>\n",
       "      <td>62</td>\n",
       "      <td>0</td>\n",
       "    </tr>\n",
       "    <tr>\n",
       "      <th>4</th>\n",
       "      <td>5</td>\n",
       "      <td>Trattoria Zero Otto Nove</td>\n",
       "      <td>749</td>\n",
       "      <td>4.0</td>\n",
       "      <td>2</td>\n",
       "      <td>italian</td>\n",
       "      <td>10458</td>\n",
       "      <td>True</td>\n",
       "      <td>Bronx</td>\n",
       "      <td>12</td>\n",
       "      <td>0</td>\n",
       "    </tr>\n",
       "  </tbody>\n",
       "</table>\n",
       "</div>"
      ],
      "text/plain": [
       "   Unnamed: 0                      name  review_count  rating  price  \\\n",
       "0           0         Com Tam Ninh Kieu           379     4.0      2   \n",
       "1           1       Antonio's Trattoria           773     4.5      2   \n",
       "2           2            Bronx Alehouse           749     4.0      2   \n",
       "3           4          The Bronx Public           443     4.0      2   \n",
       "4           5  Trattoria Zero Otto Nove           749     4.0      2   \n",
       "\n",
       "           cat1  zip_code   nyc borough  cluster  is_affluent  \n",
       "0    vietnamese     10468  True   Bronx       12            0  \n",
       "1       italian     10458  True   Bronx       12            0  \n",
       "2  tradamerican     10463  True   Bronx       62            0  \n",
       "3    sportsbars     10463  True   Bronx       62            0  \n",
       "4       italian     10458  True   Bronx       12            0  "
      ]
     },
     "execution_count": 3,
     "metadata": {},
     "output_type": "execute_result"
    }
   ],
   "source": [
    "# Quick view of the data set\n",
    "yelp.head()"
   ]
  },
  {
   "cell_type": "code",
   "execution_count": 4,
   "metadata": {},
   "outputs": [],
   "source": [
    "# We define a function to calculate the percentage presence for each feature category across all the others\n",
    "# In our current use case, the group is our cluster and the fraction is the % of the feature type (price or category)\n",
    "def class_fraction_feature(df_feature, group_col, feature_col):\n",
    "    '''Function to create percent features. Take in a data frame, df_feature, collect the \n",
    "    categories in the group_col identify the features in feature_col and give a percent of the feature for the group.\n",
    "    '''\n",
    "    # identify unique groups and the unique features\n",
    "    groups   = df_feature[group_col].unique().tolist()\n",
    "    features = df_feature[feature_col].unique().tolist()    \n",
    "    \n",
    "    # Create a dictionary to store the groups. Iterate through the groups and collect counts for the features\n",
    "    data = []\n",
    "    for g in groups:\n",
    "        # empty dictionary, which will be filled with groups\n",
    "        g_dict = {'group_col':g}\n",
    "        \n",
    "        for f in features:\n",
    "            g_dict[f] = df_feature[(df_feature[group_col]==g)&(df_feature[feature_col]==f)][feature_col].count()\n",
    "    \n",
    "        # append the dictionary entry for a group to the list of groups\n",
    "        data.append(g_dict)\n",
    "        \n",
    "    data = pd.DataFrame(data)\n",
    "    \n",
    "    # Create total by row and create fraction on each column\n",
    "    data['total'] = data[features].sum(axis = 1)\n",
    "    for f in features:\n",
    "        data[ str(f) + '_fraction'] = data[f]/data['total']\n",
    "   \n",
    "    return data"
   ]
  },
  {
   "cell_type": "code",
   "execution_count": 5,
   "metadata": {},
   "outputs": [],
   "source": [
    "# We calculate the percentages for each business type:  by category type & price\n",
    "cluster_price_fraction = class_fraction_feature(yelp,'cluster','price')\n",
    "cluster_type_fraction = class_fraction_feature(yelp,'cluster','cat1')\n"
   ]
  },
  {
   "cell_type": "code",
   "execution_count": 6,
   "metadata": {},
   "outputs": [
    {
     "data": {
      "text/html": [
       "<div>\n",
       "<style scoped>\n",
       "    .dataframe tbody tr th:only-of-type {\n",
       "        vertical-align: middle;\n",
       "    }\n",
       "\n",
       "    .dataframe tbody tr th {\n",
       "        vertical-align: top;\n",
       "    }\n",
       "\n",
       "    .dataframe thead th {\n",
       "        text-align: right;\n",
       "    }\n",
       "</style>\n",
       "<table border=\"1\" class=\"dataframe\">\n",
       "  <thead>\n",
       "    <tr style=\"text-align: right;\">\n",
       "      <th></th>\n",
       "      <th>group_col</th>\n",
       "      <th>2</th>\n",
       "      <th>1</th>\n",
       "      <th>3</th>\n",
       "      <th>4</th>\n",
       "      <th>total</th>\n",
       "      <th>2_fraction</th>\n",
       "      <th>1_fraction</th>\n",
       "      <th>3_fraction</th>\n",
       "      <th>4_fraction</th>\n",
       "    </tr>\n",
       "  </thead>\n",
       "  <tbody>\n",
       "    <tr>\n",
       "      <th>0</th>\n",
       "      <td>12</td>\n",
       "      <td>76</td>\n",
       "      <td>129</td>\n",
       "      <td>3</td>\n",
       "      <td>1</td>\n",
       "      <td>209</td>\n",
       "      <td>0.363636</td>\n",
       "      <td>0.617225</td>\n",
       "      <td>0.014354</td>\n",
       "      <td>0.004785</td>\n",
       "    </tr>\n",
       "    <tr>\n",
       "      <th>1</th>\n",
       "      <td>62</td>\n",
       "      <td>72</td>\n",
       "      <td>69</td>\n",
       "      <td>3</td>\n",
       "      <td>0</td>\n",
       "      <td>144</td>\n",
       "      <td>0.500000</td>\n",
       "      <td>0.479167</td>\n",
       "      <td>0.020833</td>\n",
       "      <td>0.000000</td>\n",
       "    </tr>\n",
       "    <tr>\n",
       "      <th>2</th>\n",
       "      <td>42</td>\n",
       "      <td>70</td>\n",
       "      <td>74</td>\n",
       "      <td>1</td>\n",
       "      <td>0</td>\n",
       "      <td>145</td>\n",
       "      <td>0.482759</td>\n",
       "      <td>0.510345</td>\n",
       "      <td>0.006897</td>\n",
       "      <td>0.000000</td>\n",
       "    </tr>\n",
       "    <tr>\n",
       "      <th>3</th>\n",
       "      <td>38</td>\n",
       "      <td>21</td>\n",
       "      <td>70</td>\n",
       "      <td>0</td>\n",
       "      <td>0</td>\n",
       "      <td>91</td>\n",
       "      <td>0.230769</td>\n",
       "      <td>0.769231</td>\n",
       "      <td>0.000000</td>\n",
       "      <td>0.000000</td>\n",
       "    </tr>\n",
       "    <tr>\n",
       "      <th>4</th>\n",
       "      <td>56</td>\n",
       "      <td>42</td>\n",
       "      <td>108</td>\n",
       "      <td>0</td>\n",
       "      <td>1</td>\n",
       "      <td>151</td>\n",
       "      <td>0.278146</td>\n",
       "      <td>0.715232</td>\n",
       "      <td>0.000000</td>\n",
       "      <td>0.006623</td>\n",
       "    </tr>\n",
       "  </tbody>\n",
       "</table>\n",
       "</div>"
      ],
      "text/plain": [
       "   group_col   2    1  3  4  total  2_fraction  1_fraction  3_fraction  \\\n",
       "0         12  76  129  3  1    209    0.363636    0.617225    0.014354   \n",
       "1         62  72   69  3  0    144    0.500000    0.479167    0.020833   \n",
       "2         42  70   74  1  0    145    0.482759    0.510345    0.006897   \n",
       "3         38  21   70  0  0     91    0.230769    0.769231    0.000000   \n",
       "4         56  42  108  0  1    151    0.278146    0.715232    0.000000   \n",
       "\n",
       "   4_fraction  \n",
       "0    0.004785  \n",
       "1    0.000000  \n",
       "2    0.000000  \n",
       "3    0.000000  \n",
       "4    0.006623  "
      ]
     },
     "execution_count": 6,
     "metadata": {},
     "output_type": "execute_result"
    }
   ],
   "source": [
    "# As an example, we show the fraction table for 'price'.\n",
    "cluster_price_fraction.head()"
   ]
  },
  {
   "cell_type": "code",
   "execution_count": 7,
   "metadata": {},
   "outputs": [],
   "source": [
    "# Create a reference dataframe of the cluster numbers and their affluence category\n",
    "cluster_is_affluent = yelp[['cluster', 'is_affluent']]\n",
    "cluster_is_affluent = cluster_is_affluent.drop_duplicates(keep ='first')"
   ]
  },
  {
   "cell_type": "code",
   "execution_count": 8,
   "metadata": {},
   "outputs": [],
   "source": [
    "# Join the fractions together to create a combined set for the clusters\n",
    "cluster_fraction = cluster_price_fraction.merge(cluster_type_fraction, on = 'group_col', suffixes = ('_x','_y'))\n",
    "\n",
    "# join on affluence\n",
    "cluster_fraction = cluster_fraction.rename(columns={'group_col':'cluster'})\n",
    "cluster_fraction = cluster_is_affluent.merge(cluster_fraction, on = 'cluster')"
   ]
  },
  {
   "cell_type": "code",
   "execution_count": 9,
   "metadata": {},
   "outputs": [
    {
     "data": {
      "text/html": [
       "<div>\n",
       "<style scoped>\n",
       "    .dataframe tbody tr th:only-of-type {\n",
       "        vertical-align: middle;\n",
       "    }\n",
       "\n",
       "    .dataframe tbody tr th {\n",
       "        vertical-align: top;\n",
       "    }\n",
       "\n",
       "    .dataframe thead th {\n",
       "        text-align: right;\n",
       "    }\n",
       "</style>\n",
       "<table border=\"1\" class=\"dataframe\">\n",
       "  <thead>\n",
       "    <tr style=\"text-align: right;\">\n",
       "      <th></th>\n",
       "      <th>cluster</th>\n",
       "      <th>is_affluent</th>\n",
       "      <th>2</th>\n",
       "      <th>1</th>\n",
       "      <th>3</th>\n",
       "      <th>4</th>\n",
       "      <th>total_x</th>\n",
       "      <th>2_fraction</th>\n",
       "      <th>1_fraction</th>\n",
       "      <th>3_fraction</th>\n",
       "      <th>...</th>\n",
       "      <th>giftshops_fraction</th>\n",
       "      <th>spas_fraction</th>\n",
       "      <th>singaporean_fraction</th>\n",
       "      <th>diyfood_fraction</th>\n",
       "      <th>kids_activities_fraction</th>\n",
       "      <th>shopping_fraction</th>\n",
       "      <th>cookingschools_fraction</th>\n",
       "      <th>burmese_fraction</th>\n",
       "      <th>sicilian_fraction</th>\n",
       "      <th>farmersmarket_fraction</th>\n",
       "    </tr>\n",
       "  </thead>\n",
       "  <tbody>\n",
       "    <tr>\n",
       "      <th>0</th>\n",
       "      <td>12</td>\n",
       "      <td>0</td>\n",
       "      <td>76</td>\n",
       "      <td>129</td>\n",
       "      <td>3</td>\n",
       "      <td>1</td>\n",
       "      <td>209</td>\n",
       "      <td>0.363636</td>\n",
       "      <td>0.617225</td>\n",
       "      <td>0.014354</td>\n",
       "      <td>...</td>\n",
       "      <td>0.0</td>\n",
       "      <td>0.0</td>\n",
       "      <td>0.0</td>\n",
       "      <td>0.0</td>\n",
       "      <td>0.0</td>\n",
       "      <td>0.0</td>\n",
       "      <td>0.0</td>\n",
       "      <td>0.0</td>\n",
       "      <td>0.0</td>\n",
       "      <td>0.0</td>\n",
       "    </tr>\n",
       "    <tr>\n",
       "      <th>1</th>\n",
       "      <td>62</td>\n",
       "      <td>0</td>\n",
       "      <td>72</td>\n",
       "      <td>69</td>\n",
       "      <td>3</td>\n",
       "      <td>0</td>\n",
       "      <td>144</td>\n",
       "      <td>0.500000</td>\n",
       "      <td>0.479167</td>\n",
       "      <td>0.020833</td>\n",
       "      <td>...</td>\n",
       "      <td>0.0</td>\n",
       "      <td>0.0</td>\n",
       "      <td>0.0</td>\n",
       "      <td>0.0</td>\n",
       "      <td>0.0</td>\n",
       "      <td>0.0</td>\n",
       "      <td>0.0</td>\n",
       "      <td>0.0</td>\n",
       "      <td>0.0</td>\n",
       "      <td>0.0</td>\n",
       "    </tr>\n",
       "    <tr>\n",
       "      <th>2</th>\n",
       "      <td>42</td>\n",
       "      <td>0</td>\n",
       "      <td>70</td>\n",
       "      <td>74</td>\n",
       "      <td>1</td>\n",
       "      <td>0</td>\n",
       "      <td>145</td>\n",
       "      <td>0.482759</td>\n",
       "      <td>0.510345</td>\n",
       "      <td>0.006897</td>\n",
       "      <td>...</td>\n",
       "      <td>0.0</td>\n",
       "      <td>0.0</td>\n",
       "      <td>0.0</td>\n",
       "      <td>0.0</td>\n",
       "      <td>0.0</td>\n",
       "      <td>0.0</td>\n",
       "      <td>0.0</td>\n",
       "      <td>0.0</td>\n",
       "      <td>0.0</td>\n",
       "      <td>0.0</td>\n",
       "    </tr>\n",
       "    <tr>\n",
       "      <th>3</th>\n",
       "      <td>38</td>\n",
       "      <td>0</td>\n",
       "      <td>21</td>\n",
       "      <td>70</td>\n",
       "      <td>0</td>\n",
       "      <td>0</td>\n",
       "      <td>91</td>\n",
       "      <td>0.230769</td>\n",
       "      <td>0.769231</td>\n",
       "      <td>0.000000</td>\n",
       "      <td>...</td>\n",
       "      <td>0.0</td>\n",
       "      <td>0.0</td>\n",
       "      <td>0.0</td>\n",
       "      <td>0.0</td>\n",
       "      <td>0.0</td>\n",
       "      <td>0.0</td>\n",
       "      <td>0.0</td>\n",
       "      <td>0.0</td>\n",
       "      <td>0.0</td>\n",
       "      <td>0.0</td>\n",
       "    </tr>\n",
       "    <tr>\n",
       "      <th>4</th>\n",
       "      <td>56</td>\n",
       "      <td>0</td>\n",
       "      <td>42</td>\n",
       "      <td>108</td>\n",
       "      <td>0</td>\n",
       "      <td>1</td>\n",
       "      <td>151</td>\n",
       "      <td>0.278146</td>\n",
       "      <td>0.715232</td>\n",
       "      <td>0.000000</td>\n",
       "      <td>...</td>\n",
       "      <td>0.0</td>\n",
       "      <td>0.0</td>\n",
       "      <td>0.0</td>\n",
       "      <td>0.0</td>\n",
       "      <td>0.0</td>\n",
       "      <td>0.0</td>\n",
       "      <td>0.0</td>\n",
       "      <td>0.0</td>\n",
       "      <td>0.0</td>\n",
       "      <td>0.0</td>\n",
       "    </tr>\n",
       "  </tbody>\n",
       "</table>\n",
       "<p>5 rows × 524 columns</p>\n",
       "</div>"
      ],
      "text/plain": [
       "   cluster  is_affluent   2    1  3  4  total_x  2_fraction  1_fraction  \\\n",
       "0       12            0  76  129  3  1      209    0.363636    0.617225   \n",
       "1       62            0  72   69  3  0      144    0.500000    0.479167   \n",
       "2       42            0  70   74  1  0      145    0.482759    0.510345   \n",
       "3       38            0  21   70  0  0       91    0.230769    0.769231   \n",
       "4       56            0  42  108  0  1      151    0.278146    0.715232   \n",
       "\n",
       "   3_fraction  ...  giftshops_fraction  spas_fraction  singaporean_fraction  \\\n",
       "0    0.014354  ...                 0.0            0.0                   0.0   \n",
       "1    0.020833  ...                 0.0            0.0                   0.0   \n",
       "2    0.006897  ...                 0.0            0.0                   0.0   \n",
       "3    0.000000  ...                 0.0            0.0                   0.0   \n",
       "4    0.000000  ...                 0.0            0.0                   0.0   \n",
       "\n",
       "   diyfood_fraction  kids_activities_fraction  shopping_fraction  \\\n",
       "0               0.0                       0.0                0.0   \n",
       "1               0.0                       0.0                0.0   \n",
       "2               0.0                       0.0                0.0   \n",
       "3               0.0                       0.0                0.0   \n",
       "4               0.0                       0.0                0.0   \n",
       "\n",
       "   cookingschools_fraction  burmese_fraction  sicilian_fraction  \\\n",
       "0                      0.0               0.0                0.0   \n",
       "1                      0.0               0.0                0.0   \n",
       "2                      0.0               0.0                0.0   \n",
       "3                      0.0               0.0                0.0   \n",
       "4                      0.0               0.0                0.0   \n",
       "\n",
       "   farmersmarket_fraction  \n",
       "0                     0.0  \n",
       "1                     0.0  \n",
       "2                     0.0  \n",
       "3                     0.0  \n",
       "4                     0.0  \n",
       "\n",
       "[5 rows x 524 columns]"
      ]
     },
     "execution_count": 9,
     "metadata": {},
     "output_type": "execute_result"
    }
   ],
   "source": [
    "# We view the dataframe with all count and fractional columns. (We will remove some of these soon)\n",
    "cluster_fraction.head()"
   ]
  },
  {
   "cell_type": "markdown",
   "metadata": {},
   "source": [
    "In the table above, we see a full dataframe with all the newly engineered fraction columns. We will add two more, based on grouping together the 1 & 2 dollar sign businesses, and 3 & 4 dollar sign businesses. Per the Exploratory Data Analysis we performed previously, this may help as an indicator of affluence."
   ]
  },
  {
   "cell_type": "code",
   "execution_count": 10,
   "metadata": {},
   "outputs": [],
   "source": [
    "# Adding two engineered columns based on dollar sign groupings\n",
    "cluster_fraction['1_2_fraction'] = cluster_fraction['1_fraction'] + cluster_fraction['2_fraction']\n",
    "cluster_fraction['3_4_fraction'] = cluster_fraction['3_fraction'] + cluster_fraction['4_fraction']"
   ]
  },
  {
   "cell_type": "markdown",
   "metadata": {},
   "source": [
    "Next, we will utilize list comprehension to remove all of the original 'count' columns from our dataframe. "
   ]
  },
  {
   "cell_type": "code",
   "execution_count": 11,
   "metadata": {},
   "outputs": [],
   "source": [
    "# Remove columns that are based on count, vs fraction\n",
    "\n",
    "cols = [c for c in cluster_fraction.columns if str(c).endswith('fraction')] # Keep columns with '_fraction'\n",
    "cols.append('is_affluent') # ensure that our target 'is_affluent' category is maintained      "
   ]
  },
  {
   "cell_type": "code",
   "execution_count": 12,
   "metadata": {},
   "outputs": [],
   "source": [
    "cluster_fraction = cluster_fraction[cols] # redefine our dataframe with the selected columns"
   ]
  },
  {
   "cell_type": "code",
   "execution_count": 13,
   "metadata": {},
   "outputs": [
    {
     "data": {
      "text/html": [
       "<div>\n",
       "<style scoped>\n",
       "    .dataframe tbody tr th:only-of-type {\n",
       "        vertical-align: middle;\n",
       "    }\n",
       "\n",
       "    .dataframe tbody tr th {\n",
       "        vertical-align: top;\n",
       "    }\n",
       "\n",
       "    .dataframe thead th {\n",
       "        text-align: right;\n",
       "    }\n",
       "</style>\n",
       "<table border=\"1\" class=\"dataframe\">\n",
       "  <thead>\n",
       "    <tr style=\"text-align: right;\">\n",
       "      <th></th>\n",
       "      <th>2_fraction</th>\n",
       "      <th>1_fraction</th>\n",
       "      <th>3_fraction</th>\n",
       "      <th>4_fraction</th>\n",
       "      <th>vietnamese_fraction</th>\n",
       "      <th>italian_fraction</th>\n",
       "      <th>tradamerican_fraction</th>\n",
       "      <th>sportsbars_fraction</th>\n",
       "      <th>desserts_fraction</th>\n",
       "      <th>mexican_fraction</th>\n",
       "      <th>...</th>\n",
       "      <th>diyfood_fraction</th>\n",
       "      <th>kids_activities_fraction</th>\n",
       "      <th>shopping_fraction</th>\n",
       "      <th>cookingschools_fraction</th>\n",
       "      <th>burmese_fraction</th>\n",
       "      <th>sicilian_fraction</th>\n",
       "      <th>farmersmarket_fraction</th>\n",
       "      <th>1_2_fraction</th>\n",
       "      <th>3_4_fraction</th>\n",
       "      <th>is_affluent</th>\n",
       "    </tr>\n",
       "  </thead>\n",
       "  <tbody>\n",
       "    <tr>\n",
       "      <th>0</th>\n",
       "      <td>0.363636</td>\n",
       "      <td>0.617225</td>\n",
       "      <td>0.014354</td>\n",
       "      <td>0.004785</td>\n",
       "      <td>0.004785</td>\n",
       "      <td>0.081340</td>\n",
       "      <td>0.019139</td>\n",
       "      <td>0.014354</td>\n",
       "      <td>0.000000</td>\n",
       "      <td>0.071770</td>\n",
       "      <td>...</td>\n",
       "      <td>0.0</td>\n",
       "      <td>0.0</td>\n",
       "      <td>0.0</td>\n",
       "      <td>0.0</td>\n",
       "      <td>0.0</td>\n",
       "      <td>0.0</td>\n",
       "      <td>0.0</td>\n",
       "      <td>0.980861</td>\n",
       "      <td>0.019139</td>\n",
       "      <td>0</td>\n",
       "    </tr>\n",
       "    <tr>\n",
       "      <th>1</th>\n",
       "      <td>0.500000</td>\n",
       "      <td>0.479167</td>\n",
       "      <td>0.020833</td>\n",
       "      <td>0.000000</td>\n",
       "      <td>0.000000</td>\n",
       "      <td>0.013889</td>\n",
       "      <td>0.034722</td>\n",
       "      <td>0.020833</td>\n",
       "      <td>0.020833</td>\n",
       "      <td>0.048611</td>\n",
       "      <td>...</td>\n",
       "      <td>0.0</td>\n",
       "      <td>0.0</td>\n",
       "      <td>0.0</td>\n",
       "      <td>0.0</td>\n",
       "      <td>0.0</td>\n",
       "      <td>0.0</td>\n",
       "      <td>0.0</td>\n",
       "      <td>0.979167</td>\n",
       "      <td>0.020833</td>\n",
       "      <td>0</td>\n",
       "    </tr>\n",
       "    <tr>\n",
       "      <th>2</th>\n",
       "      <td>0.482759</td>\n",
       "      <td>0.510345</td>\n",
       "      <td>0.006897</td>\n",
       "      <td>0.000000</td>\n",
       "      <td>0.000000</td>\n",
       "      <td>0.013793</td>\n",
       "      <td>0.013793</td>\n",
       "      <td>0.013793</td>\n",
       "      <td>0.020690</td>\n",
       "      <td>0.089655</td>\n",
       "      <td>...</td>\n",
       "      <td>0.0</td>\n",
       "      <td>0.0</td>\n",
       "      <td>0.0</td>\n",
       "      <td>0.0</td>\n",
       "      <td>0.0</td>\n",
       "      <td>0.0</td>\n",
       "      <td>0.0</td>\n",
       "      <td>0.993103</td>\n",
       "      <td>0.006897</td>\n",
       "      <td>0</td>\n",
       "    </tr>\n",
       "    <tr>\n",
       "      <th>3</th>\n",
       "      <td>0.230769</td>\n",
       "      <td>0.769231</td>\n",
       "      <td>0.000000</td>\n",
       "      <td>0.000000</td>\n",
       "      <td>0.000000</td>\n",
       "      <td>0.000000</td>\n",
       "      <td>0.000000</td>\n",
       "      <td>0.000000</td>\n",
       "      <td>0.000000</td>\n",
       "      <td>0.065934</td>\n",
       "      <td>...</td>\n",
       "      <td>0.0</td>\n",
       "      <td>0.0</td>\n",
       "      <td>0.0</td>\n",
       "      <td>0.0</td>\n",
       "      <td>0.0</td>\n",
       "      <td>0.0</td>\n",
       "      <td>0.0</td>\n",
       "      <td>1.000000</td>\n",
       "      <td>0.000000</td>\n",
       "      <td>0</td>\n",
       "    </tr>\n",
       "    <tr>\n",
       "      <th>4</th>\n",
       "      <td>0.278146</td>\n",
       "      <td>0.715232</td>\n",
       "      <td>0.000000</td>\n",
       "      <td>0.006623</td>\n",
       "      <td>0.000000</td>\n",
       "      <td>0.013245</td>\n",
       "      <td>0.013245</td>\n",
       "      <td>0.006623</td>\n",
       "      <td>0.000000</td>\n",
       "      <td>0.052980</td>\n",
       "      <td>...</td>\n",
       "      <td>0.0</td>\n",
       "      <td>0.0</td>\n",
       "      <td>0.0</td>\n",
       "      <td>0.0</td>\n",
       "      <td>0.0</td>\n",
       "      <td>0.0</td>\n",
       "      <td>0.0</td>\n",
       "      <td>0.993377</td>\n",
       "      <td>0.006623</td>\n",
       "      <td>0</td>\n",
       "    </tr>\n",
       "  </tbody>\n",
       "</table>\n",
       "<p>5 rows × 263 columns</p>\n",
       "</div>"
      ],
      "text/plain": [
       "   2_fraction  1_fraction  3_fraction  4_fraction  vietnamese_fraction  \\\n",
       "0    0.363636    0.617225    0.014354    0.004785             0.004785   \n",
       "1    0.500000    0.479167    0.020833    0.000000             0.000000   \n",
       "2    0.482759    0.510345    0.006897    0.000000             0.000000   \n",
       "3    0.230769    0.769231    0.000000    0.000000             0.000000   \n",
       "4    0.278146    0.715232    0.000000    0.006623             0.000000   \n",
       "\n",
       "   italian_fraction  tradamerican_fraction  sportsbars_fraction  \\\n",
       "0          0.081340               0.019139             0.014354   \n",
       "1          0.013889               0.034722             0.020833   \n",
       "2          0.013793               0.013793             0.013793   \n",
       "3          0.000000               0.000000             0.000000   \n",
       "4          0.013245               0.013245             0.006623   \n",
       "\n",
       "   desserts_fraction  mexican_fraction  ...  diyfood_fraction  \\\n",
       "0           0.000000          0.071770  ...               0.0   \n",
       "1           0.020833          0.048611  ...               0.0   \n",
       "2           0.020690          0.089655  ...               0.0   \n",
       "3           0.000000          0.065934  ...               0.0   \n",
       "4           0.000000          0.052980  ...               0.0   \n",
       "\n",
       "   kids_activities_fraction  shopping_fraction  cookingschools_fraction  \\\n",
       "0                       0.0                0.0                      0.0   \n",
       "1                       0.0                0.0                      0.0   \n",
       "2                       0.0                0.0                      0.0   \n",
       "3                       0.0                0.0                      0.0   \n",
       "4                       0.0                0.0                      0.0   \n",
       "\n",
       "   burmese_fraction  sicilian_fraction  farmersmarket_fraction  1_2_fraction  \\\n",
       "0               0.0                0.0                     0.0      0.980861   \n",
       "1               0.0                0.0                     0.0      0.979167   \n",
       "2               0.0                0.0                     0.0      0.993103   \n",
       "3               0.0                0.0                     0.0      1.000000   \n",
       "4               0.0                0.0                     0.0      0.993377   \n",
       "\n",
       "   3_4_fraction  is_affluent  \n",
       "0      0.019139            0  \n",
       "1      0.020833            0  \n",
       "2      0.006897            0  \n",
       "3      0.000000            0  \n",
       "4      0.006623            0  \n",
       "\n",
       "[5 rows x 263 columns]"
      ]
     },
     "execution_count": 13,
     "metadata": {},
     "output_type": "execute_result"
    }
   ],
   "source": [
    "# This our final goal dataframe - with all the fractional categories & the affluence (target) column\n",
    "cluster_fraction.head()"
   ]
  },
  {
   "cell_type": "markdown",
   "metadata": {},
   "source": [
    "Above is our final dataframe, representing the ratio of business types for each cluster, that we will carry forward to modeling. We will be exploring the relationship between the relative presence of business types as they relate to prediction affluence."
   ]
  },
  {
   "cell_type": "markdown",
   "metadata": {},
   "source": [
    "# Model Preparation"
   ]
  },
  {
   "cell_type": "code",
   "execution_count": 14,
   "metadata": {},
   "outputs": [],
   "source": [
    "target = 'is_affluent'\n",
    "X = cluster_fraction.drop(columns=target)\n",
    "y = cluster_fraction[target]"
   ]
  },
  {
   "cell_type": "markdown",
   "metadata": {},
   "source": [
    "# Train, Test Split\n",
    "\n",
    "This is a small data set (only 80 observations). We will use 25% of the data set for testing."
   ]
  },
  {
   "cell_type": "code",
   "execution_count": 15,
   "metadata": {},
   "outputs": [],
   "source": [
    "X_train, X_test, y_train, y_test = train_test_split(X, y, random_state=42, test_size=0.25, stratify=y)"
   ]
  },
  {
   "cell_type": "markdown",
   "metadata": {},
   "source": [
    "We utilize stratify to ensure the train/test data sets have even distributions of classes. This is important due to the small size of the data set."
   ]
  },
  {
   "cell_type": "markdown",
   "metadata": {},
   "source": [
    "# Modeling"
   ]
  },
  {
   "cell_type": "markdown",
   "metadata": {},
   "source": [
    "- We will first present our baseline model.  \n",
    "- We will then develop several models, evaluating via GridSearch. \n",
    "- Based on the Grid Search's cross validation scores, we will then fine tune the hyper-parameters for each model to achieve the optimal result. "
   ]
  },
  {
   "cell_type": "markdown",
   "metadata": {},
   "source": [
    "## Evaluation Metric: ROC"
   ]
  },
  {
   "cell_type": "markdown",
   "metadata": {},
   "source": [
    "A few notes about our chosen evaluation metric, ROC: \n",
    "\n",
    "- \"ROC (Receiver Operating Characteristic) is a probability curve and AUC represents degree or measure of separability. It tells how much model is capable of distinguishing between classes\"[(reference)](https://towardsdatascience.com/understanding-auc-roc-curve-68b2303cc9c5). The higher the ROC, and the better it the two classes: Affluent vs. Not Affluent. The ROC curve is plotted with True Positive Rate on y-axis, against the False Positive Rate on the x-axis.\n",
    "\n",
    "- AUC (Area Under the Curve) measures the entire two-dimensional area underneath the entire ROC curve. The closer AUC to 1, the better the model.\n",
    "\n",
    "- We are choosing the AUC ROC  as our metric, since our aim is to find the optimal model that best separates our Affluence classes."
   ]
  },
  {
   "cell_type": "markdown",
   "metadata": {},
   "source": [
    "##  Baseline Model"
   ]
  },
  {
   "cell_type": "code",
   "execution_count": 16,
   "metadata": {},
   "outputs": [
    {
     "data": {
      "text/plain": [
       "0.5316455696202531"
      ]
     },
     "execution_count": 16,
     "metadata": {},
     "output_type": "execute_result"
    }
   ],
   "source": [
    "# Determining the baseline model\n",
    "\n",
    "y.value_counts(normalize=True)[0]"
   ]
  },
  {
   "cell_type": "markdown",
   "metadata": {},
   "source": [
    "Our baseline score is 0.53, indicating that we were to blindly predict that each cluster were \"not affluent\", we would be correct 55% of the time."
   ]
  },
  {
   "cell_type": "markdown",
   "metadata": {},
   "source": [
    "## Modeling Procedure"
   ]
  },
  {
   "cell_type": "markdown",
   "metadata": {},
   "source": [
    "For each of the modeling steps below, we utilize a GridSearch methodology to assist in finding the best fit hyperparameters."
   ]
  },
  {
   "cell_type": "markdown",
   "metadata": {},
   "source": [
    "### Logistic Regression / GridSearch"
   ]
  },
  {
   "cell_type": "code",
   "execution_count": 17,
   "metadata": {},
   "outputs": [],
   "source": [
    "# Setting up the pipeline for Logistic Regression modeling\n",
    "\n",
    "pipe = Pipeline(steps=[ \n",
    "    ('ss', StandardScaler()),\n",
    "    ('lr', LogisticRegression(solver='liblinear'))\n",
    "])\n",
    "\n",
    "pipe_params ={\n",
    "    'lr__C': [.00001, .0001, 0.0005, .001, .01],\n",
    "    'lr__penalty' : ['l2', 'l1']\n",
    "    }\n",
    "\n",
    "gs_lr = GridSearchCV(pipe, \n",
    "                     pipe_params, \n",
    "                     cv=3,\n",
    "                     scoring='roc_auc')\n"
   ]
  },
  {
   "cell_type": "code",
   "execution_count": 18,
   "metadata": {},
   "outputs": [
    {
     "name": "stderr",
     "output_type": "stream",
     "text": [
      "/opt/anaconda3/envs/dsi/lib/python3.7/site-packages/sklearn/model_selection/_search.py:814: DeprecationWarning: The default of the `iid` parameter will change from True to False in version 0.22 and will be removed in 0.24. This will change numeric results when test-set sizes are unequal.\n",
      "  DeprecationWarning)\n"
     ]
    }
   ],
   "source": [
    "gs_lr.fit(X_train, y_train);"
   ]
  },
  {
   "cell_type": "code",
   "execution_count": 19,
   "metadata": {},
   "outputs": [
    {
     "data": {
      "text/plain": [
       "{'lr__C': 0.0005, 'lr__penalty': 'l2'}"
      ]
     },
     "execution_count": 19,
     "metadata": {},
     "output_type": "execute_result"
    }
   ],
   "source": [
    "# Check the optimal params\n",
    "gs_lr.best_params_"
   ]
  },
  {
   "cell_type": "code",
   "execution_count": 20,
   "metadata": {},
   "outputs": [
    {
     "data": {
      "text/plain": [
       "Pipeline(memory=None,\n",
       "         steps=[('ss',\n",
       "                 StandardScaler(copy=True, with_mean=True, with_std=True)),\n",
       "                ('lr',\n",
       "                 LogisticRegression(C=0.0005, class_weight=None, dual=False,\n",
       "                                    fit_intercept=True, intercept_scaling=1,\n",
       "                                    l1_ratio=None, max_iter=100,\n",
       "                                    multi_class='warn', n_jobs=None,\n",
       "                                    penalty='l2', random_state=None,\n",
       "                                    solver='liblinear', tol=0.0001, verbose=0,\n",
       "                                    warm_start=False))],\n",
       "         verbose=False)"
      ]
     },
     "execution_count": 20,
     "metadata": {},
     "output_type": "execute_result"
    }
   ],
   "source": [
    "gs_lr.best_estimator_"
   ]
  },
  {
   "cell_type": "code",
   "execution_count": 21,
   "metadata": {},
   "outputs": [
    {
     "data": {
      "text/plain": [
       "0.9746543778801844"
      ]
     },
     "execution_count": 21,
     "metadata": {},
     "output_type": "execute_result"
    }
   ],
   "source": [
    "# Train score\n",
    "gs_lr.score(X_train, y_train)"
   ]
  },
  {
   "cell_type": "code",
   "execution_count": 22,
   "metadata": {},
   "outputs": [
    {
     "data": {
      "text/plain": [
       "0.8686868686868686"
      ]
     },
     "execution_count": 22,
     "metadata": {},
     "output_type": "execute_result"
    }
   ],
   "source": [
    "# Test score\n",
    "gs_lr.score(X_test, y_test)"
   ]
  },
  {
   "cell_type": "code",
   "execution_count": 23,
   "metadata": {},
   "outputs": [
    {
     "data": {
      "text/plain": [
       "0.7934981684981685"
      ]
     },
     "execution_count": 23,
     "metadata": {},
     "output_type": "execute_result"
    }
   ],
   "source": [
    "# Cross val score on the whole dataset \n",
    "cv_lr = cross_val_score(gs_lr.best_estimator_, X, y, scoring='roc_auc', cv=3).mean()\n",
    "cv_lr"
   ]
  },
  {
   "cell_type": "markdown",
   "metadata": {},
   "source": [
    "Note that the small size of our data set makes cross-validation difficult. We are using cv = 3 (vs cv = 5) to minimize the issues, but in general, it is good to keep in mind that the cross-validation scores may not be valid across the board."
   ]
  },
  {
   "cell_type": "code",
   "execution_count": 24,
   "metadata": {},
   "outputs": [],
   "source": [
    "# extract the coefficients from our Logistic Regression model\n",
    "coef_lr_gs = np.array((gs_lr.best_estimator_.named_steps['lr']).coef_).tolist()[0]"
   ]
  },
  {
   "cell_type": "code",
   "execution_count": 25,
   "metadata": {},
   "outputs": [],
   "source": [
    "# extract the categories for our coefficients\n",
    "names = X_train.columns"
   ]
  },
  {
   "cell_type": "code",
   "execution_count": 26,
   "metadata": {},
   "outputs": [],
   "source": [
    "# Zip the coefficients and column names together\n",
    "gs_lr_betas = list(zip(names, coef_lr_gs))"
   ]
  },
  {
   "cell_type": "code",
   "execution_count": 27,
   "metadata": {},
   "outputs": [],
   "source": [
    "# Create final dataframe of words with their corresponding coefficients\n",
    "gs_lr_coefs = pd.DataFrame(gs_lr_betas).rename(columns = {0: 'word', 1: 'coef'}).sort_values(by = 'coef', ascending = False)"
   ]
  },
  {
   "cell_type": "code",
   "execution_count": 28,
   "metadata": {},
   "outputs": [
    {
     "data": {
      "text/html": [
       "<div>\n",
       "<style scoped>\n",
       "    .dataframe tbody tr th:only-of-type {\n",
       "        vertical-align: middle;\n",
       "    }\n",
       "\n",
       "    .dataframe tbody tr th {\n",
       "        vertical-align: top;\n",
       "    }\n",
       "\n",
       "    .dataframe thead th {\n",
       "        text-align: right;\n",
       "    }\n",
       "</style>\n",
       "<table border=\"1\" class=\"dataframe\">\n",
       "  <thead>\n",
       "    <tr style=\"text-align: right;\">\n",
       "      <th></th>\n",
       "      <th>word</th>\n",
       "      <th>coef</th>\n",
       "    </tr>\n",
       "  </thead>\n",
       "  <tbody>\n",
       "    <tr>\n",
       "      <th>80</th>\n",
       "      <td>french_fraction</td>\n",
       "      <td>0.008075</td>\n",
       "    </tr>\n",
       "    <tr>\n",
       "      <th>102</th>\n",
       "      <td>cocktailbars_fraction</td>\n",
       "      <td>0.006967</td>\n",
       "    </tr>\n",
       "    <tr>\n",
       "      <th>107</th>\n",
       "      <td>ramen_fraction</td>\n",
       "      <td>0.006921</td>\n",
       "    </tr>\n",
       "    <tr>\n",
       "      <th>153</th>\n",
       "      <td>beerbar_fraction</td>\n",
       "      <td>0.006476</td>\n",
       "    </tr>\n",
       "    <tr>\n",
       "      <th>36</th>\n",
       "      <td>cafes_fraction</td>\n",
       "      <td>0.006452</td>\n",
       "    </tr>\n",
       "    <tr>\n",
       "      <th>10</th>\n",
       "      <td>coffee_fraction</td>\n",
       "      <td>0.005964</td>\n",
       "    </tr>\n",
       "    <tr>\n",
       "      <th>33</th>\n",
       "      <td>wine_bars_fraction</td>\n",
       "      <td>0.005906</td>\n",
       "    </tr>\n",
       "    <tr>\n",
       "      <th>84</th>\n",
       "      <td>venues_fraction</td>\n",
       "      <td>0.005838</td>\n",
       "    </tr>\n",
       "    <tr>\n",
       "      <th>156</th>\n",
       "      <td>musicvenues_fraction</td>\n",
       "      <td>0.005832</td>\n",
       "    </tr>\n",
       "    <tr>\n",
       "      <th>65</th>\n",
       "      <td>vegetarian_fraction</td>\n",
       "      <td>0.005507</td>\n",
       "    </tr>\n",
       "  </tbody>\n",
       "</table>\n",
       "</div>"
      ],
      "text/plain": [
       "                      word      coef\n",
       "80         french_fraction  0.008075\n",
       "102  cocktailbars_fraction  0.006967\n",
       "107         ramen_fraction  0.006921\n",
       "153       beerbar_fraction  0.006476\n",
       "36          cafes_fraction  0.006452\n",
       "10         coffee_fraction  0.005964\n",
       "33      wine_bars_fraction  0.005906\n",
       "84         venues_fraction  0.005838\n",
       "156   musicvenues_fraction  0.005832\n",
       "65     vegetarian_fraction  0.005507"
      ]
     },
     "execution_count": 28,
     "metadata": {},
     "output_type": "execute_result"
    }
   ],
   "source": [
    "gs_lr_coefs[gs_lr_coefs['coef'] != 0].head(10)"
   ]
  },
  {
   "cell_type": "markdown",
   "metadata": {},
   "source": [
    "The above features are the strongest predictors for the positive class (affluent). The top predictors of affluence are french restaurants, cocktail bars, ramen shops. Cafes and Coffee shops also have a strong presence, along with wine and beer bars. This is intuitively sensible, as these types of business would typically be frequent by people with extra expendible income. People who are affluent would be more able to sustain upscale alcohol establishments (cocktail and wine bars) and cafes.\n",
    "\n",
    "The top predictor for affluence is French restaurants, with a coefficient of .008075.  For a one-unit (aka percentage) increase in the relative French restaurants among the businesses in an area, the area is e^(0.008075) times as likely to be affluent. \n"
   ]
  },
  {
   "cell_type": "code",
   "execution_count": 29,
   "metadata": {},
   "outputs": [
    {
     "data": {
      "text/html": [
       "<div>\n",
       "<style scoped>\n",
       "    .dataframe tbody tr th:only-of-type {\n",
       "        vertical-align: middle;\n",
       "    }\n",
       "\n",
       "    .dataframe tbody tr th {\n",
       "        vertical-align: top;\n",
       "    }\n",
       "\n",
       "    .dataframe thead th {\n",
       "        text-align: right;\n",
       "    }\n",
       "</style>\n",
       "<table border=\"1\" class=\"dataframe\">\n",
       "  <thead>\n",
       "    <tr style=\"text-align: right;\">\n",
       "      <th></th>\n",
       "      <th>word</th>\n",
       "      <th>coef</th>\n",
       "    </tr>\n",
       "  </thead>\n",
       "  <tbody>\n",
       "    <tr>\n",
       "      <th>15</th>\n",
       "      <td>pizza_fraction</td>\n",
       "      <td>-0.006340</td>\n",
       "    </tr>\n",
       "    <tr>\n",
       "      <th>55</th>\n",
       "      <td>hotdogs_fraction</td>\n",
       "      <td>-0.005658</td>\n",
       "    </tr>\n",
       "    <tr>\n",
       "      <th>56</th>\n",
       "      <td>donuts_fraction</td>\n",
       "      <td>-0.005330</td>\n",
       "    </tr>\n",
       "    <tr>\n",
       "      <th>1</th>\n",
       "      <td>1_fraction</td>\n",
       "      <td>-0.005025</td>\n",
       "    </tr>\n",
       "    <tr>\n",
       "      <th>29</th>\n",
       "      <td>diners_fraction</td>\n",
       "      <td>-0.004379</td>\n",
       "    </tr>\n",
       "    <tr>\n",
       "      <th>13</th>\n",
       "      <td>comfortfood_fraction</td>\n",
       "      <td>-0.004186</td>\n",
       "    </tr>\n",
       "  </tbody>\n",
       "</table>\n",
       "</div>"
      ],
      "text/plain": [
       "                    word      coef\n",
       "15        pizza_fraction -0.006340\n",
       "55      hotdogs_fraction -0.005658\n",
       "56       donuts_fraction -0.005330\n",
       "1             1_fraction -0.005025\n",
       "29       diners_fraction -0.004379\n",
       "13  comfortfood_fraction -0.004186"
      ]
     },
     "execution_count": 29,
     "metadata": {},
     "output_type": "execute_result"
    }
   ],
   "source": [
    "# Looking at the 'top' predictors of the Negative class\n",
    "gs_lr_coefs[gs_lr_coefs['coef'] != 0].tail(6).sort_values('coef', ascending = True) "
   ]
  },
  {
   "cell_type": "markdown",
   "metadata": {},
   "source": [
    "Here we see the strongest predictors for the negative class ('not affluent'). The top predictors of 'not affluent' areas are the fraction of pizza restaurants, hot dog shops, donut shops & 1-dollar sign businesses in general. This is intuitively sensible as they provide quick and inexpensive food options. The percentage of 1-dollar sign business is particularly clearly relevant as a predictor of a non-affluent neighborhood.\n",
    "\n",
    "The top predictor of a non-affluent neighborhood is 'Pizza' restaurants, with a coefficient of -0.00634. For a one-unit (aka percentage) increase in the relative Pizza restaurants among the businesses in an area, the area is e^(0.008075) times as likely not to be affluent. "
   ]
  },
  {
   "cell_type": "markdown",
   "metadata": {},
   "source": [
    "### KNN modeling / GridSearch"
   ]
  },
  {
   "cell_type": "code",
   "execution_count": 30,
   "metadata": {},
   "outputs": [],
   "source": [
    "# Setting up the pipeline for K-Nearest Neighbors Grid Search and modeling\n",
    "pipe_knn = Pipeline(steps=[\n",
    "    ('ss', StandardScaler()),\n",
    "    ('knn', KNeighborsClassifier())\n",
    "])\n",
    "\n",
    "pipe_params_knn ={\n",
    "    'knn__n_neighbors' : [5, 10, 15, 20]\n",
    "    \n",
    "}\n",
    "\n",
    "gs_knn = GridSearchCV(pipe_knn, \n",
    "                      pipe_params_knn, \n",
    "                      cv=3,\n",
    "                      scoring='roc_auc')"
   ]
  },
  {
   "cell_type": "code",
   "execution_count": 31,
   "metadata": {},
   "outputs": [
    {
     "name": "stderr",
     "output_type": "stream",
     "text": [
      "/opt/anaconda3/envs/dsi/lib/python3.7/site-packages/sklearn/model_selection/_search.py:814: DeprecationWarning: The default of the `iid` parameter will change from True to False in version 0.22 and will be removed in 0.24. This will change numeric results when test-set sizes are unequal.\n",
      "  DeprecationWarning)\n"
     ]
    }
   ],
   "source": [
    "# Running the KNN model\n",
    "gs_knn.fit(X_train, y_train);"
   ]
  },
  {
   "cell_type": "code",
   "execution_count": 32,
   "metadata": {},
   "outputs": [
    {
     "data": {
      "text/plain": [
       "{'knn__n_neighbors': 15}"
      ]
     },
     "execution_count": 32,
     "metadata": {},
     "output_type": "execute_result"
    }
   ],
   "source": [
    "# Check the optimal parameters\n",
    "gs_knn.best_params_"
   ]
  },
  {
   "cell_type": "code",
   "execution_count": 33,
   "metadata": {},
   "outputs": [
    {
     "data": {
      "text/plain": [
       "0.9164746543778802"
      ]
     },
     "execution_count": 33,
     "metadata": {},
     "output_type": "execute_result"
    }
   ],
   "source": [
    "# Train score\n",
    "gs_knn.score(X_train, y_train)"
   ]
  },
  {
   "cell_type": "code",
   "execution_count": 34,
   "metadata": {},
   "outputs": [
    {
     "data": {
      "text/plain": [
       "0.8636363636363636"
      ]
     },
     "execution_count": 34,
     "metadata": {},
     "output_type": "execute_result"
    }
   ],
   "source": [
    "# Test score\n",
    "gs_knn.score(X_test, y_test)"
   ]
  },
  {
   "cell_type": "code",
   "execution_count": 35,
   "metadata": {},
   "outputs": [
    {
     "data": {
      "text/plain": [
       "0.7557539682539682"
      ]
     },
     "execution_count": 35,
     "metadata": {},
     "output_type": "execute_result"
    }
   ],
   "source": [
    "# Cross val score on the whole dataset \n",
    "cv_knn = cross_val_score(gs_knn.best_estimator_, X, y, scoring='roc_auc', cv=5).mean()\n",
    "cv_knn"
   ]
  },
  {
   "cell_type": "markdown",
   "metadata": {},
   "source": [
    "Again, the cross-validation score is not close to the train/test scores, which is problematic. This is likely due in part to the small size of the data set, which makes statistical modeling difficult."
   ]
  },
  {
   "cell_type": "markdown",
   "metadata": {},
   "source": [
    "### Decision Tree / GridSearch"
   ]
  },
  {
   "cell_type": "code",
   "execution_count": 36,
   "metadata": {},
   "outputs": [],
   "source": [
    "# Setting up the pipeline for DecisionTree Grid Search and modeling\n",
    "pipe_dt = Pipeline(steps=[\n",
    "    ('ss', StandardScaler()), \n",
    "    ('dt', DecisionTreeClassifier(random_state=42))\n",
    "])\n",
    "\n",
    "pipe_params_dt = {\n",
    "    'dt__max_depth': [3, 4, 5],\n",
    "    'dt__min_samples_split': [2, 3, 4],\n",
    "    'dt__min_samples_leaf': [1, 5, 10]}\n",
    "\n",
    "gs_dt = GridSearchCV(pipe_dt, \n",
    "                     pipe_params_dt, \n",
    "                     cv=3,\n",
    "                     scoring='roc_auc')"
   ]
  },
  {
   "cell_type": "code",
   "execution_count": 37,
   "metadata": {},
   "outputs": [
    {
     "name": "stderr",
     "output_type": "stream",
     "text": [
      "/opt/anaconda3/envs/dsi/lib/python3.7/site-packages/sklearn/model_selection/_search.py:814: DeprecationWarning: The default of the `iid` parameter will change from True to False in version 0.22 and will be removed in 0.24. This will change numeric results when test-set sizes are unequal.\n",
      "  DeprecationWarning)\n"
     ]
    }
   ],
   "source": [
    "# Running the Decision Tree fit\n",
    "gs_dt.fit(X_train, y_train);"
   ]
  },
  {
   "cell_type": "code",
   "execution_count": 38,
   "metadata": {},
   "outputs": [
    {
     "data": {
      "text/plain": [
       "{'dt__max_depth': 3, 'dt__min_samples_leaf': 10, 'dt__min_samples_split': 2}"
      ]
     },
     "execution_count": 38,
     "metadata": {},
     "output_type": "execute_result"
    }
   ],
   "source": [
    "# Check the optimal params\n",
    "gs_dt.best_params_"
   ]
  },
  {
   "cell_type": "code",
   "execution_count": 39,
   "metadata": {},
   "outputs": [
    {
     "data": {
      "text/plain": [
       "0.9475806451612903"
      ]
     },
     "execution_count": 39,
     "metadata": {},
     "output_type": "execute_result"
    }
   ],
   "source": [
    "# Train score\n",
    "gs_dt.score(X_train, y_train)"
   ]
  },
  {
   "cell_type": "code",
   "execution_count": 40,
   "metadata": {},
   "outputs": [
    {
     "data": {
      "text/plain": [
       "0.7929292929292929"
      ]
     },
     "execution_count": 40,
     "metadata": {},
     "output_type": "execute_result"
    }
   ],
   "source": [
    "# Test score\n",
    "gs_dt.score(X_test, y_test)"
   ]
  },
  {
   "cell_type": "code",
   "execution_count": 41,
   "metadata": {},
   "outputs": [
    {
     "data": {
      "text/plain": [
       "0.7343559218559218"
      ]
     },
     "execution_count": 41,
     "metadata": {},
     "output_type": "execute_result"
    }
   ],
   "source": [
    "# Cross val score on the whole dataset \n",
    "cv_dt = cross_val_score(gs_dt.best_estimator_, X, y, scoring='roc_auc', cv=3).mean()\n",
    "cv_dt"
   ]
  },
  {
   "cell_type": "markdown",
   "metadata": {},
   "source": [
    "This model is distinctly overfit, as is typical for Decision Tree models. The Training score is 15% higher than the Testing score, which indicates that we've too strongly fit to our training data set. "
   ]
  },
  {
   "cell_type": "markdown",
   "metadata": {},
   "source": [
    "### Bagging Classifier / GridSearch"
   ]
  },
  {
   "cell_type": "code",
   "execution_count": 42,
   "metadata": {},
   "outputs": [],
   "source": [
    "# Setting up the pipeline for Bagging Classifier Grid Search and modeling\n",
    "pipe_bc = Pipeline(steps=[\n",
    "    ('ss', StandardScaler()), \n",
    "    ('bc', BaggingClassifier(random_state=42))\n",
    "])\n",
    "\n",
    "pipe_params_bc = {\n",
    "    'bc__n_estimators': [5, 10, 15],\n",
    "    'bc__max_samples': [1, 2, 3]}\n",
    "\n",
    "gs_bc = GridSearchCV(pipe_bc, \n",
    "                     pipe_params_bc, \n",
    "                     cv=3,\n",
    "                     scoring='roc_auc')"
   ]
  },
  {
   "cell_type": "code",
   "execution_count": 43,
   "metadata": {},
   "outputs": [
    {
     "name": "stderr",
     "output_type": "stream",
     "text": [
      "/opt/anaconda3/envs/dsi/lib/python3.7/site-packages/sklearn/model_selection/_search.py:814: DeprecationWarning: The default of the `iid` parameter will change from True to False in version 0.22 and will be removed in 0.24. This will change numeric results when test-set sizes are unequal.\n",
      "  DeprecationWarning)\n"
     ]
    }
   ],
   "source": [
    "# Running the Bagging Classifer model\n",
    "gs_bc.fit(X_train, y_train);"
   ]
  },
  {
   "cell_type": "code",
   "execution_count": 44,
   "metadata": {},
   "outputs": [
    {
     "data": {
      "text/plain": [
       "{'bc__max_samples': 3, 'bc__n_estimators': 15}"
      ]
     },
     "execution_count": 44,
     "metadata": {},
     "output_type": "execute_result"
    }
   ],
   "source": [
    "# Check the optimal hyperparameters\n",
    "gs_bc.best_params_"
   ]
  },
  {
   "cell_type": "code",
   "execution_count": 45,
   "metadata": {},
   "outputs": [
    {
     "data": {
      "text/plain": [
       "0.8513824884792627"
      ]
     },
     "execution_count": 45,
     "metadata": {},
     "output_type": "execute_result"
    }
   ],
   "source": [
    "# Training score\n",
    "gs_bc.score(X_train, y_train)"
   ]
  },
  {
   "cell_type": "code",
   "execution_count": 46,
   "metadata": {
    "scrolled": true
   },
   "outputs": [
    {
     "data": {
      "text/plain": [
       "0.8282828282828282"
      ]
     },
     "execution_count": 46,
     "metadata": {},
     "output_type": "execute_result"
    }
   ],
   "source": [
    "# Testing score\n",
    "gs_bc.score(X_test, y_test)"
   ]
  },
  {
   "cell_type": "code",
   "execution_count": 47,
   "metadata": {},
   "outputs": [
    {
     "data": {
      "text/plain": [
       "0.764957264957265"
      ]
     },
     "execution_count": 47,
     "metadata": {},
     "output_type": "execute_result"
    }
   ],
   "source": [
    "# Cross val score on the whole dataset \n",
    "cv_bc = cross_val_score(gs_bc.best_estimator_, X, y, scoring='roc_auc', cv=3).mean()\n",
    "cv_bc"
   ]
  },
  {
   "cell_type": "markdown",
   "metadata": {},
   "source": [
    "The Bagging Classifer model is giving us the closest Train and Test scores to date. While it isn't the best fit, it is reasonably reproducible. Once again, the Cross Validation score is lower than ideal, possibly due to the small size of the data set."
   ]
  },
  {
   "cell_type": "code",
   "execution_count": null,
   "metadata": {},
   "outputs": [],
   "source": []
  },
  {
   "cell_type": "markdown",
   "metadata": {},
   "source": [
    "### Random Forest / GridSearch"
   ]
  },
  {
   "cell_type": "code",
   "execution_count": 48,
   "metadata": {},
   "outputs": [],
   "source": [
    "pipe_rf = Pipeline(steps=[ \n",
    "    ('ss', StandardScaler()),\n",
    "    ('rf', RandomForestClassifier(random_state=42))\n",
    "])\n",
    "\n",
    "pipe_params_rf = {\n",
    "    'rf__max_depth': [2, 3, 4],\n",
    "    'rf__min_samples_split': [2, 3, 4],\n",
    "    'rf__min_samples_leaf': [5, 8, 10]}\n",
    "\n",
    "\n",
    "gs_rf = GridSearchCV(pipe_rf, \n",
    "                     pipe_params_rf, \n",
    "                     cv=3,\n",
    "                     scoring='roc_auc')"
   ]
  },
  {
   "cell_type": "code",
   "execution_count": 49,
   "metadata": {},
   "outputs": [
    {
     "name": "stderr",
     "output_type": "stream",
     "text": [
      "/opt/anaconda3/envs/dsi/lib/python3.7/site-packages/sklearn/model_selection/_search.py:814: DeprecationWarning: The default of the `iid` parameter will change from True to False in version 0.22 and will be removed in 0.24. This will change numeric results when test-set sizes are unequal.\n",
      "  DeprecationWarning)\n"
     ]
    }
   ],
   "source": [
    "gs_rf.fit(X_train, y_train);"
   ]
  },
  {
   "cell_type": "code",
   "execution_count": 50,
   "metadata": {},
   "outputs": [
    {
     "data": {
      "text/plain": [
       "{'rf__max_depth': 2, 'rf__min_samples_leaf': 10, 'rf__min_samples_split': 2}"
      ]
     },
     "execution_count": 50,
     "metadata": {},
     "output_type": "execute_result"
    }
   ],
   "source": [
    "# Check the optimal params\n",
    "gs_rf.best_params_"
   ]
  },
  {
   "cell_type": "code",
   "execution_count": 51,
   "metadata": {},
   "outputs": [
    {
     "data": {
      "text/plain": [
       "0.9262672811059908"
      ]
     },
     "execution_count": 51,
     "metadata": {},
     "output_type": "execute_result"
    }
   ],
   "source": [
    "# Train score\n",
    "gs_rf.score(X_train, y_train)"
   ]
  },
  {
   "cell_type": "code",
   "execution_count": 52,
   "metadata": {},
   "outputs": [
    {
     "data": {
      "text/plain": [
       "0.7777777777777777"
      ]
     },
     "execution_count": 52,
     "metadata": {},
     "output_type": "execute_result"
    }
   ],
   "source": [
    "# Test score\n",
    "gs_rf.score(X_test, y_test)"
   ]
  },
  {
   "cell_type": "code",
   "execution_count": 53,
   "metadata": {},
   "outputs": [
    {
     "data": {
      "text/plain": [
       "0.8260836385836385"
      ]
     },
     "execution_count": 53,
     "metadata": {},
     "output_type": "execute_result"
    }
   ],
   "source": [
    "# Cross val score on the whole dataset \n",
    "cv_rf = cross_val_score(gs_rf.best_estimator_, X, y, scoring='roc_auc', cv=3).mean()\n",
    "cv_rf"
   ]
  },
  {
   "cell_type": "markdown",
   "metadata": {},
   "source": [
    "The Random Forest model is also proving to be considerably overfit, as shown by the significant difference between the train and test scores. "
   ]
  },
  {
   "cell_type": "markdown",
   "metadata": {},
   "source": [
    "## Model Comparison Summary"
   ]
  },
  {
   "cell_type": "markdown",
   "metadata": {},
   "source": [
    "In this brief section, we highlight the final test, train and cross-validation scores for of the fitted models."
   ]
  },
  {
   "cell_type": "markdown",
   "metadata": {},
   "source": [
    "#### Training Scores:"
   ]
  },
  {
   "cell_type": "code",
   "execution_count": 54,
   "metadata": {},
   "outputs": [
    {
     "name": "stdout",
     "output_type": "stream",
     "text": [
      "Training Scores:\n",
      "Logistic Regression:                          0.975\n",
      "K-Nearest Neighbors Classification:           0.916\n",
      "Decision Tree Classification:                 0.948\n",
      "Set of Bagged Decision Trees Classification:  0.851\n",
      "Random Forest Classification:                 0.926\n"
     ]
    }
   ],
   "source": [
    "# Evaluate Training Scores for each Classification Model\n",
    "print('Training Scores:')\n",
    "print(f'Logistic Regression:                          {gs_lr.score(X_train, y_train):.3f}')\n",
    "print(f'K-Nearest Neighbors Classification:           {gs_knn.score(X_train, y_train):.3f}')\n",
    "print(f'Decision Tree Classification:                 {gs_dt.score(X_train, y_train):.3f}')\n",
    "print(f'Set of Bagged Decision Trees Classification:  {gs_bc.score(X_train, y_train):.3f}')\n",
    "print(f'Random Forest Classification:                 {gs_rf.score(X_train, y_train):.3f}')\n"
   ]
  },
  {
   "cell_type": "markdown",
   "metadata": {},
   "source": [
    "Per above, we are observing generally good ROC AUC scores for our training data - each (with the exception of the Bagged Decision Tree) is above 0.9, which is considerably better than our baseline model of 0.53. That said, training data doesn't give us the whole story. We need to check the testing scores to ensure we aren't overfitting."
   ]
  },
  {
   "cell_type": "markdown",
   "metadata": {},
   "source": [
    "#### Testing Scores:"
   ]
  },
  {
   "cell_type": "code",
   "execution_count": 55,
   "metadata": {},
   "outputs": [
    {
     "name": "stdout",
     "output_type": "stream",
     "text": [
      "Testing Scores:\n",
      "Logistic Regression:                          0.869\n",
      "K-Nearest Neighbors Classification:           0.864\n",
      "Decision Tree Classification:                 0.793\n",
      "Set of Bagged Decision Trees Classification:  0.828\n",
      "Random Forest Classification:                 0.778\n"
     ]
    }
   ],
   "source": [
    "# Evaluate Testing Scores for each Classification Model\n",
    "print('Testing Scores:')\n",
    "print(f'Logistic Regression:                          {gs_lr.score(X_test, y_test):.3f}')\n",
    "print(f'K-Nearest Neighbors Classification:           {gs_knn.score(X_test, y_test):.3f}')\n",
    "print(f'Decision Tree Classification:                 {gs_dt.score(X_test, y_test):.3f}')\n",
    "print(f'Set of Bagged Decision Trees Classification:  {gs_bc.score(X_test, y_test):.3f}')\n",
    "print(f'Random Forest Classification:                 {gs_rf.score(X_test, y_test):.3f}')\n"
   ]
  },
  {
   "cell_type": "markdown",
   "metadata": {},
   "source": [
    "Per above, we see that the models are generally overfitting. The strongest Test Score is observed for the Logistic Regression Model. The least overfit model is the Random Forest Classification Model."
   ]
  },
  {
   "cell_type": "markdown",
   "metadata": {},
   "source": [
    "#### Cross Validation Scores:"
   ]
  },
  {
   "cell_type": "code",
   "execution_count": 56,
   "metadata": {},
   "outputs": [
    {
     "name": "stdout",
     "output_type": "stream",
     "text": [
      "Training Scores:\n",
      "Logistic Regression:                          0.793\n",
      "K-Nearest Neighbors Classification:           0.756\n",
      "Decision Tree Classification:                 0.734\n",
      "Set of Bagged Decision Trees Classification:  0.765\n",
      "Random Forest Classification:                 0.826\n"
     ]
    }
   ],
   "source": [
    "# Evaluate Cross Validation scores for each Classification Model\n",
    "print('Training Scores:')\n",
    "print(f'Logistic Regression:                          {cv_lr:.3f}')\n",
    "print(f'K-Nearest Neighbors Classification:           {cv_knn:.3f}')\n",
    "print(f'Decision Tree Classification:                 {cv_dt:.3f}')\n",
    "print(f'Set of Bagged Decision Trees Classification:  {cv_bc:.3f}')\n",
    "print(f'Random Forest Classification:                 {cv_rf:.3f}')\n"
   ]
  },
  {
   "cell_type": "markdown",
   "metadata": {},
   "source": [
    "As noted previously, the cross-validation scores are not necessarily reliable with such a small data set. That said, each of them is higher than the baseline ROC AUC score (0.53). At this stage, we see the highest cross-validation score with the Random Forest Classification Model. The next highest score is seen with the Logistic Regression Model."
   ]
  },
  {
   "cell_type": "markdown",
   "metadata": {},
   "source": [
    "## Model Selection"
   ]
  },
  {
   "cell_type": "markdown",
   "metadata": {},
   "source": [
    "At this stage, we will select the Logistic Regression Model. Some reasoning behind our choice:\n",
    "- Despite a moderate level of overfitting, among all of the models, the Logistic Classification had the highest overall combination of training, testing and cross-validation scores. In addition, it is the most interpretable of the models, as shown above, where we extracting information about the individual coefficients leading to a good prediction of affluence. \n"
   ]
  },
  {
   "cell_type": "markdown",
   "metadata": {},
   "source": [
    "## Model Evaluation"
   ]
  },
  {
   "cell_type": "markdown",
   "metadata": {},
   "source": [
    "In this section, we will fully evaluate the results of our selected model, Logistic Classification. We will review the resulting Confusion Matrix as well as the AUC ROC (Receiver Operating Characteristic) curve."
   ]
  },
  {
   "cell_type": "markdown",
   "metadata": {},
   "source": [
    "### Confusion Matrix"
   ]
  },
  {
   "cell_type": "code",
   "execution_count": 57,
   "metadata": {},
   "outputs": [],
   "source": [
    "# Setting up the predictions for a Confusion Matrix\n",
    "\n",
    "y_pred = gs_lr.predict(X_test)"
   ]
  },
  {
   "cell_type": "code",
   "execution_count": 58,
   "metadata": {},
   "outputs": [],
   "source": [
    "TN, FP, FN, TP = confusion_matrix(y_test, y_pred).ravel()"
   ]
  },
  {
   "cell_type": "code",
   "execution_count": 59,
   "metadata": {},
   "outputs": [],
   "source": [
    "cm = confusion_matrix(y_test, y_pred)"
   ]
  },
  {
   "cell_type": "code",
   "execution_count": 60,
   "metadata": {},
   "outputs": [
    {
     "data": {
      "image/png": "[encoded data removed]",
      "text/plain": [
       "<Figure size 576x576 with 1 Axes>"
      ]
     },
     "metadata": {
      "needs_background": "light"
     },
     "output_type": "display_data"
    }
   ],
   "source": [
    "plt.figure(figsize = (8,8))\n",
    "ax = plt.subplot()\n",
    "sns.heatmap(cm, \n",
    "            annot=True, \n",
    "            ax = ax, \n",
    "            fmt='g', \n",
    "            cbar=False,\n",
    "            cmap=\"Blues\"); #annot=True to annotate cells\n",
    "\n",
    "# labels, title and ticks\n",
    "ax.set_title('Confusion Matrix', size=16)\n",
    "ax.set_xlabel('Predicted', size=14)\n",
    "ax.set_ylabel('True', size=14)\n",
    "ax.xaxis.set_ticklabels(['Negative', 'Positive'])\n",
    "ax.yaxis.set_ticklabels(['Negative', 'Positive']);"
   ]
  },
  {
   "cell_type": "markdown",
   "metadata": {},
   "source": [
    "Via the confusion matrix, we observe that our model is better at predicting the Negative Class than the Postive Class. More work could be done to understand this finding. As a further phase, it may even be worthwhile to explore a separate modeling exercise in which we choose Sensitivity a our metric - where we would focus on maximizing the True Positive rate - and further refining the features that are uniquely predictive of the positive/affluent class."
   ]
  },
  {
   "cell_type": "markdown",
   "metadata": {},
   "source": [
    "### ROC Curve and AUC ROC"
   ]
  },
  {
   "cell_type": "code",
   "execution_count": 61,
   "metadata": {},
   "outputs": [],
   "source": [
    "# We establish the probabilities to be used to create the ROC curve\n",
    "y_pred_proba = gs_lr.predict_proba(X_test)"
   ]
  },
  {
   "cell_type": "code",
   "execution_count": 62,
   "metadata": {},
   "outputs": [
    {
     "data": {
      "image/png": "[encoded data removed]",
      "text/plain": [
       "<Figure size 720x576 with 1 Axes>"
      ]
     },
     "metadata": {
      "needs_background": "light"
     },
     "output_type": "display_data"
    }
   ],
   "source": [
    "# Reference: https://scikit-learn.org/stable/modules/generated/sklearn.metrics.roc_curve.html#sklearn.metrics.roc_curve\n",
    "fpr, tpr, _= roc_curve(y_test, y_pred_proba[:,1])\n",
    "roc_auc = auc(fpr, tpr)\n",
    "\n",
    "\n",
    "# Plot of a ROC curve for a specific class\n",
    "plt.figure(figsize = (10,8))\n",
    "plt.plot(fpr, tpr, label='ROC curve (area = %0.4f)' % roc_auc)\n",
    "plt.plot([0, 1], [0, 1], 'k--')\n",
    "plt.xlim([-0.02, 1.0])\n",
    "plt.ylim([0.0, 1.02])\n",
    "plt.xlabel('False Positive Rate')\n",
    "plt.ylabel('True Positive Rate')\n",
    "plt.title('Receiver Operating Characteristic Curve', fontsize=15)\n",
    "plt.legend(loc=\"lower right\");"
   ]
  },
  {
   "cell_type": "markdown",
   "metadata": {
    "scrolled": true
   },
   "source": [
    "Above is the final ROC curve for our selected model. The AUC ROC is 0.8687, which is considerably better than the baseline (0.53). The ROC 'curve' is distinctly not smooth - it is instead choppy / digitized in appearance. This is a remnant of the small sample size (only 80 observations).\n",
    "\n",
    "Thus while our Logistic Classification model is reasonably in terms of overall prediction (via the ROC AUC metric), it is clearly not an optimal data set. Thus, we will continue forward with an alternate approach in a secondary modeling method in a separate notebook (Modeling Option 2)."
   ]
  },
  {
   "cell_type": "markdown",
   "metadata": {},
   "source": [
    " ## Principal Component Analysis"
   ]
  },
  {
   "cell_type": "markdown",
   "metadata": {},
   "source": [
    "While not a core part of our original model selection process, due to the dimensions of our present data set (80 observations, with ~260 features), we have decided to do an initial exploration of Principal Component Analysis"
   ]
  },
  {
   "cell_type": "code",
   "execution_count": 63,
   "metadata": {},
   "outputs": [],
   "source": [
    "# Scaling our Data\n",
    "ss = StandardScaler()\n",
    "X_train_ss = ss.fit_transform(X_train)\n",
    "X_test_ss = ss.transform(X_test)"
   ]
  },
  {
   "cell_type": "code",
   "execution_count": 64,
   "metadata": {},
   "outputs": [],
   "source": [
    "# Instantiate PCA\n",
    "pca = PCA(random_state=42)\n",
    "\n",
    "# Get PC's by applying transformer on data\n",
    "# figure out the principal components behind the scenes\n",
    "Z_train = pca.fit_transform(X_train_ss)\n",
    "Z_test  = pca.transform(X_test_ss)"
   ]
  },
  {
   "cell_type": "code",
   "execution_count": 65,
   "metadata": {},
   "outputs": [
    {
     "data": {
      "text/html": [
       "<div>\n",
       "<style scoped>\n",
       "    .dataframe tbody tr th:only-of-type {\n",
       "        vertical-align: middle;\n",
       "    }\n",
       "\n",
       "    .dataframe tbody tr th {\n",
       "        vertical-align: top;\n",
       "    }\n",
       "\n",
       "    .dataframe thead th {\n",
       "        text-align: right;\n",
       "    }\n",
       "</style>\n",
       "<table border=\"1\" class=\"dataframe\">\n",
       "  <thead>\n",
       "    <tr style=\"text-align: right;\">\n",
       "      <th></th>\n",
       "      <th>0</th>\n",
       "      <th>1</th>\n",
       "      <th>2</th>\n",
       "      <th>3</th>\n",
       "      <th>4</th>\n",
       "      <th>5</th>\n",
       "      <th>6</th>\n",
       "      <th>7</th>\n",
       "      <th>8</th>\n",
       "      <th>9</th>\n",
       "      <th>...</th>\n",
       "      <th>252</th>\n",
       "      <th>253</th>\n",
       "      <th>254</th>\n",
       "      <th>255</th>\n",
       "      <th>256</th>\n",
       "      <th>257</th>\n",
       "      <th>258</th>\n",
       "      <th>259</th>\n",
       "      <th>260</th>\n",
       "      <th>261</th>\n",
       "    </tr>\n",
       "  </thead>\n",
       "  <tbody>\n",
       "    <tr>\n",
       "      <th>0</th>\n",
       "      <td>1.017241</td>\n",
       "      <td>-0.941124</td>\n",
       "      <td>0.461459</td>\n",
       "      <td>0.323734</td>\n",
       "      <td>0.290917</td>\n",
       "      <td>0.539138</td>\n",
       "      <td>0.158266</td>\n",
       "      <td>0.133916</td>\n",
       "      <td>0.195348</td>\n",
       "      <td>-0.130061</td>\n",
       "      <td>...</td>\n",
       "      <td>0.0</td>\n",
       "      <td>0.0</td>\n",
       "      <td>0.111502</td>\n",
       "      <td>0.058309</td>\n",
       "      <td>-0.010018</td>\n",
       "      <td>0.041689</td>\n",
       "      <td>-0.041574</td>\n",
       "      <td>0.197929</td>\n",
       "      <td>-0.468855</td>\n",
       "      <td>0.468855</td>\n",
       "    </tr>\n",
       "    <tr>\n",
       "      <th>1</th>\n",
       "      <td>-0.941124</td>\n",
       "      <td>1.017241</td>\n",
       "      <td>-0.763375</td>\n",
       "      <td>-0.539104</td>\n",
       "      <td>-0.244226</td>\n",
       "      <td>-0.643227</td>\n",
       "      <td>-0.153497</td>\n",
       "      <td>-0.115772</td>\n",
       "      <td>-0.151432</td>\n",
       "      <td>0.267832</td>\n",
       "      <td>...</td>\n",
       "      <td>0.0</td>\n",
       "      <td>0.0</td>\n",
       "      <td>-0.063330</td>\n",
       "      <td>-0.205349</td>\n",
       "      <td>0.047262</td>\n",
       "      <td>0.013677</td>\n",
       "      <td>-0.000224</td>\n",
       "      <td>-0.255400</td>\n",
       "      <td>0.776407</td>\n",
       "      <td>-0.776407</td>\n",
       "    </tr>\n",
       "    <tr>\n",
       "      <th>2</th>\n",
       "      <td>0.461459</td>\n",
       "      <td>-0.763375</td>\n",
       "      <td>1.017241</td>\n",
       "      <td>0.560861</td>\n",
       "      <td>0.084129</td>\n",
       "      <td>0.582920</td>\n",
       "      <td>0.054462</td>\n",
       "      <td>0.034536</td>\n",
       "      <td>0.004586</td>\n",
       "      <td>-0.410978</td>\n",
       "      <td>...</td>\n",
       "      <td>0.0</td>\n",
       "      <td>0.0</td>\n",
       "      <td>-0.043406</td>\n",
       "      <td>0.327680</td>\n",
       "      <td>-0.097495</td>\n",
       "      <td>-0.107339</td>\n",
       "      <td>0.071144</td>\n",
       "      <td>0.268452</td>\n",
       "      <td>-0.999360</td>\n",
       "      <td>0.999360</td>\n",
       "    </tr>\n",
       "    <tr>\n",
       "      <th>3</th>\n",
       "      <td>0.323734</td>\n",
       "      <td>-0.539104</td>\n",
       "      <td>0.560861</td>\n",
       "      <td>1.017241</td>\n",
       "      <td>0.015831</td>\n",
       "      <td>0.381840</td>\n",
       "      <td>0.190831</td>\n",
       "      <td>0.058364</td>\n",
       "      <td>0.078622</td>\n",
       "      <td>-0.231428</td>\n",
       "      <td>...</td>\n",
       "      <td>0.0</td>\n",
       "      <td>0.0</td>\n",
       "      <td>-0.019864</td>\n",
       "      <td>0.444184</td>\n",
       "      <td>-0.043356</td>\n",
       "      <td>-0.047989</td>\n",
       "      <td>0.045490</td>\n",
       "      <td>0.132376</td>\n",
       "      <td>-0.709425</td>\n",
       "      <td>0.709425</td>\n",
       "    </tr>\n",
       "    <tr>\n",
       "      <th>4</th>\n",
       "      <td>0.290917</td>\n",
       "      <td>-0.244226</td>\n",
       "      <td>0.084129</td>\n",
       "      <td>0.015831</td>\n",
       "      <td>1.017241</td>\n",
       "      <td>0.271431</td>\n",
       "      <td>-0.022423</td>\n",
       "      <td>-0.001217</td>\n",
       "      <td>0.235121</td>\n",
       "      <td>-0.073753</td>\n",
       "      <td>...</td>\n",
       "      <td>0.0</td>\n",
       "      <td>0.0</td>\n",
       "      <td>0.022841</td>\n",
       "      <td>-0.003162</td>\n",
       "      <td>-0.092163</td>\n",
       "      <td>-0.072431</td>\n",
       "      <td>-0.092163</td>\n",
       "      <td>-0.027000</td>\n",
       "      <td>-0.075813</td>\n",
       "      <td>0.075813</td>\n",
       "    </tr>\n",
       "  </tbody>\n",
       "</table>\n",
       "<p>5 rows × 262 columns</p>\n",
       "</div>"
      ],
      "text/plain": [
       "        0         1         2         3         4         5         6    \\\n",
       "0  1.017241 -0.941124  0.461459  0.323734  0.290917  0.539138  0.158266   \n",
       "1 -0.941124  1.017241 -0.763375 -0.539104 -0.244226 -0.643227 -0.153497   \n",
       "2  0.461459 -0.763375  1.017241  0.560861  0.084129  0.582920  0.054462   \n",
       "3  0.323734 -0.539104  0.560861  1.017241  0.015831  0.381840  0.190831   \n",
       "4  0.290917 -0.244226  0.084129  0.015831  1.017241  0.271431 -0.022423   \n",
       "\n",
       "        7         8         9    ...  252  253       254       255       256  \\\n",
       "0  0.133916  0.195348 -0.130061  ...  0.0  0.0  0.111502  0.058309 -0.010018   \n",
       "1 -0.115772 -0.151432  0.267832  ...  0.0  0.0 -0.063330 -0.205349  0.047262   \n",
       "2  0.034536  0.004586 -0.410978  ...  0.0  0.0 -0.043406  0.327680 -0.097495   \n",
       "3  0.058364  0.078622 -0.231428  ...  0.0  0.0 -0.019864  0.444184 -0.043356   \n",
       "4 -0.001217  0.235121 -0.073753  ...  0.0  0.0  0.022841 -0.003162 -0.092163   \n",
       "\n",
       "        257       258       259       260       261  \n",
       "0  0.041689 -0.041574  0.197929 -0.468855  0.468855  \n",
       "1  0.013677 -0.000224 -0.255400  0.776407 -0.776407  \n",
       "2 -0.107339  0.071144  0.268452 -0.999360  0.999360  \n",
       "3 -0.047989  0.045490  0.132376 -0.709425  0.709425  \n",
       "4 -0.072431 -0.092163 -0.027000 -0.075813  0.075813  \n",
       "\n",
       "[5 rows x 262 columns]"
      ]
     },
     "execution_count": 65,
     "metadata": {},
     "output_type": "execute_result"
    }
   ],
   "source": [
    "# creation of a a covariance DataFrame\n",
    "pd.DataFrame(pca.get_covariance()).head()"
   ]
  },
  {
   "cell_type": "markdown",
   "metadata": {},
   "source": [
    "Eigenvalues denote the relative importance of the associated principal component.\n",
    "\n",
    "The explained variance for each principal component is \n",
    "$$\\frac{\\lambda_i}{\\lambda_{total}}$$\n"
   ]
  },
  {
   "cell_type": "code",
   "execution_count": 66,
   "metadata": {},
   "outputs": [
    {
     "data": {
      "text/html": [
       "<div>\n",
       "<style scoped>\n",
       "    .dataframe tbody tr th:only-of-type {\n",
       "        vertical-align: middle;\n",
       "    }\n",
       "\n",
       "    .dataframe tbody tr th {\n",
       "        vertical-align: top;\n",
       "    }\n",
       "\n",
       "    .dataframe thead th {\n",
       "        text-align: right;\n",
       "    }\n",
       "</style>\n",
       "<table border=\"1\" class=\"dataframe\">\n",
       "  <thead>\n",
       "    <tr style=\"text-align: right;\">\n",
       "      <th></th>\n",
       "      <th>explained_variance</th>\n",
       "      <th>cumulative_exp_var</th>\n",
       "    </tr>\n",
       "  </thead>\n",
       "  <tbody>\n",
       "    <tr>\n",
       "      <th>PC1</th>\n",
       "      <td>8.731849e-02</td>\n",
       "      <td>0.087318</td>\n",
       "    </tr>\n",
       "    <tr>\n",
       "      <th>PC2</th>\n",
       "      <td>4.790338e-02</td>\n",
       "      <td>0.135222</td>\n",
       "    </tr>\n",
       "    <tr>\n",
       "      <th>PC3</th>\n",
       "      <td>4.196650e-02</td>\n",
       "      <td>0.177188</td>\n",
       "    </tr>\n",
       "    <tr>\n",
       "      <th>PC4</th>\n",
       "      <td>3.744019e-02</td>\n",
       "      <td>0.214629</td>\n",
       "    </tr>\n",
       "    <tr>\n",
       "      <th>PC5</th>\n",
       "      <td>3.583405e-02</td>\n",
       "      <td>0.250463</td>\n",
       "    </tr>\n",
       "    <tr>\n",
       "      <th>PC6</th>\n",
       "      <td>3.281800e-02</td>\n",
       "      <td>0.283281</td>\n",
       "    </tr>\n",
       "    <tr>\n",
       "      <th>PC7</th>\n",
       "      <td>2.946870e-02</td>\n",
       "      <td>0.312749</td>\n",
       "    </tr>\n",
       "    <tr>\n",
       "      <th>PC8</th>\n",
       "      <td>2.843065e-02</td>\n",
       "      <td>0.341180</td>\n",
       "    </tr>\n",
       "    <tr>\n",
       "      <th>PC9</th>\n",
       "      <td>2.717564e-02</td>\n",
       "      <td>0.368356</td>\n",
       "    </tr>\n",
       "    <tr>\n",
       "      <th>PC10</th>\n",
       "      <td>2.657025e-02</td>\n",
       "      <td>0.394926</td>\n",
       "    </tr>\n",
       "    <tr>\n",
       "      <th>PC11</th>\n",
       "      <td>2.599611e-02</td>\n",
       "      <td>0.420922</td>\n",
       "    </tr>\n",
       "    <tr>\n",
       "      <th>PC12</th>\n",
       "      <td>2.504496e-02</td>\n",
       "      <td>0.445967</td>\n",
       "    </tr>\n",
       "    <tr>\n",
       "      <th>PC13</th>\n",
       "      <td>2.398116e-02</td>\n",
       "      <td>0.469948</td>\n",
       "    </tr>\n",
       "    <tr>\n",
       "      <th>PC14</th>\n",
       "      <td>2.358775e-02</td>\n",
       "      <td>0.493536</td>\n",
       "    </tr>\n",
       "    <tr>\n",
       "      <th>PC15</th>\n",
       "      <td>2.295796e-02</td>\n",
       "      <td>0.516494</td>\n",
       "    </tr>\n",
       "    <tr>\n",
       "      <th>PC16</th>\n",
       "      <td>2.167615e-02</td>\n",
       "      <td>0.538170</td>\n",
       "    </tr>\n",
       "    <tr>\n",
       "      <th>PC17</th>\n",
       "      <td>2.107682e-02</td>\n",
       "      <td>0.559247</td>\n",
       "    </tr>\n",
       "    <tr>\n",
       "      <th>PC18</th>\n",
       "      <td>2.043235e-02</td>\n",
       "      <td>0.579679</td>\n",
       "    </tr>\n",
       "    <tr>\n",
       "      <th>PC19</th>\n",
       "      <td>1.946152e-02</td>\n",
       "      <td>0.599141</td>\n",
       "    </tr>\n",
       "    <tr>\n",
       "      <th>PC20</th>\n",
       "      <td>1.875326e-02</td>\n",
       "      <td>0.617894</td>\n",
       "    </tr>\n",
       "    <tr>\n",
       "      <th>PC21</th>\n",
       "      <td>1.809798e-02</td>\n",
       "      <td>0.635992</td>\n",
       "    </tr>\n",
       "    <tr>\n",
       "      <th>PC22</th>\n",
       "      <td>1.786929e-02</td>\n",
       "      <td>0.653861</td>\n",
       "    </tr>\n",
       "    <tr>\n",
       "      <th>PC23</th>\n",
       "      <td>1.724107e-02</td>\n",
       "      <td>0.671102</td>\n",
       "    </tr>\n",
       "    <tr>\n",
       "      <th>PC24</th>\n",
       "      <td>1.688624e-02</td>\n",
       "      <td>0.687988</td>\n",
       "    </tr>\n",
       "    <tr>\n",
       "      <th>PC25</th>\n",
       "      <td>1.671060e-02</td>\n",
       "      <td>0.704699</td>\n",
       "    </tr>\n",
       "    <tr>\n",
       "      <th>PC26</th>\n",
       "      <td>1.589478e-02</td>\n",
       "      <td>0.720594</td>\n",
       "    </tr>\n",
       "    <tr>\n",
       "      <th>PC27</th>\n",
       "      <td>1.549057e-02</td>\n",
       "      <td>0.736084</td>\n",
       "    </tr>\n",
       "    <tr>\n",
       "      <th>PC28</th>\n",
       "      <td>1.415877e-02</td>\n",
       "      <td>0.750243</td>\n",
       "    </tr>\n",
       "    <tr>\n",
       "      <th>PC29</th>\n",
       "      <td>1.393511e-02</td>\n",
       "      <td>0.764178</td>\n",
       "    </tr>\n",
       "    <tr>\n",
       "      <th>PC30</th>\n",
       "      <td>1.358044e-02</td>\n",
       "      <td>0.777759</td>\n",
       "    </tr>\n",
       "    <tr>\n",
       "      <th>PC31</th>\n",
       "      <td>1.319867e-02</td>\n",
       "      <td>0.790957</td>\n",
       "    </tr>\n",
       "    <tr>\n",
       "      <th>PC32</th>\n",
       "      <td>1.278317e-02</td>\n",
       "      <td>0.803741</td>\n",
       "    </tr>\n",
       "    <tr>\n",
       "      <th>PC33</th>\n",
       "      <td>1.236495e-02</td>\n",
       "      <td>0.816106</td>\n",
       "    </tr>\n",
       "    <tr>\n",
       "      <th>PC34</th>\n",
       "      <td>1.180811e-02</td>\n",
       "      <td>0.827914</td>\n",
       "    </tr>\n",
       "    <tr>\n",
       "      <th>PC35</th>\n",
       "      <td>1.091167e-02</td>\n",
       "      <td>0.838825</td>\n",
       "    </tr>\n",
       "    <tr>\n",
       "      <th>PC36</th>\n",
       "      <td>1.079222e-02</td>\n",
       "      <td>0.849618</td>\n",
       "    </tr>\n",
       "    <tr>\n",
       "      <th>PC37</th>\n",
       "      <td>1.064784e-02</td>\n",
       "      <td>0.860265</td>\n",
       "    </tr>\n",
       "    <tr>\n",
       "      <th>PC38</th>\n",
       "      <td>1.053063e-02</td>\n",
       "      <td>0.870796</td>\n",
       "    </tr>\n",
       "    <tr>\n",
       "      <th>PC39</th>\n",
       "      <td>9.741274e-03</td>\n",
       "      <td>0.880537</td>\n",
       "    </tr>\n",
       "    <tr>\n",
       "      <th>PC40</th>\n",
       "      <td>9.428077e-03</td>\n",
       "      <td>0.889965</td>\n",
       "    </tr>\n",
       "    <tr>\n",
       "      <th>PC41</th>\n",
       "      <td>9.200937e-03</td>\n",
       "      <td>0.899166</td>\n",
       "    </tr>\n",
       "    <tr>\n",
       "      <th>PC42</th>\n",
       "      <td>8.907890e-03</td>\n",
       "      <td>0.908074</td>\n",
       "    </tr>\n",
       "    <tr>\n",
       "      <th>PC43</th>\n",
       "      <td>8.565412e-03</td>\n",
       "      <td>0.916640</td>\n",
       "    </tr>\n",
       "    <tr>\n",
       "      <th>PC44</th>\n",
       "      <td>8.194085e-03</td>\n",
       "      <td>0.924834</td>\n",
       "    </tr>\n",
       "    <tr>\n",
       "      <th>PC45</th>\n",
       "      <td>7.599005e-03</td>\n",
       "      <td>0.932433</td>\n",
       "    </tr>\n",
       "    <tr>\n",
       "      <th>PC46</th>\n",
       "      <td>7.367573e-03</td>\n",
       "      <td>0.939800</td>\n",
       "    </tr>\n",
       "    <tr>\n",
       "      <th>PC47</th>\n",
       "      <td>6.968262e-03</td>\n",
       "      <td>0.946769</td>\n",
       "    </tr>\n",
       "    <tr>\n",
       "      <th>PC48</th>\n",
       "      <td>6.531801e-03</td>\n",
       "      <td>0.953300</td>\n",
       "    </tr>\n",
       "    <tr>\n",
       "      <th>PC49</th>\n",
       "      <td>6.326247e-03</td>\n",
       "      <td>0.959627</td>\n",
       "    </tr>\n",
       "    <tr>\n",
       "      <th>PC50</th>\n",
       "      <td>6.000023e-03</td>\n",
       "      <td>0.965627</td>\n",
       "    </tr>\n",
       "    <tr>\n",
       "      <th>PC51</th>\n",
       "      <td>5.838769e-03</td>\n",
       "      <td>0.971465</td>\n",
       "    </tr>\n",
       "    <tr>\n",
       "      <th>PC52</th>\n",
       "      <td>5.363062e-03</td>\n",
       "      <td>0.976828</td>\n",
       "    </tr>\n",
       "    <tr>\n",
       "      <th>PC53</th>\n",
       "      <td>5.116459e-03</td>\n",
       "      <td>0.981945</td>\n",
       "    </tr>\n",
       "    <tr>\n",
       "      <th>PC54</th>\n",
       "      <td>4.851097e-03</td>\n",
       "      <td>0.986796</td>\n",
       "    </tr>\n",
       "    <tr>\n",
       "      <th>PC55</th>\n",
       "      <td>4.454990e-03</td>\n",
       "      <td>0.991251</td>\n",
       "    </tr>\n",
       "    <tr>\n",
       "      <th>PC56</th>\n",
       "      <td>3.391044e-03</td>\n",
       "      <td>0.994642</td>\n",
       "    </tr>\n",
       "    <tr>\n",
       "      <th>PC57</th>\n",
       "      <td>2.761994e-03</td>\n",
       "      <td>0.997404</td>\n",
       "    </tr>\n",
       "    <tr>\n",
       "      <th>PC58</th>\n",
       "      <td>2.595986e-03</td>\n",
       "      <td>1.000000</td>\n",
       "    </tr>\n",
       "    <tr>\n",
       "      <th>PC59</th>\n",
       "      <td>1.722054e-32</td>\n",
       "      <td>1.000000</td>\n",
       "    </tr>\n",
       "  </tbody>\n",
       "</table>\n",
       "</div>"
      ],
      "text/plain": [
       "      explained_variance  cumulative_exp_var\n",
       "PC1         8.731849e-02            0.087318\n",
       "PC2         4.790338e-02            0.135222\n",
       "PC3         4.196650e-02            0.177188\n",
       "PC4         3.744019e-02            0.214629\n",
       "PC5         3.583405e-02            0.250463\n",
       "PC6         3.281800e-02            0.283281\n",
       "PC7         2.946870e-02            0.312749\n",
       "PC8         2.843065e-02            0.341180\n",
       "PC9         2.717564e-02            0.368356\n",
       "PC10        2.657025e-02            0.394926\n",
       "PC11        2.599611e-02            0.420922\n",
       "PC12        2.504496e-02            0.445967\n",
       "PC13        2.398116e-02            0.469948\n",
       "PC14        2.358775e-02            0.493536\n",
       "PC15        2.295796e-02            0.516494\n",
       "PC16        2.167615e-02            0.538170\n",
       "PC17        2.107682e-02            0.559247\n",
       "PC18        2.043235e-02            0.579679\n",
       "PC19        1.946152e-02            0.599141\n",
       "PC20        1.875326e-02            0.617894\n",
       "PC21        1.809798e-02            0.635992\n",
       "PC22        1.786929e-02            0.653861\n",
       "PC23        1.724107e-02            0.671102\n",
       "PC24        1.688624e-02            0.687988\n",
       "PC25        1.671060e-02            0.704699\n",
       "PC26        1.589478e-02            0.720594\n",
       "PC27        1.549057e-02            0.736084\n",
       "PC28        1.415877e-02            0.750243\n",
       "PC29        1.393511e-02            0.764178\n",
       "PC30        1.358044e-02            0.777759\n",
       "PC31        1.319867e-02            0.790957\n",
       "PC32        1.278317e-02            0.803741\n",
       "PC33        1.236495e-02            0.816106\n",
       "PC34        1.180811e-02            0.827914\n",
       "PC35        1.091167e-02            0.838825\n",
       "PC36        1.079222e-02            0.849618\n",
       "PC37        1.064784e-02            0.860265\n",
       "PC38        1.053063e-02            0.870796\n",
       "PC39        9.741274e-03            0.880537\n",
       "PC40        9.428077e-03            0.889965\n",
       "PC41        9.200937e-03            0.899166\n",
       "PC42        8.907890e-03            0.908074\n",
       "PC43        8.565412e-03            0.916640\n",
       "PC44        8.194085e-03            0.924834\n",
       "PC45        7.599005e-03            0.932433\n",
       "PC46        7.367573e-03            0.939800\n",
       "PC47        6.968262e-03            0.946769\n",
       "PC48        6.531801e-03            0.953300\n",
       "PC49        6.326247e-03            0.959627\n",
       "PC50        6.000023e-03            0.965627\n",
       "PC51        5.838769e-03            0.971465\n",
       "PC52        5.363062e-03            0.976828\n",
       "PC53        5.116459e-03            0.981945\n",
       "PC54        4.851097e-03            0.986796\n",
       "PC55        4.454990e-03            0.991251\n",
       "PC56        3.391044e-03            0.994642\n",
       "PC57        2.761994e-03            0.997404\n",
       "PC58        2.595986e-03            1.000000\n",
       "PC59        1.722054e-32            1.000000"
      ]
     },
     "execution_count": 66,
     "metadata": {},
     "output_type": "execute_result"
    }
   ],
   "source": [
    "# isolating the eigenvalues (proportion of explained variance for associated principal component)\n",
    "var_exp = pca.explained_variance_ratio_\n",
    "\n",
    "# determining the cumulative eigenvalues & summarizing in a dataframe\n",
    "cum_var_exp = np.cumsum(var_exp)\n",
    "pd.DataFrame({\"explained_variance\": var_exp, \"cumulative_exp_var\": cum_var_exp}, index = [f\"PC{i+1}\" for i in range(len(var_exp))])"
   ]
  },
  {
   "cell_type": "markdown",
   "metadata": {},
   "source": [
    "The above dataframe indicates that we can explain 100% of the variance of our dataset with 59 principal components, which is a clear improvement over the original 260. We've effectively reduced the required features by 77%. "
   ]
  },
  {
   "cell_type": "markdown",
   "metadata": {},
   "source": [
    "Next,  make use of a Scree plot to visualize the proportion of total variance explained by each Principal Component"
   ]
  },
  {
   "cell_type": "code",
   "execution_count": 67,
   "metadata": {},
   "outputs": [
    {
     "data": {
      "image/png": "[encoded data removed]",
      "text/plain": [
       "<Figure size 1296x360 with 1 Axes>"
      ]
     },
     "metadata": {
      "needs_background": "light"
     },
     "output_type": "display_data"
    }
   ],
   "source": [
    "# Scree plot\n",
    "plt.figure(figsize=(18,5))\n",
    "plt.title(\"Scree plot\")\n",
    "plt.xlabel(\"Principal Component\")\n",
    "plt.ylabel(\"Proportion of Variance\")\n",
    "x_tick_range = range(1,len(var_exp) + 1)\n",
    "plt.plot(x_tick_range,var_exp)\n",
    "plt.plot(x_tick_range,cum_var_exp)\n",
    "plt.xticks(x_tick_range);"
   ]
  },
  {
   "cell_type": "markdown",
   "metadata": {},
   "source": [
    "The above Scree plot helps us visualize the impact of each individual Principal Component. We see that it takes many components to give a complete explanation of the variance. However, it clearly takes fewer components than the number of features in our full dataset."
   ]
  },
  {
   "cell_type": "markdown",
   "metadata": {},
   "source": [
    "---\n",
    "\n",
    "## Model with Principal Components (keeping 99% of original variance)"
   ]
  },
  {
   "cell_type": "markdown",
   "metadata": {},
   "source": [
    "Below, we establish a Principal Component Analysis model that explains 99% of the original variance"
   ]
  },
  {
   "cell_type": "code",
   "execution_count": 68,
   "metadata": {},
   "outputs": [],
   "source": [
    "# Instantiate PCA\n",
    "pca_99 = PCA(n_components = 56, random_state = RANDOM_STATE)\n",
    "\n",
    "Z_train_99 = pca_99.fit_transform(X_train_ss)\n",
    "Z_test_99  = pca_99.transform(X_test_ss)"
   ]
  },
  {
   "cell_type": "code",
   "execution_count": 69,
   "metadata": {},
   "outputs": [
    {
     "data": {
      "text/plain": [
       "0.65"
      ]
     },
     "execution_count": 69,
     "metadata": {},
     "output_type": "execute_result"
    }
   ],
   "source": [
    "lr_pca_99 = LogisticRegression(random_state=RANDOM_STATE)\n",
    "lr_pca_99.fit(Z_train_99, y_train)\n",
    "lr_pca_99.score(Z_test_99, y_test)"
   ]
  },
  {
   "cell_type": "markdown",
   "metadata": {},
   "source": [
    "We obtain an Accuracy score of 0.65. Note that this is a different scoring metric than we had used in our comprehensive model selection process above. "
   ]
  },
  {
   "cell_type": "code",
   "execution_count": 70,
   "metadata": {},
   "outputs": [
    {
     "data": {
      "text/plain": [
       "56"
      ]
     },
     "execution_count": 70,
     "metadata": {},
     "output_type": "execute_result"
    }
   ],
   "source": [
    "# A check: How many components are we using?\n",
    "len(pca_99.components_)"
   ]
  },
  {
   "cell_type": "markdown",
   "metadata": {},
   "source": [
    "We obtain an accuracy score of 0.65 using a quarter of the number of features of our original model  (note that this is scoring accuracy, vs ROC AUC, as we had used above)\n",
    "\n",
    "We would not necessarily consider this to be a great score, but it will be worthwhile to investigate the key principal components."
   ]
  },
  {
   "cell_type": "code",
   "execution_count": 71,
   "metadata": {},
   "outputs": [
    {
     "data": {
      "text/html": [
       "<div>\n",
       "<style scoped>\n",
       "    .dataframe tbody tr th:only-of-type {\n",
       "        vertical-align: middle;\n",
       "    }\n",
       "\n",
       "    .dataframe tbody tr th {\n",
       "        vertical-align: top;\n",
       "    }\n",
       "\n",
       "    .dataframe thead th {\n",
       "        text-align: right;\n",
       "    }\n",
       "</style>\n",
       "<table border=\"1\" class=\"dataframe\">\n",
       "  <thead>\n",
       "    <tr style=\"text-align: right;\">\n",
       "      <th></th>\n",
       "      <th>PC1</th>\n",
       "      <th>PC2</th>\n",
       "      <th>PC3</th>\n",
       "      <th>PC4</th>\n",
       "      <th>PC5</th>\n",
       "      <th>PC6</th>\n",
       "      <th>PC7</th>\n",
       "      <th>PC8</th>\n",
       "      <th>PC9</th>\n",
       "      <th>PC10</th>\n",
       "      <th>...</th>\n",
       "      <th>PC47</th>\n",
       "      <th>PC48</th>\n",
       "      <th>PC49</th>\n",
       "      <th>PC50</th>\n",
       "      <th>PC51</th>\n",
       "      <th>PC52</th>\n",
       "      <th>PC53</th>\n",
       "      <th>PC54</th>\n",
       "      <th>PC55</th>\n",
       "      <th>PC56</th>\n",
       "    </tr>\n",
       "  </thead>\n",
       "  <tbody>\n",
       "    <tr>\n",
       "      <th>2_fraction</th>\n",
       "      <td>0.730013</td>\n",
       "      <td>0.088612</td>\n",
       "      <td>-0.088008</td>\n",
       "      <td>0.239159</td>\n",
       "      <td>-0.132127</td>\n",
       "      <td>-0.249274</td>\n",
       "      <td>0.135426</td>\n",
       "      <td>-0.077293</td>\n",
       "      <td>0.044197</td>\n",
       "      <td>-0.028522</td>\n",
       "      <td>...</td>\n",
       "      <td>-0.047043</td>\n",
       "      <td>-0.015553</td>\n",
       "      <td>-0.073404</td>\n",
       "      <td>-0.021369</td>\n",
       "      <td>-0.109826</td>\n",
       "      <td>-0.057965</td>\n",
       "      <td>0.027324</td>\n",
       "      <td>0.034590</td>\n",
       "      <td>-0.024361</td>\n",
       "      <td>0.020083</td>\n",
       "    </tr>\n",
       "    <tr>\n",
       "      <th>1_fraction</th>\n",
       "      <td>-0.836276</td>\n",
       "      <td>-0.139445</td>\n",
       "      <td>0.278098</td>\n",
       "      <td>-0.105704</td>\n",
       "      <td>0.087989</td>\n",
       "      <td>0.161602</td>\n",
       "      <td>-0.086062</td>\n",
       "      <td>0.075990</td>\n",
       "      <td>-0.037880</td>\n",
       "      <td>0.017870</td>\n",
       "      <td>...</td>\n",
       "      <td>0.025354</td>\n",
       "      <td>-0.005314</td>\n",
       "      <td>0.056863</td>\n",
       "      <td>0.007279</td>\n",
       "      <td>0.094059</td>\n",
       "      <td>0.035625</td>\n",
       "      <td>-0.023307</td>\n",
       "      <td>-0.018996</td>\n",
       "      <td>0.023143</td>\n",
       "      <td>-0.032757</td>\n",
       "    </tr>\n",
       "    <tr>\n",
       "      <th>3_fraction</th>\n",
       "      <td>0.643017</td>\n",
       "      <td>0.194220</td>\n",
       "      <td>-0.507609</td>\n",
       "      <td>-0.105711</td>\n",
       "      <td>0.076087</td>\n",
       "      <td>-0.017745</td>\n",
       "      <td>0.015344</td>\n",
       "      <td>-0.090691</td>\n",
       "      <td>0.037972</td>\n",
       "      <td>-0.009777</td>\n",
       "      <td>...</td>\n",
       "      <td>0.007286</td>\n",
       "      <td>0.039961</td>\n",
       "      <td>-0.008475</td>\n",
       "      <td>0.022791</td>\n",
       "      <td>-0.036171</td>\n",
       "      <td>0.010319</td>\n",
       "      <td>0.000241</td>\n",
       "      <td>0.001260</td>\n",
       "      <td>-0.012479</td>\n",
       "      <td>0.040384</td>\n",
       "    </tr>\n",
       "    <tr>\n",
       "      <th>4_fraction</th>\n",
       "      <td>0.716263</td>\n",
       "      <td>0.037350</td>\n",
       "      <td>-0.287656</td>\n",
       "      <td>-0.309064</td>\n",
       "      <td>-0.206366</td>\n",
       "      <td>0.275884</td>\n",
       "      <td>-0.189887</td>\n",
       "      <td>0.142141</td>\n",
       "      <td>-0.086199</td>\n",
       "      <td>0.067796</td>\n",
       "      <td>...</td>\n",
       "      <td>0.064992</td>\n",
       "      <td>0.020434</td>\n",
       "      <td>-0.003210</td>\n",
       "      <td>-0.000989</td>\n",
       "      <td>-0.008469</td>\n",
       "      <td>0.029100</td>\n",
       "      <td>0.034747</td>\n",
       "      <td>-0.069498</td>\n",
       "      <td>-0.008594</td>\n",
       "      <td>0.034464</td>\n",
       "    </tr>\n",
       "    <tr>\n",
       "      <th>vietnamese_fraction</th>\n",
       "      <td>0.310308</td>\n",
       "      <td>0.443646</td>\n",
       "      <td>0.325221</td>\n",
       "      <td>0.050782</td>\n",
       "      <td>0.041169</td>\n",
       "      <td>-0.264319</td>\n",
       "      <td>0.115831</td>\n",
       "      <td>-0.071773</td>\n",
       "      <td>-0.086367</td>\n",
       "      <td>-0.188964</td>\n",
       "      <td>...</td>\n",
       "      <td>-0.070716</td>\n",
       "      <td>0.102349</td>\n",
       "      <td>0.017859</td>\n",
       "      <td>0.087877</td>\n",
       "      <td>0.011726</td>\n",
       "      <td>0.088695</td>\n",
       "      <td>-0.071638</td>\n",
       "      <td>-0.086868</td>\n",
       "      <td>0.056209</td>\n",
       "      <td>-0.048447</td>\n",
       "    </tr>\n",
       "    <tr>\n",
       "      <th>...</th>\n",
       "      <td>...</td>\n",
       "      <td>...</td>\n",
       "      <td>...</td>\n",
       "      <td>...</td>\n",
       "      <td>...</td>\n",
       "      <td>...</td>\n",
       "      <td>...</td>\n",
       "      <td>...</td>\n",
       "      <td>...</td>\n",
       "      <td>...</td>\n",
       "      <td>...</td>\n",
       "      <td>...</td>\n",
       "      <td>...</td>\n",
       "      <td>...</td>\n",
       "      <td>...</td>\n",
       "      <td>...</td>\n",
       "      <td>...</td>\n",
       "      <td>...</td>\n",
       "      <td>...</td>\n",
       "      <td>...</td>\n",
       "      <td>...</td>\n",
       "    </tr>\n",
       "    <tr>\n",
       "      <th>burmese_fraction</th>\n",
       "      <td>0.004512</td>\n",
       "      <td>-0.044873</td>\n",
       "      <td>0.179635</td>\n",
       "      <td>0.655721</td>\n",
       "      <td>-0.324918</td>\n",
       "      <td>0.332491</td>\n",
       "      <td>-0.008732</td>\n",
       "      <td>-0.003628</td>\n",
       "      <td>-0.027175</td>\n",
       "      <td>0.016993</td>\n",
       "      <td>...</td>\n",
       "      <td>-0.033215</td>\n",
       "      <td>-0.012239</td>\n",
       "      <td>-0.012364</td>\n",
       "      <td>0.031256</td>\n",
       "      <td>0.040079</td>\n",
       "      <td>-0.033861</td>\n",
       "      <td>0.005864</td>\n",
       "      <td>0.005407</td>\n",
       "      <td>-0.009446</td>\n",
       "      <td>0.022349</td>\n",
       "    </tr>\n",
       "    <tr>\n",
       "      <th>sicilian_fraction</th>\n",
       "      <td>-0.050641</td>\n",
       "      <td>0.143660</td>\n",
       "      <td>-0.211337</td>\n",
       "      <td>0.044259</td>\n",
       "      <td>0.084732</td>\n",
       "      <td>-0.213367</td>\n",
       "      <td>-0.192304</td>\n",
       "      <td>0.045444</td>\n",
       "      <td>-0.380925</td>\n",
       "      <td>0.086512</td>\n",
       "      <td>...</td>\n",
       "      <td>0.072360</td>\n",
       "      <td>-0.013460</td>\n",
       "      <td>0.025436</td>\n",
       "      <td>-0.051448</td>\n",
       "      <td>0.043515</td>\n",
       "      <td>0.094123</td>\n",
       "      <td>0.028834</td>\n",
       "      <td>0.079406</td>\n",
       "      <td>-0.002080</td>\n",
       "      <td>0.051672</td>\n",
       "    </tr>\n",
       "    <tr>\n",
       "      <th>farmersmarket_fraction</th>\n",
       "      <td>0.461270</td>\n",
       "      <td>-0.273601</td>\n",
       "      <td>0.108602</td>\n",
       "      <td>0.080409</td>\n",
       "      <td>0.629922</td>\n",
       "      <td>-0.102126</td>\n",
       "      <td>-0.134408</td>\n",
       "      <td>-0.003424</td>\n",
       "      <td>0.313405</td>\n",
       "      <td>-0.095444</td>\n",
       "      <td>...</td>\n",
       "      <td>-0.003543</td>\n",
       "      <td>-0.032328</td>\n",
       "      <td>0.009209</td>\n",
       "      <td>-0.013477</td>\n",
       "      <td>-0.012589</td>\n",
       "      <td>0.000572</td>\n",
       "      <td>0.005613</td>\n",
       "      <td>0.008873</td>\n",
       "      <td>-0.021308</td>\n",
       "      <td>-0.020770</td>\n",
       "    </tr>\n",
       "    <tr>\n",
       "      <th>1_2_fraction</th>\n",
       "      <td>-0.712654</td>\n",
       "      <td>-0.175203</td>\n",
       "      <td>0.500427</td>\n",
       "      <td>0.159967</td>\n",
       "      <td>-0.019187</td>\n",
       "      <td>-0.046487</td>\n",
       "      <td>0.029308</td>\n",
       "      <td>0.046103</td>\n",
       "      <td>-0.013332</td>\n",
       "      <td>-0.006771</td>\n",
       "      <td>...</td>\n",
       "      <td>-0.020801</td>\n",
       "      <td>-0.038901</td>\n",
       "      <td>0.007999</td>\n",
       "      <td>-0.019357</td>\n",
       "      <td>0.032968</td>\n",
       "      <td>-0.015376</td>\n",
       "      <td>-0.007982</td>\n",
       "      <td>0.014469</td>\n",
       "      <td>0.012643</td>\n",
       "      <td>-0.042404</td>\n",
       "    </tr>\n",
       "    <tr>\n",
       "      <th>3_4_fraction</th>\n",
       "      <td>0.712654</td>\n",
       "      <td>0.175203</td>\n",
       "      <td>-0.500427</td>\n",
       "      <td>-0.159967</td>\n",
       "      <td>0.019187</td>\n",
       "      <td>0.046487</td>\n",
       "      <td>-0.029308</td>\n",
       "      <td>-0.046103</td>\n",
       "      <td>0.013332</td>\n",
       "      <td>0.006771</td>\n",
       "      <td>...</td>\n",
       "      <td>0.020801</td>\n",
       "      <td>0.038901</td>\n",
       "      <td>-0.007999</td>\n",
       "      <td>0.019357</td>\n",
       "      <td>-0.032968</td>\n",
       "      <td>0.015376</td>\n",
       "      <td>0.007982</td>\n",
       "      <td>-0.014469</td>\n",
       "      <td>-0.012643</td>\n",
       "      <td>0.042404</td>\n",
       "    </tr>\n",
       "  </tbody>\n",
       "</table>\n",
       "<p>262 rows × 56 columns</p>\n",
       "</div>"
      ],
      "text/plain": [
       "                             PC1       PC2       PC3       PC4       PC5  \\\n",
       "2_fraction              0.730013  0.088612 -0.088008  0.239159 -0.132127   \n",
       "1_fraction             -0.836276 -0.139445  0.278098 -0.105704  0.087989   \n",
       "3_fraction              0.643017  0.194220 -0.507609 -0.105711  0.076087   \n",
       "4_fraction              0.716263  0.037350 -0.287656 -0.309064 -0.206366   \n",
       "vietnamese_fraction     0.310308  0.443646  0.325221  0.050782  0.041169   \n",
       "...                          ...       ...       ...       ...       ...   \n",
       "burmese_fraction        0.004512 -0.044873  0.179635  0.655721 -0.324918   \n",
       "sicilian_fraction      -0.050641  0.143660 -0.211337  0.044259  0.084732   \n",
       "farmersmarket_fraction  0.461270 -0.273601  0.108602  0.080409  0.629922   \n",
       "1_2_fraction           -0.712654 -0.175203  0.500427  0.159967 -0.019187   \n",
       "3_4_fraction            0.712654  0.175203 -0.500427 -0.159967  0.019187   \n",
       "\n",
       "                             PC6       PC7       PC8       PC9      PC10  ...  \\\n",
       "2_fraction             -0.249274  0.135426 -0.077293  0.044197 -0.028522  ...   \n",
       "1_fraction              0.161602 -0.086062  0.075990 -0.037880  0.017870  ...   \n",
       "3_fraction             -0.017745  0.015344 -0.090691  0.037972 -0.009777  ...   \n",
       "4_fraction              0.275884 -0.189887  0.142141 -0.086199  0.067796  ...   \n",
       "vietnamese_fraction    -0.264319  0.115831 -0.071773 -0.086367 -0.188964  ...   \n",
       "...                          ...       ...       ...       ...       ...  ...   \n",
       "burmese_fraction        0.332491 -0.008732 -0.003628 -0.027175  0.016993  ...   \n",
       "sicilian_fraction      -0.213367 -0.192304  0.045444 -0.380925  0.086512  ...   \n",
       "farmersmarket_fraction -0.102126 -0.134408 -0.003424  0.313405 -0.095444  ...   \n",
       "1_2_fraction           -0.046487  0.029308  0.046103 -0.013332 -0.006771  ...   \n",
       "3_4_fraction            0.046487 -0.029308 -0.046103  0.013332  0.006771  ...   \n",
       "\n",
       "                            PC47      PC48      PC49      PC50      PC51  \\\n",
       "2_fraction             -0.047043 -0.015553 -0.073404 -0.021369 -0.109826   \n",
       "1_fraction              0.025354 -0.005314  0.056863  0.007279  0.094059   \n",
       "3_fraction              0.007286  0.039961 -0.008475  0.022791 -0.036171   \n",
       "4_fraction              0.064992  0.020434 -0.003210 -0.000989 -0.008469   \n",
       "vietnamese_fraction    -0.070716  0.102349  0.017859  0.087877  0.011726   \n",
       "...                          ...       ...       ...       ...       ...   \n",
       "burmese_fraction       -0.033215 -0.012239 -0.012364  0.031256  0.040079   \n",
       "sicilian_fraction       0.072360 -0.013460  0.025436 -0.051448  0.043515   \n",
       "farmersmarket_fraction -0.003543 -0.032328  0.009209 -0.013477 -0.012589   \n",
       "1_2_fraction           -0.020801 -0.038901  0.007999 -0.019357  0.032968   \n",
       "3_4_fraction            0.020801  0.038901 -0.007999  0.019357 -0.032968   \n",
       "\n",
       "                            PC52      PC53      PC54      PC55      PC56  \n",
       "2_fraction             -0.057965  0.027324  0.034590 -0.024361  0.020083  \n",
       "1_fraction              0.035625 -0.023307 -0.018996  0.023143 -0.032757  \n",
       "3_fraction              0.010319  0.000241  0.001260 -0.012479  0.040384  \n",
       "4_fraction              0.029100  0.034747 -0.069498 -0.008594  0.034464  \n",
       "vietnamese_fraction     0.088695 -0.071638 -0.086868  0.056209 -0.048447  \n",
       "...                          ...       ...       ...       ...       ...  \n",
       "burmese_fraction       -0.033861  0.005864  0.005407 -0.009446  0.022349  \n",
       "sicilian_fraction       0.094123  0.028834  0.079406 -0.002080  0.051672  \n",
       "farmersmarket_fraction  0.000572  0.005613  0.008873 -0.021308 -0.020770  \n",
       "1_2_fraction           -0.015376 -0.007982  0.014469  0.012643 -0.042404  \n",
       "3_4_fraction            0.015376  0.007982 -0.014469 -0.012643  0.042404  \n",
       "\n",
       "[262 rows x 56 columns]"
      ]
     },
     "execution_count": 71,
     "metadata": {},
     "output_type": "execute_result"
    }
   ],
   "source": [
    "# Create a dataframe that comtains our individual Principal Components\n",
    "loadings = pca_99.components_.T * np.sqrt(pca_99.explained_variance_)\n",
    "\n",
    "loading_matrix = pd.DataFrame(loadings, columns = [f\"PC{i + 1}\" for i in range(loadings.shape[1])],index=X.columns)\n",
    "loading_matrix"
   ]
  },
  {
   "cell_type": "markdown",
   "metadata": {},
   "source": [
    "### Ranking the Principal Components in order of correlation with our target (affluence)"
   ]
  },
  {
   "cell_type": "code",
   "execution_count": 84,
   "metadata": {},
   "outputs": [
    {
     "data": {
      "image/png": "[encoded data removed]",
      "text/plain": [
       "<Figure size 360x1440 with 2 Axes>"
      ]
     },
     "metadata": {
      "needs_background": "light"
     },
     "output_type": "display_data"
    }
   ],
   "source": [
    "# Create a sorted heatmap based on correlation with our target\n",
    "coefs = pd.DataFrame([np.exp(num) for num in lr_pca_99.coef_[0]], index = [f\"PC{i + 1}\" for i in range(loadings.shape[1])], columns = [\"coefs\"])\n",
    "plt.figure(figsize=(5,20))\n",
    "plt.title(\"odds of affluence ($e^{\\\\beta_i}$)\", fontsize = 16)\n",
    "sns.heatmap(coefs.sort_values(\"coefs\", ascending = False), annot = True, xticklabels=[\"\"]);"
   ]
  },
  {
   "cell_type": "markdown",
   "metadata": {},
   "source": [
    "We see that PC1 and PC48 are most highly positively correlated with our target. \n",
    "\n",
    "- The Logistic Regression model coefficients suggest with a unit increase in PC1, we can expect 2 TIMES AS LIKELY to be affluent.\n",
    "- With a unit increase in PC48, we can expect 1.7 TIMES AS LIKELY to be affluent.\n",
    "\n",
    "We will further interpret these two features below."
   ]
  },
  {
   "cell_type": "markdown",
   "metadata": {},
   "source": [
    "### Interpreting PC1\n",
    "\n",
    "We can investigate which (group of) features are highly correlated (both positively and negatively) with $PC1$. "
   ]
  },
  {
   "cell_type": "code",
   "execution_count": 82,
   "metadata": {},
   "outputs": [
    {
     "data": {
      "text/html": [
       "<div>\n",
       "<style scoped>\n",
       "    .dataframe tbody tr th:only-of-type {\n",
       "        vertical-align: middle;\n",
       "    }\n",
       "\n",
       "    .dataframe tbody tr th {\n",
       "        vertical-align: top;\n",
       "    }\n",
       "\n",
       "    .dataframe thead th {\n",
       "        text-align: right;\n",
       "    }\n",
       "</style>\n",
       "<table border=\"1\" class=\"dataframe\">\n",
       "  <thead>\n",
       "    <tr style=\"text-align: right;\">\n",
       "      <th></th>\n",
       "      <th>PC1</th>\n",
       "    </tr>\n",
       "  </thead>\n",
       "  <tbody>\n",
       "    <tr>\n",
       "      <th>french_fraction</th>\n",
       "      <td>0.793941</td>\n",
       "    </tr>\n",
       "    <tr>\n",
       "      <th>wine_bars_fraction</th>\n",
       "      <td>0.756888</td>\n",
       "    </tr>\n",
       "    <tr>\n",
       "      <th>2_fraction</th>\n",
       "      <td>0.730013</td>\n",
       "    </tr>\n",
       "    <tr>\n",
       "      <th>4_fraction</th>\n",
       "      <td>0.716263</td>\n",
       "    </tr>\n",
       "    <tr>\n",
       "      <th>3_4_fraction</th>\n",
       "      <td>0.712654</td>\n",
       "    </tr>\n",
       "    <tr>\n",
       "      <th>gaybars_fraction</th>\n",
       "      <td>0.684986</td>\n",
       "    </tr>\n",
       "    <tr>\n",
       "      <th>ramen_fraction</th>\n",
       "      <td>0.655467</td>\n",
       "    </tr>\n",
       "    <tr>\n",
       "      <th>newamerican_fraction</th>\n",
       "      <td>0.644714</td>\n",
       "    </tr>\n",
       "    <tr>\n",
       "      <th>3_fraction</th>\n",
       "      <td>0.643017</td>\n",
       "    </tr>\n",
       "    <tr>\n",
       "      <th>chocolate_fraction</th>\n",
       "      <td>0.616830</td>\n",
       "    </tr>\n",
       "  </tbody>\n",
       "</table>\n",
       "</div>"
      ],
      "text/plain": [
       "                           PC1\n",
       "french_fraction       0.793941\n",
       "wine_bars_fraction    0.756888\n",
       "2_fraction            0.730013\n",
       "4_fraction            0.716263\n",
       "3_4_fraction          0.712654\n",
       "gaybars_fraction      0.684986\n",
       "ramen_fraction        0.655467\n",
       "newamerican_fraction  0.644714\n",
       "3_fraction            0.643017\n",
       "chocolate_fraction    0.616830"
      ]
     },
     "execution_count": 82,
     "metadata": {},
     "output_type": "execute_result"
    }
   ],
   "source": [
    "# Let's review the features associated with PC1\n",
    "loading_matrix.sort_values(by=\"PC1\", ascending = False)[[\"PC1\"]].head(10)"
   ]
  },
  {
   "cell_type": "code",
   "execution_count": 83,
   "metadata": {},
   "outputs": [
    {
     "data": {
      "text/plain": [
       "0.08731848873080342"
      ]
     },
     "execution_count": 83,
     "metadata": {},
     "output_type": "execute_result"
    }
   ],
   "source": [
    "# how much does PC1 explain the total variance?\n",
    "pca_99.explained_variance_ratio_[0] # 1st component"
   ]
  },
  {
   "cell_type": "markdown",
   "metadata": {},
   "source": [
    "__PC1 Interpretation - positive predictors of affluence:__ \n",
    "- On its own, PC1 explains 9% of the total variance \n",
    "- It appears the most significant features correlating with the __1st Principal Component are french/wine related as well as related to higher price points.__  These are familiar results! Very similar to the what we had obtained via our non-PCA Logistic Regression model during our model selection process. \n",
    "- Since these features are highly correlated to the Principal Component that contributes the largest to the explained variance, it's _very likely_ (not guaranteed) these features will be important in predicting the target.\n"
   ]
  },
  {
   "cell_type": "code",
   "execution_count": 73,
   "metadata": {},
   "outputs": [
    {
     "data": {
      "text/html": [
       "<div>\n",
       "<style scoped>\n",
       "    .dataframe tbody tr th:only-of-type {\n",
       "        vertical-align: middle;\n",
       "    }\n",
       "\n",
       "    .dataframe tbody tr th {\n",
       "        vertical-align: top;\n",
       "    }\n",
       "\n",
       "    .dataframe thead th {\n",
       "        text-align: right;\n",
       "    }\n",
       "</style>\n",
       "<table border=\"1\" class=\"dataframe\">\n",
       "  <thead>\n",
       "    <tr style=\"text-align: right;\">\n",
       "      <th></th>\n",
       "      <th>PC1</th>\n",
       "    </tr>\n",
       "  </thead>\n",
       "  <tbody>\n",
       "    <tr>\n",
       "      <th>pizza_fraction</th>\n",
       "      <td>-0.574911</td>\n",
       "    </tr>\n",
       "    <tr>\n",
       "      <th>donuts_fraction</th>\n",
       "      <td>-0.583510</td>\n",
       "    </tr>\n",
       "    <tr>\n",
       "      <th>hotdogs_fraction</th>\n",
       "      <td>-0.667309</td>\n",
       "    </tr>\n",
       "    <tr>\n",
       "      <th>1_2_fraction</th>\n",
       "      <td>-0.712654</td>\n",
       "    </tr>\n",
       "    <tr>\n",
       "      <th>1_fraction</th>\n",
       "      <td>-0.836276</td>\n",
       "    </tr>\n",
       "  </tbody>\n",
       "</table>\n",
       "</div>"
      ],
      "text/plain": [
       "                       PC1\n",
       "pizza_fraction   -0.574911\n",
       "donuts_fraction  -0.583510\n",
       "hotdogs_fraction -0.667309\n",
       "1_2_fraction     -0.712654\n",
       "1_fraction       -0.836276"
      ]
     },
     "execution_count": 73,
     "metadata": {},
     "output_type": "execute_result"
    }
   ],
   "source": [
    "# Looking for negative correlations with \n",
    "loading_matrix.sort_values(by=\"PC1\", ascending = False)[[\"PC1\"]].tail(5)"
   ]
  },
  {
   "cell_type": "markdown",
   "metadata": {},
   "source": [
    "__PC1 Interpretation - negative predictors of affluence:__ \n",
    "On the opposite end of PC1, we again see familiar items - similar to the features obtained via Logistic Regression in our full model comparison process. As mentioned earlier, we are not surprised that these features are negatively associated with affluence, as they are lower-priced and quick food options."
   ]
  },
  {
   "cell_type": "markdown",
   "metadata": {},
   "source": [
    "### Interpreting PC48\n",
    "\n",
    "Next, we will review which (group of) features are highly correlated (both positively and negatively) with $PC48$. "
   ]
  },
  {
   "cell_type": "code",
   "execution_count": 92,
   "metadata": {},
   "outputs": [
    {
     "data": {
      "text/plain": [
       "0.006531800633679118"
      ]
     },
     "execution_count": 92,
     "metadata": {},
     "output_type": "execute_result"
    }
   ],
   "source": [
    "# how much does PC48 explain the total variance?\n",
    "pca_99.explained_variance_ratio_[47] # 48th component"
   ]
  },
  {
   "cell_type": "markdown",
   "metadata": {},
   "source": [
    "PC48 explains 6.5% of the total variance"
   ]
  },
  {
   "cell_type": "code",
   "execution_count": 91,
   "metadata": {},
   "outputs": [
    {
     "data": {
      "text/html": [
       "<div>\n",
       "<style scoped>\n",
       "    .dataframe tbody tr th:only-of-type {\n",
       "        vertical-align: middle;\n",
       "    }\n",
       "\n",
       "    .dataframe tbody tr th {\n",
       "        vertical-align: top;\n",
       "    }\n",
       "\n",
       "    .dataframe thead th {\n",
       "        text-align: right;\n",
       "    }\n",
       "</style>\n",
       "<table border=\"1\" class=\"dataframe\">\n",
       "  <thead>\n",
       "    <tr style=\"text-align: right;\">\n",
       "      <th></th>\n",
       "      <th>PC48</th>\n",
       "    </tr>\n",
       "  </thead>\n",
       "  <tbody>\n",
       "    <tr>\n",
       "      <th>ethiopian_fraction</th>\n",
       "      <td>0.294094</td>\n",
       "    </tr>\n",
       "    <tr>\n",
       "      <th>bookstores_fraction</th>\n",
       "      <td>0.253398</td>\n",
       "    </tr>\n",
       "    <tr>\n",
       "      <th>hawaiian_fraction</th>\n",
       "      <td>0.241076</td>\n",
       "    </tr>\n",
       "    <tr>\n",
       "      <th>gelato_fraction</th>\n",
       "      <td>0.210182</td>\n",
       "    </tr>\n",
       "    <tr>\n",
       "      <th>kosher_fraction</th>\n",
       "      <td>0.210145</td>\n",
       "    </tr>\n",
       "    <tr>\n",
       "      <th>tapas_fraction</th>\n",
       "      <td>0.195148</td>\n",
       "    </tr>\n",
       "    <tr>\n",
       "      <th>panasian_fraction</th>\n",
       "      <td>0.188049</td>\n",
       "    </tr>\n",
       "    <tr>\n",
       "      <th>peruvian_fraction</th>\n",
       "      <td>0.176734</td>\n",
       "    </tr>\n",
       "    <tr>\n",
       "      <th>desserts_fraction</th>\n",
       "      <td>0.174574</td>\n",
       "    </tr>\n",
       "    <tr>\n",
       "      <th>pastashops_fraction</th>\n",
       "      <td>0.168429</td>\n",
       "    </tr>\n",
       "  </tbody>\n",
       "</table>\n",
       "</div>"
      ],
      "text/plain": [
       "                         PC48\n",
       "ethiopian_fraction   0.294094\n",
       "bookstores_fraction  0.253398\n",
       "hawaiian_fraction    0.241076\n",
       "gelato_fraction      0.210182\n",
       "kosher_fraction      0.210145\n",
       "tapas_fraction       0.195148\n",
       "panasian_fraction    0.188049\n",
       "peruvian_fraction    0.176734\n",
       "desserts_fraction    0.174574\n",
       "pastashops_fraction  0.168429"
      ]
     },
     "execution_count": 91,
     "metadata": {},
     "output_type": "execute_result"
    }
   ],
   "source": [
    "loading_matrix.sort_values(by=\"PC48\", ascending = False)[[\"PC48\"]].head(10)"
   ]
  },
  {
   "cell_type": "markdown",
   "metadata": {},
   "source": [
    "__PC48 Interpretation - positive predictors of affluence:__ \n",
    "From the PCA model, we know that this group of features has relative significance for predicting affluence. However, they are not necessarily expected or intuitive! It seems that ethiopian restaurants, bookstores, hawaiian restaurants are together positively correlated with affluence. "
   ]
  },
  {
   "cell_type": "code",
   "execution_count": 87,
   "metadata": {},
   "outputs": [
    {
     "data": {
      "text/html": [
       "<div>\n",
       "<style scoped>\n",
       "    .dataframe tbody tr th:only-of-type {\n",
       "        vertical-align: middle;\n",
       "    }\n",
       "\n",
       "    .dataframe tbody tr th {\n",
       "        vertical-align: top;\n",
       "    }\n",
       "\n",
       "    .dataframe thead th {\n",
       "        text-align: right;\n",
       "    }\n",
       "</style>\n",
       "<table border=\"1\" class=\"dataframe\">\n",
       "  <thead>\n",
       "    <tr style=\"text-align: right;\">\n",
       "      <th></th>\n",
       "      <th>PC48</th>\n",
       "    </tr>\n",
       "  </thead>\n",
       "  <tbody>\n",
       "    <tr>\n",
       "      <th>african_fraction</th>\n",
       "      <td>-0.170592</td>\n",
       "    </tr>\n",
       "    <tr>\n",
       "      <th>greek_fraction</th>\n",
       "      <td>-0.177204</td>\n",
       "    </tr>\n",
       "    <tr>\n",
       "      <th>asianfusion_fraction</th>\n",
       "      <td>-0.231780</td>\n",
       "    </tr>\n",
       "    <tr>\n",
       "      <th>cupcakes_fraction</th>\n",
       "      <td>-0.249341</td>\n",
       "    </tr>\n",
       "    <tr>\n",
       "      <th>petstore_fraction</th>\n",
       "      <td>-0.270514</td>\n",
       "    </tr>\n",
       "  </tbody>\n",
       "</table>\n",
       "</div>"
      ],
      "text/plain": [
       "                          PC48\n",
       "african_fraction     -0.170592\n",
       "greek_fraction       -0.177204\n",
       "asianfusion_fraction -0.231780\n",
       "cupcakes_fraction    -0.249341\n",
       "petstore_fraction    -0.270514"
      ]
     },
     "execution_count": 87,
     "metadata": {},
     "output_type": "execute_result"
    }
   ],
   "source": [
    "# Interpretation\n",
    "loading_matrix.sort_values(by=\"PC48\", ascending = False)[[\"PC48\"]].tail(5)"
   ]
  },
  {
   "cell_type": "markdown",
   "metadata": {},
   "source": [
    "__PC48 Interpretation - negative predictors of affluence:__ \n",
    "- We see that petstores, cupcake shops as well as asian fusion, greek, african restaurants are generally opposing the features we found above (ethiopian restaurants, bookstores, hawaiian restaurant). Again, this is not intuitive, but is interesting to contemplate.\n"
   ]
  },
  {
   "cell_type": "markdown",
   "metadata": {},
   "source": [
    "#### Principal Component Analysis - concluding thoughts"
   ]
  },
  {
   "cell_type": "markdown",
   "metadata": {},
   "source": [
    "The Principal Component Analysis has confirmed the key features that we had observed and interpreted via our original Logistic Regression Model. Features like French Restaurants, Wine Bars, 4_dollar sign restaurants, ramen restaurants are shown to be positively correlated with affluence. Businesses like pizza and hotdog shops as well as 1 and 2 dollar sign businesses are shown to be oppositely correlated with affluence. \n",
    "\n",
    "While the other principal component we investigated was not as intuitive, this was good confirmation for us."
   ]
  },
  {
   "cell_type": "markdown",
   "metadata": {},
   "source": [
    "___________"
   ]
  },
  {
   "cell_type": "markdown",
   "metadata": {},
   "source": [
    "## Conclusion"
   ]
  },
  {
   "cell_type": "markdown",
   "metadata": {},
   "source": []
  }
 ],
 "metadata": {
  "kernelspec": {
   "display_name": "Python 3",
   "language": "python",
   "name": "python3"
  },
  "language_info": {
   "codemirror_mode": {
    "name": "ipython",
    "version": 3
   },
   "file_extension": ".py",
   "mimetype": "text/x-python",
   "name": "python",
   "nbconvert_exporter": "python",
   "pygments_lexer": "ipython3",
   "version": "3.7.5"
  },
  "toc": {
   "base_numbering": 1,
   "nav_menu": {},
   "number_sections": true,
   "sideBar": true,
   "skip_h1_title": false,
   "title_cell": "Table of Contents",
   "title_sidebar": "Contents",
   "toc_cell": false,
   "toc_position": {},
   "toc_section_display": true,
   "toc_window_display": false
  }
 },
 "nbformat": 4,
 "nbformat_minor": 2
}
