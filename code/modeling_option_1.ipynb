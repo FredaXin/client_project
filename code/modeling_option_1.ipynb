{
 "cells": [
  {
   "cell_type": "markdown",
   "metadata": {},
   "source": [
    "# Modeling - Option 1:\n",
    "## Predicting affluence in our NYC clusters"
   ]
  },
  {
   "cell_type": "markdown",
   "metadata": {},
   "source": [
    "__Context and Motivation for this modeling exercise__:\n",
    "In the prior Data Cleaning & Exploratory Data Analysis notebook, we noted some very interesting insights based on the relative percentages of business types in each NYC Borough.\n",
    "\n",
    "Here are some example observations we made, related to business categories within the borough: \n",
    "- Manhattan has a higher percentage of coffee shops relative to other business types\n",
    "- Bronx and Staten Island have a higher percentage of Pizza shops\n",
    "- Queens larger percentage of Chinese businesses, relative to other types\n",
    "- Staten Island has the highest percentage of Hot Dog businesses\n",
    "\n",
    "Also, we had made some observations based on the business 'price' level (example: \\$\\$)\n",
    "- Manhattan has a predominance of 2 dollar sign businesses \n",
    "- Manhattan also the largest percentage of 3 and 4 dollar-sign businesses relative to the other boroughs\n",
    "- Bronx contains predominantly 1 dollar sign businesses.\n",
    "\n",
    "We believe that these observations are key in highlighting the relative types of businesses within a neighborhood and could be a predictor of affluence. In this notebook, we explore these types of questions via modeling methods - to establish whether we can predict the affluence of one of our business 'clusters' by utilizing the percentages of types of businesses within all clusters.\n"
   ]
  },
  {
   "cell_type": "markdown",
   "metadata": {},
   "source": [
    "## Import Libraries and Data"
   ]
  },
  {
   "cell_type": "markdown",
   "metadata": {},
   "source": [
    "### Import libraries"
   ]
  },
  {
   "cell_type": "code",
   "execution_count": 1,
   "metadata": {},
   "outputs": [],
   "source": [
    "import numpy as np\n",
    "import pandas as pd\n",
    "import matplotlib.pyplot as plt\n",
    "import seaborn as sns\n",
    "\n",
    "from sklearn.preprocessing import StandardScaler\n",
    "from sklearn.model_selection import train_test_split, GridSearchCV, cross_val_score\n",
    "from sklearn.pipeline import Pipeline\n",
    "\n",
    "from sklearn.linear_model import LogisticRegression\n",
    "from sklearn.neighbors import KNeighborsClassifier\n",
    "from sklearn.tree import DecisionTreeClassifier\n",
    "from sklearn.svm import SVC\n",
    "from sklearn.ensemble import BaggingClassifier, RandomForestClassifier, AdaBoostClassifier, VotingClassifier\n",
    "from sklearn import svm\n",
    "\n",
    "from sklearn.metrics import confusion_matrix, roc_curve, auc, make_scorer, roc_auc_score\n",
    "\n",
    "import matplotlib\n",
    "\n",
    "# Styling \n",
    "from IPython.display import HTML, display\n",
    "import tabulate\n",
    "\n",
    "import warnings\n",
    "warnings.simplefilter(action='ignore', category=FutureWarning)\n",
    "\n",
    "%matplotlib inline\n"
   ]
  },
  {
   "cell_type": "markdown",
   "metadata": {},
   "source": [
    "### Load data"
   ]
  },
  {
   "cell_type": "code",
   "execution_count": 2,
   "metadata": {},
   "outputs": [],
   "source": [
    "# Import our clean yelp data, with the cluster and 'is_affluent' columns\n",
    "\n",
    "yelp = pd.read_csv('../data/yelp_clean.csv')"
   ]
  },
  {
   "cell_type": "markdown",
   "metadata": {},
   "source": [
    "## Feature Engineering: creating fractional columns"
   ]
  },
  {
   "cell_type": "code",
   "execution_count": 3,
   "metadata": {},
   "outputs": [
    {
     "data": {
      "text/html": [
       "<div>\n",
       "<style scoped>\n",
       "    .dataframe tbody tr th:only-of-type {\n",
       "        vertical-align: middle;\n",
       "    }\n",
       "\n",
       "    .dataframe tbody tr th {\n",
       "        vertical-align: top;\n",
       "    }\n",
       "\n",
       "    .dataframe thead th {\n",
       "        text-align: right;\n",
       "    }\n",
       "</style>\n",
       "<table border=\"1\" class=\"dataframe\">\n",
       "  <thead>\n",
       "    <tr style=\"text-align: right;\">\n",
       "      <th></th>\n",
       "      <th>Unnamed: 0</th>\n",
       "      <th>name</th>\n",
       "      <th>review_count</th>\n",
       "      <th>rating</th>\n",
       "      <th>price</th>\n",
       "      <th>cat1</th>\n",
       "      <th>zip_code</th>\n",
       "      <th>nyc</th>\n",
       "      <th>borough</th>\n",
       "      <th>cluster</th>\n",
       "      <th>is_affluent</th>\n",
       "    </tr>\n",
       "  </thead>\n",
       "  <tbody>\n",
       "    <tr>\n",
       "      <th>0</th>\n",
       "      <td>0</td>\n",
       "      <td>Com Tam Ninh Kieu</td>\n",
       "      <td>379</td>\n",
       "      <td>4.0</td>\n",
       "      <td>2</td>\n",
       "      <td>vietnamese</td>\n",
       "      <td>10468</td>\n",
       "      <td>True</td>\n",
       "      <td>Bronx</td>\n",
       "      <td>12</td>\n",
       "      <td>0</td>\n",
       "    </tr>\n",
       "    <tr>\n",
       "      <th>1</th>\n",
       "      <td>1</td>\n",
       "      <td>Antonio's Trattoria</td>\n",
       "      <td>773</td>\n",
       "      <td>4.5</td>\n",
       "      <td>2</td>\n",
       "      <td>italian</td>\n",
       "      <td>10458</td>\n",
       "      <td>True</td>\n",
       "      <td>Bronx</td>\n",
       "      <td>12</td>\n",
       "      <td>0</td>\n",
       "    </tr>\n",
       "    <tr>\n",
       "      <th>2</th>\n",
       "      <td>2</td>\n",
       "      <td>Bronx Alehouse</td>\n",
       "      <td>749</td>\n",
       "      <td>4.0</td>\n",
       "      <td>2</td>\n",
       "      <td>tradamerican</td>\n",
       "      <td>10463</td>\n",
       "      <td>True</td>\n",
       "      <td>Bronx</td>\n",
       "      <td>62</td>\n",
       "      <td>0</td>\n",
       "    </tr>\n",
       "    <tr>\n",
       "      <th>3</th>\n",
       "      <td>4</td>\n",
       "      <td>The Bronx Public</td>\n",
       "      <td>443</td>\n",
       "      <td>4.0</td>\n",
       "      <td>2</td>\n",
       "      <td>sportsbars</td>\n",
       "      <td>10463</td>\n",
       "      <td>True</td>\n",
       "      <td>Bronx</td>\n",
       "      <td>62</td>\n",
       "      <td>0</td>\n",
       "    </tr>\n",
       "    <tr>\n",
       "      <th>4</th>\n",
       "      <td>5</td>\n",
       "      <td>Trattoria Zero Otto Nove</td>\n",
       "      <td>749</td>\n",
       "      <td>4.0</td>\n",
       "      <td>2</td>\n",
       "      <td>italian</td>\n",
       "      <td>10458</td>\n",
       "      <td>True</td>\n",
       "      <td>Bronx</td>\n",
       "      <td>12</td>\n",
       "      <td>0</td>\n",
       "    </tr>\n",
       "  </tbody>\n",
       "</table>\n",
       "</div>"
      ],
      "text/plain": [
       "   Unnamed: 0                      name  review_count  rating  price  \\\n",
       "0           0         Com Tam Ninh Kieu           379     4.0      2   \n",
       "1           1       Antonio's Trattoria           773     4.5      2   \n",
       "2           2            Bronx Alehouse           749     4.0      2   \n",
       "3           4          The Bronx Public           443     4.0      2   \n",
       "4           5  Trattoria Zero Otto Nove           749     4.0      2   \n",
       "\n",
       "           cat1  zip_code   nyc borough  cluster  is_affluent  \n",
       "0    vietnamese     10468  True   Bronx       12            0  \n",
       "1       italian     10458  True   Bronx       12            0  \n",
       "2  tradamerican     10463  True   Bronx       62            0  \n",
       "3    sportsbars     10463  True   Bronx       62            0  \n",
       "4       italian     10458  True   Bronx       12            0  "
      ]
     },
     "execution_count": 3,
     "metadata": {},
     "output_type": "execute_result"
    }
   ],
   "source": [
    "# Quick view of the data set\n",
    "yelp.head()"
   ]
  },
  {
   "cell_type": "code",
   "execution_count": 4,
   "metadata": {},
   "outputs": [],
   "source": [
    "# We define a function to calculate the percentage presence for each feature category across all the others\n",
    "# In our current use case, the group is our cluster and the fraction is the % of the feature type (price or category)\n",
    "def class_fraction_feature(df_feature, group_col, feature_col):\n",
    "    '''Function to create percent features. Take in a data frame, df_feature, collect the \n",
    "    categories in the group_col identify the features in feature_col and give a percent of the feature for the group.\n",
    "    '''\n",
    "    # identify unique groups and the unique features\n",
    "    groups   = df_feature[group_col].unique().tolist()\n",
    "    features = df_feature[feature_col].unique().tolist()    \n",
    "    \n",
    "    # Create a dictionary to store the groups. Iterate through the groups and collect counts for the features\n",
    "    data = []\n",
    "    for g in groups:\n",
    "        # empty dictionary, which will be filled with groups\n",
    "        g_dict = {'group_col':g}\n",
    "        \n",
    "        for f in features:\n",
    "            g_dict[f] = df_feature[(df_feature[group_col]==g)&(df_feature[feature_col]==f)][feature_col].count()\n",
    "    \n",
    "        # append the dictionary entry for a group to the list of groups\n",
    "        data.append(g_dict)\n",
    "        \n",
    "    data = pd.DataFrame(data)\n",
    "    \n",
    "    # Create total by row and create fraction on each column\n",
    "    data['total'] = data[features].sum(axis = 1)\n",
    "    for f in features:\n",
    "        data[ str(f) + '_fraction'] = data[f]/data['total']\n",
    "   \n",
    "    return data"
   ]
  },
  {
   "cell_type": "code",
   "execution_count": 5,
   "metadata": {},
   "outputs": [],
   "source": [
    "# We calculate the percentages for each business type:  by category type & price\n",
    "cluster_price_fraction = class_fraction_feature(yelp,'cluster','price')\n",
    "cluster_type_fraction = class_fraction_feature(yelp,'cluster','cat1')\n"
   ]
  },
  {
   "cell_type": "code",
   "execution_count": 6,
   "metadata": {},
   "outputs": [
    {
     "data": {
      "text/html": [
       "<div>\n",
       "<style scoped>\n",
       "    .dataframe tbody tr th:only-of-type {\n",
       "        vertical-align: middle;\n",
       "    }\n",
       "\n",
       "    .dataframe tbody tr th {\n",
       "        vertical-align: top;\n",
       "    }\n",
       "\n",
       "    .dataframe thead th {\n",
       "        text-align: right;\n",
       "    }\n",
       "</style>\n",
       "<table border=\"1\" class=\"dataframe\">\n",
       "  <thead>\n",
       "    <tr style=\"text-align: right;\">\n",
       "      <th></th>\n",
       "      <th>group_col</th>\n",
       "      <th>2</th>\n",
       "      <th>1</th>\n",
       "      <th>3</th>\n",
       "      <th>4</th>\n",
       "      <th>total</th>\n",
       "      <th>2_fraction</th>\n",
       "      <th>1_fraction</th>\n",
       "      <th>3_fraction</th>\n",
       "      <th>4_fraction</th>\n",
       "    </tr>\n",
       "  </thead>\n",
       "  <tbody>\n",
       "    <tr>\n",
       "      <th>0</th>\n",
       "      <td>12</td>\n",
       "      <td>76</td>\n",
       "      <td>129</td>\n",
       "      <td>3</td>\n",
       "      <td>1</td>\n",
       "      <td>209</td>\n",
       "      <td>0.363636</td>\n",
       "      <td>0.617225</td>\n",
       "      <td>0.014354</td>\n",
       "      <td>0.004785</td>\n",
       "    </tr>\n",
       "    <tr>\n",
       "      <th>1</th>\n",
       "      <td>62</td>\n",
       "      <td>72</td>\n",
       "      <td>69</td>\n",
       "      <td>3</td>\n",
       "      <td>0</td>\n",
       "      <td>144</td>\n",
       "      <td>0.500000</td>\n",
       "      <td>0.479167</td>\n",
       "      <td>0.020833</td>\n",
       "      <td>0.000000</td>\n",
       "    </tr>\n",
       "    <tr>\n",
       "      <th>2</th>\n",
       "      <td>42</td>\n",
       "      <td>70</td>\n",
       "      <td>74</td>\n",
       "      <td>1</td>\n",
       "      <td>0</td>\n",
       "      <td>145</td>\n",
       "      <td>0.482759</td>\n",
       "      <td>0.510345</td>\n",
       "      <td>0.006897</td>\n",
       "      <td>0.000000</td>\n",
       "    </tr>\n",
       "    <tr>\n",
       "      <th>3</th>\n",
       "      <td>38</td>\n",
       "      <td>21</td>\n",
       "      <td>70</td>\n",
       "      <td>0</td>\n",
       "      <td>0</td>\n",
       "      <td>91</td>\n",
       "      <td>0.230769</td>\n",
       "      <td>0.769231</td>\n",
       "      <td>0.000000</td>\n",
       "      <td>0.000000</td>\n",
       "    </tr>\n",
       "    <tr>\n",
       "      <th>4</th>\n",
       "      <td>56</td>\n",
       "      <td>42</td>\n",
       "      <td>108</td>\n",
       "      <td>0</td>\n",
       "      <td>1</td>\n",
       "      <td>151</td>\n",
       "      <td>0.278146</td>\n",
       "      <td>0.715232</td>\n",
       "      <td>0.000000</td>\n",
       "      <td>0.006623</td>\n",
       "    </tr>\n",
       "  </tbody>\n",
       "</table>\n",
       "</div>"
      ],
      "text/plain": [
       "   group_col   2    1  3  4  total  2_fraction  1_fraction  3_fraction  \\\n",
       "0         12  76  129  3  1    209    0.363636    0.617225    0.014354   \n",
       "1         62  72   69  3  0    144    0.500000    0.479167    0.020833   \n",
       "2         42  70   74  1  0    145    0.482759    0.510345    0.006897   \n",
       "3         38  21   70  0  0     91    0.230769    0.769231    0.000000   \n",
       "4         56  42  108  0  1    151    0.278146    0.715232    0.000000   \n",
       "\n",
       "   4_fraction  \n",
       "0    0.004785  \n",
       "1    0.000000  \n",
       "2    0.000000  \n",
       "3    0.000000  \n",
       "4    0.006623  "
      ]
     },
     "execution_count": 6,
     "metadata": {},
     "output_type": "execute_result"
    }
   ],
   "source": [
    "# As an example, we show the fraction table for 'price'.\n",
    "cluster_price_fraction.head()"
   ]
  },
  {
   "cell_type": "code",
   "execution_count": 7,
   "metadata": {},
   "outputs": [],
   "source": [
    "# Create a reference dataframe of the cluster numbers and their affluence category\n",
    "cluster_is_affluent = yelp[['cluster', 'is_affluent']]\n",
    "cluster_is_affluent = cluster_is_affluent.drop_duplicates(keep ='first')"
   ]
  },
  {
   "cell_type": "code",
   "execution_count": 8,
   "metadata": {},
   "outputs": [],
   "source": [
    "# Join the fractions together to create a combined set for the clusters\n",
    "cluster_fraction = cluster_price_fraction.merge(cluster_type_fraction, on = 'group_col', suffixes = ('_x','_y'))\n",
    "\n",
    "# join on affluence\n",
    "cluster_fraction = cluster_fraction.rename(columns={'group_col':'cluster'})\n",
    "cluster_fraction = cluster_is_affluent.merge(cluster_fraction, on = 'cluster')"
   ]
  },
  {
   "cell_type": "code",
   "execution_count": 9,
   "metadata": {},
   "outputs": [
    {
     "data": {
      "text/html": [
       "<div>\n",
       "<style scoped>\n",
       "    .dataframe tbody tr th:only-of-type {\n",
       "        vertical-align: middle;\n",
       "    }\n",
       "\n",
       "    .dataframe tbody tr th {\n",
       "        vertical-align: top;\n",
       "    }\n",
       "\n",
       "    .dataframe thead th {\n",
       "        text-align: right;\n",
       "    }\n",
       "</style>\n",
       "<table border=\"1\" class=\"dataframe\">\n",
       "  <thead>\n",
       "    <tr style=\"text-align: right;\">\n",
       "      <th></th>\n",
       "      <th>cluster</th>\n",
       "      <th>is_affluent</th>\n",
       "      <th>2</th>\n",
       "      <th>1</th>\n",
       "      <th>3</th>\n",
       "      <th>4</th>\n",
       "      <th>total_x</th>\n",
       "      <th>2_fraction</th>\n",
       "      <th>1_fraction</th>\n",
       "      <th>3_fraction</th>\n",
       "      <th>...</th>\n",
       "      <th>giftshops_fraction</th>\n",
       "      <th>spas_fraction</th>\n",
       "      <th>singaporean_fraction</th>\n",
       "      <th>diyfood_fraction</th>\n",
       "      <th>kids_activities_fraction</th>\n",
       "      <th>shopping_fraction</th>\n",
       "      <th>cookingschools_fraction</th>\n",
       "      <th>burmese_fraction</th>\n",
       "      <th>sicilian_fraction</th>\n",
       "      <th>farmersmarket_fraction</th>\n",
       "    </tr>\n",
       "  </thead>\n",
       "  <tbody>\n",
       "    <tr>\n",
       "      <th>0</th>\n",
       "      <td>12</td>\n",
       "      <td>0</td>\n",
       "      <td>76</td>\n",
       "      <td>129</td>\n",
       "      <td>3</td>\n",
       "      <td>1</td>\n",
       "      <td>209</td>\n",
       "      <td>0.363636</td>\n",
       "      <td>0.617225</td>\n",
       "      <td>0.014354</td>\n",
       "      <td>...</td>\n",
       "      <td>0.0</td>\n",
       "      <td>0.0</td>\n",
       "      <td>0.0</td>\n",
       "      <td>0.0</td>\n",
       "      <td>0.0</td>\n",
       "      <td>0.0</td>\n",
       "      <td>0.0</td>\n",
       "      <td>0.0</td>\n",
       "      <td>0.0</td>\n",
       "      <td>0.0</td>\n",
       "    </tr>\n",
       "    <tr>\n",
       "      <th>1</th>\n",
       "      <td>62</td>\n",
       "      <td>0</td>\n",
       "      <td>72</td>\n",
       "      <td>69</td>\n",
       "      <td>3</td>\n",
       "      <td>0</td>\n",
       "      <td>144</td>\n",
       "      <td>0.500000</td>\n",
       "      <td>0.479167</td>\n",
       "      <td>0.020833</td>\n",
       "      <td>...</td>\n",
       "      <td>0.0</td>\n",
       "      <td>0.0</td>\n",
       "      <td>0.0</td>\n",
       "      <td>0.0</td>\n",
       "      <td>0.0</td>\n",
       "      <td>0.0</td>\n",
       "      <td>0.0</td>\n",
       "      <td>0.0</td>\n",
       "      <td>0.0</td>\n",
       "      <td>0.0</td>\n",
       "    </tr>\n",
       "    <tr>\n",
       "      <th>2</th>\n",
       "      <td>42</td>\n",
       "      <td>0</td>\n",
       "      <td>70</td>\n",
       "      <td>74</td>\n",
       "      <td>1</td>\n",
       "      <td>0</td>\n",
       "      <td>145</td>\n",
       "      <td>0.482759</td>\n",
       "      <td>0.510345</td>\n",
       "      <td>0.006897</td>\n",
       "      <td>...</td>\n",
       "      <td>0.0</td>\n",
       "      <td>0.0</td>\n",
       "      <td>0.0</td>\n",
       "      <td>0.0</td>\n",
       "      <td>0.0</td>\n",
       "      <td>0.0</td>\n",
       "      <td>0.0</td>\n",
       "      <td>0.0</td>\n",
       "      <td>0.0</td>\n",
       "      <td>0.0</td>\n",
       "    </tr>\n",
       "    <tr>\n",
       "      <th>3</th>\n",
       "      <td>38</td>\n",
       "      <td>0</td>\n",
       "      <td>21</td>\n",
       "      <td>70</td>\n",
       "      <td>0</td>\n",
       "      <td>0</td>\n",
       "      <td>91</td>\n",
       "      <td>0.230769</td>\n",
       "      <td>0.769231</td>\n",
       "      <td>0.000000</td>\n",
       "      <td>...</td>\n",
       "      <td>0.0</td>\n",
       "      <td>0.0</td>\n",
       "      <td>0.0</td>\n",
       "      <td>0.0</td>\n",
       "      <td>0.0</td>\n",
       "      <td>0.0</td>\n",
       "      <td>0.0</td>\n",
       "      <td>0.0</td>\n",
       "      <td>0.0</td>\n",
       "      <td>0.0</td>\n",
       "    </tr>\n",
       "    <tr>\n",
       "      <th>4</th>\n",
       "      <td>56</td>\n",
       "      <td>0</td>\n",
       "      <td>42</td>\n",
       "      <td>108</td>\n",
       "      <td>0</td>\n",
       "      <td>1</td>\n",
       "      <td>151</td>\n",
       "      <td>0.278146</td>\n",
       "      <td>0.715232</td>\n",
       "      <td>0.000000</td>\n",
       "      <td>...</td>\n",
       "      <td>0.0</td>\n",
       "      <td>0.0</td>\n",
       "      <td>0.0</td>\n",
       "      <td>0.0</td>\n",
       "      <td>0.0</td>\n",
       "      <td>0.0</td>\n",
       "      <td>0.0</td>\n",
       "      <td>0.0</td>\n",
       "      <td>0.0</td>\n",
       "      <td>0.0</td>\n",
       "    </tr>\n",
       "  </tbody>\n",
       "</table>\n",
       "<p>5 rows × 524 columns</p>\n",
       "</div>"
      ],
      "text/plain": [
       "   cluster  is_affluent   2    1  3  4  total_x  2_fraction  1_fraction  \\\n",
       "0       12            0  76  129  3  1      209    0.363636    0.617225   \n",
       "1       62            0  72   69  3  0      144    0.500000    0.479167   \n",
       "2       42            0  70   74  1  0      145    0.482759    0.510345   \n",
       "3       38            0  21   70  0  0       91    0.230769    0.769231   \n",
       "4       56            0  42  108  0  1      151    0.278146    0.715232   \n",
       "\n",
       "   3_fraction  ...  giftshops_fraction  spas_fraction  singaporean_fraction  \\\n",
       "0    0.014354  ...                 0.0            0.0                   0.0   \n",
       "1    0.020833  ...                 0.0            0.0                   0.0   \n",
       "2    0.006897  ...                 0.0            0.0                   0.0   \n",
       "3    0.000000  ...                 0.0            0.0                   0.0   \n",
       "4    0.000000  ...                 0.0            0.0                   0.0   \n",
       "\n",
       "   diyfood_fraction  kids_activities_fraction  shopping_fraction  \\\n",
       "0               0.0                       0.0                0.0   \n",
       "1               0.0                       0.0                0.0   \n",
       "2               0.0                       0.0                0.0   \n",
       "3               0.0                       0.0                0.0   \n",
       "4               0.0                       0.0                0.0   \n",
       "\n",
       "   cookingschools_fraction  burmese_fraction  sicilian_fraction  \\\n",
       "0                      0.0               0.0                0.0   \n",
       "1                      0.0               0.0                0.0   \n",
       "2                      0.0               0.0                0.0   \n",
       "3                      0.0               0.0                0.0   \n",
       "4                      0.0               0.0                0.0   \n",
       "\n",
       "   farmersmarket_fraction  \n",
       "0                     0.0  \n",
       "1                     0.0  \n",
       "2                     0.0  \n",
       "3                     0.0  \n",
       "4                     0.0  \n",
       "\n",
       "[5 rows x 524 columns]"
      ]
     },
     "execution_count": 9,
     "metadata": {},
     "output_type": "execute_result"
    }
   ],
   "source": [
    "# We view the dataframe with all count and fractional columns. (We will remove some of these soon)\n",
    "cluster_fraction.head()"
   ]
  },
  {
   "cell_type": "markdown",
   "metadata": {},
   "source": [
    "In the table above, we see a full dataframe with all the newly engineered fraction columns. We will add two more, based on grouping together the 1 & 2 dollar sign businesses, and 3 & 4 dollar sign businesses. Per the Exploratory Data Analysis we performed previously, this may help as an indicator of affluence."
   ]
  },
  {
   "cell_type": "code",
   "execution_count": 10,
   "metadata": {},
   "outputs": [],
   "source": [
    "# Adding two engineered columns based on dollar sign groupings\n",
    "cluster_fraction['1_2_fraction'] = cluster_fraction['1_fraction'] + cluster_fraction['2_fraction']\n",
    "cluster_fraction['3_4_fraction'] = cluster_fraction['3_fraction'] + cluster_fraction['4_fraction']"
   ]
  },
  {
   "cell_type": "markdown",
   "metadata": {},
   "source": [
    "Next, we will utilize list comprehension to remove all of the original 'count' columns from our dataframe. "
   ]
  },
  {
   "cell_type": "code",
   "execution_count": 11,
   "metadata": {},
   "outputs": [],
   "source": [
    "# Remove columns that are based on count, vs fraction\n",
    "\n",
    "cols = [c for c in cluster_fraction.columns if str(c).endswith('fraction')] # Keep columns with '_fraction'\n",
    "cols.append('is_affluent') # ensure that our target 'is_affluent' category is maintained      "
   ]
  },
  {
   "cell_type": "code",
   "execution_count": 12,
   "metadata": {},
   "outputs": [],
   "source": [
    "cluster_fraction = cluster_fraction[cols] # redefine our dataframe with the selected columns"
   ]
  },
  {
   "cell_type": "code",
   "execution_count": 13,
   "metadata": {},
   "outputs": [
    {
     "data": {
      "text/html": [
       "<div>\n",
       "<style scoped>\n",
       "    .dataframe tbody tr th:only-of-type {\n",
       "        vertical-align: middle;\n",
       "    }\n",
       "\n",
       "    .dataframe tbody tr th {\n",
       "        vertical-align: top;\n",
       "    }\n",
       "\n",
       "    .dataframe thead th {\n",
       "        text-align: right;\n",
       "    }\n",
       "</style>\n",
       "<table border=\"1\" class=\"dataframe\">\n",
       "  <thead>\n",
       "    <tr style=\"text-align: right;\">\n",
       "      <th></th>\n",
       "      <th>2_fraction</th>\n",
       "      <th>1_fraction</th>\n",
       "      <th>3_fraction</th>\n",
       "      <th>4_fraction</th>\n",
       "      <th>vietnamese_fraction</th>\n",
       "      <th>italian_fraction</th>\n",
       "      <th>tradamerican_fraction</th>\n",
       "      <th>sportsbars_fraction</th>\n",
       "      <th>desserts_fraction</th>\n",
       "      <th>mexican_fraction</th>\n",
       "      <th>...</th>\n",
       "      <th>diyfood_fraction</th>\n",
       "      <th>kids_activities_fraction</th>\n",
       "      <th>shopping_fraction</th>\n",
       "      <th>cookingschools_fraction</th>\n",
       "      <th>burmese_fraction</th>\n",
       "      <th>sicilian_fraction</th>\n",
       "      <th>farmersmarket_fraction</th>\n",
       "      <th>1_2_fraction</th>\n",
       "      <th>3_4_fraction</th>\n",
       "      <th>is_affluent</th>\n",
       "    </tr>\n",
       "  </thead>\n",
       "  <tbody>\n",
       "    <tr>\n",
       "      <th>0</th>\n",
       "      <td>0.363636</td>\n",
       "      <td>0.617225</td>\n",
       "      <td>0.014354</td>\n",
       "      <td>0.004785</td>\n",
       "      <td>0.004785</td>\n",
       "      <td>0.081340</td>\n",
       "      <td>0.019139</td>\n",
       "      <td>0.014354</td>\n",
       "      <td>0.000000</td>\n",
       "      <td>0.071770</td>\n",
       "      <td>...</td>\n",
       "      <td>0.0</td>\n",
       "      <td>0.0</td>\n",
       "      <td>0.0</td>\n",
       "      <td>0.0</td>\n",
       "      <td>0.0</td>\n",
       "      <td>0.0</td>\n",
       "      <td>0.0</td>\n",
       "      <td>0.980861</td>\n",
       "      <td>0.019139</td>\n",
       "      <td>0</td>\n",
       "    </tr>\n",
       "    <tr>\n",
       "      <th>1</th>\n",
       "      <td>0.500000</td>\n",
       "      <td>0.479167</td>\n",
       "      <td>0.020833</td>\n",
       "      <td>0.000000</td>\n",
       "      <td>0.000000</td>\n",
       "      <td>0.013889</td>\n",
       "      <td>0.034722</td>\n",
       "      <td>0.020833</td>\n",
       "      <td>0.020833</td>\n",
       "      <td>0.048611</td>\n",
       "      <td>...</td>\n",
       "      <td>0.0</td>\n",
       "      <td>0.0</td>\n",
       "      <td>0.0</td>\n",
       "      <td>0.0</td>\n",
       "      <td>0.0</td>\n",
       "      <td>0.0</td>\n",
       "      <td>0.0</td>\n",
       "      <td>0.979167</td>\n",
       "      <td>0.020833</td>\n",
       "      <td>0</td>\n",
       "    </tr>\n",
       "    <tr>\n",
       "      <th>2</th>\n",
       "      <td>0.482759</td>\n",
       "      <td>0.510345</td>\n",
       "      <td>0.006897</td>\n",
       "      <td>0.000000</td>\n",
       "      <td>0.000000</td>\n",
       "      <td>0.013793</td>\n",
       "      <td>0.013793</td>\n",
       "      <td>0.013793</td>\n",
       "      <td>0.020690</td>\n",
       "      <td>0.089655</td>\n",
       "      <td>...</td>\n",
       "      <td>0.0</td>\n",
       "      <td>0.0</td>\n",
       "      <td>0.0</td>\n",
       "      <td>0.0</td>\n",
       "      <td>0.0</td>\n",
       "      <td>0.0</td>\n",
       "      <td>0.0</td>\n",
       "      <td>0.993103</td>\n",
       "      <td>0.006897</td>\n",
       "      <td>0</td>\n",
       "    </tr>\n",
       "    <tr>\n",
       "      <th>3</th>\n",
       "      <td>0.230769</td>\n",
       "      <td>0.769231</td>\n",
       "      <td>0.000000</td>\n",
       "      <td>0.000000</td>\n",
       "      <td>0.000000</td>\n",
       "      <td>0.000000</td>\n",
       "      <td>0.000000</td>\n",
       "      <td>0.000000</td>\n",
       "      <td>0.000000</td>\n",
       "      <td>0.065934</td>\n",
       "      <td>...</td>\n",
       "      <td>0.0</td>\n",
       "      <td>0.0</td>\n",
       "      <td>0.0</td>\n",
       "      <td>0.0</td>\n",
       "      <td>0.0</td>\n",
       "      <td>0.0</td>\n",
       "      <td>0.0</td>\n",
       "      <td>1.000000</td>\n",
       "      <td>0.000000</td>\n",
       "      <td>0</td>\n",
       "    </tr>\n",
       "    <tr>\n",
       "      <th>4</th>\n",
       "      <td>0.278146</td>\n",
       "      <td>0.715232</td>\n",
       "      <td>0.000000</td>\n",
       "      <td>0.006623</td>\n",
       "      <td>0.000000</td>\n",
       "      <td>0.013245</td>\n",
       "      <td>0.013245</td>\n",
       "      <td>0.006623</td>\n",
       "      <td>0.000000</td>\n",
       "      <td>0.052980</td>\n",
       "      <td>...</td>\n",
       "      <td>0.0</td>\n",
       "      <td>0.0</td>\n",
       "      <td>0.0</td>\n",
       "      <td>0.0</td>\n",
       "      <td>0.0</td>\n",
       "      <td>0.0</td>\n",
       "      <td>0.0</td>\n",
       "      <td>0.993377</td>\n",
       "      <td>0.006623</td>\n",
       "      <td>0</td>\n",
       "    </tr>\n",
       "  </tbody>\n",
       "</table>\n",
       "<p>5 rows × 263 columns</p>\n",
       "</div>"
      ],
      "text/plain": [
       "   2_fraction  1_fraction  3_fraction  4_fraction  vietnamese_fraction  \\\n",
       "0    0.363636    0.617225    0.014354    0.004785             0.004785   \n",
       "1    0.500000    0.479167    0.020833    0.000000             0.000000   \n",
       "2    0.482759    0.510345    0.006897    0.000000             0.000000   \n",
       "3    0.230769    0.769231    0.000000    0.000000             0.000000   \n",
       "4    0.278146    0.715232    0.000000    0.006623             0.000000   \n",
       "\n",
       "   italian_fraction  tradamerican_fraction  sportsbars_fraction  \\\n",
       "0          0.081340               0.019139             0.014354   \n",
       "1          0.013889               0.034722             0.020833   \n",
       "2          0.013793               0.013793             0.013793   \n",
       "3          0.000000               0.000000             0.000000   \n",
       "4          0.013245               0.013245             0.006623   \n",
       "\n",
       "   desserts_fraction  mexican_fraction  ...  diyfood_fraction  \\\n",
       "0           0.000000          0.071770  ...               0.0   \n",
       "1           0.020833          0.048611  ...               0.0   \n",
       "2           0.020690          0.089655  ...               0.0   \n",
       "3           0.000000          0.065934  ...               0.0   \n",
       "4           0.000000          0.052980  ...               0.0   \n",
       "\n",
       "   kids_activities_fraction  shopping_fraction  cookingschools_fraction  \\\n",
       "0                       0.0                0.0                      0.0   \n",
       "1                       0.0                0.0                      0.0   \n",
       "2                       0.0                0.0                      0.0   \n",
       "3                       0.0                0.0                      0.0   \n",
       "4                       0.0                0.0                      0.0   \n",
       "\n",
       "   burmese_fraction  sicilian_fraction  farmersmarket_fraction  1_2_fraction  \\\n",
       "0               0.0                0.0                     0.0      0.980861   \n",
       "1               0.0                0.0                     0.0      0.979167   \n",
       "2               0.0                0.0                     0.0      0.993103   \n",
       "3               0.0                0.0                     0.0      1.000000   \n",
       "4               0.0                0.0                     0.0      0.993377   \n",
       "\n",
       "   3_4_fraction  is_affluent  \n",
       "0      0.019139            0  \n",
       "1      0.020833            0  \n",
       "2      0.006897            0  \n",
       "3      0.000000            0  \n",
       "4      0.006623            0  \n",
       "\n",
       "[5 rows x 263 columns]"
      ]
     },
     "execution_count": 13,
     "metadata": {},
     "output_type": "execute_result"
    }
   ],
   "source": [
    "# This our final goal dataframe - with all the fractional categories & the affluence (target) column\n",
    "cluster_fraction.head()"
   ]
  },
  {
   "cell_type": "markdown",
   "metadata": {},
   "source": [
    "Above is our final dataframe that we will carry forward to modeling. We will be exploring the relationship between the relative presence of business types as they relate to prediction affluence."
   ]
  },
  {
   "cell_type": "markdown",
   "metadata": {},
   "source": [
    "# Model Preparation"
   ]
  },
  {
   "cell_type": "code",
   "execution_count": 14,
   "metadata": {},
   "outputs": [],
   "source": [
    "target = 'is_affluent'\n",
    "X = cluster_fraction.drop(columns=target)\n",
    "y = cluster_fraction[target]"
   ]
  },
  {
   "cell_type": "markdown",
   "metadata": {},
   "source": [
    "# Train, Test Split\n"
   ]
  },
  {
   "cell_type": "code",
   "execution_count": 15,
   "metadata": {},
   "outputs": [],
   "source": [
    "X_train, X_test, y_train, y_test = train_test_split(X, y, random_state=42, test_size=0.25, stratify=y)"
   ]
  },
  {
   "cell_type": "markdown",
   "metadata": {},
   "source": [
    "### Check distributions of Y to see if we have balanced classes"
   ]
  },
  {
   "cell_type": "code",
   "execution_count": 16,
   "metadata": {
    "scrolled": true
   },
   "outputs": [
    {
     "data": {
      "text/plain": [
       "0    0.531646\n",
       "1    0.468354\n",
       "Name: is_affluent, dtype: float64"
      ]
     },
     "execution_count": 16,
     "metadata": {},
     "output_type": "execute_result"
    }
   ],
   "source": [
    "# Check distribution of y, to see if y has unbalanced classes\n",
    "y.value_counts(normalize=True)"
   ]
  },
  {
   "cell_type": "code",
   "execution_count": 17,
   "metadata": {},
   "outputs": [
    {
     "data": {
      "text/plain": [
       "0    0.525424\n",
       "1    0.474576\n",
       "Name: is_affluent, dtype: float64"
      ]
     },
     "execution_count": 17,
     "metadata": {},
     "output_type": "execute_result"
    }
   ],
   "source": [
    "# Check distribution of y_train\n",
    "y_train.value_counts(normalize=True)"
   ]
  },
  {
   "cell_type": "code",
   "execution_count": 18,
   "metadata": {},
   "outputs": [
    {
     "data": {
      "text/plain": [
       "0    0.55\n",
       "1    0.45\n",
       "Name: is_affluent, dtype: float64"
      ]
     },
     "execution_count": 18,
     "metadata": {},
     "output_type": "execute_result"
    }
   ],
   "source": [
    "# Check distribution of y_test\n",
    "y_test.value_counts(normalize=True)"
   ]
  },
  {
   "cell_type": "markdown",
   "metadata": {},
   "source": [
    "# Modeling: First Round"
   ]
  },
  {
   "cell_type": "markdown",
   "metadata": {},
   "source": [
    "- In the modeling process, we will first present our baseline model.  \n",
    "- We will then develop several models, evaluating via GridSearch. \n",
    "- Based on the Grid Search's cross validation scores, we will then fine tune the hyper-parameters for each model to achieve the optimal result. "
   ]
  },
  {
   "cell_type": "markdown",
   "metadata": {},
   "source": [
    "## Evaluation Metric: ROC"
   ]
  },
  {
   "cell_type": "markdown",
   "metadata": {},
   "source": [
    "A few notes about our chosen evaluation metric, ROC: \n",
    "\n",
    "- \"ROC (Receiver Operating Characteristic) is a probability curve and AUC represents degree or measure of separability. It tells how much model is capable of distinguishing between classes\"[(reference)](https://towardsdatascience.com/understanding-auc-roc-curve-68b2303cc9c5). The higher the ROC, and the better it the two classes: Affluent vs. Not Affluent. The ROC curve is plotted with True Positive Rate on y-axis, against the False Positive Rate on the x-axis.\n",
    "\n",
    "- AUC (Area Under the Curve) measures the entire two-dimensional area underneath the entire ROC curve. The closer AUC to 1, the better the model.\n",
    "\n",
    "- We are choosing the AUC ROC  as our metric, since our aim is to find the optimal model that best separates our Affluence classes."
   ]
  },
  {
   "cell_type": "markdown",
   "metadata": {},
   "source": [
    "##  Baseline Model"
   ]
  },
  {
   "cell_type": "code",
   "execution_count": 19,
   "metadata": {},
   "outputs": [
    {
     "data": {
      "text/plain": [
       "0.55"
      ]
     },
     "execution_count": 19,
     "metadata": {},
     "output_type": "execute_result"
    }
   ],
   "source": [
    "y_test.value_counts(normalize=True)[0]"
   ]
  },
  {
   "cell_type": "markdown",
   "metadata": {},
   "source": [
    "Our baseline score is 55%, indicating that we were to blindly predict that each cluster were \"not affluent\", we would be correct 55% of the time."
   ]
  },
  {
   "cell_type": "markdown",
   "metadata": {},
   "source": [
    "## Logistic Regression"
   ]
  },
  {
   "cell_type": "code",
   "execution_count": null,
   "metadata": {},
   "outputs": [],
   "source": []
  },
  {
   "cell_type": "code",
   "execution_count": null,
   "metadata": {},
   "outputs": [],
   "source": []
  },
  {
   "cell_type": "markdown",
   "metadata": {},
   "source": [
    "### Additional modeling"
   ]
  },
  {
   "cell_type": "code",
   "execution_count": 33,
   "metadata": {},
   "outputs": [],
   "source": [
    "pipe = Pipeline(steps=[ \n",
    "    ('ss', StandardScaler()),\n",
    "    ('lr', LogisticRegression(solver='liblinear'))\n",
    "])\n",
    "\n",
    "pipe_params ={\n",
    "    'lr__C': [0.0001, .001, .01],\n",
    "    'lr__penalty' : ['l1', 'l2']\n",
    "    }\n",
    "\n",
    "gs_lr = GridSearchCV(pipe, \n",
    "                     pipe_params, \n",
    "                     cv=3,\n",
    "                     scoring='roc_auc')\n"
   ]
  },
  {
   "cell_type": "code",
   "execution_count": 34,
   "metadata": {},
   "outputs": [
    {
     "name": "stderr",
     "output_type": "stream",
     "text": [
      "/opt/anaconda3/envs/dsi/lib/python3.7/site-packages/sklearn/model_selection/_search.py:814: DeprecationWarning: The default of the `iid` parameter will change from True to False in version 0.22 and will be removed in 0.24. This will change numeric results when test-set sizes are unequal.\n",
      "  DeprecationWarning)\n"
     ]
    }
   ],
   "source": [
    "gs_lr.fit(X_train, y_train);"
   ]
  },
  {
   "cell_type": "code",
   "execution_count": 35,
   "metadata": {},
   "outputs": [
    {
     "data": {
      "text/plain": [
       "{'lr__C': 0.0001, 'lr__penalty': 'l2'}"
      ]
     },
     "execution_count": 35,
     "metadata": {},
     "output_type": "execute_result"
    }
   ],
   "source": [
    "# Check the optimal params\n",
    "gs_lr.best_params_"
   ]
  },
  {
   "cell_type": "code",
   "execution_count": 36,
   "metadata": {},
   "outputs": [
    {
     "data": {
      "text/plain": [
       "Pipeline(memory=None,\n",
       "         steps=[('ss',\n",
       "                 StandardScaler(copy=True, with_mean=True, with_std=True)),\n",
       "                ('lr',\n",
       "                 LogisticRegression(C=0.0001, class_weight=None, dual=False,\n",
       "                                    fit_intercept=True, intercept_scaling=1,\n",
       "                                    l1_ratio=None, max_iter=100,\n",
       "                                    multi_class='warn', n_jobs=None,\n",
       "                                    penalty='l2', random_state=None,\n",
       "                                    solver='liblinear', tol=0.0001, verbose=0,\n",
       "                                    warm_start=False))],\n",
       "         verbose=False)"
      ]
     },
     "execution_count": 36,
     "metadata": {},
     "output_type": "execute_result"
    }
   ],
   "source": [
    "gs_lr.best_estimator_"
   ]
  },
  {
   "cell_type": "code",
   "execution_count": 37,
   "metadata": {},
   "outputs": [
    {
     "data": {
      "text/plain": [
       "0.9723502304147466"
      ]
     },
     "execution_count": 37,
     "metadata": {},
     "output_type": "execute_result"
    }
   ],
   "source": [
    "# Train score\n",
    "gs_lr.score(X_train, y_train)"
   ]
  },
  {
   "cell_type": "code",
   "execution_count": 38,
   "metadata": {},
   "outputs": [
    {
     "data": {
      "text/plain": [
       "0.8686868686868686"
      ]
     },
     "execution_count": 38,
     "metadata": {},
     "output_type": "execute_result"
    }
   ],
   "source": [
    "# Test score\n",
    "gs_lr.score(X_test, y_test)"
   ]
  },
  {
   "cell_type": "code",
   "execution_count": 39,
   "metadata": {},
   "outputs": [
    {
     "data": {
      "text/plain": [
       "0.7956349206349206"
      ]
     },
     "execution_count": 39,
     "metadata": {},
     "output_type": "execute_result"
    }
   ],
   "source": [
    "# Cross val score on the whole dataset \n",
    "cv_lr = cross_val_score(gs_lr.best_estimator_, X, y, scoring='roc_auc', cv=3).mean()\n",
    "cv_lr"
   ]
  },
  {
   "cell_type": "code",
   "execution_count": null,
   "metadata": {},
   "outputs": [],
   "source": []
  },
  {
   "cell_type": "code",
   "execution_count": 40,
   "metadata": {},
   "outputs": [],
   "source": [
    "coef_lr_gs = np.array((gs_lr.best_estimator_.named_steps['lr']).coef_).tolist()[0]\n"
   ]
  },
  {
   "cell_type": "code",
   "execution_count": 41,
   "metadata": {},
   "outputs": [],
   "source": [
    "names = X_train.columns"
   ]
  },
  {
   "cell_type": "code",
   "execution_count": null,
   "metadata": {},
   "outputs": [],
   "source": []
  },
  {
   "cell_type": "code",
   "execution_count": 42,
   "metadata": {},
   "outputs": [
    {
     "data": {
      "text/plain": [
       "[('2_fraction', 0.0011272620746217545),\n",
       " ('1_fraction', -0.001137934900469253),\n",
       " ('3_fraction', 0.000588008982300437),\n",
       " ('4_fraction', 0.00105745910090655),\n",
       " ('vietnamese_fraction', 0.0007109233308867271),\n",
       " ('italian_fraction', 0.0003575183330013801),\n",
       " ('tradamerican_fraction', -0.00021806327081357814),\n",
       " ('sportsbars_fraction', 9.15728871188477e-05),\n",
       " ('desserts_fraction', 0.00046073421450833825),\n",
       " ('mexican_fraction', -0.00018560632238710453),\n",
       " ('coffee_fraction', 0.001289230296031531),\n",
       " ('bars_fraction', 0.0005744457720120626),\n",
       " ('breakfast_brunch_fraction', 0.0002557160177083298),\n",
       " ('comfortfood_fraction', -0.0008842194492456573),\n",
       " ('delis_fraction', 3.700596576506998e-06),\n",
       " ('pizza_fraction', -0.0013835817491417912),\n",
       " ('bakeries_fraction', 8.26338487845695e-05),\n",
       " ('japanese_fraction', -0.000136318405759492),\n",
       " ('venezuelan_fraction', -0.00022856282920063353),\n",
       " ('catering_fraction', 0.0002815646359444142),\n",
       " ('greek_fraction', 0.000286393488163758),\n",
       " ('burgers_fraction', -0.00028412517686235975),\n",
       " ('meats_fraction', -0.00014412411162149352),\n",
       " ('beergardens_fraction', 0.00027769242057426043),\n",
       " ('newamerican_fraction', 0.0008960968537533716),\n",
       " ('tapasmallplates_fraction', 0.0004691344255548317),\n",
       " ('foodtrucks_fraction', -0.00011635254806359092),\n",
       " ('cuban_fraction', 0.0004934690542667194),\n",
       " ('spanish_fraction', -0.0008548053117783082),\n",
       " ('diners_fraction', -0.0009379370039794064),\n",
       " ('coffeeroasteries_fraction', 0.0005966340780077133),\n",
       " ('irish_fraction', -0.0005420955587096941),\n",
       " ('lounges_fraction', 0.00043790643250695614),\n",
       " ('wine_bars_fraction', 0.0013161231012775863),\n",
       " ('latin_fraction', -0.0008536754009151921),\n",
       " ('modern_european_fraction', -5.672868081709219e-05),\n",
       " ('cafes_fraction', 0.0013926611574250505),\n",
       " ('bbq_fraction', -0.00021148585502435505),\n",
       " ('drugstores_fraction', -0.00017789705717244413),\n",
       " ('halal_fraction', -4.808563855955763e-05),\n",
       " ('thai_fraction', 0.0008863914101036845),\n",
       " ('icecream_fraction', -0.0005541626806086165),\n",
       " ('juicebars_fraction', 0.00035840584126005165),\n",
       " ('asianfusion_fraction', 0.00010386414149408118),\n",
       " ('indpak_fraction', -1.243896683906257e-05),\n",
       " ('seafood_fraction', -0.0004080020866128641),\n",
       " ('chinese_fraction', -0.0007085501439494505),\n",
       " ('pubs_fraction', 1.1003962833474272e-05),\n",
       " ('bagels_fraction', -0.0006402738671172253),\n",
       " ('sushi_fraction', 0.0007541361283123179),\n",
       " ('dominican_fraction', -0.0006596638268797298),\n",
       " ('caribbean_fraction', 1.088039940601563e-05),\n",
       " ('grocery_fraction', 0.00033215917348253514),\n",
       " ('pakistani_fraction', -0.0002912202446230088),\n",
       " ('divebars_fraction', 0.0006110956080226486),\n",
       " ('hotdogs_fraction', -0.0012447697774220145),\n",
       " ('donuts_fraction', -0.0011812143551903367),\n",
       " ('tex-mex_fraction', 0.00020666191615900702),\n",
       " ('african_fraction', 0.00020313723042501925),\n",
       " ('mediterranean_fraction', 0.0007084023129710796),\n",
       " ('poolhalls_fraction', -0.000535438463379329),\n",
       " ('kosher_fraction', 0.0006992733276805422),\n",
       " ('chicken_wings_fraction', -0.0008775219842493545),\n",
       " ('restaurants_fraction', -0.0004860994008648117),\n",
       " ('salvadoran_fraction', -0.0006595577873105699),\n",
       " ('vegetarian_fraction', 0.0011897536808614373),\n",
       " ('cigarbars_fraction', 0.00012774650726516705),\n",
       " ('buffets_fraction', -0.0005987650248692218),\n",
       " ('salad_fraction', 0.0006772943057065462),\n",
       " ('convenience_fraction', -0.0004736411248351659),\n",
       " ('danceclubs_fraction', 0.000679822578812493),\n",
       " ('cafeteria_fraction', 0.0003338722273176543),\n",
       " ('sandwiches_fraction', -0.0003853559657158134),\n",
       " ('tacos_fraction', 0.0005819658117135263),\n",
       " ('cantonese_fraction', 0.000292667175773182),\n",
       " ('foodstands_fraction', 0.0007830983216801981),\n",
       " ('steak_fraction', 0.00023343575968600582),\n",
       " ('markets_fraction', 0.000305939732777647),\n",
       " ('moroccan_fraction', 0.0009268186786744272),\n",
       " ('southern_fraction', 0.0009529880556181685),\n",
       " ('french_fraction', 0.001762242152631763),\n",
       " ('argentine_fraction', -0.0001170028329055336),\n",
       " ('laundromat_fraction', 0.00039756810145424144),\n",
       " ('szechuan_fraction', 0.00016716981597921315),\n",
       " ('venues_fraction', 0.001272907441706638),\n",
       " ('hotdog_fraction', -0.00024345272996201034),\n",
       " ('korean_fraction', -8.685633805994619e-05),\n",
       " ('cheese_fraction', 0.000795083853546133),\n",
       " ('bowling_fraction', 0.0003984386600794717),\n",
       " ('streetvendors_fraction', -0.00015293941464752348),\n",
       " ('gastropubs_fraction', 0.0010190057836577562),\n",
       " ('chocolate_fraction', 0.001047824368584002),\n",
       " ('filipino_fraction', -0.00028477927916132966),\n",
       " ('noodles_fraction', 0.0006823822295837705),\n",
       " ('macarons_fraction', 0.000672484011479383),\n",
       " ('tea_fraction', 0.001095141004372666),\n",
       " ('food_court_fraction', -0.00015893463630830014),\n",
       " ('waffles_fraction', 0.00029082888987261974),\n",
       " ('acaibowls_fraction', -9.997073613458285e-05),\n",
       " ('dimsum_fraction', 0.0005705717270419047),\n",
       " ('bubbletea_fraction', 9.631902817499186e-05),\n",
       " ('champagne_bars_fraction', 0.0005492047054568479),\n",
       " ('cocktailbars_fraction', 0.0015084595918256304),\n",
       " ('soup_fraction', -0.0001529058518064793),\n",
       " ('landmarks_fraction', 0.0005422714387957708),\n",
       " ('nonprofit_fraction', 0.00039900761230953337),\n",
       " ('vegan_fraction', 0.0008208102019242478),\n",
       " ('ramen_fraction', 0.0015182140702306593),\n",
       " ('ethiopian_fraction', 0.0007545921477923654),\n",
       " ('tapas_fraction', 0.0006564537227833518),\n",
       " ('mideastern_fraction', 0.0005962554926394134),\n",
       " ('falafel_fraction', 0.0010165245116600624),\n",
       " ('fishnchips_fraction', -0.00013556739666525605),\n",
       " ('soulfood_fraction', 0.00045331358644027877),\n",
       " ('gelato_fraction', 0.0005387988177287345),\n",
       " ('bookstores_fraction', -9.74948547163605e-05),\n",
       " ('hookah_bars_fraction', -0.00021058338457150488),\n",
       " ('poke_fraction', 0.000712993367334044),\n",
       " ('customcakes_fraction', -0.0004483670651488696),\n",
       " ('tobaccoshops_fraction', -8.189747282731729e-05),\n",
       " ('hotpot_fraction', -0.00011286882206275396),\n",
       " ('turkish_fraction', 0.00016869954728702336),\n",
       " ('shanghainese_fraction', 0.0003917587440528459),\n",
       " ('pastashops_fraction', -0.0004462208060290278),\n",
       " ('russian_fraction', 0.00013526364650393358),\n",
       " ('uzbek_fraction', 0.0003765448214045222),\n",
       " ('peruvian_fraction', 0.00021104466476670682),\n",
       " ('taiwanese_fraction', 6.617984591628373e-05),\n",
       " ('cajun_fraction', 4.7235552621768534e-05),\n",
       " ('polish_fraction', 0.0005481739527640128),\n",
       " ('gourmet_fraction', 0.0005452945836379306),\n",
       " ('malaysian_fraction', 0.00043907528232163567),\n",
       " ('chickenshop_fraction', -2.1555228963998958e-05),\n",
       " ('afghani_fraction', 0.0004898040563457212),\n",
       " ('karaoke_fraction', 0.0007162744721772462),\n",
       " ('ukrainian_fraction', 0.0004066197422223319),\n",
       " ('irish_pubs_fraction', 0.00023086789484835196),\n",
       " ('georgian_fraction', 0.00047885830098198866),\n",
       " ('german_fraction', -0.0001203182567298425),\n",
       " ('srilankan_fraction', -0.00044439804553778625),\n",
       " ('candy_fraction', 0.00023569145355624392),\n",
       " ('healthmarkets_fraction', -0.0004602453797311682),\n",
       " ('musicvideo_fraction', -0.00036458026031973634),\n",
       " ('colombian_fraction', -0.0005216600222971983),\n",
       " ('magicians_fraction', 0.00039354138854118384),\n",
       " ('pretzels_fraction', -0.0003623484598438926),\n",
       " ('comedyclubs_fraction', 0.0005516256093447113),\n",
       " ('beer_and_wine_fraction', -0.0003211984920312988),\n",
       " ('speakeasies_fraction', 4.303466943367435e-05),\n",
       " ('shavedice_fraction', -0.00036063318721041445),\n",
       " ('cupcakes_fraction', 0.0001848984127824651),\n",
       " ('brazilian_fraction', 0.00027833420222138827),\n",
       " ('himalayan_fraction', -0.00036140888851123417),\n",
       " ('beerbar_fraction', 0.0013822038986529637),\n",
       " ('tikibars_fraction', -0.00017838259480192794),\n",
       " ('belgian_fraction', 0.0005586902172662708),\n",
       " ('musicvenues_fraction', 0.0012860398847671934),\n",
       " ('teppanyaki_fraction', 0.0),\n",
       " ('izakaya_fraction', 0.0007786569006240333),\n",
       " ('persian_fraction', 0.0005660678928112555),\n",
       " ('japacurry_fraction', 0.0008993613119708837),\n",
       " ('butcher_fraction', 0.00015697172568529546),\n",
       " ('supperclubs_fraction', 0.0003861538354575675),\n",
       " ('arcades_fraction', -1.6872338488843505e-05),\n",
       " ('whiskeybars_fraction', 0.00024111229254645712),\n",
       " ('portuguese_fraction', 0.0005601086025719033),\n",
       " ('australian_fraction', 0.0006599441626515342),\n",
       " ('publicmarkets_fraction', 0.0005434551408303304),\n",
       " ('gaybars_fraction', 0.0006826442211516111),\n",
       " ('mags_fraction', 0.0),\n",
       " ('cheesesteaks_fraction', 0.0),\n",
       " ('hawaiian_fraction', 0.0007688484058267055),\n",
       " ('artmuseums_fraction', 0.0),\n",
       " ('scandinavian_fraction', -0.00016213286316650656),\n",
       " ('indonesian_fraction', 0.0006638306466885513),\n",
       " ('hair_fraction', 0.00039443847463766966),\n",
       " ('jazzandblues_fraction', 0.0009708312144514287),\n",
       " ('cambodian_fraction', 0.0001706137417123543),\n",
       " ('british_fraction', 0.0006807462824862549),\n",
       " ('seafoodmarkets_fraction', -4.1593816511001105e-05),\n",
       " ('lebanese_fraction', -7.460032711351528e-05),\n",
       " ('boating_fraction', 0.0004021395678025439),\n",
       " ('panasian_fraction', -0.0002416955195192598),\n",
       " ('gluten_free_fraction', 5.1043803015815795e-05),\n",
       " ('armenian_fraction', 0.0),\n",
       " ('themedcafes_fraction', 0.0),\n",
       " ('empanadas_fraction', 0.0007740467848828057),\n",
       " ('hkcafe_fraction', -0.0001654396082348853),\n",
       " ('cakeshop_fraction', 0.00040918991950628244),\n",
       " ('tours_fraction', 0.0),\n",
       " ('hobbyshops_fraction', 0.0),\n",
       " ('basque_fraction', 0.00040136242993220697),\n",
       " ('fondue_fraction', 0.0005468633062547021),\n",
       " ('pianobars_fraction', 0.0),\n",
       " ('sports_clubs_fraction', 0.0),\n",
       " ('golflessons_fraction', 0.0003918438242133956),\n",
       " ('boxing_fraction', 0.0),\n",
       " ('museums_fraction', -0.00020412483818810638),\n",
       " ('creperies_fraction', 0.0004411230081963276),\n",
       " ('fooddeliveryservices_fraction', -0.0003614088885112341),\n",
       " ('intlgrocery_fraction', -6.257886559097028e-05),\n",
       " ('barbers_fraction', 0.0003984386600794717),\n",
       " ('tuscan_fraction', 0.0006485119386532805),\n",
       " ('eventplanning_fraction', 0.00039756810145424144),\n",
       " ('newmexican_fraction', 0.0006659928837781877),\n",
       " ('movietheaters_fraction', 0.0006638696119930312),\n",
       " ('laotian_fraction', 0.00039443847463766966),\n",
       " ('mongolian_fraction', 0.00039443847463766966),\n",
       " ('wraps_fraction', 0.0006812133925976925),\n",
       " ('hungarian_fraction', 0.0003861538354575675),\n",
       " ('trinidadian_fraction', -4.169737410507872e-05),\n",
       " ('haitian_fraction', 0.0003086696799489366),\n",
       " ('puertorican_fraction', -0.00024942951487625937),\n",
       " ('festivals_fraction', 0.0001982555381733604),\n",
       " ('servicestations_fraction', 0.0),\n",
       " ('theater_fraction', 0.0006230238456186433),\n",
       " ('kebab_fraction', -0.0003657304194389344),\n",
       " ('austrian_fraction', 0.0006881934345094459),\n",
       " ('distilleries_fraction', 0.0),\n",
       " ('breweries_fraction', 0.0007905269140272802),\n",
       " ('skate_parks_fraction', 0.0003994181516355669),\n",
       " ('czech_fraction', 0.00039900761230953337),\n",
       " ('shoppingcenters_fraction', 0.00056211126359634),\n",
       " ('southafrican_fraction', 0.0004021395678025439),\n",
       " ('petstore_fraction', -0.0003654298479522357),\n",
       " ('sharedofficespaces_fraction', 0.0003996443073816786),\n",
       " ('popuprestaurants_fraction', 0.0003996443073816786),\n",
       " ('hotels_fraction', 0.0003861538354575675),\n",
       " ('egyptian_fraction', 0.00046530813862669763),\n",
       " ('tattoo_fraction', 0.0005579942287938382),\n",
       " ('organic_stores_fraction', 0.00045600580361461907),\n",
       " ('vinyl_records_fraction', 0.00040245750328000903),\n",
       " ('senegalese_fraction', 0.0003115741516218982),\n",
       " ('galleries_fraction', -0.00023849817343183543),\n",
       " ('bangladeshi_fraction', 0.00015215530798434846),\n",
       " ('brasseries_fraction', 0.0005225760264680467),\n",
       " ('sportswear_fraction', 0.0003861538354575675),\n",
       " ('vapeshops_fraction', 0.0),\n",
       " ('florists_fraction', -1.5747561281834287e-05),\n",
       " ('cookingclasses_fraction', 0.0003994181516355669),\n",
       " ('kitchenandbath_fraction', 0.00040245750328000903),\n",
       " ('culturalcenter_fraction', 0.0005454189355837762),\n",
       " ('sportgoods_fraction', -0.0003657304194389344),\n",
       " ('nightlife_fraction', 0.00039354138854118384),\n",
       " ('eatertainment_fraction', 0.0),\n",
       " ('food_fraction', 0.0),\n",
       " ('herbsandspices_fraction', 3.75729129771887e-05),\n",
       " ('localservices_fraction', 0.0004017460503712427),\n",
       " ('airportlounges_fraction', 0.0),\n",
       " ('golf_fraction', -0.0003607918113590012),\n",
       " ('giftshops_fraction', 0.0004021395678025439),\n",
       " ('spas_fraction', -0.00036747958909740235),\n",
       " ('singaporean_fraction', 0.0),\n",
       " ('diyfood_fraction', 0.0),\n",
       " ('kids_activities_fraction', 0.0003984386600794717),\n",
       " ('shopping_fraction', 0.0003945935779224624),\n",
       " ('cookingschools_fraction', -0.0003614088885112341),\n",
       " ('burmese_fraction', -0.0001436110723233898),\n",
       " ('sicilian_fraction', 0.0004066197422223319),\n",
       " ('farmersmarket_fraction', 0.0003861538354575675),\n",
       " ('1_2_fraction', -0.0007417449467290959),\n",
       " ('3_4_fraction', 0.0007417449467290955)]"
      ]
     },
     "execution_count": 42,
     "metadata": {},
     "output_type": "execute_result"
    }
   ],
   "source": [
    "gs_lr_betas = list(zip(names, coef_lr_gs))\n",
    "gs_lr_betas"
   ]
  },
  {
   "cell_type": "code",
   "execution_count": 43,
   "metadata": {},
   "outputs": [],
   "source": [
    "# Create final dataframe of words with their corresponding coefficients\n",
    "gs_lr_coefs = pd.DataFrame(gs_lr_betas).rename(columns = {0: 'word', 1: 'coef'}).sort_values(by = 'coef', ascending = False)"
   ]
  },
  {
   "cell_type": "code",
   "execution_count": 44,
   "metadata": {},
   "outputs": [
    {
     "data": {
      "text/html": [
       "<div>\n",
       "<style scoped>\n",
       "    .dataframe tbody tr th:only-of-type {\n",
       "        vertical-align: middle;\n",
       "    }\n",
       "\n",
       "    .dataframe tbody tr th {\n",
       "        vertical-align: top;\n",
       "    }\n",
       "\n",
       "    .dataframe thead th {\n",
       "        text-align: right;\n",
       "    }\n",
       "</style>\n",
       "<table border=\"1\" class=\"dataframe\">\n",
       "  <thead>\n",
       "    <tr style=\"text-align: right;\">\n",
       "      <th></th>\n",
       "      <th>word</th>\n",
       "      <th>coef</th>\n",
       "    </tr>\n",
       "  </thead>\n",
       "  <tbody>\n",
       "    <tr>\n",
       "      <th>80</th>\n",
       "      <td>french_fraction</td>\n",
       "      <td>0.001762</td>\n",
       "    </tr>\n",
       "    <tr>\n",
       "      <th>107</th>\n",
       "      <td>ramen_fraction</td>\n",
       "      <td>0.001518</td>\n",
       "    </tr>\n",
       "    <tr>\n",
       "      <th>102</th>\n",
       "      <td>cocktailbars_fraction</td>\n",
       "      <td>0.001508</td>\n",
       "    </tr>\n",
       "    <tr>\n",
       "      <th>36</th>\n",
       "      <td>cafes_fraction</td>\n",
       "      <td>0.001393</td>\n",
       "    </tr>\n",
       "    <tr>\n",
       "      <th>153</th>\n",
       "      <td>beerbar_fraction</td>\n",
       "      <td>0.001382</td>\n",
       "    </tr>\n",
       "    <tr>\n",
       "      <th>...</th>\n",
       "      <td>...</td>\n",
       "      <td>...</td>\n",
       "    </tr>\n",
       "    <tr>\n",
       "      <th>29</th>\n",
       "      <td>diners_fraction</td>\n",
       "      <td>-0.000938</td>\n",
       "    </tr>\n",
       "    <tr>\n",
       "      <th>1</th>\n",
       "      <td>1_fraction</td>\n",
       "      <td>-0.001138</td>\n",
       "    </tr>\n",
       "    <tr>\n",
       "      <th>56</th>\n",
       "      <td>donuts_fraction</td>\n",
       "      <td>-0.001181</td>\n",
       "    </tr>\n",
       "    <tr>\n",
       "      <th>55</th>\n",
       "      <td>hotdogs_fraction</td>\n",
       "      <td>-0.001245</td>\n",
       "    </tr>\n",
       "    <tr>\n",
       "      <th>15</th>\n",
       "      <td>pizza_fraction</td>\n",
       "      <td>-0.001384</td>\n",
       "    </tr>\n",
       "  </tbody>\n",
       "</table>\n",
       "<p>243 rows × 2 columns</p>\n",
       "</div>"
      ],
      "text/plain": [
       "                      word      coef\n",
       "80         french_fraction  0.001762\n",
       "107         ramen_fraction  0.001518\n",
       "102  cocktailbars_fraction  0.001508\n",
       "36          cafes_fraction  0.001393\n",
       "153       beerbar_fraction  0.001382\n",
       "..                     ...       ...\n",
       "29         diners_fraction -0.000938\n",
       "1               1_fraction -0.001138\n",
       "56         donuts_fraction -0.001181\n",
       "55        hotdogs_fraction -0.001245\n",
       "15          pizza_fraction -0.001384\n",
       "\n",
       "[243 rows x 2 columns]"
      ]
     },
     "execution_count": 44,
     "metadata": {},
     "output_type": "execute_result"
    }
   ],
   "source": [
    "gs_lr_coefs[gs_lr_coefs['coef'] != 0]"
   ]
  },
  {
   "cell_type": "code",
   "execution_count": null,
   "metadata": {},
   "outputs": [],
   "source": []
  },
  {
   "cell_type": "markdown",
   "metadata": {},
   "source": [
    "## KNN model"
   ]
  },
  {
   "cell_type": "code",
   "execution_count": 45,
   "metadata": {},
   "outputs": [],
   "source": [
    "# Pipe line: CountVectorizer() + LogisticRegression\n",
    "pipe_knn = Pipeline(steps=[\n",
    "    ('ss', StandardScaler()),\n",
    "    ('knn', KNeighborsClassifier())\n",
    "])\n",
    "\n",
    "pipe_params_knn ={\n",
    "    'knn__n_neighbors' : [5, 10, 15, 20]\n",
    "    \n",
    "}\n",
    "\n",
    "gs_knn = GridSearchCV(pipe_knn, \n",
    "                      pipe_params_knn, \n",
    "                      cv=3,\n",
    "                      scoring='roc_auc')"
   ]
  },
  {
   "cell_type": "code",
   "execution_count": 46,
   "metadata": {},
   "outputs": [
    {
     "name": "stderr",
     "output_type": "stream",
     "text": [
      "/opt/anaconda3/envs/dsi/lib/python3.7/site-packages/sklearn/model_selection/_search.py:814: DeprecationWarning: The default of the `iid` parameter will change from True to False in version 0.22 and will be removed in 0.24. This will change numeric results when test-set sizes are unequal.\n",
      "  DeprecationWarning)\n"
     ]
    }
   ],
   "source": [
    "gs_knn.fit(X_train, y_train);"
   ]
  },
  {
   "cell_type": "code",
   "execution_count": 47,
   "metadata": {},
   "outputs": [
    {
     "data": {
      "text/plain": [
       "{'knn__n_neighbors': 15}"
      ]
     },
     "execution_count": 47,
     "metadata": {},
     "output_type": "execute_result"
    }
   ],
   "source": [
    "# Check the optimal params\n",
    "gs_knn.best_params_"
   ]
  },
  {
   "cell_type": "code",
   "execution_count": 48,
   "metadata": {},
   "outputs": [
    {
     "data": {
      "text/plain": [
       "0.9164746543778802"
      ]
     },
     "execution_count": 48,
     "metadata": {},
     "output_type": "execute_result"
    }
   ],
   "source": [
    "# Train score\n",
    "gs_knn.score(X_train, y_train)"
   ]
  },
  {
   "cell_type": "code",
   "execution_count": 49,
   "metadata": {},
   "outputs": [
    {
     "data": {
      "text/plain": [
       "0.8636363636363636"
      ]
     },
     "execution_count": 49,
     "metadata": {},
     "output_type": "execute_result"
    }
   ],
   "source": [
    "# Test score\n",
    "gs_knn.score(X_test, y_test)"
   ]
  },
  {
   "cell_type": "code",
   "execution_count": 50,
   "metadata": {},
   "outputs": [
    {
     "data": {
      "text/plain": [
       "0.7218406593406593"
      ]
     },
     "execution_count": 50,
     "metadata": {},
     "output_type": "execute_result"
    }
   ],
   "source": [
    "# Cross val score on the whole dataset \n",
    "cv_knn = cross_val_score(gs_knn.best_estimator_, X, y, scoring='roc_auc', cv=3).mean()\n",
    "cv_knn"
   ]
  },
  {
   "cell_type": "code",
   "execution_count": null,
   "metadata": {},
   "outputs": [],
   "source": []
  },
  {
   "cell_type": "code",
   "execution_count": null,
   "metadata": {},
   "outputs": [],
   "source": []
  },
  {
   "cell_type": "markdown",
   "metadata": {},
   "source": [
    "## Trees"
   ]
  },
  {
   "cell_type": "markdown",
   "metadata": {},
   "source": [
    "### Decision Tree"
   ]
  },
  {
   "cell_type": "code",
   "execution_count": 51,
   "metadata": {},
   "outputs": [],
   "source": [
    "pipe_dt = Pipeline(steps=[\n",
    "    ('ss', StandardScaler()), \n",
    "    ('dt', DecisionTreeClassifier(random_state=42))\n",
    "])\n",
    "\n",
    "pipe_params_dt = {\n",
    "    'dt__max_depth': [3, 5],\n",
    "    'dt__min_samples_split': [2, 3],\n",
    "    'dt__min_samples_leaf': [1, 5, 10]}\n",
    "\n",
    "gs_dt = GridSearchCV(pipe_dt, \n",
    "                     pipe_params_dt, \n",
    "                     cv=3,\n",
    "                     scoring='roc_auc')"
   ]
  },
  {
   "cell_type": "code",
   "execution_count": 52,
   "metadata": {},
   "outputs": [
    {
     "name": "stderr",
     "output_type": "stream",
     "text": [
      "/opt/anaconda3/envs/dsi/lib/python3.7/site-packages/sklearn/model_selection/_search.py:814: DeprecationWarning: The default of the `iid` parameter will change from True to False in version 0.22 and will be removed in 0.24. This will change numeric results when test-set sizes are unequal.\n",
      "  DeprecationWarning)\n"
     ]
    }
   ],
   "source": [
    "gs_dt.fit(X_train, y_train);"
   ]
  },
  {
   "cell_type": "code",
   "execution_count": 53,
   "metadata": {},
   "outputs": [
    {
     "data": {
      "text/plain": [
       "{'dt__max_depth': 3, 'dt__min_samples_leaf': 10, 'dt__min_samples_split': 2}"
      ]
     },
     "execution_count": 53,
     "metadata": {},
     "output_type": "execute_result"
    }
   ],
   "source": [
    "# Check the optimal params\n",
    "gs_dt.best_params_"
   ]
  },
  {
   "cell_type": "code",
   "execution_count": 54,
   "metadata": {},
   "outputs": [
    {
     "data": {
      "text/plain": [
       "0.9475806451612903"
      ]
     },
     "execution_count": 54,
     "metadata": {},
     "output_type": "execute_result"
    }
   ],
   "source": [
    "# Train score\n",
    "gs_dt.score(X_train, y_train)"
   ]
  },
  {
   "cell_type": "code",
   "execution_count": 55,
   "metadata": {},
   "outputs": [
    {
     "data": {
      "text/plain": [
       "0.7929292929292929"
      ]
     },
     "execution_count": 55,
     "metadata": {},
     "output_type": "execute_result"
    }
   ],
   "source": [
    "# Test score\n",
    "gs_dt.score(X_test, y_test)"
   ]
  },
  {
   "cell_type": "code",
   "execution_count": 56,
   "metadata": {},
   "outputs": [
    {
     "data": {
      "text/plain": [
       "0.7343559218559218"
      ]
     },
     "execution_count": 56,
     "metadata": {},
     "output_type": "execute_result"
    }
   ],
   "source": [
    "# Cross val score on the whole dataset \n",
    "cv_dt = cross_val_score(gs_dt.best_estimator_, X, y, scoring='roc_auc', cv=3).mean()\n",
    "cv_dt"
   ]
  },
  {
   "cell_type": "code",
   "execution_count": null,
   "metadata": {},
   "outputs": [],
   "source": []
  },
  {
   "cell_type": "code",
   "execution_count": 57,
   "metadata": {},
   "outputs": [],
   "source": [
    "#coef_dt_gs = np.array((gs_dt.best_estimator_.named_steps['dt']).coef_).tolist()[0]"
   ]
  },
  {
   "cell_type": "code",
   "execution_count": null,
   "metadata": {},
   "outputs": [],
   "source": []
  },
  {
   "cell_type": "markdown",
   "metadata": {},
   "source": [
    "### Bagging Classifier"
   ]
  },
  {
   "cell_type": "code",
   "execution_count": 58,
   "metadata": {},
   "outputs": [],
   "source": [
    "pipe_bc = Pipeline(steps=[\n",
    "    ('ss', StandardScaler()), \n",
    "    ('bc', BaggingClassifier(random_state=42))\n",
    "])\n",
    "\n",
    "pipe_params_bc = {\n",
    "    'bc__n_estimators': [5, 10, 15],\n",
    "    'bc__max_samples': [1, 2, 3]}\n",
    "\n",
    "gs_bc = GridSearchCV(pipe_bc, \n",
    "                     pipe_params_bc, \n",
    "                     cv=3,\n",
    "                     scoring='roc_auc')"
   ]
  },
  {
   "cell_type": "code",
   "execution_count": 59,
   "metadata": {},
   "outputs": [
    {
     "name": "stderr",
     "output_type": "stream",
     "text": [
      "/opt/anaconda3/envs/dsi/lib/python3.7/site-packages/sklearn/model_selection/_search.py:814: DeprecationWarning: The default of the `iid` parameter will change from True to False in version 0.22 and will be removed in 0.24. This will change numeric results when test-set sizes are unequal.\n",
      "  DeprecationWarning)\n"
     ]
    }
   ],
   "source": [
    "gs_bc.fit(X_train, y_train);"
   ]
  },
  {
   "cell_type": "code",
   "execution_count": 60,
   "metadata": {},
   "outputs": [
    {
     "data": {
      "text/plain": [
       "{'bc__max_samples': 3, 'bc__n_estimators': 15}"
      ]
     },
     "execution_count": 60,
     "metadata": {},
     "output_type": "execute_result"
    }
   ],
   "source": [
    "# Check the optimal params\n",
    "gs_bc.best_params_"
   ]
  },
  {
   "cell_type": "code",
   "execution_count": 61,
   "metadata": {},
   "outputs": [
    {
     "data": {
      "text/plain": [
       "0.8513824884792627"
      ]
     },
     "execution_count": 61,
     "metadata": {},
     "output_type": "execute_result"
    }
   ],
   "source": [
    "# Train score\n",
    "gs_bc.score(X_train, y_train)"
   ]
  },
  {
   "cell_type": "code",
   "execution_count": 62,
   "metadata": {
    "scrolled": true
   },
   "outputs": [
    {
     "data": {
      "text/plain": [
       "0.8282828282828282"
      ]
     },
     "execution_count": 62,
     "metadata": {},
     "output_type": "execute_result"
    }
   ],
   "source": [
    "# Test score\n",
    "gs_bc.score(X_test, y_test)"
   ]
  },
  {
   "cell_type": "code",
   "execution_count": 63,
   "metadata": {},
   "outputs": [
    {
     "data": {
      "text/plain": [
       "0.764957264957265"
      ]
     },
     "execution_count": 63,
     "metadata": {},
     "output_type": "execute_result"
    }
   ],
   "source": [
    "# Cross val score on the whole dataset \n",
    "cv_bc = cross_val_score(gs_bc.best_estimator_, X, y, scoring='roc_auc', cv=3).mean()\n",
    "cv_bc"
   ]
  },
  {
   "cell_type": "code",
   "execution_count": 64,
   "metadata": {},
   "outputs": [],
   "source": [
    "#coef_bc_gs = np.array((gs_bc.best_estimator_.named_steps['bc']).coef_).tolist()[0]"
   ]
  },
  {
   "cell_type": "code",
   "execution_count": null,
   "metadata": {},
   "outputs": [],
   "source": []
  },
  {
   "cell_type": "markdown",
   "metadata": {},
   "source": [
    "### Random Forest"
   ]
  },
  {
   "cell_type": "code",
   "execution_count": 65,
   "metadata": {},
   "outputs": [],
   "source": [
    "pipe_rf = Pipeline(steps=[ \n",
    "    ('ss', StandardScaler()),\n",
    "    ('rf', RandomForestClassifier(random_state=42))\n",
    "])\n",
    "\n",
    "pipe_params_rf = {\n",
    "    'rf__max_depth': [3, 5],\n",
    "    'rf__min_samples_split': [2, 3],\n",
    "    'rf__min_samples_leaf': [1, 5, 10]}\n",
    "\n",
    "\n",
    "gs_rf = GridSearchCV(pipe_rf, \n",
    "                     pipe_params_rf, \n",
    "                     cv=3,\n",
    "                     scoring='roc_auc')"
   ]
  },
  {
   "cell_type": "code",
   "execution_count": 66,
   "metadata": {},
   "outputs": [
    {
     "name": "stderr",
     "output_type": "stream",
     "text": [
      "/opt/anaconda3/envs/dsi/lib/python3.7/site-packages/sklearn/model_selection/_search.py:814: DeprecationWarning: The default of the `iid` parameter will change from True to False in version 0.22 and will be removed in 0.24. This will change numeric results when test-set sizes are unequal.\n",
      "  DeprecationWarning)\n"
     ]
    }
   ],
   "source": [
    "gs_rf.fit(X_train, y_train);"
   ]
  },
  {
   "cell_type": "code",
   "execution_count": 67,
   "metadata": {},
   "outputs": [
    {
     "data": {
      "text/plain": [
       "{'rf__max_depth': 5, 'rf__min_samples_leaf': 1, 'rf__min_samples_split': 3}"
      ]
     },
     "execution_count": 67,
     "metadata": {},
     "output_type": "execute_result"
    }
   ],
   "source": [
    "# Check the optimal params\n",
    "gs_rf.best_params_"
   ]
  },
  {
   "cell_type": "code",
   "execution_count": 68,
   "metadata": {},
   "outputs": [
    {
     "data": {
      "text/plain": [
       "1.0"
      ]
     },
     "execution_count": 68,
     "metadata": {},
     "output_type": "execute_result"
    }
   ],
   "source": [
    "# Train score\n",
    "gs_rf.score(X_train, y_train)"
   ]
  },
  {
   "cell_type": "code",
   "execution_count": 69,
   "metadata": {},
   "outputs": [
    {
     "data": {
      "text/plain": [
       "0.8333333333333334"
      ]
     },
     "execution_count": 69,
     "metadata": {},
     "output_type": "execute_result"
    }
   ],
   "source": [
    "# Test score\n",
    "gs_rf.score(X_test, y_test)"
   ]
  },
  {
   "cell_type": "code",
   "execution_count": 70,
   "metadata": {},
   "outputs": [
    {
     "data": {
      "text/plain": [
       "0.8582112332112333"
      ]
     },
     "execution_count": 70,
     "metadata": {},
     "output_type": "execute_result"
    }
   ],
   "source": [
    "# Cross val score on the whole dataset \n",
    "cv_rf = cross_val_score(gs_rf.best_estimator_, X, y, scoring='roc_auc', cv=3).mean()\n",
    "cv_rf"
   ]
  },
  {
   "cell_type": "code",
   "execution_count": null,
   "metadata": {},
   "outputs": [],
   "source": []
  },
  {
   "cell_type": "code",
   "execution_count": null,
   "metadata": {},
   "outputs": [],
   "source": []
  },
  {
   "cell_type": "code",
   "execution_count": 71,
   "metadata": {},
   "outputs": [
    {
     "name": "stdout",
     "output_type": "stream",
     "text": [
      "Training Scores:\n",
      "Logistic Regression:                          0.988\n",
      "K-Nearest Neighbors Classification:           0.882\n",
      "Decision Tree Classification:                 0.906\n",
      "Set of Bagged Decision Trees Classification:  0.830\n",
      "Random Forest Classification:                 0.926\n"
     ]
    }
   ],
   "source": [
    "# Evaluate Training Scores for each Classification Model\n",
    "print('Training Scores:')\n",
    "print(f'Logistic Regression:                          {gs_lr.score(X_train_sc, y_train):.3f}')\n",
    "print(f'K-Nearest Neighbors Classification:           {gs_knn.score(X_train_sc, y_train):.3f}')\n",
    "print(f'Decision Tree Classification:                 {gs_dt.score(X_train_sc, y_train):.3f}')\n",
    "print(f'Set of Bagged Decision Trees Classification:  {gs_bc.score(X_train_sc, y_train):.3f}')\n",
    "print(f'Random Forest Classification:                 {gs_rf.score(X_train_sc, y_train):.3f}')\n"
   ]
  },
  {
   "cell_type": "code",
   "execution_count": 72,
   "metadata": {},
   "outputs": [
    {
     "name": "stdout",
     "output_type": "stream",
     "text": [
      "Testing Scores:\n",
      "Logistic Regression:                          0.808\n",
      "K-Nearest Neighbors Classification:           0.768\n",
      "Decision Tree Classification:                 0.843\n",
      "Set of Bagged Decision Trees Classification:  0.874\n",
      "Random Forest Classification:                 0.884\n"
     ]
    }
   ],
   "source": [
    "# Evaluate Testing Scores for each Classification Model\n",
    "print('Testing Scores:')\n",
    "print(f'Logistic Regression:                          {gs_lr.score(X_test_sc, y_test):.3f}')\n",
    "print(f'K-Nearest Neighbors Classification:           {gs_knn.score(X_test_sc, y_test):.3f}')\n",
    "print(f'Decision Tree Classification:                 {gs_dt.score(X_test_sc, y_test):.3f}')\n",
    "print(f'Set of Bagged Decision Trees Classification:  {gs_bc.score(X_test_sc, y_test):.3f}')\n",
    "print(f'Random Forest Classification:                 {gs_rf.score(X_test_sc, y_test):.3f}')\n"
   ]
  },
  {
   "cell_type": "code",
   "execution_count": 73,
   "metadata": {},
   "outputs": [
    {
     "name": "stdout",
     "output_type": "stream",
     "text": [
      "Training Scores:\n",
      "Logistic Regression:                          0.796\n",
      "K-Nearest Neighbors Classification:           0.722\n",
      "Decision Tree Classification:                 0.734\n",
      "Set of Bagged Decision Trees Classification:  0.765\n",
      "Random Forest Classification:                 0.858\n"
     ]
    }
   ],
   "source": [
    "# Evaluate Cross Validation scores for each Classification Model\n",
    "print('Training Scores:')\n",
    "print(f'Logistic Regression:                          {cv_lr:.3f}')\n",
    "print(f'K-Nearest Neighbors Classification:           {cv_knn:.3f}')\n",
    "print(f'Decision Tree Classification:                 {cv_dt:.3f}')\n",
    "print(f'Set of Bagged Decision Trees Classification:  {cv_bc:.3f}')\n",
    "print(f'Random Forest Classification:                 {cv_rf:.3f}')\n"
   ]
  },
  {
   "cell_type": "code",
   "execution_count": null,
   "metadata": {},
   "outputs": [],
   "source": []
  },
  {
   "cell_type": "markdown",
   "metadata": {},
   "source": [
    "# Model Selection"
   ]
  },
  {
   "cell_type": "code",
   "execution_count": null,
   "metadata": {},
   "outputs": [],
   "source": []
  },
  {
   "cell_type": "markdown",
   "metadata": {},
   "source": [
    "## Model Evaluation"
   ]
  },
  {
   "cell_type": "markdown",
   "metadata": {},
   "source": [
    "### Confusion Matrix"
   ]
  },
  {
   "cell_type": "code",
   "execution_count": 74,
   "metadata": {},
   "outputs": [],
   "source": [
    "y_pred = gs_rf.predict(X_test_sc)"
   ]
  },
  {
   "cell_type": "code",
   "execution_count": 75,
   "metadata": {},
   "outputs": [],
   "source": [
    "TN, FP, FN, TP = confusion_matrix(y_test, y_pred).ravel()"
   ]
  },
  {
   "cell_type": "code",
   "execution_count": 76,
   "metadata": {},
   "outputs": [],
   "source": [
    "cm = confusion_matrix(y_test, y_pred)"
   ]
  },
  {
   "cell_type": "code",
   "execution_count": 77,
   "metadata": {},
   "outputs": [
    {
     "data": {
      "image/png": "[encoded data removed]",
      "text/plain": [
       "<Figure size 576x576 with 1 Axes>"
      ]
     },
     "metadata": {
      "needs_background": "light"
     },
     "output_type": "display_data"
    }
   ],
   "source": [
    "plt.figure(figsize = (8,8))\n",
    "ax = plt.subplot()\n",
    "sns.heatmap(cm, \n",
    "            annot=True, \n",
    "            ax = ax, \n",
    "            fmt='g', \n",
    "            cbar=False,\n",
    "            cmap=\"Blues\"); #annot=True to annotate cells\n",
    "\n",
    "# labels, title and ticks\n",
    "ax.set_title('Confusion Matrix', size=16)\n",
    "ax.set_xlabel('Predicted', size=14)\n",
    "ax.set_ylabel('True', size=14)\n",
    "ax.xaxis.set_ticklabels(['Negative', 'Positive'])\n",
    "ax.yaxis.set_ticklabels(['Negative', 'Positive']);"
   ]
  },
  {
   "cell_type": "markdown",
   "metadata": {},
   "source": [
    "### ROC Curve and AUC ROC"
   ]
  },
  {
   "cell_type": "code",
   "execution_count": 78,
   "metadata": {},
   "outputs": [],
   "source": [
    "y_pred_proba = gs_rf.predict_proba(X_test_sc)"
   ]
  },
  {
   "cell_type": "code",
   "execution_count": 79,
   "metadata": {
    "scrolled": true
   },
   "outputs": [
    {
     "data": {
      "image/png": "[encoded data removed]",
      "text/plain": [
       "<Figure size 720x576 with 1 Axes>"
      ]
     },
     "metadata": {
      "needs_background": "light"
     },
     "output_type": "display_data"
    }
   ],
   "source": [
    "# Reference: https://scikit-learn.org/stable/modules/generated/sklearn.metrics.roc_curve.html#sklearn.metrics.roc_curve\n",
    "fpr, tpr, _= roc_curve(y_test, y_pred_proba[:,1])\n",
    "roc_auc = auc(fpr, tpr)\n",
    "\n",
    "\n",
    "# Plot of a ROC curve for a specific class\n",
    "plt.figure(figsize = (10,8))\n",
    "plt.plot(fpr, tpr, label='ROC curve (area = %0.4f)' % roc_auc)\n",
    "plt.plot([0, 1], [0, 1], 'k--', label='baseline')\n",
    "plt.xlim([-0.02, 1.0])\n",
    "plt.ylim([0.0, 1.02])\n",
    "plt.xlabel('False Positive Rate')\n",
    "plt.ylabel('True Positive Rate')\n",
    "plt.title('Receiver Operating Characteristic Curve', fontsize=15)\n",
    "plt.legend(loc=\"lower right\");"
   ]
  },
  {
   "cell_type": "code",
   "execution_count": null,
   "metadata": {},
   "outputs": [],
   "source": []
  },
  {
   "cell_type": "code",
   "execution_count": null,
   "metadata": {},
   "outputs": [],
   "source": []
  },
  {
   "cell_type": "markdown",
   "metadata": {},
   "source": [
    " "
   ]
  },
  {
   "cell_type": "code",
   "execution_count": null,
   "metadata": {},
   "outputs": [],
   "source": []
  }
 ],
 "metadata": {
  "kernelspec": {
   "display_name": "Python 3",
   "language": "python",
   "name": "python3"
  },
  "language_info": {
   "codemirror_mode": {
    "name": "ipython",
    "version": 3
   },
   "file_extension": ".py",
   "mimetype": "text/x-python",
   "name": "python",
   "nbconvert_exporter": "python",
   "pygments_lexer": "ipython3",
   "version": "3.7.5"
  },
  "toc": {
   "base_numbering": 1,
   "nav_menu": {},
   "number_sections": true,
   "sideBar": true,
   "skip_h1_title": false,
   "title_cell": "Table of Contents",
   "title_sidebar": "Contents",
   "toc_cell": false,
   "toc_position": {},
   "toc_section_display": true,
   "toc_window_display": false
  }
 },
 "nbformat": 4,
 "nbformat_minor": 2
}
