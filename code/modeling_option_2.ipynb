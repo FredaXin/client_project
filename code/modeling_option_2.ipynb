{
 "cells": [
  {
   "cell_type": "markdown",
   "metadata": {},
   "source": [
    "# Modeling: Option 2"
   ]
  },
  {
   "cell_type": "markdown",
   "metadata": {
    "toc": true
   },
   "source": [
    "<h1>Table of Contents<span class=\"tocSkip\"></span></h1>\n",
    "<div class=\"toc\"><ul class=\"toc-item\"><li><span><a href=\"#Modeling:-Option-2\" data-toc-modified-id=\"Modeling:-Option-2-1\"><span class=\"toc-item-num\">1&nbsp;&nbsp;</span>Modeling: Option 2</a></span><ul class=\"toc-item\"><li><span><a href=\"#Import-libraries\" data-toc-modified-id=\"Import-libraries-1.1\"><span class=\"toc-item-num\">1.1&nbsp;&nbsp;</span>Import libraries</a></span></li><li><span><a href=\"#Load-data\" data-toc-modified-id=\"Load-data-1.2\"><span class=\"toc-item-num\">1.2&nbsp;&nbsp;</span>Load data</a></span></li><li><span><a href=\"#Preprocessing\" data-toc-modified-id=\"Preprocessing-1.3\"><span class=\"toc-item-num\">1.3&nbsp;&nbsp;</span>Preprocessing</a></span></li><li><span><a href=\"#Model-Preparation\" data-toc-modified-id=\"Model-Preparation-1.4\"><span class=\"toc-item-num\">1.4&nbsp;&nbsp;</span>Model Preparation</a></span></li><li><span><a href=\"#Train,-Test-Split\" data-toc-modified-id=\"Train,-Test-Split-1.5\"><span class=\"toc-item-num\">1.5&nbsp;&nbsp;</span>Train, Test Split</a></span></li><li><span><a href=\"#Modeling\" data-toc-modified-id=\"Modeling-1.6\"><span class=\"toc-item-num\">1.6&nbsp;&nbsp;</span>Modeling</a></span><ul class=\"toc-item\"><li><span><a href=\"#Evaluation-Metric\" data-toc-modified-id=\"Evaluation-Metric-1.6.1\"><span class=\"toc-item-num\">1.6.1&nbsp;&nbsp;</span>Evaluation Metric</a></span></li><li><span><a href=\"#Baseline-Model\" data-toc-modified-id=\"Baseline-Model-1.6.2\"><span class=\"toc-item-num\">1.6.2&nbsp;&nbsp;</span>Baseline Model</a></span></li><li><span><a href=\"#Logistic-Regression\" data-toc-modified-id=\"Logistic-Regression-1.6.3\"><span class=\"toc-item-num\">1.6.3&nbsp;&nbsp;</span>Logistic Regression</a></span></li><li><span><a href=\"#KNN-model\" data-toc-modified-id=\"KNN-model-1.6.4\"><span class=\"toc-item-num\">1.6.4&nbsp;&nbsp;</span>KNN model</a></span></li><li><span><a href=\"#Trees\" data-toc-modified-id=\"Trees-1.6.5\"><span class=\"toc-item-num\">1.6.5&nbsp;&nbsp;</span>Trees</a></span><ul class=\"toc-item\"><li><span><a href=\"#Decision-Tree\" data-toc-modified-id=\"Decision-Tree-1.6.5.1\"><span class=\"toc-item-num\">1.6.5.1&nbsp;&nbsp;</span>Decision Tree</a></span></li><li><span><a href=\"#Bagging-Classifier\" data-toc-modified-id=\"Bagging-Classifier-1.6.5.2\"><span class=\"toc-item-num\">1.6.5.2&nbsp;&nbsp;</span>Bagging Classifier</a></span></li><li><span><a href=\"#Random-Forest\" data-toc-modified-id=\"Random-Forest-1.6.5.3\"><span class=\"toc-item-num\">1.6.5.3&nbsp;&nbsp;</span>Random Forest</a></span></li></ul></li><li><span><a href=\"#Voting-Classifier\" data-toc-modified-id=\"Voting-Classifier-1.6.6\"><span class=\"toc-item-num\">1.6.6&nbsp;&nbsp;</span>Voting Classifier</a></span></li></ul></li><li><span><a href=\"#Model-Selection\" data-toc-modified-id=\"Model-Selection-1.7\"><span class=\"toc-item-num\">1.7&nbsp;&nbsp;</span>Model Selection</a></span></li><li><span><a href=\"#Model-Evaluation\" data-toc-modified-id=\"Model-Evaluation-1.8\"><span class=\"toc-item-num\">1.8&nbsp;&nbsp;</span>Model Evaluation</a></span><ul class=\"toc-item\"><li><span><a href=\"#Confusion-Matrix\" data-toc-modified-id=\"Confusion-Matrix-1.8.1\"><span class=\"toc-item-num\">1.8.1&nbsp;&nbsp;</span>Confusion Matrix</a></span></li><li><span><a href=\"#ROC-Curve-and-AUC-ROC\" data-toc-modified-id=\"ROC-Curve-and-AUC-ROC-1.8.2\"><span class=\"toc-item-num\">1.8.2&nbsp;&nbsp;</span>ROC Curve and AUC ROC</a></span></li><li><span><a href=\"#Model-Interpretation\" data-toc-modified-id=\"Model-Interpretation-1.8.3\"><span class=\"toc-item-num\">1.8.3&nbsp;&nbsp;</span>Model Interpretation</a></span></li></ul></li></ul></li></ul></div>"
   ]
  },
  {
   "cell_type": "markdown",
   "metadata": {},
   "source": [
    "## Import libraries"
   ]
  },
  {
   "cell_type": "code",
   "execution_count": 73,
   "metadata": {},
   "outputs": [],
   "source": [
    "import numpy as np\n",
    "import pandas as pd\n",
    "import matplotlib.pyplot as plt\n",
    "import seaborn as sns\n",
    "\n",
    "from sklearn.preprocessing import StandardScaler\n",
    "from sklearn.model_selection import train_test_split, GridSearchCV, cross_val_score\n",
    "from sklearn.pipeline import Pipeline\n",
    "\n",
    "from sklearn.linear_model import LogisticRegression\n",
    "from sklearn.neighbors import KNeighborsClassifier\n",
    "from sklearn.tree import DecisionTreeClassifier\n",
    "from sklearn.ensemble import BaggingClassifier, RandomForestClassifier, VotingClassifier\n",
    "\n",
    "from sklearn.metrics import confusion_matrix, roc_curve, auc, make_scorer, roc_auc_score\n",
    "\n",
    "# Styling \n",
    "from IPython.display import HTML, display\n",
    "import tabulate\n",
    "\n",
    "pd.set_option('display.max_rows', 500)\n",
    "pd.set_option('display.max_columns', 500)\n",
    "\n",
    "import warnings\n",
    "warnings.simplefilter(action='ignore', category=FutureWarning)\n",
    "\n",
    "%matplotlib inline"
   ]
  },
  {
   "cell_type": "markdown",
   "metadata": {},
   "source": [
    "## Load data"
   ]
  },
  {
   "cell_type": "code",
   "execution_count": 2,
   "metadata": {},
   "outputs": [],
   "source": [
    "yelp = pd.read_csv('./../data/yelp_clean.csv')"
   ]
  },
  {
   "cell_type": "code",
   "execution_count": 3,
   "metadata": {},
   "outputs": [
    {
     "data": {
      "text/html": [
       "<div>\n",
       "<style scoped>\n",
       "    .dataframe tbody tr th:only-of-type {\n",
       "        vertical-align: middle;\n",
       "    }\n",
       "\n",
       "    .dataframe tbody tr th {\n",
       "        vertical-align: top;\n",
       "    }\n",
       "\n",
       "    .dataframe thead th {\n",
       "        text-align: right;\n",
       "    }\n",
       "</style>\n",
       "<table border=\"1\" class=\"dataframe\">\n",
       "  <thead>\n",
       "    <tr style=\"text-align: right;\">\n",
       "      <th></th>\n",
       "      <th>Unnamed: 0</th>\n",
       "      <th>name</th>\n",
       "      <th>review_count</th>\n",
       "      <th>rating</th>\n",
       "      <th>price</th>\n",
       "      <th>cat1</th>\n",
       "      <th>zip_code</th>\n",
       "      <th>nyc</th>\n",
       "      <th>borough</th>\n",
       "      <th>cluster</th>\n",
       "      <th>is_affluent</th>\n",
       "    </tr>\n",
       "  </thead>\n",
       "  <tbody>\n",
       "    <tr>\n",
       "      <td>0</td>\n",
       "      <td>0</td>\n",
       "      <td>Com Tam Ninh Kieu</td>\n",
       "      <td>379</td>\n",
       "      <td>4.0</td>\n",
       "      <td>2</td>\n",
       "      <td>vietnamese</td>\n",
       "      <td>10468</td>\n",
       "      <td>True</td>\n",
       "      <td>Bronx</td>\n",
       "      <td>12</td>\n",
       "      <td>0</td>\n",
       "    </tr>\n",
       "    <tr>\n",
       "      <td>1</td>\n",
       "      <td>1</td>\n",
       "      <td>Antonio's Trattoria</td>\n",
       "      <td>773</td>\n",
       "      <td>4.5</td>\n",
       "      <td>2</td>\n",
       "      <td>italian</td>\n",
       "      <td>10458</td>\n",
       "      <td>True</td>\n",
       "      <td>Bronx</td>\n",
       "      <td>12</td>\n",
       "      <td>0</td>\n",
       "    </tr>\n",
       "  </tbody>\n",
       "</table>\n",
       "</div>"
      ],
      "text/plain": [
       "   Unnamed: 0                 name  review_count  rating  price        cat1  \\\n",
       "0           0    Com Tam Ninh Kieu           379     4.0      2  vietnamese   \n",
       "1           1  Antonio's Trattoria           773     4.5      2     italian   \n",
       "\n",
       "   zip_code   nyc borough  cluster  is_affluent  \n",
       "0     10468  True   Bronx       12            0  \n",
       "1     10458  True   Bronx       12            0  "
      ]
     },
     "execution_count": 3,
     "metadata": {},
     "output_type": "execute_result"
    }
   ],
   "source": [
    "yelp.head(2)"
   ]
  },
  {
   "cell_type": "markdown",
   "metadata": {},
   "source": [
    "## Preprocessing"
   ]
  },
  {
   "cell_type": "code",
   "execution_count": 4,
   "metadata": {},
   "outputs": [],
   "source": [
    "# Select feature columns\n",
    "columns_to_keep = ['review_count', 'rating', 'price', 'cat1', 'is_affluent']\n",
    "yelp = yelp[columns_to_keep]"
   ]
  },
  {
   "cell_type": "code",
   "execution_count": 5,
   "metadata": {},
   "outputs": [],
   "source": [
    "# Dummify all categorical columns\n",
    "def dummify_categorical_columns(df):\n",
    "    '''\n",
    "    Dummify all categorical columns\n",
    "    '''\n",
    "    categorical_columns = df.select_dtypes(include=\"object\").columns\n",
    "    return pd.get_dummies(df, columns=categorical_columns, drop_first=True)"
   ]
  },
  {
   "cell_type": "code",
   "execution_count": 6,
   "metadata": {},
   "outputs": [],
   "source": [
    "yelp = dummify_categorical_columns(yelp)"
   ]
  },
  {
   "cell_type": "code",
   "execution_count": 7,
   "metadata": {},
   "outputs": [
    {
     "data": {
      "text/html": [
       "<div>\n",
       "<style scoped>\n",
       "    .dataframe tbody tr th:only-of-type {\n",
       "        vertical-align: middle;\n",
       "    }\n",
       "\n",
       "    .dataframe tbody tr th {\n",
       "        vertical-align: top;\n",
       "    }\n",
       "\n",
       "    .dataframe thead th {\n",
       "        text-align: right;\n",
       "    }\n",
       "</style>\n",
       "<table border=\"1\" class=\"dataframe\">\n",
       "  <thead>\n",
       "    <tr style=\"text-align: right;\">\n",
       "      <th></th>\n",
       "      <th>review_count</th>\n",
       "      <th>rating</th>\n",
       "      <th>price</th>\n",
       "      <th>is_affluent</th>\n",
       "      <th>cat1_afghani</th>\n",
       "      <th>cat1_african</th>\n",
       "      <th>cat1_airportlounges</th>\n",
       "      <th>cat1_arcades</th>\n",
       "      <th>cat1_argentine</th>\n",
       "      <th>cat1_armenian</th>\n",
       "      <th>cat1_artmuseums</th>\n",
       "      <th>cat1_asianfusion</th>\n",
       "      <th>cat1_australian</th>\n",
       "      <th>cat1_austrian</th>\n",
       "      <th>cat1_bagels</th>\n",
       "      <th>cat1_bakeries</th>\n",
       "      <th>cat1_bangladeshi</th>\n",
       "      <th>cat1_barbers</th>\n",
       "      <th>cat1_bars</th>\n",
       "      <th>cat1_basque</th>\n",
       "      <th>cat1_bbq</th>\n",
       "      <th>cat1_beer_and_wine</th>\n",
       "      <th>cat1_beerbar</th>\n",
       "      <th>cat1_beergardens</th>\n",
       "      <th>cat1_belgian</th>\n",
       "      <th>cat1_boating</th>\n",
       "      <th>cat1_bookstores</th>\n",
       "      <th>cat1_bowling</th>\n",
       "      <th>cat1_boxing</th>\n",
       "      <th>cat1_brasseries</th>\n",
       "      <th>cat1_brazilian</th>\n",
       "      <th>cat1_breakfast_brunch</th>\n",
       "      <th>cat1_breweries</th>\n",
       "      <th>cat1_british</th>\n",
       "      <th>cat1_bubbletea</th>\n",
       "      <th>cat1_buffets</th>\n",
       "      <th>cat1_burgers</th>\n",
       "      <th>cat1_burmese</th>\n",
       "      <th>cat1_butcher</th>\n",
       "      <th>cat1_cafes</th>\n",
       "      <th>cat1_cafeteria</th>\n",
       "      <th>cat1_cajun</th>\n",
       "      <th>cat1_cakeshop</th>\n",
       "      <th>cat1_cambodian</th>\n",
       "      <th>cat1_candy</th>\n",
       "      <th>cat1_cantonese</th>\n",
       "      <th>cat1_caribbean</th>\n",
       "      <th>cat1_catering</th>\n",
       "      <th>cat1_champagne_bars</th>\n",
       "      <th>cat1_cheese</th>\n",
       "      <th>cat1_cheesesteaks</th>\n",
       "      <th>cat1_chicken_wings</th>\n",
       "      <th>cat1_chickenshop</th>\n",
       "      <th>cat1_chinese</th>\n",
       "      <th>cat1_chocolate</th>\n",
       "      <th>cat1_cigarbars</th>\n",
       "      <th>cat1_cocktailbars</th>\n",
       "      <th>cat1_coffee</th>\n",
       "      <th>cat1_coffeeroasteries</th>\n",
       "      <th>cat1_colombian</th>\n",
       "      <th>cat1_comedyclubs</th>\n",
       "      <th>cat1_comfortfood</th>\n",
       "      <th>cat1_convenience</th>\n",
       "      <th>cat1_cookingclasses</th>\n",
       "      <th>cat1_cookingschools</th>\n",
       "      <th>cat1_creperies</th>\n",
       "      <th>cat1_cuban</th>\n",
       "      <th>cat1_culturalcenter</th>\n",
       "      <th>cat1_cupcakes</th>\n",
       "      <th>cat1_customcakes</th>\n",
       "      <th>cat1_czech</th>\n",
       "      <th>cat1_danceclubs</th>\n",
       "      <th>cat1_delis</th>\n",
       "      <th>cat1_desserts</th>\n",
       "      <th>cat1_dimsum</th>\n",
       "      <th>cat1_diners</th>\n",
       "      <th>cat1_distilleries</th>\n",
       "      <th>cat1_divebars</th>\n",
       "      <th>cat1_diyfood</th>\n",
       "      <th>cat1_dominican</th>\n",
       "      <th>cat1_donuts</th>\n",
       "      <th>cat1_drugstores</th>\n",
       "      <th>cat1_eatertainment</th>\n",
       "      <th>cat1_egyptian</th>\n",
       "      <th>cat1_empanadas</th>\n",
       "      <th>cat1_ethiopian</th>\n",
       "      <th>cat1_eventplanning</th>\n",
       "      <th>cat1_falafel</th>\n",
       "      <th>cat1_farmersmarket</th>\n",
       "      <th>cat1_festivals</th>\n",
       "      <th>cat1_filipino</th>\n",
       "      <th>cat1_fishnchips</th>\n",
       "      <th>cat1_florists</th>\n",
       "      <th>cat1_fondue</th>\n",
       "      <th>cat1_food</th>\n",
       "      <th>cat1_food_court</th>\n",
       "      <th>cat1_fooddeliveryservices</th>\n",
       "      <th>cat1_foodstands</th>\n",
       "      <th>cat1_foodtrucks</th>\n",
       "      <th>cat1_french</th>\n",
       "      <th>cat1_galleries</th>\n",
       "      <th>cat1_gastropubs</th>\n",
       "      <th>cat1_gaybars</th>\n",
       "      <th>cat1_gelato</th>\n",
       "      <th>cat1_georgian</th>\n",
       "      <th>cat1_german</th>\n",
       "      <th>cat1_giftshops</th>\n",
       "      <th>cat1_gluten_free</th>\n",
       "      <th>cat1_golf</th>\n",
       "      <th>cat1_golflessons</th>\n",
       "      <th>cat1_gourmet</th>\n",
       "      <th>cat1_greek</th>\n",
       "      <th>cat1_grocery</th>\n",
       "      <th>cat1_hair</th>\n",
       "      <th>cat1_haitian</th>\n",
       "      <th>cat1_halal</th>\n",
       "      <th>cat1_hawaiian</th>\n",
       "      <th>cat1_healthmarkets</th>\n",
       "      <th>cat1_herbsandspices</th>\n",
       "      <th>cat1_himalayan</th>\n",
       "      <th>cat1_hkcafe</th>\n",
       "      <th>cat1_hobbyshops</th>\n",
       "      <th>cat1_hookah_bars</th>\n",
       "      <th>cat1_hotdog</th>\n",
       "      <th>cat1_hotdogs</th>\n",
       "      <th>cat1_hotels</th>\n",
       "      <th>cat1_hotpot</th>\n",
       "      <th>cat1_hungarian</th>\n",
       "      <th>cat1_icecream</th>\n",
       "      <th>cat1_indonesian</th>\n",
       "      <th>cat1_indpak</th>\n",
       "      <th>cat1_intlgrocery</th>\n",
       "      <th>cat1_irish</th>\n",
       "      <th>cat1_irish_pubs</th>\n",
       "      <th>cat1_italian</th>\n",
       "      <th>cat1_izakaya</th>\n",
       "      <th>cat1_japacurry</th>\n",
       "      <th>cat1_japanese</th>\n",
       "      <th>cat1_jazzandblues</th>\n",
       "      <th>cat1_juicebars</th>\n",
       "      <th>cat1_karaoke</th>\n",
       "      <th>cat1_kebab</th>\n",
       "      <th>cat1_kids_activities</th>\n",
       "      <th>cat1_kitchenandbath</th>\n",
       "      <th>cat1_korean</th>\n",
       "      <th>cat1_kosher</th>\n",
       "      <th>cat1_landmarks</th>\n",
       "      <th>cat1_laotian</th>\n",
       "      <th>cat1_latin</th>\n",
       "      <th>cat1_laundromat</th>\n",
       "      <th>cat1_lebanese</th>\n",
       "      <th>cat1_localservices</th>\n",
       "      <th>cat1_lounges</th>\n",
       "      <th>cat1_macarons</th>\n",
       "      <th>cat1_magicians</th>\n",
       "      <th>cat1_mags</th>\n",
       "      <th>cat1_malaysian</th>\n",
       "      <th>cat1_markets</th>\n",
       "      <th>cat1_meats</th>\n",
       "      <th>cat1_mediterranean</th>\n",
       "      <th>cat1_mexican</th>\n",
       "      <th>cat1_mideastern</th>\n",
       "      <th>cat1_modern_european</th>\n",
       "      <th>cat1_mongolian</th>\n",
       "      <th>cat1_moroccan</th>\n",
       "      <th>cat1_movietheaters</th>\n",
       "      <th>cat1_museums</th>\n",
       "      <th>cat1_musicvenues</th>\n",
       "      <th>cat1_musicvideo</th>\n",
       "      <th>cat1_newamerican</th>\n",
       "      <th>cat1_newmexican</th>\n",
       "      <th>cat1_nightlife</th>\n",
       "      <th>cat1_nonprofit</th>\n",
       "      <th>cat1_noodles</th>\n",
       "      <th>cat1_organic_stores</th>\n",
       "      <th>cat1_pakistani</th>\n",
       "      <th>cat1_panasian</th>\n",
       "      <th>cat1_pastashops</th>\n",
       "      <th>cat1_persian</th>\n",
       "      <th>cat1_peruvian</th>\n",
       "      <th>cat1_petstore</th>\n",
       "      <th>cat1_pianobars</th>\n",
       "      <th>cat1_pizza</th>\n",
       "      <th>cat1_poke</th>\n",
       "      <th>cat1_polish</th>\n",
       "      <th>cat1_poolhalls</th>\n",
       "      <th>cat1_popuprestaurants</th>\n",
       "      <th>cat1_portuguese</th>\n",
       "      <th>cat1_pretzels</th>\n",
       "      <th>cat1_publicmarkets</th>\n",
       "      <th>cat1_pubs</th>\n",
       "      <th>cat1_puertorican</th>\n",
       "      <th>cat1_ramen</th>\n",
       "      <th>cat1_restaurants</th>\n",
       "      <th>cat1_russian</th>\n",
       "      <th>cat1_salad</th>\n",
       "      <th>cat1_salvadoran</th>\n",
       "      <th>cat1_sandwiches</th>\n",
       "      <th>cat1_scandinavian</th>\n",
       "      <th>cat1_seafood</th>\n",
       "      <th>cat1_seafoodmarkets</th>\n",
       "      <th>cat1_senegalese</th>\n",
       "      <th>cat1_servicestations</th>\n",
       "      <th>cat1_shanghainese</th>\n",
       "      <th>cat1_sharedofficespaces</th>\n",
       "      <th>cat1_shavedice</th>\n",
       "      <th>cat1_shopping</th>\n",
       "      <th>cat1_shoppingcenters</th>\n",
       "      <th>cat1_sicilian</th>\n",
       "      <th>cat1_singaporean</th>\n",
       "      <th>cat1_skate_parks</th>\n",
       "      <th>cat1_soulfood</th>\n",
       "      <th>cat1_soup</th>\n",
       "      <th>cat1_southafrican</th>\n",
       "      <th>cat1_southern</th>\n",
       "      <th>cat1_spanish</th>\n",
       "      <th>cat1_spas</th>\n",
       "      <th>cat1_speakeasies</th>\n",
       "      <th>cat1_sportgoods</th>\n",
       "      <th>cat1_sports_clubs</th>\n",
       "      <th>cat1_sportsbars</th>\n",
       "      <th>cat1_sportswear</th>\n",
       "      <th>cat1_srilankan</th>\n",
       "      <th>cat1_steak</th>\n",
       "      <th>cat1_streetvendors</th>\n",
       "      <th>cat1_supperclubs</th>\n",
       "      <th>cat1_sushi</th>\n",
       "      <th>cat1_szechuan</th>\n",
       "      <th>cat1_tacos</th>\n",
       "      <th>cat1_taiwanese</th>\n",
       "      <th>cat1_tapas</th>\n",
       "      <th>cat1_tapasmallplates</th>\n",
       "      <th>cat1_tattoo</th>\n",
       "      <th>cat1_tea</th>\n",
       "      <th>cat1_teppanyaki</th>\n",
       "      <th>cat1_tex-mex</th>\n",
       "      <th>cat1_thai</th>\n",
       "      <th>cat1_theater</th>\n",
       "      <th>cat1_themedcafes</th>\n",
       "      <th>cat1_tikibars</th>\n",
       "      <th>cat1_tobaccoshops</th>\n",
       "      <th>cat1_tours</th>\n",
       "      <th>cat1_tradamerican</th>\n",
       "      <th>cat1_trinidadian</th>\n",
       "      <th>cat1_turkish</th>\n",
       "      <th>cat1_tuscan</th>\n",
       "      <th>cat1_ukrainian</th>\n",
       "      <th>cat1_uzbek</th>\n",
       "      <th>cat1_vapeshops</th>\n",
       "      <th>cat1_vegan</th>\n",
       "      <th>cat1_vegetarian</th>\n",
       "      <th>cat1_venezuelan</th>\n",
       "      <th>cat1_venues</th>\n",
       "      <th>cat1_vietnamese</th>\n",
       "      <th>cat1_vinyl_records</th>\n",
       "      <th>cat1_waffles</th>\n",
       "      <th>cat1_whiskeybars</th>\n",
       "      <th>cat1_wine_bars</th>\n",
       "      <th>cat1_wraps</th>\n",
       "    </tr>\n",
       "  </thead>\n",
       "  <tbody>\n",
       "    <tr>\n",
       "      <td>0</td>\n",
       "      <td>379</td>\n",
       "      <td>4.0</td>\n",
       "      <td>2</td>\n",
       "      <td>0</td>\n",
       "      <td>0</td>\n",
       "      <td>0</td>\n",
       "      <td>0</td>\n",
       "      <td>0</td>\n",
       "      <td>0</td>\n",
       "      <td>0</td>\n",
       "      <td>0</td>\n",
       "      <td>0</td>\n",
       "      <td>0</td>\n",
       "      <td>0</td>\n",
       "      <td>0</td>\n",
       "      <td>0</td>\n",
       "      <td>0</td>\n",
       "      <td>0</td>\n",
       "      <td>0</td>\n",
       "      <td>0</td>\n",
       "      <td>0</td>\n",
       "      <td>0</td>\n",
       "      <td>0</td>\n",
       "      <td>0</td>\n",
       "      <td>0</td>\n",
       "      <td>0</td>\n",
       "      <td>0</td>\n",
       "      <td>0</td>\n",
       "      <td>0</td>\n",
       "      <td>0</td>\n",
       "      <td>0</td>\n",
       "      <td>0</td>\n",
       "      <td>0</td>\n",
       "      <td>0</td>\n",
       "      <td>0</td>\n",
       "      <td>0</td>\n",
       "      <td>0</td>\n",
       "      <td>0</td>\n",
       "      <td>0</td>\n",
       "      <td>0</td>\n",
       "      <td>0</td>\n",
       "      <td>0</td>\n",
       "      <td>0</td>\n",
       "      <td>0</td>\n",
       "      <td>0</td>\n",
       "      <td>0</td>\n",
       "      <td>0</td>\n",
       "      <td>0</td>\n",
       "      <td>0</td>\n",
       "      <td>0</td>\n",
       "      <td>0</td>\n",
       "      <td>0</td>\n",
       "      <td>0</td>\n",
       "      <td>0</td>\n",
       "      <td>0</td>\n",
       "      <td>0</td>\n",
       "      <td>0</td>\n",
       "      <td>0</td>\n",
       "      <td>0</td>\n",
       "      <td>0</td>\n",
       "      <td>0</td>\n",
       "      <td>0</td>\n",
       "      <td>0</td>\n",
       "      <td>0</td>\n",
       "      <td>0</td>\n",
       "      <td>0</td>\n",
       "      <td>0</td>\n",
       "      <td>0</td>\n",
       "      <td>0</td>\n",
       "      <td>0</td>\n",
       "      <td>0</td>\n",
       "      <td>0</td>\n",
       "      <td>0</td>\n",
       "      <td>0</td>\n",
       "      <td>0</td>\n",
       "      <td>0</td>\n",
       "      <td>0</td>\n",
       "      <td>0</td>\n",
       "      <td>0</td>\n",
       "      <td>0</td>\n",
       "      <td>0</td>\n",
       "      <td>0</td>\n",
       "      <td>0</td>\n",
       "      <td>0</td>\n",
       "      <td>0</td>\n",
       "      <td>0</td>\n",
       "      <td>0</td>\n",
       "      <td>0</td>\n",
       "      <td>0</td>\n",
       "      <td>0</td>\n",
       "      <td>0</td>\n",
       "      <td>0</td>\n",
       "      <td>0</td>\n",
       "      <td>0</td>\n",
       "      <td>0</td>\n",
       "      <td>0</td>\n",
       "      <td>0</td>\n",
       "      <td>0</td>\n",
       "      <td>0</td>\n",
       "      <td>0</td>\n",
       "      <td>0</td>\n",
       "      <td>0</td>\n",
       "      <td>0</td>\n",
       "      <td>0</td>\n",
       "      <td>0</td>\n",
       "      <td>0</td>\n",
       "      <td>0</td>\n",
       "      <td>0</td>\n",
       "      <td>0</td>\n",
       "      <td>0</td>\n",
       "      <td>0</td>\n",
       "      <td>0</td>\n",
       "      <td>0</td>\n",
       "      <td>0</td>\n",
       "      <td>0</td>\n",
       "      <td>0</td>\n",
       "      <td>0</td>\n",
       "      <td>0</td>\n",
       "      <td>0</td>\n",
       "      <td>0</td>\n",
       "      <td>0</td>\n",
       "      <td>0</td>\n",
       "      <td>0</td>\n",
       "      <td>0</td>\n",
       "      <td>0</td>\n",
       "      <td>0</td>\n",
       "      <td>0</td>\n",
       "      <td>0</td>\n",
       "      <td>0</td>\n",
       "      <td>0</td>\n",
       "      <td>0</td>\n",
       "      <td>0</td>\n",
       "      <td>0</td>\n",
       "      <td>0</td>\n",
       "      <td>0</td>\n",
       "      <td>0</td>\n",
       "      <td>0</td>\n",
       "      <td>0</td>\n",
       "      <td>0</td>\n",
       "      <td>0</td>\n",
       "      <td>0</td>\n",
       "      <td>0</td>\n",
       "      <td>0</td>\n",
       "      <td>0</td>\n",
       "      <td>0</td>\n",
       "      <td>0</td>\n",
       "      <td>0</td>\n",
       "      <td>0</td>\n",
       "      <td>0</td>\n",
       "      <td>0</td>\n",
       "      <td>0</td>\n",
       "      <td>0</td>\n",
       "      <td>0</td>\n",
       "      <td>0</td>\n",
       "      <td>0</td>\n",
       "      <td>0</td>\n",
       "      <td>0</td>\n",
       "      <td>0</td>\n",
       "      <td>0</td>\n",
       "      <td>0</td>\n",
       "      <td>0</td>\n",
       "      <td>0</td>\n",
       "      <td>0</td>\n",
       "      <td>0</td>\n",
       "      <td>0</td>\n",
       "      <td>0</td>\n",
       "      <td>0</td>\n",
       "      <td>0</td>\n",
       "      <td>0</td>\n",
       "      <td>0</td>\n",
       "      <td>0</td>\n",
       "      <td>0</td>\n",
       "      <td>0</td>\n",
       "      <td>0</td>\n",
       "      <td>0</td>\n",
       "      <td>0</td>\n",
       "      <td>0</td>\n",
       "      <td>0</td>\n",
       "      <td>0</td>\n",
       "      <td>0</td>\n",
       "      <td>0</td>\n",
       "      <td>0</td>\n",
       "      <td>0</td>\n",
       "      <td>0</td>\n",
       "      <td>0</td>\n",
       "      <td>0</td>\n",
       "      <td>0</td>\n",
       "      <td>0</td>\n",
       "      <td>0</td>\n",
       "      <td>0</td>\n",
       "      <td>0</td>\n",
       "      <td>0</td>\n",
       "      <td>0</td>\n",
       "      <td>0</td>\n",
       "      <td>0</td>\n",
       "      <td>0</td>\n",
       "      <td>0</td>\n",
       "      <td>0</td>\n",
       "      <td>0</td>\n",
       "      <td>0</td>\n",
       "      <td>0</td>\n",
       "      <td>0</td>\n",
       "      <td>0</td>\n",
       "      <td>0</td>\n",
       "      <td>0</td>\n",
       "      <td>0</td>\n",
       "      <td>0</td>\n",
       "      <td>0</td>\n",
       "      <td>0</td>\n",
       "      <td>0</td>\n",
       "      <td>0</td>\n",
       "      <td>0</td>\n",
       "      <td>0</td>\n",
       "      <td>0</td>\n",
       "      <td>0</td>\n",
       "      <td>0</td>\n",
       "      <td>0</td>\n",
       "      <td>0</td>\n",
       "      <td>0</td>\n",
       "      <td>0</td>\n",
       "      <td>0</td>\n",
       "      <td>0</td>\n",
       "      <td>0</td>\n",
       "      <td>0</td>\n",
       "      <td>0</td>\n",
       "      <td>0</td>\n",
       "      <td>0</td>\n",
       "      <td>0</td>\n",
       "      <td>0</td>\n",
       "      <td>0</td>\n",
       "      <td>0</td>\n",
       "      <td>0</td>\n",
       "      <td>0</td>\n",
       "      <td>0</td>\n",
       "      <td>0</td>\n",
       "      <td>0</td>\n",
       "      <td>0</td>\n",
       "      <td>0</td>\n",
       "      <td>0</td>\n",
       "      <td>0</td>\n",
       "      <td>0</td>\n",
       "      <td>0</td>\n",
       "      <td>0</td>\n",
       "      <td>0</td>\n",
       "      <td>0</td>\n",
       "      <td>0</td>\n",
       "      <td>0</td>\n",
       "      <td>0</td>\n",
       "      <td>0</td>\n",
       "      <td>0</td>\n",
       "      <td>0</td>\n",
       "      <td>0</td>\n",
       "      <td>0</td>\n",
       "      <td>1</td>\n",
       "      <td>0</td>\n",
       "      <td>0</td>\n",
       "      <td>0</td>\n",
       "      <td>0</td>\n",
       "      <td>0</td>\n",
       "    </tr>\n",
       "    <tr>\n",
       "      <td>1</td>\n",
       "      <td>773</td>\n",
       "      <td>4.5</td>\n",
       "      <td>2</td>\n",
       "      <td>0</td>\n",
       "      <td>0</td>\n",
       "      <td>0</td>\n",
       "      <td>0</td>\n",
       "      <td>0</td>\n",
       "      <td>0</td>\n",
       "      <td>0</td>\n",
       "      <td>0</td>\n",
       "      <td>0</td>\n",
       "      <td>0</td>\n",
       "      <td>0</td>\n",
       "      <td>0</td>\n",
       "      <td>0</td>\n",
       "      <td>0</td>\n",
       "      <td>0</td>\n",
       "      <td>0</td>\n",
       "      <td>0</td>\n",
       "      <td>0</td>\n",
       "      <td>0</td>\n",
       "      <td>0</td>\n",
       "      <td>0</td>\n",
       "      <td>0</td>\n",
       "      <td>0</td>\n",
       "      <td>0</td>\n",
       "      <td>0</td>\n",
       "      <td>0</td>\n",
       "      <td>0</td>\n",
       "      <td>0</td>\n",
       "      <td>0</td>\n",
       "      <td>0</td>\n",
       "      <td>0</td>\n",
       "      <td>0</td>\n",
       "      <td>0</td>\n",
       "      <td>0</td>\n",
       "      <td>0</td>\n",
       "      <td>0</td>\n",
       "      <td>0</td>\n",
       "      <td>0</td>\n",
       "      <td>0</td>\n",
       "      <td>0</td>\n",
       "      <td>0</td>\n",
       "      <td>0</td>\n",
       "      <td>0</td>\n",
       "      <td>0</td>\n",
       "      <td>0</td>\n",
       "      <td>0</td>\n",
       "      <td>0</td>\n",
       "      <td>0</td>\n",
       "      <td>0</td>\n",
       "      <td>0</td>\n",
       "      <td>0</td>\n",
       "      <td>0</td>\n",
       "      <td>0</td>\n",
       "      <td>0</td>\n",
       "      <td>0</td>\n",
       "      <td>0</td>\n",
       "      <td>0</td>\n",
       "      <td>0</td>\n",
       "      <td>0</td>\n",
       "      <td>0</td>\n",
       "      <td>0</td>\n",
       "      <td>0</td>\n",
       "      <td>0</td>\n",
       "      <td>0</td>\n",
       "      <td>0</td>\n",
       "      <td>0</td>\n",
       "      <td>0</td>\n",
       "      <td>0</td>\n",
       "      <td>0</td>\n",
       "      <td>0</td>\n",
       "      <td>0</td>\n",
       "      <td>0</td>\n",
       "      <td>0</td>\n",
       "      <td>0</td>\n",
       "      <td>0</td>\n",
       "      <td>0</td>\n",
       "      <td>0</td>\n",
       "      <td>0</td>\n",
       "      <td>0</td>\n",
       "      <td>0</td>\n",
       "      <td>0</td>\n",
       "      <td>0</td>\n",
       "      <td>0</td>\n",
       "      <td>0</td>\n",
       "      <td>0</td>\n",
       "      <td>0</td>\n",
       "      <td>0</td>\n",
       "      <td>0</td>\n",
       "      <td>0</td>\n",
       "      <td>0</td>\n",
       "      <td>0</td>\n",
       "      <td>0</td>\n",
       "      <td>0</td>\n",
       "      <td>0</td>\n",
       "      <td>0</td>\n",
       "      <td>0</td>\n",
       "      <td>0</td>\n",
       "      <td>0</td>\n",
       "      <td>0</td>\n",
       "      <td>0</td>\n",
       "      <td>0</td>\n",
       "      <td>0</td>\n",
       "      <td>0</td>\n",
       "      <td>0</td>\n",
       "      <td>0</td>\n",
       "      <td>0</td>\n",
       "      <td>0</td>\n",
       "      <td>0</td>\n",
       "      <td>0</td>\n",
       "      <td>0</td>\n",
       "      <td>0</td>\n",
       "      <td>0</td>\n",
       "      <td>0</td>\n",
       "      <td>0</td>\n",
       "      <td>0</td>\n",
       "      <td>0</td>\n",
       "      <td>0</td>\n",
       "      <td>0</td>\n",
       "      <td>0</td>\n",
       "      <td>0</td>\n",
       "      <td>0</td>\n",
       "      <td>0</td>\n",
       "      <td>0</td>\n",
       "      <td>0</td>\n",
       "      <td>0</td>\n",
       "      <td>0</td>\n",
       "      <td>0</td>\n",
       "      <td>0</td>\n",
       "      <td>0</td>\n",
       "      <td>0</td>\n",
       "      <td>0</td>\n",
       "      <td>1</td>\n",
       "      <td>0</td>\n",
       "      <td>0</td>\n",
       "      <td>0</td>\n",
       "      <td>0</td>\n",
       "      <td>0</td>\n",
       "      <td>0</td>\n",
       "      <td>0</td>\n",
       "      <td>0</td>\n",
       "      <td>0</td>\n",
       "      <td>0</td>\n",
       "      <td>0</td>\n",
       "      <td>0</td>\n",
       "      <td>0</td>\n",
       "      <td>0</td>\n",
       "      <td>0</td>\n",
       "      <td>0</td>\n",
       "      <td>0</td>\n",
       "      <td>0</td>\n",
       "      <td>0</td>\n",
       "      <td>0</td>\n",
       "      <td>0</td>\n",
       "      <td>0</td>\n",
       "      <td>0</td>\n",
       "      <td>0</td>\n",
       "      <td>0</td>\n",
       "      <td>0</td>\n",
       "      <td>0</td>\n",
       "      <td>0</td>\n",
       "      <td>0</td>\n",
       "      <td>0</td>\n",
       "      <td>0</td>\n",
       "      <td>0</td>\n",
       "      <td>0</td>\n",
       "      <td>0</td>\n",
       "      <td>0</td>\n",
       "      <td>0</td>\n",
       "      <td>0</td>\n",
       "      <td>0</td>\n",
       "      <td>0</td>\n",
       "      <td>0</td>\n",
       "      <td>0</td>\n",
       "      <td>0</td>\n",
       "      <td>0</td>\n",
       "      <td>0</td>\n",
       "      <td>0</td>\n",
       "      <td>0</td>\n",
       "      <td>0</td>\n",
       "      <td>0</td>\n",
       "      <td>0</td>\n",
       "      <td>0</td>\n",
       "      <td>0</td>\n",
       "      <td>0</td>\n",
       "      <td>0</td>\n",
       "      <td>0</td>\n",
       "      <td>0</td>\n",
       "      <td>0</td>\n",
       "      <td>0</td>\n",
       "      <td>0</td>\n",
       "      <td>0</td>\n",
       "      <td>0</td>\n",
       "      <td>0</td>\n",
       "      <td>0</td>\n",
       "      <td>0</td>\n",
       "      <td>0</td>\n",
       "      <td>0</td>\n",
       "      <td>0</td>\n",
       "      <td>0</td>\n",
       "      <td>0</td>\n",
       "      <td>0</td>\n",
       "      <td>0</td>\n",
       "      <td>0</td>\n",
       "      <td>0</td>\n",
       "      <td>0</td>\n",
       "      <td>0</td>\n",
       "      <td>0</td>\n",
       "      <td>0</td>\n",
       "      <td>0</td>\n",
       "      <td>0</td>\n",
       "      <td>0</td>\n",
       "      <td>0</td>\n",
       "      <td>0</td>\n",
       "      <td>0</td>\n",
       "      <td>0</td>\n",
       "      <td>0</td>\n",
       "      <td>0</td>\n",
       "      <td>0</td>\n",
       "      <td>0</td>\n",
       "      <td>0</td>\n",
       "      <td>0</td>\n",
       "      <td>0</td>\n",
       "      <td>0</td>\n",
       "      <td>0</td>\n",
       "      <td>0</td>\n",
       "      <td>0</td>\n",
       "      <td>0</td>\n",
       "      <td>0</td>\n",
       "      <td>0</td>\n",
       "      <td>0</td>\n",
       "      <td>0</td>\n",
       "      <td>0</td>\n",
       "      <td>0</td>\n",
       "      <td>0</td>\n",
       "      <td>0</td>\n",
       "      <td>0</td>\n",
       "      <td>0</td>\n",
       "      <td>0</td>\n",
       "      <td>0</td>\n",
       "      <td>0</td>\n",
       "      <td>0</td>\n",
       "      <td>0</td>\n",
       "      <td>0</td>\n",
       "      <td>0</td>\n",
       "      <td>0</td>\n",
       "      <td>0</td>\n",
       "      <td>0</td>\n",
       "      <td>0</td>\n",
       "      <td>0</td>\n",
       "      <td>0</td>\n",
       "      <td>0</td>\n",
       "      <td>0</td>\n",
       "      <td>0</td>\n",
       "      <td>0</td>\n",
       "      <td>0</td>\n",
       "      <td>0</td>\n",
       "    </tr>\n",
       "  </tbody>\n",
       "</table>\n",
       "</div>"
      ],
      "text/plain": [
       "   review_count  rating  price  is_affluent  cat1_afghani  cat1_african  \\\n",
       "0           379     4.0      2            0             0             0   \n",
       "1           773     4.5      2            0             0             0   \n",
       "\n",
       "   cat1_airportlounges  cat1_arcades  cat1_argentine  cat1_armenian  \\\n",
       "0                    0             0               0              0   \n",
       "1                    0             0               0              0   \n",
       "\n",
       "   cat1_artmuseums  cat1_asianfusion  cat1_australian  cat1_austrian  \\\n",
       "0                0                 0                0              0   \n",
       "1                0                 0                0              0   \n",
       "\n",
       "   cat1_bagels  cat1_bakeries  cat1_bangladeshi  cat1_barbers  cat1_bars  \\\n",
       "0            0              0                 0             0          0   \n",
       "1            0              0                 0             0          0   \n",
       "\n",
       "   cat1_basque  cat1_bbq  cat1_beer_and_wine  cat1_beerbar  cat1_beergardens  \\\n",
       "0            0         0                   0             0                 0   \n",
       "1            0         0                   0             0                 0   \n",
       "\n",
       "   cat1_belgian  cat1_boating  cat1_bookstores  cat1_bowling  cat1_boxing  \\\n",
       "0             0             0                0             0            0   \n",
       "1             0             0                0             0            0   \n",
       "\n",
       "   cat1_brasseries  cat1_brazilian  cat1_breakfast_brunch  cat1_breweries  \\\n",
       "0                0               0                      0               0   \n",
       "1                0               0                      0               0   \n",
       "\n",
       "   cat1_british  cat1_bubbletea  cat1_buffets  cat1_burgers  cat1_burmese  \\\n",
       "0             0               0             0             0             0   \n",
       "1             0               0             0             0             0   \n",
       "\n",
       "   cat1_butcher  cat1_cafes  cat1_cafeteria  cat1_cajun  cat1_cakeshop  \\\n",
       "0             0           0               0           0              0   \n",
       "1             0           0               0           0              0   \n",
       "\n",
       "   cat1_cambodian  cat1_candy  cat1_cantonese  cat1_caribbean  cat1_catering  \\\n",
       "0               0           0               0               0              0   \n",
       "1               0           0               0               0              0   \n",
       "\n",
       "   cat1_champagne_bars  cat1_cheese  cat1_cheesesteaks  cat1_chicken_wings  \\\n",
       "0                    0            0                  0                   0   \n",
       "1                    0            0                  0                   0   \n",
       "\n",
       "   cat1_chickenshop  cat1_chinese  cat1_chocolate  cat1_cigarbars  \\\n",
       "0                 0             0               0               0   \n",
       "1                 0             0               0               0   \n",
       "\n",
       "   cat1_cocktailbars  cat1_coffee  cat1_coffeeroasteries  cat1_colombian  \\\n",
       "0                  0            0                      0               0   \n",
       "1                  0            0                      0               0   \n",
       "\n",
       "   cat1_comedyclubs  cat1_comfortfood  cat1_convenience  cat1_cookingclasses  \\\n",
       "0                 0                 0                 0                    0   \n",
       "1                 0                 0                 0                    0   \n",
       "\n",
       "   cat1_cookingschools  cat1_creperies  cat1_cuban  cat1_culturalcenter  \\\n",
       "0                    0               0           0                    0   \n",
       "1                    0               0           0                    0   \n",
       "\n",
       "   cat1_cupcakes  cat1_customcakes  cat1_czech  cat1_danceclubs  cat1_delis  \\\n",
       "0              0                 0           0                0           0   \n",
       "1              0                 0           0                0           0   \n",
       "\n",
       "   cat1_desserts  cat1_dimsum  cat1_diners  cat1_distilleries  cat1_divebars  \\\n",
       "0              0            0            0                  0              0   \n",
       "1              0            0            0                  0              0   \n",
       "\n",
       "   cat1_diyfood  cat1_dominican  cat1_donuts  cat1_drugstores  \\\n",
       "0             0               0            0                0   \n",
       "1             0               0            0                0   \n",
       "\n",
       "   cat1_eatertainment  cat1_egyptian  cat1_empanadas  cat1_ethiopian  \\\n",
       "0                   0              0               0               0   \n",
       "1                   0              0               0               0   \n",
       "\n",
       "   cat1_eventplanning  cat1_falafel  cat1_farmersmarket  cat1_festivals  \\\n",
       "0                   0             0                   0               0   \n",
       "1                   0             0                   0               0   \n",
       "\n",
       "   cat1_filipino  cat1_fishnchips  cat1_florists  cat1_fondue  cat1_food  \\\n",
       "0              0                0              0            0          0   \n",
       "1              0                0              0            0          0   \n",
       "\n",
       "   cat1_food_court  cat1_fooddeliveryservices  cat1_foodstands  \\\n",
       "0                0                          0                0   \n",
       "1                0                          0                0   \n",
       "\n",
       "   cat1_foodtrucks  cat1_french  cat1_galleries  cat1_gastropubs  \\\n",
       "0                0            0               0                0   \n",
       "1                0            0               0                0   \n",
       "\n",
       "   cat1_gaybars  cat1_gelato  cat1_georgian  cat1_german  cat1_giftshops  \\\n",
       "0             0            0              0            0               0   \n",
       "1             0            0              0            0               0   \n",
       "\n",
       "   cat1_gluten_free  cat1_golf  cat1_golflessons  cat1_gourmet  cat1_greek  \\\n",
       "0                 0          0                 0             0           0   \n",
       "1                 0          0                 0             0           0   \n",
       "\n",
       "   cat1_grocery  cat1_hair  cat1_haitian  cat1_halal  cat1_hawaiian  \\\n",
       "0             0          0             0           0              0   \n",
       "1             0          0             0           0              0   \n",
       "\n",
       "   cat1_healthmarkets  cat1_herbsandspices  cat1_himalayan  cat1_hkcafe  \\\n",
       "0                   0                    0               0            0   \n",
       "1                   0                    0               0            0   \n",
       "\n",
       "   cat1_hobbyshops  cat1_hookah_bars  cat1_hotdog  cat1_hotdogs  cat1_hotels  \\\n",
       "0                0                 0            0             0            0   \n",
       "1                0                 0            0             0            0   \n",
       "\n",
       "   cat1_hotpot  cat1_hungarian  cat1_icecream  cat1_indonesian  cat1_indpak  \\\n",
       "0            0               0              0                0            0   \n",
       "1            0               0              0                0            0   \n",
       "\n",
       "   cat1_intlgrocery  cat1_irish  cat1_irish_pubs  cat1_italian  cat1_izakaya  \\\n",
       "0                 0           0                0             0             0   \n",
       "1                 0           0                0             1             0   \n",
       "\n",
       "   cat1_japacurry  cat1_japanese  cat1_jazzandblues  cat1_juicebars  \\\n",
       "0               0              0                  0               0   \n",
       "1               0              0                  0               0   \n",
       "\n",
       "   cat1_karaoke  cat1_kebab  cat1_kids_activities  cat1_kitchenandbath  \\\n",
       "0             0           0                     0                    0   \n",
       "1             0           0                     0                    0   \n",
       "\n",
       "   cat1_korean  cat1_kosher  cat1_landmarks  cat1_laotian  cat1_latin  \\\n",
       "0            0            0               0             0           0   \n",
       "1            0            0               0             0           0   \n",
       "\n",
       "   cat1_laundromat  cat1_lebanese  cat1_localservices  cat1_lounges  \\\n",
       "0                0              0                   0             0   \n",
       "1                0              0                   0             0   \n",
       "\n",
       "   cat1_macarons  cat1_magicians  cat1_mags  cat1_malaysian  cat1_markets  \\\n",
       "0              0               0          0               0             0   \n",
       "1              0               0          0               0             0   \n",
       "\n",
       "   cat1_meats  cat1_mediterranean  cat1_mexican  cat1_mideastern  \\\n",
       "0           0                   0             0                0   \n",
       "1           0                   0             0                0   \n",
       "\n",
       "   cat1_modern_european  cat1_mongolian  cat1_moroccan  cat1_movietheaters  \\\n",
       "0                     0               0              0                   0   \n",
       "1                     0               0              0                   0   \n",
       "\n",
       "   cat1_museums  cat1_musicvenues  cat1_musicvideo  cat1_newamerican  \\\n",
       "0             0                 0                0                 0   \n",
       "1             0                 0                0                 0   \n",
       "\n",
       "   cat1_newmexican  cat1_nightlife  cat1_nonprofit  cat1_noodles  \\\n",
       "0                0               0               0             0   \n",
       "1                0               0               0             0   \n",
       "\n",
       "   cat1_organic_stores  cat1_pakistani  cat1_panasian  cat1_pastashops  \\\n",
       "0                    0               0              0                0   \n",
       "1                    0               0              0                0   \n",
       "\n",
       "   cat1_persian  cat1_peruvian  cat1_petstore  cat1_pianobars  cat1_pizza  \\\n",
       "0             0              0              0               0           0   \n",
       "1             0              0              0               0           0   \n",
       "\n",
       "   cat1_poke  cat1_polish  cat1_poolhalls  cat1_popuprestaurants  \\\n",
       "0          0            0               0                      0   \n",
       "1          0            0               0                      0   \n",
       "\n",
       "   cat1_portuguese  cat1_pretzels  cat1_publicmarkets  cat1_pubs  \\\n",
       "0                0              0                   0          0   \n",
       "1                0              0                   0          0   \n",
       "\n",
       "   cat1_puertorican  cat1_ramen  cat1_restaurants  cat1_russian  cat1_salad  \\\n",
       "0                 0           0                 0             0           0   \n",
       "1                 0           0                 0             0           0   \n",
       "\n",
       "   cat1_salvadoran  cat1_sandwiches  cat1_scandinavian  cat1_seafood  \\\n",
       "0                0                0                  0             0   \n",
       "1                0                0                  0             0   \n",
       "\n",
       "   cat1_seafoodmarkets  cat1_senegalese  cat1_servicestations  \\\n",
       "0                    0                0                     0   \n",
       "1                    0                0                     0   \n",
       "\n",
       "   cat1_shanghainese  cat1_sharedofficespaces  cat1_shavedice  cat1_shopping  \\\n",
       "0                  0                        0               0              0   \n",
       "1                  0                        0               0              0   \n",
       "\n",
       "   cat1_shoppingcenters  cat1_sicilian  cat1_singaporean  cat1_skate_parks  \\\n",
       "0                     0              0                 0                 0   \n",
       "1                     0              0                 0                 0   \n",
       "\n",
       "   cat1_soulfood  cat1_soup  cat1_southafrican  cat1_southern  cat1_spanish  \\\n",
       "0              0          0                  0              0             0   \n",
       "1              0          0                  0              0             0   \n",
       "\n",
       "   cat1_spas  cat1_speakeasies  cat1_sportgoods  cat1_sports_clubs  \\\n",
       "0          0                 0                0                  0   \n",
       "1          0                 0                0                  0   \n",
       "\n",
       "   cat1_sportsbars  cat1_sportswear  cat1_srilankan  cat1_steak  \\\n",
       "0                0                0               0           0   \n",
       "1                0                0               0           0   \n",
       "\n",
       "   cat1_streetvendors  cat1_supperclubs  cat1_sushi  cat1_szechuan  \\\n",
       "0                   0                 0           0              0   \n",
       "1                   0                 0           0              0   \n",
       "\n",
       "   cat1_tacos  cat1_taiwanese  cat1_tapas  cat1_tapasmallplates  cat1_tattoo  \\\n",
       "0           0               0           0                     0            0   \n",
       "1           0               0           0                     0            0   \n",
       "\n",
       "   cat1_tea  cat1_teppanyaki  cat1_tex-mex  cat1_thai  cat1_theater  \\\n",
       "0         0                0             0          0             0   \n",
       "1         0                0             0          0             0   \n",
       "\n",
       "   cat1_themedcafes  cat1_tikibars  cat1_tobaccoshops  cat1_tours  \\\n",
       "0                 0              0                  0           0   \n",
       "1                 0              0                  0           0   \n",
       "\n",
       "   cat1_tradamerican  cat1_trinidadian  cat1_turkish  cat1_tuscan  \\\n",
       "0                  0                 0             0            0   \n",
       "1                  0                 0             0            0   \n",
       "\n",
       "   cat1_ukrainian  cat1_uzbek  cat1_vapeshops  cat1_vegan  cat1_vegetarian  \\\n",
       "0               0           0               0           0                0   \n",
       "1               0           0               0           0                0   \n",
       "\n",
       "   cat1_venezuelan  cat1_venues  cat1_vietnamese  cat1_vinyl_records  \\\n",
       "0                0            0                1                   0   \n",
       "1                0            0                0                   0   \n",
       "\n",
       "   cat1_waffles  cat1_whiskeybars  cat1_wine_bars  cat1_wraps  \n",
       "0             0                 0               0           0  \n",
       "1             0                 0               0           0  "
      ]
     },
     "execution_count": 7,
     "metadata": {},
     "output_type": "execute_result"
    }
   ],
   "source": [
    "yelp.head(2)"
   ]
  },
  {
   "cell_type": "code",
   "execution_count": 8,
   "metadata": {},
   "outputs": [
    {
     "data": {
      "text/plain": [
       "(19830, 259)"
      ]
     },
     "execution_count": 8,
     "metadata": {},
     "output_type": "execute_result"
    }
   ],
   "source": [
    "yelp.shape"
   ]
  },
  {
   "cell_type": "markdown",
   "metadata": {},
   "source": [
    "## Model Preparation"
   ]
  },
  {
   "cell_type": "code",
   "execution_count": 9,
   "metadata": {},
   "outputs": [],
   "source": [
    "target = 'is_affluent'\n",
    "X = yelp.drop(columns=target)\n",
    "y = yelp[target]"
   ]
  },
  {
   "cell_type": "markdown",
   "metadata": {},
   "source": [
    "## Train, Test Split\n",
    "1. Since our dataset is large enough, we will reserve 20% of the data as test data. \n",
    "2. We will use 'stratify = y' to ensure the the proportion of classes are consistent in both train and test."
   ]
  },
  {
   "cell_type": "code",
   "execution_count": 10,
   "metadata": {},
   "outputs": [],
   "source": [
    "X_train, X_test, y_train, y_test = train_test_split(X, y, random_state=42, test_size=0.2, stratify=y)"
   ]
  },
  {
   "cell_type": "markdown",
   "metadata": {},
   "source": [
    "The distributions of Y shows that we have unbalanced classes: 67.83% of the Ys are in the positive class; 32.20% are in the negative class."
   ]
  },
  {
   "cell_type": "code",
   "execution_count": 11,
   "metadata": {
    "scrolled": true
   },
   "outputs": [
    {
     "data": {
      "text/plain": [
       "1    0.678316\n",
       "0    0.321684\n",
       "Name: is_affluent, dtype: float64"
      ]
     },
     "execution_count": 11,
     "metadata": {},
     "output_type": "execute_result"
    }
   ],
   "source": [
    "# Check distribution of y, to see if y has unblanced classes\n",
    "y.value_counts(normalize=True)"
   ]
  },
  {
   "cell_type": "markdown",
   "metadata": {},
   "source": [
    "## Modeling"
   ]
  },
  {
   "cell_type": "markdown",
   "metadata": {},
   "source": [
    "- In the modeling process, we will first establish a baseline model.  \n",
    "- We will then develop 4 major categories of models: Logistic Regression, KNN, Trees, and Voting Classifier. \n",
    "- Based on the grid search's cross validation score, we will then fine tune the hyper-parameters for each model to achieve the optimal result. "
   ]
  },
  {
   "cell_type": "markdown",
   "metadata": {},
   "source": [
    "### Evaluation Metric"
   ]
  },
  {
   "cell_type": "markdown",
   "metadata": {},
   "source": [
    "- We will use AUC ROC as the metric to evaluate the models.\n",
    "- \"ROC (Receiver Operating Characteristic) is a probability curve and AUC represents degree or measure of separability. It tells how much model is capable of distinguishing between classes\"[(reference)](https://towardsdatascience.com/understanding-auc-roc-curve-68b2303cc9c5). The higher the ROC, and the better it separates the two classes. The ROC curve is plotted with True Positive Rate on y-aixs, against the False Positive Rate on the x-axis.\n",
    "\n",
    "- AUC (Area Under the Curve) measures the entire two-dimensional area underneath the entire ROC curve. The closer AUC to 1, the better the model.\n",
    "\n",
    "- We choose AUC ROC since we aim to find the optimal model that can separate the two classes, \"is affluent\", \"not affluent\". \n",
    "\n",
    "- We will also consider the amount of time each model take to fit. If two models have similar AUC ROC scores, the one that runs faster will be the model we choose. "
   ]
  },
  {
   "cell_type": "markdown",
   "metadata": {},
   "source": [
    "###  Baseline Model"
   ]
  },
  {
   "cell_type": "code",
   "execution_count": 12,
   "metadata": {},
   "outputs": [
    {
     "data": {
      "text/plain": [
       "0.6782652546646495"
      ]
     },
     "execution_count": 12,
     "metadata": {},
     "output_type": "execute_result"
    }
   ],
   "source": [
    "y_test.value_counts(normalize=True)[1]"
   ]
  },
  {
   "cell_type": "markdown",
   "metadata": {},
   "source": [
    "### Logistic Regression"
   ]
  },
  {
   "cell_type": "code",
   "execution_count": 13,
   "metadata": {},
   "outputs": [],
   "source": [
    "pipe = Pipeline(steps=[\n",
    "    ('ss', StandardScaler()), \n",
    "    ('lr', LogisticRegression(solver='liblinear'))\n",
    "])\n",
    "\n",
    "pipe_params ={\n",
    "    'lr__C': [0.0001, 1],\n",
    "    'lr__penalty' : ['l1', 'l2']\n",
    "    }\n",
    "\n",
    "gs_lr = GridSearchCV(pipe, \n",
    "                     pipe_params, \n",
    "                     cv=5,\n",
    "                     scoring='roc_auc')\n"
   ]
  },
  {
   "cell_type": "code",
   "execution_count": 14,
   "metadata": {},
   "outputs": [],
   "source": [
    "gs_lr.fit(X_train, y_train);"
   ]
  },
  {
   "cell_type": "code",
   "execution_count": 15,
   "metadata": {},
   "outputs": [
    {
     "data": {
      "text/plain": [
       "{'lr__C': 1, 'lr__penalty': 'l1'}"
      ]
     },
     "execution_count": 15,
     "metadata": {},
     "output_type": "execute_result"
    }
   ],
   "source": [
    "# Check the optimal params\n",
    "gs_lr.best_params_"
   ]
  },
  {
   "cell_type": "code",
   "execution_count": 16,
   "metadata": {},
   "outputs": [
    {
     "data": {
      "text/plain": [
       "0.722941190856881"
      ]
     },
     "execution_count": 16,
     "metadata": {},
     "output_type": "execute_result"
    }
   ],
   "source": [
    "# Train score\n",
    "gs_lr.score(X_train, y_train)"
   ]
  },
  {
   "cell_type": "code",
   "execution_count": 17,
   "metadata": {},
   "outputs": [
    {
     "data": {
      "text/plain": [
       "0.678903734966355"
      ]
     },
     "execution_count": 17,
     "metadata": {},
     "output_type": "execute_result"
    }
   ],
   "source": [
    "# Cross val score on the whole dataset \n",
    "cross_val_score(gs_lr.best_estimator_, X, y, scoring='roc_auc', cv=5).mean()"
   ]
  },
  {
   "cell_type": "code",
   "execution_count": 18,
   "metadata": {},
   "outputs": [
    {
     "data": {
      "text/plain": [
       "0.705262582885644"
      ]
     },
     "execution_count": 18,
     "metadata": {},
     "output_type": "execute_result"
    }
   ],
   "source": [
    "# Test score\n",
    "gs_lr.score(X_test, y_test)"
   ]
  },
  {
   "cell_type": "markdown",
   "metadata": {},
   "source": [
    "The model performs okay on both train and test data, but shows slight signs of overfitting, since the train socre is higher than the test score.\n",
    "Based on the grid search, Lasso regularization is the more effecient loss function to limit the amount of features used in the model. "
   ]
  },
  {
   "cell_type": "markdown",
   "metadata": {},
   "source": [
    "### KNN model"
   ]
  },
  {
   "cell_type": "code",
   "execution_count": 19,
   "metadata": {},
   "outputs": [],
   "source": [
    "pipe_knn = Pipeline(steps=[\n",
    "    ('ss', StandardScaler()),  \n",
    "    ('knn', KNeighborsClassifier())\n",
    "])\n",
    "\n",
    "pipe_params_knn ={\n",
    "    'knn__n_neighbors' : [5, 10, 30, 50]\n",
    "    \n",
    "}\n",
    "\n",
    "gs_knn = GridSearchCV(pipe_knn, \n",
    "                      pipe_params_knn, \n",
    "                      cv=5,\n",
    "                      scoring='roc_auc')"
   ]
  },
  {
   "cell_type": "code",
   "execution_count": 20,
   "metadata": {},
   "outputs": [],
   "source": [
    "gs_knn.fit(X_train, y_train);"
   ]
  },
  {
   "cell_type": "code",
   "execution_count": 21,
   "metadata": {},
   "outputs": [
    {
     "data": {
      "text/plain": [
       "{'knn__n_neighbors': 50}"
      ]
     },
     "execution_count": 21,
     "metadata": {},
     "output_type": "execute_result"
    }
   ],
   "source": [
    "# Check the optimal params\n",
    "gs_knn.best_params_"
   ]
  },
  {
   "cell_type": "code",
   "execution_count": 22,
   "metadata": {},
   "outputs": [
    {
     "data": {
      "text/plain": [
       "0.7247560307839712"
      ]
     },
     "execution_count": 22,
     "metadata": {},
     "output_type": "execute_result"
    }
   ],
   "source": [
    "# Train score\n",
    "gs_knn.score(X_train, y_train)"
   ]
  },
  {
   "cell_type": "code",
   "execution_count": 23,
   "metadata": {},
   "outputs": [
    {
     "data": {
      "text/plain": [
       "0.664584993062341"
      ]
     },
     "execution_count": 23,
     "metadata": {},
     "output_type": "execute_result"
    }
   ],
   "source": [
    "# Cross val score on the whole dataset \n",
    "cross_val_score(gs_knn.best_estimator_, X, y, scoring='roc_auc', cv=5).mean()"
   ]
  },
  {
   "cell_type": "code",
   "execution_count": 24,
   "metadata": {},
   "outputs": [
    {
     "data": {
      "text/plain": [
       "0.6860357355117641"
      ]
     },
     "execution_count": 24,
     "metadata": {},
     "output_type": "execute_result"
    }
   ],
   "source": [
    "# Test score\n",
    "gs_knn.score(X_test, y_test)"
   ]
  },
  {
   "cell_type": "markdown",
   "metadata": {},
   "source": [
    "The model performs okay on the train data but worse on the test data. It shows signs of overfitting. \n",
    "50 neighbors proves to be the best hyper param setting to form a neighorhood."
   ]
  },
  {
   "cell_type": "markdown",
   "metadata": {},
   "source": [
    "### Trees"
   ]
  },
  {
   "cell_type": "markdown",
   "metadata": {},
   "source": [
    "#### Decision Tree"
   ]
  },
  {
   "cell_type": "code",
   "execution_count": 25,
   "metadata": {},
   "outputs": [],
   "source": [
    "pipe_dt = Pipeline(steps=[\n",
    "    ('ss', StandardScaler()), \n",
    "    ('dt', DecisionTreeClassifier(random_state=42))\n",
    "])\n",
    "\n",
    "pipe_params_dt = {\n",
    "    'dt__max_depth': [3, 5],\n",
    "    'dt__min_samples_split': [2, 3],\n",
    "    'dt__min_samples_leaf': [1, 5, 10]}\n",
    "\n",
    "gs_dt = GridSearchCV(pipe_dt, \n",
    "                     pipe_params_dt, \n",
    "                     cv=5,\n",
    "                     scoring='roc_auc')"
   ]
  },
  {
   "cell_type": "code",
   "execution_count": 26,
   "metadata": {},
   "outputs": [],
   "source": [
    "gs_dt.fit(X_train, y_train);"
   ]
  },
  {
   "cell_type": "code",
   "execution_count": 27,
   "metadata": {},
   "outputs": [
    {
     "data": {
      "text/plain": [
       "{'dt__max_depth': 5, 'dt__min_samples_leaf': 5, 'dt__min_samples_split': 2}"
      ]
     },
     "execution_count": 27,
     "metadata": {},
     "output_type": "execute_result"
    }
   ],
   "source": [
    "# Check the optimal params\n",
    "gs_dt.best_params_"
   ]
  },
  {
   "cell_type": "code",
   "execution_count": 28,
   "metadata": {},
   "outputs": [
    {
     "data": {
      "text/plain": [
       "0.7001985563337084"
      ]
     },
     "execution_count": 28,
     "metadata": {},
     "output_type": "execute_result"
    }
   ],
   "source": [
    "# Train score\n",
    "gs_dt.score(X_train, y_train)"
   ]
  },
  {
   "cell_type": "code",
   "execution_count": 29,
   "metadata": {},
   "outputs": [
    {
     "data": {
      "text/plain": [
       "0.6778253354750048"
      ]
     },
     "execution_count": 29,
     "metadata": {},
     "output_type": "execute_result"
    }
   ],
   "source": [
    "# Cross val score on the whole dataset \n",
    "cross_val_score(gs_dt.best_estimator_, X, y, scoring='roc_auc', cv=5).mean()"
   ]
  },
  {
   "cell_type": "code",
   "execution_count": 30,
   "metadata": {},
   "outputs": [
    {
     "data": {
      "text/plain": [
       "0.6810107387164814"
      ]
     },
     "execution_count": 30,
     "metadata": {},
     "output_type": "execute_result"
    }
   ],
   "source": [
    "# Test score\n",
    "gs_dt.score(X_test, y_test)"
   ]
  },
  {
   "cell_type": "markdown",
   "metadata": {},
   "source": [
    "The model performs okay on the train data, but worse on the test data. It shows some signs of overfitting. \n",
    "To reduce variance, we will develop an esemble model of Bagging Classifier."
   ]
  },
  {
   "cell_type": "markdown",
   "metadata": {},
   "source": [
    "#### Bagging Classifier"
   ]
  },
  {
   "cell_type": "code",
   "execution_count": 31,
   "metadata": {},
   "outputs": [],
   "source": [
    "pipe_bc = Pipeline(steps=[\n",
    "    ('ss', StandardScaler()), \n",
    "    ('bc', BaggingClassifier(random_state=42))\n",
    "])\n",
    "\n",
    "pipe_params_bc = {\n",
    "    'bc__n_estimators': [15, 20],\n",
    "    'bc__max_samples': [3, 5, 7]}\n",
    "\n",
    "gs_bc = GridSearchCV(pipe_bc, \n",
    "                     pipe_params_bc, \n",
    "                     cv=5,\n",
    "                     scoring='roc_auc')"
   ]
  },
  {
   "cell_type": "code",
   "execution_count": 32,
   "metadata": {},
   "outputs": [],
   "source": [
    "gs_bc.fit(X_train, y_train);"
   ]
  },
  {
   "cell_type": "code",
   "execution_count": 33,
   "metadata": {},
   "outputs": [
    {
     "data": {
      "text/plain": [
       "{'bc__max_samples': 7, 'bc__n_estimators': 20}"
      ]
     },
     "execution_count": 33,
     "metadata": {},
     "output_type": "execute_result"
    }
   ],
   "source": [
    "# Check the optimal params\n",
    "gs_bc.best_params_"
   ]
  },
  {
   "cell_type": "code",
   "execution_count": 34,
   "metadata": {},
   "outputs": [
    {
     "data": {
      "text/plain": [
       "0.5861833899397528"
      ]
     },
     "execution_count": 34,
     "metadata": {},
     "output_type": "execute_result"
    }
   ],
   "source": [
    "# Train score\n",
    "gs_bc.score(X_train, y_train)"
   ]
  },
  {
   "cell_type": "code",
   "execution_count": 35,
   "metadata": {},
   "outputs": [
    {
     "data": {
      "text/plain": [
       "0.6640140611216674"
      ]
     },
     "execution_count": 35,
     "metadata": {},
     "output_type": "execute_result"
    }
   ],
   "source": [
    "# Cross val score on the whole dataset \n",
    "cross_val_score(gs_bc.best_estimator_, X, y, scoring='roc_auc', cv=5).mean()"
   ]
  },
  {
   "cell_type": "code",
   "execution_count": 36,
   "metadata": {},
   "outputs": [
    {
     "data": {
      "text/plain": [
       "0.5903519070981577"
      ]
     },
     "execution_count": 36,
     "metadata": {},
     "output_type": "execute_result"
    }
   ],
   "source": [
    "# Test score\n",
    "gs_bc.score(X_test, y_test)"
   ]
  },
  {
   "cell_type": "markdown",
   "metadata": {},
   "source": [
    "The model perfoms badly on both training and testing, and show slight signs of underfitting. "
   ]
  },
  {
   "cell_type": "markdown",
   "metadata": {},
   "source": [
    "#### Random Forest"
   ]
  },
  {
   "cell_type": "code",
   "execution_count": 37,
   "metadata": {},
   "outputs": [],
   "source": [
    "pipe_rf = Pipeline(steps=[\n",
    "    ('ss', StandardScaler()), \n",
    "    ('rf', RandomForestClassifier(random_state=42))\n",
    "])\n",
    "\n",
    "pipe_params_rf = {\n",
    "    'rf__max_depth': [11, 13],\n",
    "    'rf__min_samples_split': [2, 3],\n",
    "    'rf__min_samples_leaf': [1, 5, 10]}\n",
    "\n",
    "\n",
    "gs_rf = GridSearchCV(pipe_rf, \n",
    "                     pipe_params_rf, \n",
    "                     cv=5,\n",
    "                     scoring='roc_auc')"
   ]
  },
  {
   "cell_type": "code",
   "execution_count": 38,
   "metadata": {},
   "outputs": [],
   "source": [
    "gs_rf.fit(X_train, y_train);"
   ]
  },
  {
   "cell_type": "code",
   "execution_count": 39,
   "metadata": {},
   "outputs": [
    {
     "data": {
      "text/plain": [
       "{'rf__max_depth': 13, 'rf__min_samples_leaf': 10, 'rf__min_samples_split': 2}"
      ]
     },
     "execution_count": 39,
     "metadata": {},
     "output_type": "execute_result"
    }
   ],
   "source": [
    "# Check the optimal params\n",
    "gs_rf.best_params_"
   ]
  },
  {
   "cell_type": "code",
   "execution_count": 40,
   "metadata": {},
   "outputs": [
    {
     "data": {
      "text/plain": [
       "0.7291463448900972"
      ]
     },
     "execution_count": 40,
     "metadata": {},
     "output_type": "execute_result"
    }
   ],
   "source": [
    "# Train score\n",
    "gs_rf.score(X_train, y_train)"
   ]
  },
  {
   "cell_type": "code",
   "execution_count": 41,
   "metadata": {},
   "outputs": [
    {
     "data": {
      "text/plain": [
       "0.6881256004443872"
      ]
     },
     "execution_count": 41,
     "metadata": {},
     "output_type": "execute_result"
    }
   ],
   "source": [
    "# Cross val score on the whole dataset \n",
    "cross_val_score(gs_rf.best_estimator_, X, y, scoring='roc_auc', cv=5).mean()"
   ]
  },
  {
   "cell_type": "code",
   "execution_count": 42,
   "metadata": {},
   "outputs": [
    {
     "data": {
      "text/plain": [
       "0.6972586556502081"
      ]
     },
     "execution_count": 42,
     "metadata": {},
     "output_type": "execute_result"
    }
   ],
   "source": [
    "# Test score\n",
    "gs_rf.score(X_test, y_test)"
   ]
  },
  {
   "cell_type": "markdown",
   "metadata": {},
   "source": [
    "The model performs okay on training, but worse on the test. Again, it shows signs of overfitting. "
   ]
  },
  {
   "cell_type": "markdown",
   "metadata": {},
   "source": [
    "### Voting Classifier"
   ]
  },
  {
   "cell_type": "code",
   "execution_count": 43,
   "metadata": {},
   "outputs": [],
   "source": [
    "vc = VotingClassifier(estimators=[('lr', gs_lr), \n",
    "                                  ('knn', gs_knn), \n",
    "                                  ('dt', gs_dt),\n",
    "                                  ('bc', gs_bc),\n",
    "                                  ('rf', gs_rf)], \n",
    "                      voting='soft')"
   ]
  },
  {
   "cell_type": "code",
   "execution_count": 44,
   "metadata": {},
   "outputs": [],
   "source": [
    "vc.fit(X_train, y_train);"
   ]
  },
  {
   "cell_type": "code",
   "execution_count": 55,
   "metadata": {},
   "outputs": [],
   "source": [
    "#Define a function to calculate AUC ROC score for the Voting Classifier\n",
    "def auc_roc_score(model, X, y):\n",
    "    y_proba = vc.predict_proba(X)\n",
    "    false_positive_rate, true_positive_rate, thresholds = roc_curve(y, y_proba[:,1])\n",
    "    auc_roc = round(auc(false_positive_rate, true_positive_rate), 5)\n",
    "    return auc_roc"
   ]
  },
  {
   "cell_type": "code",
   "execution_count": 57,
   "metadata": {},
   "outputs": [
    {
     "data": {
      "text/plain": [
       "0.74255"
      ]
     },
     "execution_count": 57,
     "metadata": {},
     "output_type": "execute_result"
    }
   ],
   "source": [
    "# Train socre\n",
    "auc_roc_score(vc, X_train, y_train)"
   ]
  },
  {
   "cell_type": "code",
   "execution_count": 56,
   "metadata": {},
   "outputs": [
    {
     "data": {
      "text/plain": [
       "0.71323"
      ]
     },
     "execution_count": 56,
     "metadata": {},
     "output_type": "execute_result"
    }
   ],
   "source": [
    "# Test score\n",
    "auc_roc_score(vc, X_test, y_test)"
   ]
  },
  {
   "cell_type": "markdown",
   "metadata": {},
   "source": [
    "The ensemble model performs better than the others, but again, shows some signs of overfitting. "
   ]
  },
  {
   "cell_type": "markdown",
   "metadata": {},
   "source": [
    "## Model Selection"
   ]
  },
  {
   "cell_type": "markdown",
   "metadata": {},
   "source": [
    "Define functions that will generate and display AUC ROC scores for all the models"
   ]
  },
  {
   "cell_type": "code",
   "execution_count": 58,
   "metadata": {},
   "outputs": [],
   "source": [
    "# Define a funciton that takes a list of models (could be a list of one model), \n",
    "# Returns the AUC ROC score\n",
    "def evaluation_metrics(list_of_models, X, y):\n",
    "    table = [['Model Name', 'AUC ROC']]\n",
    "    for name, model in list_of_models:\n",
    "        y_proba = model.predict_proba(X)\n",
    "        \n",
    "        false_positive_rate, true_positive_rate, thresholds = roc_curve(y, y_proba[:,1])\n",
    "        auc_roc = round(auc(false_positive_rate, true_positive_rate), 5)\n",
    "        \n",
    "        table.append([name, auc_roc])\n",
    "    return table"
   ]
  },
  {
   "cell_type": "code",
   "execution_count": 59,
   "metadata": {},
   "outputs": [],
   "source": [
    "# Define a funciton that will pretty-print tabular data in Python\n",
    "def display_evaluation_metrics(table):\n",
    "    return display(HTML(tabulate.tabulate(table, tablefmt='html')))"
   ]
  },
  {
   "cell_type": "code",
   "execution_count": 60,
   "metadata": {},
   "outputs": [],
   "source": [
    "table_test = evaluation_metrics([('Logistic Regression', gs_lr), \n",
    "                                 ('KNN', gs_knn),\n",
    "                                 ('Decision Tree', gs_dt),\n",
    "                                 ('Bagging Classifier', gs_bc),\n",
    "                                 ('Random Forest', gs_rf),\n",
    "                                 ('Voting Classifier', vc)\n",
    "                                ],\n",
    "                                X_test, y_test)"
   ]
  },
  {
   "cell_type": "code",
   "execution_count": 61,
   "metadata": {
    "scrolled": true
   },
   "outputs": [
    {
     "data": {
      "text/html": [
       "<table>\n",
       "<tbody>\n",
       "<tr><td>Model Name         </td><td>AUC ROC</td></tr>\n",
       "<tr><td>Logistic Regression</td><td>0.70526</td></tr>\n",
       "<tr><td>KNN                </td><td>0.68604</td></tr>\n",
       "<tr><td>Decision Tree      </td><td>0.68101</td></tr>\n",
       "<tr><td>Bagging Classifier </td><td>0.59035</td></tr>\n",
       "<tr><td>Random Forest      </td><td>0.69726</td></tr>\n",
       "<tr><td>Voting Classifier  </td><td>0.71323</td></tr>\n",
       "</tbody>\n",
       "</table>"
      ],
      "text/plain": [
       "<IPython.core.display.HTML object>"
      ]
     },
     "metadata": {},
     "output_type": "display_data"
    }
   ],
   "source": [
    "display_evaluation_metrics(table_test)"
   ]
  },
  {
   "cell_type": "markdown",
   "metadata": {},
   "source": [
    "Based on the test scores, Voting Classifier is the best proforming model, followed by Logistic Regression model. "
   ]
  },
  {
   "cell_type": "markdown",
   "metadata": {},
   "source": [
    "## Model Evaluation"
   ]
  },
  {
   "cell_type": "markdown",
   "metadata": {},
   "source": [
    "The model evaluation will contain two parts: \n",
    "1. The Voting Classifier is our best model for prediciton. we will evaluate the model's performs based on it's predicting power.\n",
    "2. The Logistic Regression model is our best model for interpretation. we will interpret the Coefficients based on the result of the logistic regression. "
   ]
  },
  {
   "cell_type": "markdown",
   "metadata": {},
   "source": [
    "### Confusion Matrix"
   ]
  },
  {
   "cell_type": "code",
   "execution_count": 62,
   "metadata": {},
   "outputs": [],
   "source": [
    "y_pred = vc.predict(X_test)"
   ]
  },
  {
   "cell_type": "code",
   "execution_count": 63,
   "metadata": {},
   "outputs": [],
   "source": [
    "TN, FP, FN, TP = confusion_matrix(y_test, y_pred).ravel()"
   ]
  },
  {
   "cell_type": "code",
   "execution_count": 64,
   "metadata": {},
   "outputs": [],
   "source": [
    "cm = confusion_matrix(y_test, y_pred)"
   ]
  },
  {
   "cell_type": "code",
   "execution_count": 65,
   "metadata": {
    "scrolled": false
   },
   "outputs": [
    {
     "data": {
      "image/png": "[encoded data removed]",
      "text/plain": [
       "<Figure size 576x576 with 1 Axes>"
      ]
     },
     "metadata": {
      "needs_background": "light"
     },
     "output_type": "display_data"
    }
   ],
   "source": [
    "plt.figure(figsize = (8,8))\n",
    "ax = plt.subplot()\n",
    "sns.heatmap(cm, \n",
    "            annot=True, \n",
    "            ax = ax, \n",
    "            fmt='g', \n",
    "            cbar=False,\n",
    "            cmap=\"Blues\"); #annot=True to annotate cells\n",
    "\n",
    "# labels, title and ticks\n",
    "ax.set_title('Confusion Matrix', size=16)\n",
    "ax.set_xlabel('Predicted', size=14)\n",
    "ax.set_ylabel('True', size=14)\n",
    "ax.xaxis.set_ticklabels(['Negative', 'Positive'])\n",
    "ax.yaxis.set_ticklabels(['Negative', 'Positive']);"
   ]
  },
  {
   "cell_type": "markdown",
   "metadata": {},
   "source": [
    "For the Voting Classifier, the 4 classes of confusion matrix are as follows:\n",
    "\n",
    "True Positive: 2645  \n",
    "False Positive (Type 1): 1213  \n",
    "True Negative: 63  \n",
    "False Negative (Type 2): 45  \n",
    "A perfect classifier would have only TP and TN, so its confusion matirx would have nonzero values only on the top-left to bottom right diagonal. As we can see here, the diagonal from top left to bottom right are our correct predictions (TN and TP). We have a large number of TP, but also a large number of FP, which shows the limitation of this model. "
   ]
  },
  {
   "cell_type": "markdown",
   "metadata": {},
   "source": [
    "### ROC Curve and AUC ROC"
   ]
  },
  {
   "cell_type": "code",
   "execution_count": 66,
   "metadata": {},
   "outputs": [],
   "source": [
    "y_pred_proba = vc.predict_proba(X_test)"
   ]
  },
  {
   "cell_type": "code",
   "execution_count": 75,
   "metadata": {
    "scrolled": false
   },
   "outputs": [
    {
     "data": {
      "text/plain": [
       "<matplotlib.legend.Legend at 0x1a2c934f50>"
      ]
     },
     "execution_count": 75,
     "metadata": {},
     "output_type": "execute_result"
    },
    {
     "data": {
      "image/png": "[encoded data removed]",
      "text/plain": [
       "<Figure size 720x576 with 1 Axes>"
      ]
     },
     "metadata": {
      "needs_background": "light"
     },
     "output_type": "display_data"
    }
   ],
   "source": [
    "# Reference: https://scikit-learn.org/stable/modules/generated/sklearn.metrics.roc_curve.html#sklearn.metrics.roc_curve\n",
    "fpr, tpr, _= roc_curve(y_test, y_pred_proba[:,1])\n",
    "roc_auc = auc(fpr, tpr)\n",
    "\n",
    "\n",
    "# Plot of a ROC curve for a specific class\n",
    "plt.figure(figsize = (10,8))\n",
    "plt.plot(fpr, tpr, label='ROC curve (area = %0.4f)' % roc_auc)\n",
    "plt.plot([0, 1], [0, 1], 'k--')\n",
    "plt.xlim([-0.02, 1.0])\n",
    "plt.ylim([0.0, 1.02])\n",
    "plt.xlabel('False Positive Rate')\n",
    "plt.ylabel('True Positive Rate')\n",
    "plt.title('Receiver Operating Characteristic Curve', fontsize=15)\n",
    "plt.legend(loc=\"lower right\")"
   ]
  },
  {
   "cell_type": "markdown",
   "metadata": {},
   "source": [
    "The ROC curve helps us to visualize our tradeoff between sensitivity and specificity and understand how well-separated our classes are. The ROC curve is generated by varying our threshold from 0 to 1. The best threshold is the point on the curve where it's closest to the top left corner. \n",
    "\n",
    "In addiction, the AUC ROC measures how well the classifier seperates the two classes, affluent and not affluent. AUC ROC score ranges from 0 to 1. The closer it is to 1, the better the classifier seperates the two classes. As we can see from the above plot, the Voting Classifier' AUC ROC score is 0,7132, which means our model is medirocate at separating the two classes."
   ]
  },
  {
   "cell_type": "markdown",
   "metadata": {},
   "source": [
    "### Model Interpretation"
   ]
  },
  {
   "cell_type": "code",
   "execution_count": 110,
   "metadata": {},
   "outputs": [],
   "source": [
    "# Create a dataframe that conbines feature names and coefficients\n",
    "top_features = pd.DataFrame(list(zip(X_test.columns.values, gs_lr.best_estimator_.steps[1][1].coef_.ravel() )), \n",
    "               columns=['features', 'coefficient'])"
   ]
  },
  {
   "cell_type": "code",
   "execution_count": 111,
   "metadata": {},
   "outputs": [],
   "source": [
    "top_features = top_features.sort_values(by='coefficient')"
   ]
  },
  {
   "cell_type": "code",
   "execution_count": 112,
   "metadata": {},
   "outputs": [],
   "source": [
    "# Find the top 10 strongest predictors for the positive class\n",
    "df_1 = top_features.sort_values(by=['coefficient'], ascending=False).head(10)"
   ]
  },
  {
   "cell_type": "code",
   "execution_count": 113,
   "metadata": {},
   "outputs": [],
   "source": [
    "# Find the top 10 strongest predictors for the negative class\n",
    "df_2 = top_features.sort_values(by=['coefficient'], ascending=False).tail(10)"
   ]
  },
  {
   "cell_type": "code",
   "execution_count": 114,
   "metadata": {},
   "outputs": [],
   "source": [
    "df_1_and_2 = pd.concat([df_1, df_2], ignore_index=True)"
   ]
  },
  {
   "cell_type": "code",
   "execution_count": 115,
   "metadata": {
    "scrolled": false
   },
   "outputs": [
    {
     "data": {
      "image/png": "[encoded data removed]",
      "text/plain": [
       "<Figure size 576x576 with 1 Axes>"
      ]
     },
     "metadata": {},
     "output_type": "display_data"
    }
   ],
   "source": [
    "plt.figure(figsize=(8,8))\n",
    "plt.title('Best Predictors',fontsize=25)\n",
    "sns.set_style(\"darkgrid\")\n",
    "sns.barplot(data=df_1_and_2 ,x='coefficient',y='features',orient='h', palette=\"GnBu_d\")\n",
    "plt.xlabel('coefficient',fontsize=20)\n",
    "plt.ylabel('features',fontsize=20)\n",
    "plt.tick_params(labelsize=15)"
   ]
  },
  {
   "cell_type": "markdown",
   "metadata": {},
   "source": [
    "- Let's first look at the top 10 predictors for our positive class (affluent): \n",
    "\n",
    "Surprisingly, `review_count` is the strongest predictor for the positive class. Based on the coefficient, a one-unit change in review_count causes 'is affluent' to be e^(1.088083) times as likely.  \n",
    "\n",
    "The second strongest predictor for the positive class is `rating`: a one-unit change in rating causes 'affluent' \n",
    "to be e^(0.190824) times as likely.   \n",
    "\n",
    "To answer our client's question, i.e. whether the Yelp dollar sign can be used to predict whether the neighborhood is affluent or not, based on the coefficient, a one-unit change in `price` causes 'affluent' to be e^(0.122521) times as likely. Although this feature is among the top 10 strongest predictors for the positive class, it ranked below category = chocolate, Ethiopian, and French. To explain this more intuitively, having more Chocolate stores, Ethiopian restaurants, or French restaurants is a better predictor for an affluent neighborhood. \n",
    "\n",
    "- Let's now look at the top 10 predictors for our negative class (not affluent):\n",
    "\n",
    "The top predictors are all restaurant categories, such as Himalayan, Chinese, buffets, Korean, and Pizza. This makes intuitive sense for NYC. "
   ]
  }
 ],
 "metadata": {
  "kernelspec": {
   "display_name": "Python 3",
   "language": "python",
   "name": "python3"
  },
  "language_info": {
   "codemirror_mode": {
    "name": "ipython",
    "version": 3
   },
   "file_extension": ".py",
   "mimetype": "text/x-python",
   "name": "python",
   "nbconvert_exporter": "python",
   "pygments_lexer": "ipython3",
   "version": "3.7.5"
  },
  "toc": {
   "base_numbering": 1,
   "nav_menu": {},
   "number_sections": true,
   "sideBar": true,
   "skip_h1_title": false,
   "title_cell": "Table of Contents",
   "title_sidebar": "Contents",
   "toc_cell": true,
   "toc_position": {},
   "toc_section_display": true,
   "toc_window_display": true
  }
 },
 "nbformat": 4,
 "nbformat_minor": 2
}
