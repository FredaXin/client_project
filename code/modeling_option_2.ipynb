{
 "cells": [
  {
   "cell_type": "markdown",
   "metadata": {},
   "source": [
    "# Modeling: Option 2"
   ]
  },
  {
   "cell_type": "markdown",
   "metadata": {},
   "source": [
    "For this modeling approach, we will use all individual Yelp businesses as observations (about 20k) and developed 4 types of classification models: Logistic Regression, KNN, Tree based models, and Voting Classifier. This approach has the advantage of fast and cheap. "
   ]
  },
  {
   "cell_type": "markdown",
   "metadata": {
    "toc": true
   },
   "source": [
    "<h1>Table of Contents<span class=\"tocSkip\"></span></h1>\n",
    "<div class=\"toc\"><ul class=\"toc-item\"><li><span><a href=\"#Modeling:-Option-2\" data-toc-modified-id=\"Modeling:-Option-2-1\"><span class=\"toc-item-num\">1&nbsp;&nbsp;</span>Modeling: Option 2</a></span><ul class=\"toc-item\"><li><span><a href=\"#Import-libraries\" data-toc-modified-id=\"Import-libraries-1.1\"><span class=\"toc-item-num\">1.1&nbsp;&nbsp;</span>Import libraries</a></span></li><li><span><a href=\"#Load-data\" data-toc-modified-id=\"Load-data-1.2\"><span class=\"toc-item-num\">1.2&nbsp;&nbsp;</span>Load data</a></span></li><li><span><a href=\"#Preprocessing\" data-toc-modified-id=\"Preprocessing-1.3\"><span class=\"toc-item-num\">1.3&nbsp;&nbsp;</span>Preprocessing</a></span></li><li><span><a href=\"#Model-Preparation\" data-toc-modified-id=\"Model-Preparation-1.4\"><span class=\"toc-item-num\">1.4&nbsp;&nbsp;</span>Model Preparation</a></span></li><li><span><a href=\"#Train,-Test-Split\" data-toc-modified-id=\"Train,-Test-Split-1.5\"><span class=\"toc-item-num\">1.5&nbsp;&nbsp;</span>Train, Test Split</a></span></li><li><span><a href=\"#Modeling\" data-toc-modified-id=\"Modeling-1.6\"><span class=\"toc-item-num\">1.6&nbsp;&nbsp;</span>Modeling</a></span><ul class=\"toc-item\"><li><span><a href=\"#Evaluation-Metric\" data-toc-modified-id=\"Evaluation-Metric-1.6.1\"><span class=\"toc-item-num\">1.6.1&nbsp;&nbsp;</span>Evaluation Metric</a></span></li><li><span><a href=\"#Baseline-Model\" data-toc-modified-id=\"Baseline-Model-1.6.2\"><span class=\"toc-item-num\">1.6.2&nbsp;&nbsp;</span>Baseline Model</a></span></li><li><span><a href=\"#Logistic-Regression\" data-toc-modified-id=\"Logistic-Regression-1.6.3\"><span class=\"toc-item-num\">1.6.3&nbsp;&nbsp;</span>Logistic Regression</a></span></li><li><span><a href=\"#KNN-model\" data-toc-modified-id=\"KNN-model-1.6.4\"><span class=\"toc-item-num\">1.6.4&nbsp;&nbsp;</span>KNN model</a></span></li><li><span><a href=\"#Trees\" data-toc-modified-id=\"Trees-1.6.5\"><span class=\"toc-item-num\">1.6.5&nbsp;&nbsp;</span>Trees</a></span><ul class=\"toc-item\"><li><span><a href=\"#Decision-Tree\" data-toc-modified-id=\"Decision-Tree-1.6.5.1\"><span class=\"toc-item-num\">1.6.5.1&nbsp;&nbsp;</span>Decision Tree</a></span></li><li><span><a href=\"#Bagging-Classifier\" data-toc-modified-id=\"Bagging-Classifier-1.6.5.2\"><span class=\"toc-item-num\">1.6.5.2&nbsp;&nbsp;</span>Bagging Classifier</a></span></li><li><span><a href=\"#Random-Forest\" data-toc-modified-id=\"Random-Forest-1.6.5.3\"><span class=\"toc-item-num\">1.6.5.3&nbsp;&nbsp;</span>Random Forest</a></span></li></ul></li><li><span><a href=\"#Voting-Classifier\" data-toc-modified-id=\"Voting-Classifier-1.6.6\"><span class=\"toc-item-num\">1.6.6&nbsp;&nbsp;</span>Voting Classifier</a></span></li></ul></li><li><span><a href=\"#Model-Selection\" data-toc-modified-id=\"Model-Selection-1.7\"><span class=\"toc-item-num\">1.7&nbsp;&nbsp;</span>Model Selection</a></span></li><li><span><a href=\"#Model-Evaluation\" data-toc-modified-id=\"Model-Evaluation-1.8\"><span class=\"toc-item-num\">1.8&nbsp;&nbsp;</span>Model Evaluation</a></span><ul class=\"toc-item\"><li><span><a href=\"#Confusion-Matrix\" data-toc-modified-id=\"Confusion-Matrix-1.8.1\"><span class=\"toc-item-num\">1.8.1&nbsp;&nbsp;</span>Confusion Matrix</a></span></li><li><span><a href=\"#ROC-Curve-and-AUC-ROC\" data-toc-modified-id=\"ROC-Curve-and-AUC-ROC-1.8.2\"><span class=\"toc-item-num\">1.8.2&nbsp;&nbsp;</span>ROC Curve and AUC ROC</a></span></li><li><span><a href=\"#Model-Interpretation\" data-toc-modified-id=\"Model-Interpretation-1.8.3\"><span class=\"toc-item-num\">1.8.3&nbsp;&nbsp;</span>Model Interpretation</a></span><ul class=\"toc-item\"><li><span><a href=\"#Visualize-top-predictor:-category-'chocholate'\" data-toc-modified-id=\"Visualize-top-predictor:-category-'chocholate'-1.8.3.1\"><span class=\"toc-item-num\">1.8.3.1&nbsp;&nbsp;</span>Visualize top predictor: category 'chocholate'</a></span></li></ul></li></ul></li><li><span><a href=\"#Conclusion\" data-toc-modified-id=\"Conclusion-1.9\"><span class=\"toc-item-num\">1.9&nbsp;&nbsp;</span>Conclusion</a></span></li><li><span><a href=\"#Bonus:-Create-a-funtion-to-predict-using-a-single-Yelp-business-info\" data-toc-modified-id=\"Bonus:-Create-a-funtion-to-predict-using-a-single-Yelp-business-info-1.10\"><span class=\"toc-item-num\">1.10&nbsp;&nbsp;</span>Bonus: Create a funtion to predict using a single Yelp business info</a></span></li></ul></li></ul></div>"
   ]
  },
  {
   "cell_type": "markdown",
   "metadata": {},
   "source": [
    "## Import libraries"
   ]
  },
  {
   "cell_type": "code",
   "execution_count": 1,
   "metadata": {},
   "outputs": [],
   "source": [
    "import numpy as np\n",
    "import pandas as pd\n",
    "import matplotlib.pyplot as plt\n",
    "import seaborn as sns\n",
    "\n",
    "from sklearn.preprocessing import StandardScaler\n",
    "from sklearn.model_selection import train_test_split, GridSearchCV, cross_val_score\n",
    "from sklearn.pipeline import Pipeline\n",
    "\n",
    "from sklearn.linear_model import LogisticRegression\n",
    "from sklearn.neighbors import KNeighborsClassifier\n",
    "from sklearn.tree import DecisionTreeClassifier\n",
    "from sklearn.ensemble import BaggingClassifier, RandomForestClassifier, VotingClassifier\n",
    "\n",
    "from sklearn.metrics import confusion_matrix, roc_curve, auc, make_scorer, roc_auc_score\n",
    "\n",
    "import folium\n",
    "import html\n",
    "from folium.plugins import MarkerCluster\n",
    "import ast \n",
    "\n",
    "# Styling \n",
    "from IPython.display import HTML, display\n",
    "import tabulate\n",
    "\n",
    "pd.set_option('display.max_rows', 500)\n",
    "pd.set_option('display.max_columns', 500)\n",
    "\n",
    "import warnings\n",
    "warnings.simplefilter(action='ignore', category=FutureWarning)\n",
    "warnings.filterwarnings('ignore')\n",
    "\n",
    "%matplotlib inline"
   ]
  },
  {
   "cell_type": "markdown",
   "metadata": {},
   "source": [
    "## Load data"
   ]
  },
  {
   "cell_type": "code",
   "execution_count": 2,
   "metadata": {},
   "outputs": [],
   "source": [
    "yelp = pd.read_csv('./../data/yelp_clean.csv')"
   ]
  },
  {
   "cell_type": "code",
   "execution_count": 3,
   "metadata": {},
   "outputs": [
    {
     "data": {
      "text/html": [
       "<div>\n",
       "<style scoped>\n",
       "    .dataframe tbody tr th:only-of-type {\n",
       "        vertical-align: middle;\n",
       "    }\n",
       "\n",
       "    .dataframe tbody tr th {\n",
       "        vertical-align: top;\n",
       "    }\n",
       "\n",
       "    .dataframe thead th {\n",
       "        text-align: right;\n",
       "    }\n",
       "</style>\n",
       "<table border=\"1\" class=\"dataframe\">\n",
       "  <thead>\n",
       "    <tr style=\"text-align: right;\">\n",
       "      <th></th>\n",
       "      <th>Unnamed: 0</th>\n",
       "      <th>name</th>\n",
       "      <th>review_count</th>\n",
       "      <th>rating</th>\n",
       "      <th>price</th>\n",
       "      <th>cat1</th>\n",
       "      <th>zip_code</th>\n",
       "      <th>nyc</th>\n",
       "      <th>borough</th>\n",
       "      <th>cluster</th>\n",
       "      <th>is_affluent</th>\n",
       "    </tr>\n",
       "  </thead>\n",
       "  <tbody>\n",
       "    <tr>\n",
       "      <td>0</td>\n",
       "      <td>0</td>\n",
       "      <td>Com Tam Ninh Kieu</td>\n",
       "      <td>379</td>\n",
       "      <td>4.0</td>\n",
       "      <td>2</td>\n",
       "      <td>vietnamese</td>\n",
       "      <td>10468</td>\n",
       "      <td>True</td>\n",
       "      <td>Bronx</td>\n",
       "      <td>12</td>\n",
       "      <td>0</td>\n",
       "    </tr>\n",
       "    <tr>\n",
       "      <td>1</td>\n",
       "      <td>1</td>\n",
       "      <td>Antonio's Trattoria</td>\n",
       "      <td>773</td>\n",
       "      <td>4.5</td>\n",
       "      <td>2</td>\n",
       "      <td>italian</td>\n",
       "      <td>10458</td>\n",
       "      <td>True</td>\n",
       "      <td>Bronx</td>\n",
       "      <td>12</td>\n",
       "      <td>0</td>\n",
       "    </tr>\n",
       "  </tbody>\n",
       "</table>\n",
       "</div>"
      ],
      "text/plain": [
       "   Unnamed: 0                 name  review_count  rating  price        cat1  \\\n",
       "0           0    Com Tam Ninh Kieu           379     4.0      2  vietnamese   \n",
       "1           1  Antonio's Trattoria           773     4.5      2     italian   \n",
       "\n",
       "   zip_code   nyc borough  cluster  is_affluent  \n",
       "0     10468  True   Bronx       12            0  \n",
       "1     10458  True   Bronx       12            0  "
      ]
     },
     "execution_count": 3,
     "metadata": {},
     "output_type": "execute_result"
    }
   ],
   "source": [
    "yelp.head(2)"
   ]
  },
  {
   "cell_type": "markdown",
   "metadata": {},
   "source": [
    "## Preprocessing"
   ]
  },
  {
   "cell_type": "code",
   "execution_count": 4,
   "metadata": {},
   "outputs": [],
   "source": [
    "# Select feature columns\n",
    "columns_to_keep = ['review_count', 'rating', 'price', 'cat1', 'is_affluent']\n",
    "yelp = yelp[columns_to_keep]"
   ]
  },
  {
   "cell_type": "code",
   "execution_count": 5,
   "metadata": {},
   "outputs": [],
   "source": [
    "# Dummify all categorical columns\n",
    "def dummify_categorical_columns(df):\n",
    "    '''\n",
    "    Dummify all categorical columns\n",
    "    '''\n",
    "    categorical_columns = df.select_dtypes(include=\"object\").columns\n",
    "    return pd.get_dummies(df, columns=categorical_columns, drop_first=True)"
   ]
  },
  {
   "cell_type": "code",
   "execution_count": 6,
   "metadata": {},
   "outputs": [],
   "source": [
    "yelp = dummify_categorical_columns(yelp)"
   ]
  },
  {
   "cell_type": "code",
   "execution_count": 7,
   "metadata": {},
   "outputs": [
    {
     "data": {
      "text/html": [
       "<div>\n",
       "<style scoped>\n",
       "    .dataframe tbody tr th:only-of-type {\n",
       "        vertical-align: middle;\n",
       "    }\n",
       "\n",
       "    .dataframe tbody tr th {\n",
       "        vertical-align: top;\n",
       "    }\n",
       "\n",
       "    .dataframe thead th {\n",
       "        text-align: right;\n",
       "    }\n",
       "</style>\n",
       "<table border=\"1\" class=\"dataframe\">\n",
       "  <thead>\n",
       "    <tr style=\"text-align: right;\">\n",
       "      <th></th>\n",
       "      <th>review_count</th>\n",
       "      <th>rating</th>\n",
       "      <th>price</th>\n",
       "      <th>is_affluent</th>\n",
       "      <th>cat1_afghani</th>\n",
       "      <th>cat1_african</th>\n",
       "      <th>cat1_airportlounges</th>\n",
       "      <th>cat1_arcades</th>\n",
       "      <th>cat1_argentine</th>\n",
       "      <th>cat1_armenian</th>\n",
       "      <th>cat1_artmuseums</th>\n",
       "      <th>cat1_asianfusion</th>\n",
       "      <th>cat1_australian</th>\n",
       "      <th>cat1_austrian</th>\n",
       "      <th>cat1_bagels</th>\n",
       "      <th>cat1_bakeries</th>\n",
       "      <th>cat1_bangladeshi</th>\n",
       "      <th>cat1_barbers</th>\n",
       "      <th>cat1_bars</th>\n",
       "      <th>cat1_basque</th>\n",
       "      <th>cat1_bbq</th>\n",
       "      <th>cat1_beer_and_wine</th>\n",
       "      <th>cat1_beerbar</th>\n",
       "      <th>cat1_beergardens</th>\n",
       "      <th>cat1_belgian</th>\n",
       "      <th>cat1_boating</th>\n",
       "      <th>cat1_bookstores</th>\n",
       "      <th>cat1_bowling</th>\n",
       "      <th>cat1_boxing</th>\n",
       "      <th>cat1_brasseries</th>\n",
       "      <th>cat1_brazilian</th>\n",
       "      <th>cat1_breakfast_brunch</th>\n",
       "      <th>cat1_breweries</th>\n",
       "      <th>cat1_british</th>\n",
       "      <th>cat1_bubbletea</th>\n",
       "      <th>cat1_buffets</th>\n",
       "      <th>cat1_burgers</th>\n",
       "      <th>cat1_burmese</th>\n",
       "      <th>cat1_butcher</th>\n",
       "      <th>cat1_cafes</th>\n",
       "      <th>cat1_cafeteria</th>\n",
       "      <th>cat1_cajun</th>\n",
       "      <th>cat1_cakeshop</th>\n",
       "      <th>cat1_cambodian</th>\n",
       "      <th>cat1_candy</th>\n",
       "      <th>cat1_cantonese</th>\n",
       "      <th>cat1_caribbean</th>\n",
       "      <th>cat1_catering</th>\n",
       "      <th>cat1_champagne_bars</th>\n",
       "      <th>cat1_cheese</th>\n",
       "      <th>cat1_cheesesteaks</th>\n",
       "      <th>cat1_chicken_wings</th>\n",
       "      <th>cat1_chickenshop</th>\n",
       "      <th>cat1_chinese</th>\n",
       "      <th>cat1_chocolate</th>\n",
       "      <th>cat1_cigarbars</th>\n",
       "      <th>cat1_cocktailbars</th>\n",
       "      <th>cat1_coffee</th>\n",
       "      <th>cat1_coffeeroasteries</th>\n",
       "      <th>cat1_colombian</th>\n",
       "      <th>cat1_comedyclubs</th>\n",
       "      <th>cat1_comfortfood</th>\n",
       "      <th>cat1_convenience</th>\n",
       "      <th>cat1_cookingclasses</th>\n",
       "      <th>cat1_cookingschools</th>\n",
       "      <th>cat1_creperies</th>\n",
       "      <th>cat1_cuban</th>\n",
       "      <th>cat1_culturalcenter</th>\n",
       "      <th>cat1_cupcakes</th>\n",
       "      <th>cat1_customcakes</th>\n",
       "      <th>cat1_czech</th>\n",
       "      <th>cat1_danceclubs</th>\n",
       "      <th>cat1_delis</th>\n",
       "      <th>cat1_desserts</th>\n",
       "      <th>cat1_dimsum</th>\n",
       "      <th>cat1_diners</th>\n",
       "      <th>cat1_distilleries</th>\n",
       "      <th>cat1_divebars</th>\n",
       "      <th>cat1_diyfood</th>\n",
       "      <th>cat1_dominican</th>\n",
       "      <th>cat1_donuts</th>\n",
       "      <th>cat1_drugstores</th>\n",
       "      <th>cat1_eatertainment</th>\n",
       "      <th>cat1_egyptian</th>\n",
       "      <th>cat1_empanadas</th>\n",
       "      <th>cat1_ethiopian</th>\n",
       "      <th>cat1_eventplanning</th>\n",
       "      <th>cat1_falafel</th>\n",
       "      <th>cat1_farmersmarket</th>\n",
       "      <th>cat1_festivals</th>\n",
       "      <th>cat1_filipino</th>\n",
       "      <th>cat1_fishnchips</th>\n",
       "      <th>cat1_florists</th>\n",
       "      <th>cat1_fondue</th>\n",
       "      <th>cat1_food</th>\n",
       "      <th>cat1_food_court</th>\n",
       "      <th>cat1_fooddeliveryservices</th>\n",
       "      <th>cat1_foodstands</th>\n",
       "      <th>cat1_foodtrucks</th>\n",
       "      <th>cat1_french</th>\n",
       "      <th>cat1_galleries</th>\n",
       "      <th>cat1_gastropubs</th>\n",
       "      <th>cat1_gaybars</th>\n",
       "      <th>cat1_gelato</th>\n",
       "      <th>cat1_georgian</th>\n",
       "      <th>cat1_german</th>\n",
       "      <th>cat1_giftshops</th>\n",
       "      <th>cat1_gluten_free</th>\n",
       "      <th>cat1_golf</th>\n",
       "      <th>cat1_golflessons</th>\n",
       "      <th>cat1_gourmet</th>\n",
       "      <th>cat1_greek</th>\n",
       "      <th>cat1_grocery</th>\n",
       "      <th>cat1_hair</th>\n",
       "      <th>cat1_haitian</th>\n",
       "      <th>cat1_halal</th>\n",
       "      <th>cat1_hawaiian</th>\n",
       "      <th>cat1_healthmarkets</th>\n",
       "      <th>cat1_herbsandspices</th>\n",
       "      <th>cat1_himalayan</th>\n",
       "      <th>cat1_hkcafe</th>\n",
       "      <th>cat1_hobbyshops</th>\n",
       "      <th>cat1_hookah_bars</th>\n",
       "      <th>cat1_hotdog</th>\n",
       "      <th>cat1_hotdogs</th>\n",
       "      <th>cat1_hotels</th>\n",
       "      <th>cat1_hotpot</th>\n",
       "      <th>cat1_hungarian</th>\n",
       "      <th>cat1_icecream</th>\n",
       "      <th>cat1_indonesian</th>\n",
       "      <th>cat1_indpak</th>\n",
       "      <th>cat1_intlgrocery</th>\n",
       "      <th>cat1_irish</th>\n",
       "      <th>cat1_irish_pubs</th>\n",
       "      <th>cat1_italian</th>\n",
       "      <th>cat1_izakaya</th>\n",
       "      <th>cat1_japacurry</th>\n",
       "      <th>cat1_japanese</th>\n",
       "      <th>cat1_jazzandblues</th>\n",
       "      <th>cat1_juicebars</th>\n",
       "      <th>cat1_karaoke</th>\n",
       "      <th>cat1_kebab</th>\n",
       "      <th>cat1_kids_activities</th>\n",
       "      <th>cat1_kitchenandbath</th>\n",
       "      <th>cat1_korean</th>\n",
       "      <th>cat1_kosher</th>\n",
       "      <th>cat1_landmarks</th>\n",
       "      <th>cat1_laotian</th>\n",
       "      <th>cat1_latin</th>\n",
       "      <th>cat1_laundromat</th>\n",
       "      <th>cat1_lebanese</th>\n",
       "      <th>cat1_localservices</th>\n",
       "      <th>cat1_lounges</th>\n",
       "      <th>cat1_macarons</th>\n",
       "      <th>cat1_magicians</th>\n",
       "      <th>cat1_mags</th>\n",
       "      <th>cat1_malaysian</th>\n",
       "      <th>cat1_markets</th>\n",
       "      <th>cat1_meats</th>\n",
       "      <th>cat1_mediterranean</th>\n",
       "      <th>cat1_mexican</th>\n",
       "      <th>cat1_mideastern</th>\n",
       "      <th>cat1_modern_european</th>\n",
       "      <th>cat1_mongolian</th>\n",
       "      <th>cat1_moroccan</th>\n",
       "      <th>cat1_movietheaters</th>\n",
       "      <th>cat1_museums</th>\n",
       "      <th>cat1_musicvenues</th>\n",
       "      <th>cat1_musicvideo</th>\n",
       "      <th>cat1_newamerican</th>\n",
       "      <th>cat1_newmexican</th>\n",
       "      <th>cat1_nightlife</th>\n",
       "      <th>cat1_nonprofit</th>\n",
       "      <th>cat1_noodles</th>\n",
       "      <th>cat1_organic_stores</th>\n",
       "      <th>cat1_pakistani</th>\n",
       "      <th>cat1_panasian</th>\n",
       "      <th>cat1_pastashops</th>\n",
       "      <th>cat1_persian</th>\n",
       "      <th>cat1_peruvian</th>\n",
       "      <th>cat1_petstore</th>\n",
       "      <th>cat1_pianobars</th>\n",
       "      <th>cat1_pizza</th>\n",
       "      <th>cat1_poke</th>\n",
       "      <th>cat1_polish</th>\n",
       "      <th>cat1_poolhalls</th>\n",
       "      <th>cat1_popuprestaurants</th>\n",
       "      <th>cat1_portuguese</th>\n",
       "      <th>cat1_pretzels</th>\n",
       "      <th>cat1_publicmarkets</th>\n",
       "      <th>cat1_pubs</th>\n",
       "      <th>cat1_puertorican</th>\n",
       "      <th>cat1_ramen</th>\n",
       "      <th>cat1_restaurants</th>\n",
       "      <th>cat1_russian</th>\n",
       "      <th>cat1_salad</th>\n",
       "      <th>cat1_salvadoran</th>\n",
       "      <th>cat1_sandwiches</th>\n",
       "      <th>cat1_scandinavian</th>\n",
       "      <th>cat1_seafood</th>\n",
       "      <th>cat1_seafoodmarkets</th>\n",
       "      <th>cat1_senegalese</th>\n",
       "      <th>cat1_servicestations</th>\n",
       "      <th>cat1_shanghainese</th>\n",
       "      <th>cat1_sharedofficespaces</th>\n",
       "      <th>cat1_shavedice</th>\n",
       "      <th>cat1_shopping</th>\n",
       "      <th>cat1_shoppingcenters</th>\n",
       "      <th>cat1_sicilian</th>\n",
       "      <th>cat1_singaporean</th>\n",
       "      <th>cat1_skate_parks</th>\n",
       "      <th>cat1_soulfood</th>\n",
       "      <th>cat1_soup</th>\n",
       "      <th>cat1_southafrican</th>\n",
       "      <th>cat1_southern</th>\n",
       "      <th>cat1_spanish</th>\n",
       "      <th>cat1_spas</th>\n",
       "      <th>cat1_speakeasies</th>\n",
       "      <th>cat1_sportgoods</th>\n",
       "      <th>cat1_sports_clubs</th>\n",
       "      <th>cat1_sportsbars</th>\n",
       "      <th>cat1_sportswear</th>\n",
       "      <th>cat1_srilankan</th>\n",
       "      <th>cat1_steak</th>\n",
       "      <th>cat1_streetvendors</th>\n",
       "      <th>cat1_supperclubs</th>\n",
       "      <th>cat1_sushi</th>\n",
       "      <th>cat1_szechuan</th>\n",
       "      <th>cat1_tacos</th>\n",
       "      <th>cat1_taiwanese</th>\n",
       "      <th>cat1_tapas</th>\n",
       "      <th>cat1_tapasmallplates</th>\n",
       "      <th>cat1_tattoo</th>\n",
       "      <th>cat1_tea</th>\n",
       "      <th>cat1_teppanyaki</th>\n",
       "      <th>cat1_tex-mex</th>\n",
       "      <th>cat1_thai</th>\n",
       "      <th>cat1_theater</th>\n",
       "      <th>cat1_themedcafes</th>\n",
       "      <th>cat1_tikibars</th>\n",
       "      <th>cat1_tobaccoshops</th>\n",
       "      <th>cat1_tours</th>\n",
       "      <th>cat1_tradamerican</th>\n",
       "      <th>cat1_trinidadian</th>\n",
       "      <th>cat1_turkish</th>\n",
       "      <th>cat1_tuscan</th>\n",
       "      <th>cat1_ukrainian</th>\n",
       "      <th>cat1_uzbek</th>\n",
       "      <th>cat1_vapeshops</th>\n",
       "      <th>cat1_vegan</th>\n",
       "      <th>cat1_vegetarian</th>\n",
       "      <th>cat1_venezuelan</th>\n",
       "      <th>cat1_venues</th>\n",
       "      <th>cat1_vietnamese</th>\n",
       "      <th>cat1_vinyl_records</th>\n",
       "      <th>cat1_waffles</th>\n",
       "      <th>cat1_whiskeybars</th>\n",
       "      <th>cat1_wine_bars</th>\n",
       "      <th>cat1_wraps</th>\n",
       "    </tr>\n",
       "  </thead>\n",
       "  <tbody>\n",
       "    <tr>\n",
       "      <td>0</td>\n",
       "      <td>379</td>\n",
       "      <td>4.0</td>\n",
       "      <td>2</td>\n",
       "      <td>0</td>\n",
       "      <td>0</td>\n",
       "      <td>0</td>\n",
       "      <td>0</td>\n",
       "      <td>0</td>\n",
       "      <td>0</td>\n",
       "      <td>0</td>\n",
       "      <td>0</td>\n",
       "      <td>0</td>\n",
       "      <td>0</td>\n",
       "      <td>0</td>\n",
       "      <td>0</td>\n",
       "      <td>0</td>\n",
       "      <td>0</td>\n",
       "      <td>0</td>\n",
       "      <td>0</td>\n",
       "      <td>0</td>\n",
       "      <td>0</td>\n",
       "      <td>0</td>\n",
       "      <td>0</td>\n",
       "      <td>0</td>\n",
       "      <td>0</td>\n",
       "      <td>0</td>\n",
       "      <td>0</td>\n",
       "      <td>0</td>\n",
       "      <td>0</td>\n",
       "      <td>0</td>\n",
       "      <td>0</td>\n",
       "      <td>0</td>\n",
       "      <td>0</td>\n",
       "      <td>0</td>\n",
       "      <td>0</td>\n",
       "      <td>0</td>\n",
       "      <td>0</td>\n",
       "      <td>0</td>\n",
       "      <td>0</td>\n",
       "      <td>0</td>\n",
       "      <td>0</td>\n",
       "      <td>0</td>\n",
       "      <td>0</td>\n",
       "      <td>0</td>\n",
       "      <td>0</td>\n",
       "      <td>0</td>\n",
       "      <td>0</td>\n",
       "      <td>0</td>\n",
       "      <td>0</td>\n",
       "      <td>0</td>\n",
       "      <td>0</td>\n",
       "      <td>0</td>\n",
       "      <td>0</td>\n",
       "      <td>0</td>\n",
       "      <td>0</td>\n",
       "      <td>0</td>\n",
       "      <td>0</td>\n",
       "      <td>0</td>\n",
       "      <td>0</td>\n",
       "      <td>0</td>\n",
       "      <td>0</td>\n",
       "      <td>0</td>\n",
       "      <td>0</td>\n",
       "      <td>0</td>\n",
       "      <td>0</td>\n",
       "      <td>0</td>\n",
       "      <td>0</td>\n",
       "      <td>0</td>\n",
       "      <td>0</td>\n",
       "      <td>0</td>\n",
       "      <td>0</td>\n",
       "      <td>0</td>\n",
       "      <td>0</td>\n",
       "      <td>0</td>\n",
       "      <td>0</td>\n",
       "      <td>0</td>\n",
       "      <td>0</td>\n",
       "      <td>0</td>\n",
       "      <td>0</td>\n",
       "      <td>0</td>\n",
       "      <td>0</td>\n",
       "      <td>0</td>\n",
       "      <td>0</td>\n",
       "      <td>0</td>\n",
       "      <td>0</td>\n",
       "      <td>0</td>\n",
       "      <td>0</td>\n",
       "      <td>0</td>\n",
       "      <td>0</td>\n",
       "      <td>0</td>\n",
       "      <td>0</td>\n",
       "      <td>0</td>\n",
       "      <td>0</td>\n",
       "      <td>0</td>\n",
       "      <td>0</td>\n",
       "      <td>0</td>\n",
       "      <td>0</td>\n",
       "      <td>0</td>\n",
       "      <td>0</td>\n",
       "      <td>0</td>\n",
       "      <td>0</td>\n",
       "      <td>0</td>\n",
       "      <td>0</td>\n",
       "      <td>0</td>\n",
       "      <td>0</td>\n",
       "      <td>0</td>\n",
       "      <td>0</td>\n",
       "      <td>0</td>\n",
       "      <td>0</td>\n",
       "      <td>0</td>\n",
       "      <td>0</td>\n",
       "      <td>0</td>\n",
       "      <td>0</td>\n",
       "      <td>0</td>\n",
       "      <td>0</td>\n",
       "      <td>0</td>\n",
       "      <td>0</td>\n",
       "      <td>0</td>\n",
       "      <td>0</td>\n",
       "      <td>0</td>\n",
       "      <td>0</td>\n",
       "      <td>0</td>\n",
       "      <td>0</td>\n",
       "      <td>0</td>\n",
       "      <td>0</td>\n",
       "      <td>0</td>\n",
       "      <td>0</td>\n",
       "      <td>0</td>\n",
       "      <td>0</td>\n",
       "      <td>0</td>\n",
       "      <td>0</td>\n",
       "      <td>0</td>\n",
       "      <td>0</td>\n",
       "      <td>0</td>\n",
       "      <td>0</td>\n",
       "      <td>0</td>\n",
       "      <td>0</td>\n",
       "      <td>0</td>\n",
       "      <td>0</td>\n",
       "      <td>0</td>\n",
       "      <td>0</td>\n",
       "      <td>0</td>\n",
       "      <td>0</td>\n",
       "      <td>0</td>\n",
       "      <td>0</td>\n",
       "      <td>0</td>\n",
       "      <td>0</td>\n",
       "      <td>0</td>\n",
       "      <td>0</td>\n",
       "      <td>0</td>\n",
       "      <td>0</td>\n",
       "      <td>0</td>\n",
       "      <td>0</td>\n",
       "      <td>0</td>\n",
       "      <td>0</td>\n",
       "      <td>0</td>\n",
       "      <td>0</td>\n",
       "      <td>0</td>\n",
       "      <td>0</td>\n",
       "      <td>0</td>\n",
       "      <td>0</td>\n",
       "      <td>0</td>\n",
       "      <td>0</td>\n",
       "      <td>0</td>\n",
       "      <td>0</td>\n",
       "      <td>0</td>\n",
       "      <td>0</td>\n",
       "      <td>0</td>\n",
       "      <td>0</td>\n",
       "      <td>0</td>\n",
       "      <td>0</td>\n",
       "      <td>0</td>\n",
       "      <td>0</td>\n",
       "      <td>0</td>\n",
       "      <td>0</td>\n",
       "      <td>0</td>\n",
       "      <td>0</td>\n",
       "      <td>0</td>\n",
       "      <td>0</td>\n",
       "      <td>0</td>\n",
       "      <td>0</td>\n",
       "      <td>0</td>\n",
       "      <td>0</td>\n",
       "      <td>0</td>\n",
       "      <td>0</td>\n",
       "      <td>0</td>\n",
       "      <td>0</td>\n",
       "      <td>0</td>\n",
       "      <td>0</td>\n",
       "      <td>0</td>\n",
       "      <td>0</td>\n",
       "      <td>0</td>\n",
       "      <td>0</td>\n",
       "      <td>0</td>\n",
       "      <td>0</td>\n",
       "      <td>0</td>\n",
       "      <td>0</td>\n",
       "      <td>0</td>\n",
       "      <td>0</td>\n",
       "      <td>0</td>\n",
       "      <td>0</td>\n",
       "      <td>0</td>\n",
       "      <td>0</td>\n",
       "      <td>0</td>\n",
       "      <td>0</td>\n",
       "      <td>0</td>\n",
       "      <td>0</td>\n",
       "      <td>0</td>\n",
       "      <td>0</td>\n",
       "      <td>0</td>\n",
       "      <td>0</td>\n",
       "      <td>0</td>\n",
       "      <td>0</td>\n",
       "      <td>0</td>\n",
       "      <td>0</td>\n",
       "      <td>0</td>\n",
       "      <td>0</td>\n",
       "      <td>0</td>\n",
       "      <td>0</td>\n",
       "      <td>0</td>\n",
       "      <td>0</td>\n",
       "      <td>0</td>\n",
       "      <td>0</td>\n",
       "      <td>0</td>\n",
       "      <td>0</td>\n",
       "      <td>0</td>\n",
       "      <td>0</td>\n",
       "      <td>0</td>\n",
       "      <td>0</td>\n",
       "      <td>0</td>\n",
       "      <td>0</td>\n",
       "      <td>0</td>\n",
       "      <td>0</td>\n",
       "      <td>0</td>\n",
       "      <td>0</td>\n",
       "      <td>0</td>\n",
       "      <td>0</td>\n",
       "      <td>0</td>\n",
       "      <td>0</td>\n",
       "      <td>0</td>\n",
       "      <td>0</td>\n",
       "      <td>0</td>\n",
       "      <td>0</td>\n",
       "      <td>0</td>\n",
       "      <td>0</td>\n",
       "      <td>0</td>\n",
       "      <td>0</td>\n",
       "      <td>0</td>\n",
       "      <td>0</td>\n",
       "      <td>0</td>\n",
       "      <td>0</td>\n",
       "      <td>0</td>\n",
       "      <td>0</td>\n",
       "      <td>1</td>\n",
       "      <td>0</td>\n",
       "      <td>0</td>\n",
       "      <td>0</td>\n",
       "      <td>0</td>\n",
       "      <td>0</td>\n",
       "    </tr>\n",
       "    <tr>\n",
       "      <td>1</td>\n",
       "      <td>773</td>\n",
       "      <td>4.5</td>\n",
       "      <td>2</td>\n",
       "      <td>0</td>\n",
       "      <td>0</td>\n",
       "      <td>0</td>\n",
       "      <td>0</td>\n",
       "      <td>0</td>\n",
       "      <td>0</td>\n",
       "      <td>0</td>\n",
       "      <td>0</td>\n",
       "      <td>0</td>\n",
       "      <td>0</td>\n",
       "      <td>0</td>\n",
       "      <td>0</td>\n",
       "      <td>0</td>\n",
       "      <td>0</td>\n",
       "      <td>0</td>\n",
       "      <td>0</td>\n",
       "      <td>0</td>\n",
       "      <td>0</td>\n",
       "      <td>0</td>\n",
       "      <td>0</td>\n",
       "      <td>0</td>\n",
       "      <td>0</td>\n",
       "      <td>0</td>\n",
       "      <td>0</td>\n",
       "      <td>0</td>\n",
       "      <td>0</td>\n",
       "      <td>0</td>\n",
       "      <td>0</td>\n",
       "      <td>0</td>\n",
       "      <td>0</td>\n",
       "      <td>0</td>\n",
       "      <td>0</td>\n",
       "      <td>0</td>\n",
       "      <td>0</td>\n",
       "      <td>0</td>\n",
       "      <td>0</td>\n",
       "      <td>0</td>\n",
       "      <td>0</td>\n",
       "      <td>0</td>\n",
       "      <td>0</td>\n",
       "      <td>0</td>\n",
       "      <td>0</td>\n",
       "      <td>0</td>\n",
       "      <td>0</td>\n",
       "      <td>0</td>\n",
       "      <td>0</td>\n",
       "      <td>0</td>\n",
       "      <td>0</td>\n",
       "      <td>0</td>\n",
       "      <td>0</td>\n",
       "      <td>0</td>\n",
       "      <td>0</td>\n",
       "      <td>0</td>\n",
       "      <td>0</td>\n",
       "      <td>0</td>\n",
       "      <td>0</td>\n",
       "      <td>0</td>\n",
       "      <td>0</td>\n",
       "      <td>0</td>\n",
       "      <td>0</td>\n",
       "      <td>0</td>\n",
       "      <td>0</td>\n",
       "      <td>0</td>\n",
       "      <td>0</td>\n",
       "      <td>0</td>\n",
       "      <td>0</td>\n",
       "      <td>0</td>\n",
       "      <td>0</td>\n",
       "      <td>0</td>\n",
       "      <td>0</td>\n",
       "      <td>0</td>\n",
       "      <td>0</td>\n",
       "      <td>0</td>\n",
       "      <td>0</td>\n",
       "      <td>0</td>\n",
       "      <td>0</td>\n",
       "      <td>0</td>\n",
       "      <td>0</td>\n",
       "      <td>0</td>\n",
       "      <td>0</td>\n",
       "      <td>0</td>\n",
       "      <td>0</td>\n",
       "      <td>0</td>\n",
       "      <td>0</td>\n",
       "      <td>0</td>\n",
       "      <td>0</td>\n",
       "      <td>0</td>\n",
       "      <td>0</td>\n",
       "      <td>0</td>\n",
       "      <td>0</td>\n",
       "      <td>0</td>\n",
       "      <td>0</td>\n",
       "      <td>0</td>\n",
       "      <td>0</td>\n",
       "      <td>0</td>\n",
       "      <td>0</td>\n",
       "      <td>0</td>\n",
       "      <td>0</td>\n",
       "      <td>0</td>\n",
       "      <td>0</td>\n",
       "      <td>0</td>\n",
       "      <td>0</td>\n",
       "      <td>0</td>\n",
       "      <td>0</td>\n",
       "      <td>0</td>\n",
       "      <td>0</td>\n",
       "      <td>0</td>\n",
       "      <td>0</td>\n",
       "      <td>0</td>\n",
       "      <td>0</td>\n",
       "      <td>0</td>\n",
       "      <td>0</td>\n",
       "      <td>0</td>\n",
       "      <td>0</td>\n",
       "      <td>0</td>\n",
       "      <td>0</td>\n",
       "      <td>0</td>\n",
       "      <td>0</td>\n",
       "      <td>0</td>\n",
       "      <td>0</td>\n",
       "      <td>0</td>\n",
       "      <td>0</td>\n",
       "      <td>0</td>\n",
       "      <td>0</td>\n",
       "      <td>0</td>\n",
       "      <td>0</td>\n",
       "      <td>0</td>\n",
       "      <td>0</td>\n",
       "      <td>0</td>\n",
       "      <td>0</td>\n",
       "      <td>0</td>\n",
       "      <td>1</td>\n",
       "      <td>0</td>\n",
       "      <td>0</td>\n",
       "      <td>0</td>\n",
       "      <td>0</td>\n",
       "      <td>0</td>\n",
       "      <td>0</td>\n",
       "      <td>0</td>\n",
       "      <td>0</td>\n",
       "      <td>0</td>\n",
       "      <td>0</td>\n",
       "      <td>0</td>\n",
       "      <td>0</td>\n",
       "      <td>0</td>\n",
       "      <td>0</td>\n",
       "      <td>0</td>\n",
       "      <td>0</td>\n",
       "      <td>0</td>\n",
       "      <td>0</td>\n",
       "      <td>0</td>\n",
       "      <td>0</td>\n",
       "      <td>0</td>\n",
       "      <td>0</td>\n",
       "      <td>0</td>\n",
       "      <td>0</td>\n",
       "      <td>0</td>\n",
       "      <td>0</td>\n",
       "      <td>0</td>\n",
       "      <td>0</td>\n",
       "      <td>0</td>\n",
       "      <td>0</td>\n",
       "      <td>0</td>\n",
       "      <td>0</td>\n",
       "      <td>0</td>\n",
       "      <td>0</td>\n",
       "      <td>0</td>\n",
       "      <td>0</td>\n",
       "      <td>0</td>\n",
       "      <td>0</td>\n",
       "      <td>0</td>\n",
       "      <td>0</td>\n",
       "      <td>0</td>\n",
       "      <td>0</td>\n",
       "      <td>0</td>\n",
       "      <td>0</td>\n",
       "      <td>0</td>\n",
       "      <td>0</td>\n",
       "      <td>0</td>\n",
       "      <td>0</td>\n",
       "      <td>0</td>\n",
       "      <td>0</td>\n",
       "      <td>0</td>\n",
       "      <td>0</td>\n",
       "      <td>0</td>\n",
       "      <td>0</td>\n",
       "      <td>0</td>\n",
       "      <td>0</td>\n",
       "      <td>0</td>\n",
       "      <td>0</td>\n",
       "      <td>0</td>\n",
       "      <td>0</td>\n",
       "      <td>0</td>\n",
       "      <td>0</td>\n",
       "      <td>0</td>\n",
       "      <td>0</td>\n",
       "      <td>0</td>\n",
       "      <td>0</td>\n",
       "      <td>0</td>\n",
       "      <td>0</td>\n",
       "      <td>0</td>\n",
       "      <td>0</td>\n",
       "      <td>0</td>\n",
       "      <td>0</td>\n",
       "      <td>0</td>\n",
       "      <td>0</td>\n",
       "      <td>0</td>\n",
       "      <td>0</td>\n",
       "      <td>0</td>\n",
       "      <td>0</td>\n",
       "      <td>0</td>\n",
       "      <td>0</td>\n",
       "      <td>0</td>\n",
       "      <td>0</td>\n",
       "      <td>0</td>\n",
       "      <td>0</td>\n",
       "      <td>0</td>\n",
       "      <td>0</td>\n",
       "      <td>0</td>\n",
       "      <td>0</td>\n",
       "      <td>0</td>\n",
       "      <td>0</td>\n",
       "      <td>0</td>\n",
       "      <td>0</td>\n",
       "      <td>0</td>\n",
       "      <td>0</td>\n",
       "      <td>0</td>\n",
       "      <td>0</td>\n",
       "      <td>0</td>\n",
       "      <td>0</td>\n",
       "      <td>0</td>\n",
       "      <td>0</td>\n",
       "      <td>0</td>\n",
       "      <td>0</td>\n",
       "      <td>0</td>\n",
       "      <td>0</td>\n",
       "      <td>0</td>\n",
       "      <td>0</td>\n",
       "      <td>0</td>\n",
       "      <td>0</td>\n",
       "      <td>0</td>\n",
       "      <td>0</td>\n",
       "      <td>0</td>\n",
       "      <td>0</td>\n",
       "      <td>0</td>\n",
       "      <td>0</td>\n",
       "      <td>0</td>\n",
       "      <td>0</td>\n",
       "      <td>0</td>\n",
       "      <td>0</td>\n",
       "      <td>0</td>\n",
       "      <td>0</td>\n",
       "      <td>0</td>\n",
       "      <td>0</td>\n",
       "      <td>0</td>\n",
       "      <td>0</td>\n",
       "    </tr>\n",
       "  </tbody>\n",
       "</table>\n",
       "</div>"
      ],
      "text/plain": [
       "   review_count  rating  price  is_affluent  cat1_afghani  cat1_african  \\\n",
       "0           379     4.0      2            0             0             0   \n",
       "1           773     4.5      2            0             0             0   \n",
       "\n",
       "   cat1_airportlounges  cat1_arcades  cat1_argentine  cat1_armenian  \\\n",
       "0                    0             0               0              0   \n",
       "1                    0             0               0              0   \n",
       "\n",
       "   cat1_artmuseums  cat1_asianfusion  cat1_australian  cat1_austrian  \\\n",
       "0                0                 0                0              0   \n",
       "1                0                 0                0              0   \n",
       "\n",
       "   cat1_bagels  cat1_bakeries  cat1_bangladeshi  cat1_barbers  cat1_bars  \\\n",
       "0            0              0                 0             0          0   \n",
       "1            0              0                 0             0          0   \n",
       "\n",
       "   cat1_basque  cat1_bbq  cat1_beer_and_wine  cat1_beerbar  cat1_beergardens  \\\n",
       "0            0         0                   0             0                 0   \n",
       "1            0         0                   0             0                 0   \n",
       "\n",
       "   cat1_belgian  cat1_boating  cat1_bookstores  cat1_bowling  cat1_boxing  \\\n",
       "0             0             0                0             0            0   \n",
       "1             0             0                0             0            0   \n",
       "\n",
       "   cat1_brasseries  cat1_brazilian  cat1_breakfast_brunch  cat1_breweries  \\\n",
       "0                0               0                      0               0   \n",
       "1                0               0                      0               0   \n",
       "\n",
       "   cat1_british  cat1_bubbletea  cat1_buffets  cat1_burgers  cat1_burmese  \\\n",
       "0             0               0             0             0             0   \n",
       "1             0               0             0             0             0   \n",
       "\n",
       "   cat1_butcher  cat1_cafes  cat1_cafeteria  cat1_cajun  cat1_cakeshop  \\\n",
       "0             0           0               0           0              0   \n",
       "1             0           0               0           0              0   \n",
       "\n",
       "   cat1_cambodian  cat1_candy  cat1_cantonese  cat1_caribbean  cat1_catering  \\\n",
       "0               0           0               0               0              0   \n",
       "1               0           0               0               0              0   \n",
       "\n",
       "   cat1_champagne_bars  cat1_cheese  cat1_cheesesteaks  cat1_chicken_wings  \\\n",
       "0                    0            0                  0                   0   \n",
       "1                    0            0                  0                   0   \n",
       "\n",
       "   cat1_chickenshop  cat1_chinese  cat1_chocolate  cat1_cigarbars  \\\n",
       "0                 0             0               0               0   \n",
       "1                 0             0               0               0   \n",
       "\n",
       "   cat1_cocktailbars  cat1_coffee  cat1_coffeeroasteries  cat1_colombian  \\\n",
       "0                  0            0                      0               0   \n",
       "1                  0            0                      0               0   \n",
       "\n",
       "   cat1_comedyclubs  cat1_comfortfood  cat1_convenience  cat1_cookingclasses  \\\n",
       "0                 0                 0                 0                    0   \n",
       "1                 0                 0                 0                    0   \n",
       "\n",
       "   cat1_cookingschools  cat1_creperies  cat1_cuban  cat1_culturalcenter  \\\n",
       "0                    0               0           0                    0   \n",
       "1                    0               0           0                    0   \n",
       "\n",
       "   cat1_cupcakes  cat1_customcakes  cat1_czech  cat1_danceclubs  cat1_delis  \\\n",
       "0              0                 0           0                0           0   \n",
       "1              0                 0           0                0           0   \n",
       "\n",
       "   cat1_desserts  cat1_dimsum  cat1_diners  cat1_distilleries  cat1_divebars  \\\n",
       "0              0            0            0                  0              0   \n",
       "1              0            0            0                  0              0   \n",
       "\n",
       "   cat1_diyfood  cat1_dominican  cat1_donuts  cat1_drugstores  \\\n",
       "0             0               0            0                0   \n",
       "1             0               0            0                0   \n",
       "\n",
       "   cat1_eatertainment  cat1_egyptian  cat1_empanadas  cat1_ethiopian  \\\n",
       "0                   0              0               0               0   \n",
       "1                   0              0               0               0   \n",
       "\n",
       "   cat1_eventplanning  cat1_falafel  cat1_farmersmarket  cat1_festivals  \\\n",
       "0                   0             0                   0               0   \n",
       "1                   0             0                   0               0   \n",
       "\n",
       "   cat1_filipino  cat1_fishnchips  cat1_florists  cat1_fondue  cat1_food  \\\n",
       "0              0                0              0            0          0   \n",
       "1              0                0              0            0          0   \n",
       "\n",
       "   cat1_food_court  cat1_fooddeliveryservices  cat1_foodstands  \\\n",
       "0                0                          0                0   \n",
       "1                0                          0                0   \n",
       "\n",
       "   cat1_foodtrucks  cat1_french  cat1_galleries  cat1_gastropubs  \\\n",
       "0                0            0               0                0   \n",
       "1                0            0               0                0   \n",
       "\n",
       "   cat1_gaybars  cat1_gelato  cat1_georgian  cat1_german  cat1_giftshops  \\\n",
       "0             0            0              0            0               0   \n",
       "1             0            0              0            0               0   \n",
       "\n",
       "   cat1_gluten_free  cat1_golf  cat1_golflessons  cat1_gourmet  cat1_greek  \\\n",
       "0                 0          0                 0             0           0   \n",
       "1                 0          0                 0             0           0   \n",
       "\n",
       "   cat1_grocery  cat1_hair  cat1_haitian  cat1_halal  cat1_hawaiian  \\\n",
       "0             0          0             0           0              0   \n",
       "1             0          0             0           0              0   \n",
       "\n",
       "   cat1_healthmarkets  cat1_herbsandspices  cat1_himalayan  cat1_hkcafe  \\\n",
       "0                   0                    0               0            0   \n",
       "1                   0                    0               0            0   \n",
       "\n",
       "   cat1_hobbyshops  cat1_hookah_bars  cat1_hotdog  cat1_hotdogs  cat1_hotels  \\\n",
       "0                0                 0            0             0            0   \n",
       "1                0                 0            0             0            0   \n",
       "\n",
       "   cat1_hotpot  cat1_hungarian  cat1_icecream  cat1_indonesian  cat1_indpak  \\\n",
       "0            0               0              0                0            0   \n",
       "1            0               0              0                0            0   \n",
       "\n",
       "   cat1_intlgrocery  cat1_irish  cat1_irish_pubs  cat1_italian  cat1_izakaya  \\\n",
       "0                 0           0                0             0             0   \n",
       "1                 0           0                0             1             0   \n",
       "\n",
       "   cat1_japacurry  cat1_japanese  cat1_jazzandblues  cat1_juicebars  \\\n",
       "0               0              0                  0               0   \n",
       "1               0              0                  0               0   \n",
       "\n",
       "   cat1_karaoke  cat1_kebab  cat1_kids_activities  cat1_kitchenandbath  \\\n",
       "0             0           0                     0                    0   \n",
       "1             0           0                     0                    0   \n",
       "\n",
       "   cat1_korean  cat1_kosher  cat1_landmarks  cat1_laotian  cat1_latin  \\\n",
       "0            0            0               0             0           0   \n",
       "1            0            0               0             0           0   \n",
       "\n",
       "   cat1_laundromat  cat1_lebanese  cat1_localservices  cat1_lounges  \\\n",
       "0                0              0                   0             0   \n",
       "1                0              0                   0             0   \n",
       "\n",
       "   cat1_macarons  cat1_magicians  cat1_mags  cat1_malaysian  cat1_markets  \\\n",
       "0              0               0          0               0             0   \n",
       "1              0               0          0               0             0   \n",
       "\n",
       "   cat1_meats  cat1_mediterranean  cat1_mexican  cat1_mideastern  \\\n",
       "0           0                   0             0                0   \n",
       "1           0                   0             0                0   \n",
       "\n",
       "   cat1_modern_european  cat1_mongolian  cat1_moroccan  cat1_movietheaters  \\\n",
       "0                     0               0              0                   0   \n",
       "1                     0               0              0                   0   \n",
       "\n",
       "   cat1_museums  cat1_musicvenues  cat1_musicvideo  cat1_newamerican  \\\n",
       "0             0                 0                0                 0   \n",
       "1             0                 0                0                 0   \n",
       "\n",
       "   cat1_newmexican  cat1_nightlife  cat1_nonprofit  cat1_noodles  \\\n",
       "0                0               0               0             0   \n",
       "1                0               0               0             0   \n",
       "\n",
       "   cat1_organic_stores  cat1_pakistani  cat1_panasian  cat1_pastashops  \\\n",
       "0                    0               0              0                0   \n",
       "1                    0               0              0                0   \n",
       "\n",
       "   cat1_persian  cat1_peruvian  cat1_petstore  cat1_pianobars  cat1_pizza  \\\n",
       "0             0              0              0               0           0   \n",
       "1             0              0              0               0           0   \n",
       "\n",
       "   cat1_poke  cat1_polish  cat1_poolhalls  cat1_popuprestaurants  \\\n",
       "0          0            0               0                      0   \n",
       "1          0            0               0                      0   \n",
       "\n",
       "   cat1_portuguese  cat1_pretzels  cat1_publicmarkets  cat1_pubs  \\\n",
       "0                0              0                   0          0   \n",
       "1                0              0                   0          0   \n",
       "\n",
       "   cat1_puertorican  cat1_ramen  cat1_restaurants  cat1_russian  cat1_salad  \\\n",
       "0                 0           0                 0             0           0   \n",
       "1                 0           0                 0             0           0   \n",
       "\n",
       "   cat1_salvadoran  cat1_sandwiches  cat1_scandinavian  cat1_seafood  \\\n",
       "0                0                0                  0             0   \n",
       "1                0                0                  0             0   \n",
       "\n",
       "   cat1_seafoodmarkets  cat1_senegalese  cat1_servicestations  \\\n",
       "0                    0                0                     0   \n",
       "1                    0                0                     0   \n",
       "\n",
       "   cat1_shanghainese  cat1_sharedofficespaces  cat1_shavedice  cat1_shopping  \\\n",
       "0                  0                        0               0              0   \n",
       "1                  0                        0               0              0   \n",
       "\n",
       "   cat1_shoppingcenters  cat1_sicilian  cat1_singaporean  cat1_skate_parks  \\\n",
       "0                     0              0                 0                 0   \n",
       "1                     0              0                 0                 0   \n",
       "\n",
       "   cat1_soulfood  cat1_soup  cat1_southafrican  cat1_southern  cat1_spanish  \\\n",
       "0              0          0                  0              0             0   \n",
       "1              0          0                  0              0             0   \n",
       "\n",
       "   cat1_spas  cat1_speakeasies  cat1_sportgoods  cat1_sports_clubs  \\\n",
       "0          0                 0                0                  0   \n",
       "1          0                 0                0                  0   \n",
       "\n",
       "   cat1_sportsbars  cat1_sportswear  cat1_srilankan  cat1_steak  \\\n",
       "0                0                0               0           0   \n",
       "1                0                0               0           0   \n",
       "\n",
       "   cat1_streetvendors  cat1_supperclubs  cat1_sushi  cat1_szechuan  \\\n",
       "0                   0                 0           0              0   \n",
       "1                   0                 0           0              0   \n",
       "\n",
       "   cat1_tacos  cat1_taiwanese  cat1_tapas  cat1_tapasmallplates  cat1_tattoo  \\\n",
       "0           0               0           0                     0            0   \n",
       "1           0               0           0                     0            0   \n",
       "\n",
       "   cat1_tea  cat1_teppanyaki  cat1_tex-mex  cat1_thai  cat1_theater  \\\n",
       "0         0                0             0          0             0   \n",
       "1         0                0             0          0             0   \n",
       "\n",
       "   cat1_themedcafes  cat1_tikibars  cat1_tobaccoshops  cat1_tours  \\\n",
       "0                 0              0                  0           0   \n",
       "1                 0              0                  0           0   \n",
       "\n",
       "   cat1_tradamerican  cat1_trinidadian  cat1_turkish  cat1_tuscan  \\\n",
       "0                  0                 0             0            0   \n",
       "1                  0                 0             0            0   \n",
       "\n",
       "   cat1_ukrainian  cat1_uzbek  cat1_vapeshops  cat1_vegan  cat1_vegetarian  \\\n",
       "0               0           0               0           0                0   \n",
       "1               0           0               0           0                0   \n",
       "\n",
       "   cat1_venezuelan  cat1_venues  cat1_vietnamese  cat1_vinyl_records  \\\n",
       "0                0            0                1                   0   \n",
       "1                0            0                0                   0   \n",
       "\n",
       "   cat1_waffles  cat1_whiskeybars  cat1_wine_bars  cat1_wraps  \n",
       "0             0                 0               0           0  \n",
       "1             0                 0               0           0  "
      ]
     },
     "execution_count": 7,
     "metadata": {},
     "output_type": "execute_result"
    }
   ],
   "source": [
    "yelp.head(2)"
   ]
  },
  {
   "cell_type": "code",
   "execution_count": 8,
   "metadata": {},
   "outputs": [
    {
     "data": {
      "text/plain": [
       "(19830, 259)"
      ]
     },
     "execution_count": 8,
     "metadata": {},
     "output_type": "execute_result"
    }
   ],
   "source": [
    "yelp.shape"
   ]
  },
  {
   "cell_type": "markdown",
   "metadata": {},
   "source": [
    "## Model Preparation"
   ]
  },
  {
   "cell_type": "code",
   "execution_count": 9,
   "metadata": {},
   "outputs": [],
   "source": [
    "target = 'is_affluent'\n",
    "X = yelp.drop(columns=target)\n",
    "y = yelp[target]"
   ]
  },
  {
   "cell_type": "markdown",
   "metadata": {},
   "source": [
    "## Train, Test Split\n",
    "1. Since our dataset is large enough, we will reserve 20% of the data as test data. \n",
    "2. We will use 'stratify = y' to ensure the the proportion of classes are consistent in both train and test."
   ]
  },
  {
   "cell_type": "code",
   "execution_count": 10,
   "metadata": {},
   "outputs": [],
   "source": [
    "X_train, X_test, y_train, y_test = train_test_split(X, y, random_state=42, test_size=0.2, stratify=y)"
   ]
  },
  {
   "cell_type": "markdown",
   "metadata": {},
   "source": [
    "The distributions of Y shows that we have unbalanced classes: 67.83% of the Ys are in the positive class; 32.20% are in the negative class."
   ]
  },
  {
   "cell_type": "code",
   "execution_count": 11,
   "metadata": {
    "scrolled": true
   },
   "outputs": [
    {
     "data": {
      "text/plain": [
       "1    0.678316\n",
       "0    0.321684\n",
       "Name: is_affluent, dtype: float64"
      ]
     },
     "execution_count": 11,
     "metadata": {},
     "output_type": "execute_result"
    }
   ],
   "source": [
    "# Check distribution of y, to see if y has unblanced classes\n",
    "y.value_counts(normalize=True)"
   ]
  },
  {
   "cell_type": "markdown",
   "metadata": {},
   "source": [
    "## Modeling"
   ]
  },
  {
   "cell_type": "markdown",
   "metadata": {},
   "source": [
    "- In the modeling process, we will first establish a baseline model.  \n",
    "- We will then develop 4 major categories of models: Logistic Regression, KNN, Trees, and Voting Classifier. \n",
    "- Based on the grid search's cross validation score, we will then fine tune the hyper-parameters for each model to achieve the optimal result. "
   ]
  },
  {
   "cell_type": "markdown",
   "metadata": {},
   "source": [
    "### Evaluation Metric"
   ]
  },
  {
   "cell_type": "markdown",
   "metadata": {},
   "source": [
    "- We will use AUC ROC as the metric to evaluate the models.\n",
    "- \"ROC (Receiver Operating Characteristic) is a probability curve and AUC represents degree or measure of separability. It tells how much model is capable of distinguishing between classes\"[(reference)](https://towardsdatascience.com/understanding-auc-roc-curve-68b2303cc9c5). The higher the ROC, and the better it separates the two classes. The ROC curve is plotted with True Positive Rate on y-aixs, against the False Positive Rate on the x-axis.\n",
    "\n",
    "- AUC (Area Under the Curve) measures the entire two-dimensional area underneath the entire ROC curve. The closer AUC to 1, the better the model.\n",
    "\n",
    "- We choose AUC ROC since we aim to find the optimal model that can separate the two classes, \"is affluent\", \"not affluent\". \n",
    "\n",
    "- We will also consider the amount of time each model take to fit. If two models have similar AUC ROC scores, the one that runs faster will be the model we choose. "
   ]
  },
  {
   "cell_type": "markdown",
   "metadata": {},
   "source": [
    "###  Baseline Model\n",
    "The AUC ROC score for the baseline model is 0.5."
   ]
  },
  {
   "cell_type": "code",
   "execution_count": 12,
   "metadata": {
    "scrolled": true
   },
   "outputs": [
    {
     "data": {
      "text/plain": [
       "0.6782652546646495"
      ]
     },
     "execution_count": 12,
     "metadata": {},
     "output_type": "execute_result"
    }
   ],
   "source": [
    "# The percent of the positive class. We have unbalanced classes in the Y varibles.\n",
    "y_test.value_counts(normalize=True)[1]"
   ]
  },
  {
   "cell_type": "markdown",
   "metadata": {},
   "source": [
    "### Logistic Regression"
   ]
  },
  {
   "cell_type": "code",
   "execution_count": 13,
   "metadata": {},
   "outputs": [],
   "source": [
    "pipe = Pipeline(steps=[\n",
    "    ('ss', StandardScaler()), \n",
    "    ('lr', LogisticRegression(solver='liblinear'))\n",
    "])\n",
    "\n",
    "pipe_params ={\n",
    "    'lr__C': [1], #[0.0001, 1]\n",
    "    'lr__penalty' : ['l1'] #['l1', 'l2']\n",
    "    }\n",
    "\n",
    "gs_lr = GridSearchCV(pipe, \n",
    "                     pipe_params, \n",
    "                     cv=5,\n",
    "                     scoring='roc_auc')\n"
   ]
  },
  {
   "cell_type": "code",
   "execution_count": 14,
   "metadata": {},
   "outputs": [],
   "source": [
    "gs_lr.fit(X_train, y_train);"
   ]
  },
  {
   "cell_type": "code",
   "execution_count": 15,
   "metadata": {},
   "outputs": [
    {
     "data": {
      "text/plain": [
       "{'lr__C': 1, 'lr__penalty': 'l1'}"
      ]
     },
     "execution_count": 15,
     "metadata": {},
     "output_type": "execute_result"
    }
   ],
   "source": [
    "# Check the optimal params\n",
    "gs_lr.best_params_"
   ]
  },
  {
   "cell_type": "code",
   "execution_count": 16,
   "metadata": {},
   "outputs": [
    {
     "data": {
      "text/plain": [
       "0.7229419374872608"
      ]
     },
     "execution_count": 16,
     "metadata": {},
     "output_type": "execute_result"
    }
   ],
   "source": [
    "# Train score\n",
    "gs_lr.score(X_train, y_train)"
   ]
  },
  {
   "cell_type": "code",
   "execution_count": 17,
   "metadata": {},
   "outputs": [
    {
     "data": {
      "text/plain": [
       "0.6789046086410174"
      ]
     },
     "execution_count": 17,
     "metadata": {},
     "output_type": "execute_result"
    }
   ],
   "source": [
    "# Cross val score on the whole dataset \n",
    "cross_val_score(gs_lr.best_estimator_, X, y, scoring='roc_auc', cv=5).mean()"
   ]
  },
  {
   "cell_type": "code",
   "execution_count": 18,
   "metadata": {},
   "outputs": [
    {
     "data": {
      "text/plain": [
       "0.7052643309132861"
      ]
     },
     "execution_count": 18,
     "metadata": {},
     "output_type": "execute_result"
    }
   ],
   "source": [
    "# Test score\n",
    "gs_lr.score(X_test, y_test)"
   ]
  },
  {
   "cell_type": "markdown",
   "metadata": {},
   "source": [
    "Comparing to the baseline AUC ROC score of 0.5, the model performs okay on both train and test data, but shows slight signs of overfitting, since the train socre is higher than the test score.\n",
    "Based on the grid search, Lasso regularization is the more effecient loss function to limit the amount of features used in the model. "
   ]
  },
  {
   "cell_type": "markdown",
   "metadata": {},
   "source": [
    "### KNN model"
   ]
  },
  {
   "cell_type": "code",
   "execution_count": 19,
   "metadata": {},
   "outputs": [],
   "source": [
    "pipe_knn = Pipeline(steps=[\n",
    "    ('ss', StandardScaler()),  \n",
    "    ('knn', KNeighborsClassifier())\n",
    "])\n",
    "\n",
    "pipe_params_knn ={\n",
    "    'knn__n_neighbors' : [50] #[5, 10, 30, 50]\n",
    "    \n",
    "}\n",
    "\n",
    "gs_knn = GridSearchCV(pipe_knn, \n",
    "                      pipe_params_knn, \n",
    "                      cv=5,\n",
    "                      scoring='roc_auc')"
   ]
  },
  {
   "cell_type": "code",
   "execution_count": 20,
   "metadata": {},
   "outputs": [],
   "source": [
    "gs_knn.fit(X_train, y_train);"
   ]
  },
  {
   "cell_type": "code",
   "execution_count": 21,
   "metadata": {},
   "outputs": [
    {
     "data": {
      "text/plain": [
       "{'knn__n_neighbors': 50}"
      ]
     },
     "execution_count": 21,
     "metadata": {},
     "output_type": "execute_result"
    }
   ],
   "source": [
    "# Check the optimal params\n",
    "gs_knn.best_params_"
   ]
  },
  {
   "cell_type": "code",
   "execution_count": 22,
   "metadata": {},
   "outputs": [
    {
     "data": {
      "text/plain": [
       "0.7247560307839712"
      ]
     },
     "execution_count": 22,
     "metadata": {},
     "output_type": "execute_result"
    }
   ],
   "source": [
    "# Train score\n",
    "gs_knn.score(X_train, y_train)"
   ]
  },
  {
   "cell_type": "code",
   "execution_count": 23,
   "metadata": {},
   "outputs": [
    {
     "data": {
      "text/plain": [
       "0.664584993062341"
      ]
     },
     "execution_count": 23,
     "metadata": {},
     "output_type": "execute_result"
    }
   ],
   "source": [
    "# Cross val score on the whole dataset \n",
    "cross_val_score(gs_knn.best_estimator_, X, y, scoring='roc_auc', cv=5).mean()"
   ]
  },
  {
   "cell_type": "code",
   "execution_count": 24,
   "metadata": {},
   "outputs": [
    {
     "data": {
      "text/plain": [
       "0.6860357355117641"
      ]
     },
     "execution_count": 24,
     "metadata": {},
     "output_type": "execute_result"
    }
   ],
   "source": [
    "# Test score\n",
    "gs_knn.score(X_test, y_test)"
   ]
  },
  {
   "cell_type": "markdown",
   "metadata": {},
   "source": [
    "Comparing to the baseline AUC ROC score of 0.5, the model performs okay on the train data but worse on the test data. It shows signs of overfitting. \n",
    "50 neighbors proves to be the best hyper param setting to form a neighorhood."
   ]
  },
  {
   "cell_type": "markdown",
   "metadata": {},
   "source": [
    "### Trees"
   ]
  },
  {
   "cell_type": "markdown",
   "metadata": {},
   "source": [
    "#### Decision Tree"
   ]
  },
  {
   "cell_type": "code",
   "execution_count": 25,
   "metadata": {},
   "outputs": [],
   "source": [
    "pipe_dt = Pipeline(steps=[\n",
    "    ('ss', StandardScaler()), \n",
    "    ('dt', DecisionTreeClassifier(random_state=42))\n",
    "])\n",
    "\n",
    "pipe_params_dt = {\n",
    "    'dt__max_depth': [5], #[3, 5]\n",
    "    'dt__min_samples_split': [2], #[2, 3]\n",
    "    'dt__min_samples_leaf': [5]} #[1, 5, 10]\n",
    "\n",
    "gs_dt = GridSearchCV(pipe_dt, \n",
    "                     pipe_params_dt, \n",
    "                     cv=5,\n",
    "                     scoring='roc_auc')"
   ]
  },
  {
   "cell_type": "code",
   "execution_count": 26,
   "metadata": {},
   "outputs": [],
   "source": [
    "gs_dt.fit(X_train, y_train);"
   ]
  },
  {
   "cell_type": "code",
   "execution_count": 27,
   "metadata": {},
   "outputs": [
    {
     "data": {
      "text/plain": [
       "{'dt__max_depth': 5, 'dt__min_samples_leaf': 5, 'dt__min_samples_split': 2}"
      ]
     },
     "execution_count": 27,
     "metadata": {},
     "output_type": "execute_result"
    }
   ],
   "source": [
    "# Check the optimal params\n",
    "gs_dt.best_params_"
   ]
  },
  {
   "cell_type": "code",
   "execution_count": 28,
   "metadata": {},
   "outputs": [
    {
     "data": {
      "text/plain": [
       "0.7001985563337084"
      ]
     },
     "execution_count": 28,
     "metadata": {},
     "output_type": "execute_result"
    }
   ],
   "source": [
    "# Train score\n",
    "gs_dt.score(X_train, y_train)"
   ]
  },
  {
   "cell_type": "code",
   "execution_count": 29,
   "metadata": {},
   "outputs": [
    {
     "data": {
      "text/plain": [
       "0.6778253354750048"
      ]
     },
     "execution_count": 29,
     "metadata": {},
     "output_type": "execute_result"
    }
   ],
   "source": [
    "# Cross val score on the whole dataset \n",
    "cross_val_score(gs_dt.best_estimator_, X, y, scoring='roc_auc', cv=5).mean()"
   ]
  },
  {
   "cell_type": "code",
   "execution_count": 30,
   "metadata": {},
   "outputs": [
    {
     "data": {
      "text/plain": [
       "0.6810107387164814"
      ]
     },
     "execution_count": 30,
     "metadata": {},
     "output_type": "execute_result"
    }
   ],
   "source": [
    "# Test score\n",
    "gs_dt.score(X_test, y_test)"
   ]
  },
  {
   "cell_type": "markdown",
   "metadata": {},
   "source": [
    "Comparing to the baseline AUC ROC score of 0.5, the model performs okay on the train data, but worse on the test data. It shows some signs of overfitting. \n",
    "To reduce variance, we will develop an esemble model: Bagging Classifier."
   ]
  },
  {
   "cell_type": "markdown",
   "metadata": {},
   "source": [
    "#### Bagging Classifier"
   ]
  },
  {
   "cell_type": "code",
   "execution_count": 31,
   "metadata": {},
   "outputs": [],
   "source": [
    "pipe_bc = Pipeline(steps=[\n",
    "    ('ss', StandardScaler()), \n",
    "    ('bc', BaggingClassifier(random_state=42))\n",
    "])\n",
    "\n",
    "pipe_params_bc = {\n",
    "    'bc__n_estimators': [20], #[15, 20]\n",
    "    'bc__max_samples': [7]} #[3, 5, 7]\n",
    "\n",
    "gs_bc = GridSearchCV(pipe_bc, \n",
    "                     pipe_params_bc, \n",
    "                     cv=5,\n",
    "                     scoring='roc_auc')"
   ]
  },
  {
   "cell_type": "code",
   "execution_count": 32,
   "metadata": {},
   "outputs": [],
   "source": [
    "gs_bc.fit(X_train, y_train);"
   ]
  },
  {
   "cell_type": "code",
   "execution_count": 33,
   "metadata": {},
   "outputs": [
    {
     "data": {
      "text/plain": [
       "{'bc__max_samples': 7, 'bc__n_estimators': 20}"
      ]
     },
     "execution_count": 33,
     "metadata": {},
     "output_type": "execute_result"
    }
   ],
   "source": [
    "# Check the optimal params\n",
    "gs_bc.best_params_"
   ]
  },
  {
   "cell_type": "code",
   "execution_count": 34,
   "metadata": {},
   "outputs": [
    {
     "data": {
      "text/plain": [
       "0.5861833899397528"
      ]
     },
     "execution_count": 34,
     "metadata": {},
     "output_type": "execute_result"
    }
   ],
   "source": [
    "# Train score\n",
    "gs_bc.score(X_train, y_train)"
   ]
  },
  {
   "cell_type": "code",
   "execution_count": 35,
   "metadata": {},
   "outputs": [
    {
     "data": {
      "text/plain": [
       "0.6640140611216674"
      ]
     },
     "execution_count": 35,
     "metadata": {},
     "output_type": "execute_result"
    }
   ],
   "source": [
    "# Cross val score on the whole dataset \n",
    "cross_val_score(gs_bc.best_estimator_, X, y, scoring='roc_auc', cv=5).mean()"
   ]
  },
  {
   "cell_type": "code",
   "execution_count": 36,
   "metadata": {},
   "outputs": [
    {
     "data": {
      "text/plain": [
       "0.5903519070981577"
      ]
     },
     "execution_count": 36,
     "metadata": {},
     "output_type": "execute_result"
    }
   ],
   "source": [
    "# Test score\n",
    "gs_bc.score(X_test, y_test)"
   ]
  },
  {
   "cell_type": "markdown",
   "metadata": {},
   "source": [
    "Comparing to the baseline AUC ROC score of 0.5, the model performs badly on both training and testing, and show slight signs of under-fitting. In addition, the difference between cross val and test score is significant, which means we cannot rely on the test score to evaluate the performance of the model. "
   ]
  },
  {
   "cell_type": "markdown",
   "metadata": {},
   "source": [
    "#### Random Forest"
   ]
  },
  {
   "cell_type": "code",
   "execution_count": 37,
   "metadata": {},
   "outputs": [],
   "source": [
    "pipe_rf = Pipeline(steps=[\n",
    "    ('ss', StandardScaler()), \n",
    "    ('rf', RandomForestClassifier(random_state=42))\n",
    "])\n",
    "\n",
    "pipe_params_rf = {\n",
    "    'rf__max_depth': [13], #[11, 13]\n",
    "    'rf__min_samples_split': [2], #[2, 3]\n",
    "    'rf__min_samples_leaf': [10]} #[1, 5, 10]\n",
    "\n",
    "\n",
    "gs_rf = GridSearchCV(pipe_rf, \n",
    "                     pipe_params_rf, \n",
    "                     cv=5,\n",
    "                     scoring='roc_auc')"
   ]
  },
  {
   "cell_type": "code",
   "execution_count": 38,
   "metadata": {},
   "outputs": [],
   "source": [
    "gs_rf.fit(X_train, y_train);"
   ]
  },
  {
   "cell_type": "code",
   "execution_count": 39,
   "metadata": {},
   "outputs": [
    {
     "data": {
      "text/plain": [
       "{'rf__max_depth': 13, 'rf__min_samples_leaf': 10, 'rf__min_samples_split': 2}"
      ]
     },
     "execution_count": 39,
     "metadata": {},
     "output_type": "execute_result"
    }
   ],
   "source": [
    "# Check the optimal params\n",
    "gs_rf.best_params_"
   ]
  },
  {
   "cell_type": "code",
   "execution_count": 40,
   "metadata": {},
   "outputs": [
    {
     "data": {
      "text/plain": [
       "0.7291463448900972"
      ]
     },
     "execution_count": 40,
     "metadata": {},
     "output_type": "execute_result"
    }
   ],
   "source": [
    "# Train score\n",
    "gs_rf.score(X_train, y_train)"
   ]
  },
  {
   "cell_type": "code",
   "execution_count": 41,
   "metadata": {},
   "outputs": [
    {
     "data": {
      "text/plain": [
       "0.6881256004443872"
      ]
     },
     "execution_count": 41,
     "metadata": {},
     "output_type": "execute_result"
    }
   ],
   "source": [
    "# Cross val score on the whole dataset \n",
    "cross_val_score(gs_rf.best_estimator_, X, y, scoring='roc_auc', cv=5).mean()"
   ]
  },
  {
   "cell_type": "code",
   "execution_count": 42,
   "metadata": {},
   "outputs": [
    {
     "data": {
      "text/plain": [
       "0.6972586556502081"
      ]
     },
     "execution_count": 42,
     "metadata": {},
     "output_type": "execute_result"
    }
   ],
   "source": [
    "# Test score\n",
    "gs_rf.score(X_test, y_test)"
   ]
  },
  {
   "cell_type": "markdown",
   "metadata": {},
   "source": [
    "Comparing to the baseline AUC ROC score of 0.5, the model performs okay on training, but worse on the test. Again, it shows signs of overfitting. "
   ]
  },
  {
   "cell_type": "markdown",
   "metadata": {},
   "source": [
    "### Voting Classifier"
   ]
  },
  {
   "cell_type": "code",
   "execution_count": 43,
   "metadata": {},
   "outputs": [],
   "source": [
    "vc = VotingClassifier(estimators=[('lr', gs_lr), \n",
    "                                  ('knn', gs_knn), \n",
    "                                  ('dt', gs_dt),\n",
    "                                  ('bc', gs_bc),\n",
    "                                  ('rf', gs_rf)], \n",
    "                      voting='soft')"
   ]
  },
  {
   "cell_type": "code",
   "execution_count": 44,
   "metadata": {},
   "outputs": [],
   "source": [
    "vc.fit(X_train, y_train);"
   ]
  },
  {
   "cell_type": "code",
   "execution_count": 45,
   "metadata": {},
   "outputs": [],
   "source": [
    "#Define a function to calculate AUC ROC score for the Voting Classifier\n",
    "def auc_roc_score(model, X, y):\n",
    "    y_proba = vc.predict_proba(X)\n",
    "    false_positive_rate, true_positive_rate, thresholds = roc_curve(y, y_proba[:,1])\n",
    "    auc_roc = round(auc(false_positive_rate, true_positive_rate), 5)\n",
    "    return auc_roc"
   ]
  },
  {
   "cell_type": "code",
   "execution_count": 46,
   "metadata": {},
   "outputs": [
    {
     "data": {
      "text/plain": [
       "0.74255"
      ]
     },
     "execution_count": 46,
     "metadata": {},
     "output_type": "execute_result"
    }
   ],
   "source": [
    "# Train socre\n",
    "auc_roc_score(vc, X_train, y_train)"
   ]
  },
  {
   "cell_type": "code",
   "execution_count": 47,
   "metadata": {},
   "outputs": [
    {
     "data": {
      "text/plain": [
       "0.71323"
      ]
     },
     "execution_count": 47,
     "metadata": {},
     "output_type": "execute_result"
    }
   ],
   "source": [
    "# Test score\n",
    "auc_roc_score(vc, X_test, y_test)"
   ]
  },
  {
   "cell_type": "code",
   "execution_count": 48,
   "metadata": {},
   "outputs": [
    {
     "data": {
      "text/plain": [
       "0.6991489210037031"
      ]
     },
     "execution_count": 48,
     "metadata": {},
     "output_type": "execute_result"
    }
   ],
   "source": [
    "cross_val_score(vc, X, y, scoring='roc_auc', cv=5).mean()"
   ]
  },
  {
   "cell_type": "markdown",
   "metadata": {},
   "source": [
    "The ensemble model performs better than the others, but again, shows some signs of overfitting. "
   ]
  },
  {
   "cell_type": "markdown",
   "metadata": {},
   "source": [
    "## Model Selection"
   ]
  },
  {
   "cell_type": "markdown",
   "metadata": {},
   "source": [
    "Define functions that will generate and display AUC ROC scores for all the models"
   ]
  },
  {
   "cell_type": "code",
   "execution_count": 49,
   "metadata": {},
   "outputs": [],
   "source": [
    "# Define a funciton that takes a list of models (could be a list of one model), \n",
    "# Returns the AUC ROC score\n",
    "def evaluation_metrics(list_of_models, X, y):\n",
    "    table = [['Model Name', 'AUC ROC']]\n",
    "    for name, model in list_of_models:\n",
    "        y_proba = model.predict_proba(X)\n",
    "        \n",
    "        false_positive_rate, true_positive_rate, thresholds = roc_curve(y, y_proba[:,1])\n",
    "        auc_roc = round(auc(false_positive_rate, true_positive_rate), 5)\n",
    "        \n",
    "        table.append([name, auc_roc])\n",
    "    return table"
   ]
  },
  {
   "cell_type": "code",
   "execution_count": 50,
   "metadata": {},
   "outputs": [],
   "source": [
    "# Define a funciton that will pretty-print tabular data in Python\n",
    "def display_evaluation_metrics(table):\n",
    "    return display(HTML(tabulate.tabulate(table, tablefmt='html')))"
   ]
  },
  {
   "cell_type": "code",
   "execution_count": 51,
   "metadata": {},
   "outputs": [],
   "source": [
    "table_test = evaluation_metrics([('Logistic Regression', gs_lr), \n",
    "                                 ('KNN', gs_knn),\n",
    "                                 ('Decision Tree', gs_dt),\n",
    "                                 ('Bagging Classifier', gs_bc),\n",
    "                                 ('Random Forest', gs_rf),\n",
    "                                 ('Voting Classifier', vc)\n",
    "                                ],\n",
    "                                X_test, y_test)"
   ]
  },
  {
   "cell_type": "code",
   "execution_count": 52,
   "metadata": {
    "scrolled": true
   },
   "outputs": [
    {
     "data": {
      "text/html": [
       "<table>\n",
       "<tbody>\n",
       "<tr><td>Model Name         </td><td>AUC ROC</td></tr>\n",
       "<tr><td>Logistic Regression</td><td>0.70526</td></tr>\n",
       "<tr><td>KNN                </td><td>0.68604</td></tr>\n",
       "<tr><td>Decision Tree      </td><td>0.68101</td></tr>\n",
       "<tr><td>Bagging Classifier </td><td>0.59035</td></tr>\n",
       "<tr><td>Random Forest      </td><td>0.69726</td></tr>\n",
       "<tr><td>Voting Classifier  </td><td>0.71323</td></tr>\n",
       "</tbody>\n",
       "</table>"
      ],
      "text/plain": [
       "<IPython.core.display.HTML object>"
      ]
     },
     "metadata": {},
     "output_type": "display_data"
    }
   ],
   "source": [
    "display_evaluation_metrics(table_test)"
   ]
  },
  {
   "cell_type": "markdown",
   "metadata": {},
   "source": [
    "Based on the test scores, Voting Classifier is the best proforming model, followed by Logistic Regression model. "
   ]
  },
  {
   "cell_type": "markdown",
   "metadata": {},
   "source": [
    "## Model Evaluation"
   ]
  },
  {
   "cell_type": "markdown",
   "metadata": {},
   "source": [
    "The model evaluation will contain two parts: \n",
    "1. The Voting Classifier is our best model for prediciton. we will evaluate the model's performs based on it's predicting power.\n",
    "2. The Logistic Regression model is our best model for interpretation. we will interpret the Coefficients based on the result of the logistic regression. "
   ]
  },
  {
   "cell_type": "markdown",
   "metadata": {},
   "source": [
    "### Confusion Matrix"
   ]
  },
  {
   "cell_type": "code",
   "execution_count": 53,
   "metadata": {},
   "outputs": [],
   "source": [
    "y_pred = vc.predict(X_test)"
   ]
  },
  {
   "cell_type": "code",
   "execution_count": 54,
   "metadata": {},
   "outputs": [],
   "source": [
    "TN, FP, FN, TP = confusion_matrix(y_test, y_pred).ravel()"
   ]
  },
  {
   "cell_type": "code",
   "execution_count": 55,
   "metadata": {},
   "outputs": [],
   "source": [
    "cm = confusion_matrix(y_test, y_pred)"
   ]
  },
  {
   "cell_type": "code",
   "execution_count": 56,
   "metadata": {
    "scrolled": false
   },
   "outputs": [
    {
     "data": {
      "image/png": "[encoded data removed]",
      "text/plain": [
       "<Figure size 576x576 with 1 Axes>"
      ]
     },
     "metadata": {
      "needs_background": "light"
     },
     "output_type": "display_data"
    }
   ],
   "source": [
    "plt.figure(figsize = (8,8))\n",
    "ax = plt.subplot()\n",
    "sns.heatmap(cm, \n",
    "            annot=True, \n",
    "            ax = ax, \n",
    "            fmt='g', \n",
    "            cbar=False,\n",
    "            cmap=\"Blues\"); #annot=True to annotate cells\n",
    "\n",
    "# labels, title and ticks\n",
    "ax.set_title('Confusion Matrix', size=16)\n",
    "ax.set_xlabel('Predicted', size=14)\n",
    "ax.set_ylabel('True', size=14)\n",
    "ax.xaxis.set_ticklabels(['Negative', 'Positive'])\n",
    "ax.yaxis.set_ticklabels(['Negative', 'Positive']);"
   ]
  },
  {
   "cell_type": "markdown",
   "metadata": {},
   "source": [
    "For the Voting Classifier, the 4 classes of confusion matrix are as follows:\n",
    "\n",
    "True Positive: 2645  \n",
    "False Positive (Type 1): 1212 \n",
    "True Negative: 64\n",
    "False Negative (Type 2): 45  \n",
    "A perfect classifier would have only TP and TN, so its confusion matirx would have nonzero values only on the top-left to bottom right diagonal. As we can see here, the diagonal from top left to bottom right are our correct predictions (TN and TP). We have a large number of TP, but also a large number of FP, which shows the limitation of this model."
   ]
  },
  {
   "cell_type": "markdown",
   "metadata": {},
   "source": [
    "### ROC Curve and AUC ROC"
   ]
  },
  {
   "cell_type": "code",
   "execution_count": 57,
   "metadata": {},
   "outputs": [],
   "source": [
    "y_pred_proba = vc.predict_proba(X_test)"
   ]
  },
  {
   "cell_type": "code",
   "execution_count": 58,
   "metadata": {
    "scrolled": false
   },
   "outputs": [
    {
     "data": {
      "text/plain": [
       "<matplotlib.legend.Legend at 0x12d515610>"
      ]
     },
     "execution_count": 58,
     "metadata": {},
     "output_type": "execute_result"
    },
    {
     "data": {
      "image/png": "[encoded data removed]",
      "text/plain": [
       "<Figure size 720x576 with 1 Axes>"
      ]
     },
     "metadata": {
      "needs_background": "light"
     },
     "output_type": "display_data"
    }
   ],
   "source": [
    "# Reference: https://scikit-learn.org/stable/modules/generated/sklearn.metrics.roc_curve.html#sklearn.metrics.roc_curve\n",
    "fpr, tpr, _= roc_curve(y_test, y_pred_proba[:,1])\n",
    "roc_auc = auc(fpr, tpr)\n",
    "\n",
    "\n",
    "# Plot of a ROC curve for a specific class\n",
    "plt.figure(figsize = (10,8))\n",
    "plt.plot(fpr, tpr, label='ROC curve (area = %0.4f)' % roc_auc)\n",
    "plt.plot([0, 1], [0, 1], 'k--', label='baseline')\n",
    "plt.xlim([-0.02, 1.0])\n",
    "plt.ylim([0.0, 1.02])\n",
    "plt.xlabel('False Positive Rate')\n",
    "plt.ylabel('True Positive Rate')\n",
    "plt.title('Receiver Operating Characteristic Curve', fontsize=15)\n",
    "plt.legend(loc=\"lower right\")"
   ]
  },
  {
   "cell_type": "markdown",
   "metadata": {},
   "source": [
    "The ROC curve helps us to visualize our tradeoff between sensitivity and specificity and understand how well-separated our classes are. The ROC curve is generated by varying our threshold from 0 to 1. The best threshold is the point on the curve where it's closest to the top left corner. \n",
    "\n",
    "In addiction, the AUC ROC measures how well the classifier seperates the two classes, affluent and not affluent. AUC ROC score ranges from 0 to 1. The closer it is to 1, the better the classifier seperates the two classes. As we can see from the above plot, the Voting Classifier' AUC ROC score is 0,7132, which means our model is medirocate at separating the two classes."
   ]
  },
  {
   "cell_type": "markdown",
   "metadata": {},
   "source": [
    "### Model Interpretation"
   ]
  },
  {
   "cell_type": "code",
   "execution_count": 59,
   "metadata": {},
   "outputs": [],
   "source": [
    "# Create a dataframe that conbines feature names and coefficients\n",
    "top_features = pd.DataFrame(list(zip(X_test.columns.values, gs_lr.best_estimator_.steps[1][1].coef_.ravel() )), \n",
    "               columns=['features', 'coefficient'])"
   ]
  },
  {
   "cell_type": "code",
   "execution_count": 60,
   "metadata": {},
   "outputs": [],
   "source": [
    "top_features = top_features.sort_values(by='coefficient')"
   ]
  },
  {
   "cell_type": "code",
   "execution_count": 61,
   "metadata": {},
   "outputs": [],
   "source": [
    "# Find the top 10 strongest predictors for the positive class\n",
    "df_1 = top_features.sort_values(by=['coefficient'], ascending=False).head(10)"
   ]
  },
  {
   "cell_type": "code",
   "execution_count": 62,
   "metadata": {},
   "outputs": [],
   "source": [
    "# Find the top 10 strongest predictors for the negative class\n",
    "df_2 = top_features.sort_values(by=['coefficient'], ascending=False).tail(10)"
   ]
  },
  {
   "cell_type": "code",
   "execution_count": 63,
   "metadata": {},
   "outputs": [],
   "source": [
    "df_1_and_2 = pd.concat([df_1, df_2], ignore_index=True)"
   ]
  },
  {
   "cell_type": "code",
   "execution_count": 64,
   "metadata": {
    "scrolled": false
   },
   "outputs": [
    {
     "data": {
      "image/png": "[encoded data removed]",
      "text/plain": [
       "<Figure size 576x576 with 1 Axes>"
      ]
     },
     "metadata": {
      "needs_background": "light"
     },
     "output_type": "display_data"
    }
   ],
   "source": [
    "plt.figure(figsize=(8,8))\n",
    "plt.title('Best Predictors',fontsize=25)\n",
    "sns.set_style(\"darkgrid\")\n",
    "sns.barplot(data=df_1_and_2 ,x='coefficient',y='features',orient='h', palette=\"GnBu_d\")\n",
    "plt.xlabel('coefficient',fontsize=20)\n",
    "plt.ylabel('features',fontsize=20)\n",
    "plt.tick_params(labelsize=15)"
   ]
  },
  {
   "cell_type": "markdown",
   "metadata": {},
   "source": [
    "- Let's first look at the top 10 predictors for our positive class (affluent): \n",
    "\n",
    "Surprisingly, `review_count` is the strongest predictor for the positive class. Based on the coefficient, a one-unit change in review_count causes 'is affluent' to be e^(1.088083) times as likely. The potential reason might be: More review counts indicate higher volumes of costumers, which means the location might have a higher density of population and/or higher traffic. \n",
    "\n",
    "The second strongest predictor for the positive class is `rating`: a one-unit change in rating causes 'affluent' \n",
    "to be e^(0.190824) times as likely.   \n",
    "\n",
    "To answer our client's question, i.e. whether the Yelp dollar sign can be used to predict whether the neighborhood is affluent or not, based on the coefficient, a one-unit change in `price` causes 'affluent' to be e^(0.122521) times as likely. Although this feature is among the top 10 strongest predictors for the positive class, it ranked below category = chocolate, Ethiopian, and French. To explain this more intuitively, having more Chocolate stores, Ethiopian restaurants, or French restaurants is a better predictor for an affluent neighborhood.\n",
    "\n",
    "- Let's now look at the top 10 predictors for our negative class (not affluent):\n",
    "\n",
    "The top predictors are all restaurant categories, such as Himalayan, Chinese, buffets, Korean, and Pizza. This makes intuitive sense for NYC. These make intuitive sense in the context of NYC: less affluent neighborhoods such as Flushing has a higher concentration of Chinese restaurants. Similarly, some less affluent neighborhoods tend to have  many Pizzeria. "
   ]
  },
  {
   "cell_type": "markdown",
   "metadata": {},
   "source": [
    "#### Visualize top predictor: category 'chocholate'\n",
    "One of the strongest predictors for the positive class is the category 'chocolate'. Does this make intuitive sense? i.e. Chocolate stores are more likely located in affluent neighborhoods. Let's visualize all the chocolate stores in NYC and see which neighborhoods they are located."
   ]
  },
  {
   "cell_type": "code",
   "execution_count": 65,
   "metadata": {
    "scrolled": true
   },
   "outputs": [],
   "source": [
    "# Visualization Preparation\n",
    "yelp_2 = pd.read_csv('./../data/raw.csv')"
   ]
  },
  {
   "cell_type": "code",
   "execution_count": 66,
   "metadata": {},
   "outputs": [],
   "source": [
    "# Quick Data Cleaning\n",
    "yelp_2['latitude'] = [ast.literal_eval(i)['latitude'] for i in yelp_2['coordinates']]\n",
    "yelp_2['longitude'] = [ast.literal_eval(i)['longitude'] for i in yelp_2['coordinates']]\n",
    "yelp_2 = yelp_2.drop(columns=['Unnamed: 0','phone','display_phone','image_url','url','distance','alias','is_closed',\n",
    "                             'id','transactions'],axis=1)\n",
    "yelp_2 = yelp_2.dropna()\n",
    "yelp_2['cat1'] = [list(ast.literal_eval(yelp_2['categories'][i])[0].values())[0] for i in yelp_2.index]"
   ]
  },
  {
   "cell_type": "code",
   "execution_count": 67,
   "metadata": {},
   "outputs": [],
   "source": [
    "# Only choose chocolate stores\n",
    "df_cho = pd.DataFrame(yelp_2.loc[yelp_2['cat1'] == 'chocolate'])\n",
    "df_cho['combined'] = df_cho[['latitude','longitude']].values.tolist()\n",
    "df_cho = df_cho.reset_index(drop=True)"
   ]
  },
  {
   "cell_type": "code",
   "execution_count": 68,
   "metadata": {},
   "outputs": [],
   "source": [
    "# Create the map\n",
    "\n",
    "# Thanks to Amy Bear for sharing the link of this source! \n",
    "# Referenc3: https://www.earthdatascience.org/tutorials/introduction-to-leaflet-animated-maps/\n",
    "\n",
    "#Define coordinates of where we want to center our map\n",
    "nyc_coords = [40.7128, -74.0060]\n",
    "\n",
    "#Create the map\n",
    "nyc_map = folium.Map(location = nyc_coords, zoom_start = 12)"
   ]
  },
  {
   "cell_type": "code",
   "execution_count": 69,
   "metadata": {},
   "outputs": [
    {
     "data": {
      "text/html": [
       "<div style=\"width:100%;\"><div style=\"position:relative;width:100%;height:0;padding-bottom:60%;\"><iframe src=\"data:text/html;charset=utf-8;base64,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\" style=\"position:absolute;width:100%;height:100%;left:0;top:0;border:none !important;\" allowfullscreen webkitallowfullscreen mozallowfullscreen></iframe></div></div>"
      ],
      "text/plain": [
       "<folium.folium.Map at 0x12d4d9110>"
      ]
     },
     "execution_count": 69,
     "metadata": {},
     "output_type": "execute_result"
    }
   ],
   "source": [
    "# Add markers to map\n",
    "for i in df_cho['combined'].index:\n",
    "    name = list(df_cho['name'].values)[i]\n",
    "    folium.Marker(df_cho['combined'][i], popup = html.escape(name)).add_to(nyc_map)\n",
    "nyc_map"
   ]
  },
  {
   "cell_type": "markdown",
   "metadata": {},
   "source": [
    "As we can see, Chocolate stores are located in neighborhoods such as Upper West Side, Midtown, Soho, Dumbo, and Williamsberg, which are well-known affluent neighborhoods in NYC. "
   ]
  },
  {
   "cell_type": "code",
   "execution_count": 70,
   "metadata": {},
   "outputs": [],
   "source": [
    "# Export map as html file\n",
    "nyc_map.save('./../images/chocolate_stors_nyc.html')"
   ]
  },
  {
   "cell_type": "markdown",
   "metadata": {},
   "source": [
    "## Conclusion"
   ]
  },
  {
   "cell_type": "markdown",
   "metadata": {},
   "source": [
    "Although Yelp's $ sign is among the top 10 predictors, it alone cannot be the sole predictor of a neighborhood's affluency; Combing with other characteristics  of a Yelp business will increase the predicting power. \n",
    "\n",
    "For option 2, the best performing model is the Voting Classifier. This model has an AUC ORC score of 0.71323, comparing with the baseline score of 0.5. Although the model does not have the optimal AUC ROC score, it can still serve our client's purpose as a fast and cheap estimator for a given neighborhood's affluency. \n",
    "\n",
    "The advantage of this model is that it does not reply on past U.S census data to calculate the neighborhood's affluency, but rather using an individual Yelp business's characteristics to predict the affluency of the neighborhood where the business is located. Our client can input a single Yelp business information, such as rating, review_counts, and categorical, and get a fast predication of the neighborhood’s affluency status. \n",
    "\n",
    "In addition, since no geographical features have been used as features to train our models, we assume that the model will be transferable to other urban neighborhoods outside of NYC. The possibility of this generalization will be explored in the future.  "
   ]
  },
  {
   "cell_type": "markdown",
   "metadata": {},
   "source": [
    "## Bonus: Create a funtion to predict using a single Yelp business info"
   ]
  },
  {
   "cell_type": "markdown",
   "metadata": {},
   "source": [
    "Our client can use to following function to make a quick prediction of a neighborhood, using a single Yelp business's information. Please see demo below."
   ]
  },
  {
   "cell_type": "code",
   "execution_count": 71,
   "metadata": {},
   "outputs": [],
   "source": [
    "# Create a detault row with all features = 0\n",
    "def default_row():\n",
    "    row = X.loc[0]\n",
    "    for column in row.index:\n",
    "        row[column] = 0\n",
    "    return row"
   ]
  },
  {
   "cell_type": "code",
   "execution_count": 72,
   "metadata": {},
   "outputs": [],
   "source": [
    "def prediciton(review_count, rating, price, category, model=vc):\n",
    "    '''\n",
    "    Takes a model name (default = vc), review_count, rating, price, and category\n",
    "    Return binary value: 1 = affluent, 0 = not affluent\n",
    "    '''\n",
    "    row = default_row()\n",
    "    row['review_count'] = review_count\n",
    "    row['rating'] = rating\n",
    "    row['price'] = price\n",
    "    if category in yelp_2['cat1'].unique().tolist():\n",
    "        row[f'cat1_{category}'] = 1\n",
    "    row = np.array(row).reshape(1, -1)\n",
    "    return model.predict(row)"
   ]
  },
  {
   "cell_type": "markdown",
   "metadata": {},
   "source": [
    "let's use [Boucherie Union Square](https://www.yelp.com/biz/boucherie-union-square-new-york)'s Yelp information to test out our model.\n",
    "Boucherie Union Square has 723 reviews, 5 star rating, price of $$$, and is a French restaurent. We can input this information into the funciton and check the predicited result. "
   ]
  },
  {
   "cell_type": "code",
   "execution_count": 73,
   "metadata": {
    "scrolled": true
   },
   "outputs": [
    {
     "data": {
      "text/plain": [
       "array([1])"
      ]
     },
     "execution_count": 73,
     "metadata": {},
     "output_type": "execute_result"
    }
   ],
   "source": [
    "# our model will predict its neighborhood to be not affluent\n",
    "prediciton(review_count=723, rating=5, price=3, category='French')"
   ]
  },
  {
   "cell_type": "markdown",
   "metadata": {},
   "source": [
    "As we can see here, the prediction shows that the restaurant is located in an affluent neighborhood."
   ]
  }
 ],
 "metadata": {
  "kernelspec": {
   "display_name": "Python 3",
   "language": "python",
   "name": "python3"
  },
  "language_info": {
   "codemirror_mode": {
    "name": "ipython",
    "version": 3
   },
   "file_extension": ".py",
   "mimetype": "text/x-python",
   "name": "python",
   "nbconvert_exporter": "python",
   "pygments_lexer": "ipython3",
   "version": "3.7.4"
  },
  "toc": {
   "base_numbering": 1,
   "nav_menu": {},
   "number_sections": true,
   "sideBar": true,
   "skip_h1_title": false,
   "title_cell": "Table of Contents",
   "title_sidebar": "Contents",
   "toc_cell": true,
   "toc_position": {},
   "toc_section_display": true,
   "toc_window_display": true
  }
 },
 "nbformat": 4,
 "nbformat_minor": 2
}
