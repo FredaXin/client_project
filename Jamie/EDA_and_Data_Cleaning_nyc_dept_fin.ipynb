{
 "cells": [
  {
   "cell_type": "markdown",
   "metadata": {},
   "source": [
    "## EDA and Data Cleaning for NYC Dept of Fin"
   ]
  },
  {
   "cell_type": "markdown",
   "metadata": {},
   "source": [
    "###  Import libraries"
   ]
  },
  {
   "cell_type": "code",
   "execution_count": 122,
   "metadata": {},
   "outputs": [],
   "source": [
    "import pandas as pd\n",
    "import numpy as np\n",
    "import matplotlib.pyplot as plt\n",
    "pd.set_option('display.max_rows', 500)"
   ]
  },
  {
   "cell_type": "code",
   "execution_count": 123,
   "metadata": {},
   "outputs": [],
   "source": [
    "import os\n",
    "current_dir = os.getcwd()"
   ]
  },
  {
   "cell_type": "markdown",
   "metadata": {},
   "source": [
    "### Load data"
   ]
  },
  {
   "cell_type": "code",
   "execution_count": 124,
   "metadata": {},
   "outputs": [],
   "source": [
    "df = pd.read_csv('../data/nyc_dept_fin.csv')"
   ]
  },
  {
   "cell_type": "code",
   "execution_count": 125,
   "metadata": {},
   "outputs": [
    {
     "data": {
      "text/html": [
       "<div>\n",
       "<style scoped>\n",
       "    .dataframe tbody tr th:only-of-type {\n",
       "        vertical-align: middle;\n",
       "    }\n",
       "\n",
       "    .dataframe tbody tr th {\n",
       "        vertical-align: top;\n",
       "    }\n",
       "\n",
       "    .dataframe thead th {\n",
       "        text-align: right;\n",
       "    }\n",
       "</style>\n",
       "<table border=\"1\" class=\"dataframe\">\n",
       "  <thead>\n",
       "    <tr style=\"text-align: right;\">\n",
       "      <th></th>\n",
       "      <th>borough</th>\n",
       "      <th>neighborhood</th>\n",
       "      <th>building_class_category</th>\n",
       "      <th>tax_class_at_present</th>\n",
       "      <th>block</th>\n",
       "      <th>lot</th>\n",
       "      <th>building_class_at_present</th>\n",
       "      <th>address</th>\n",
       "      <th>apartment_number</th>\n",
       "      <th>zip_code</th>\n",
       "      <th>...</th>\n",
       "      <th>commercial_units</th>\n",
       "      <th>total_units</th>\n",
       "      <th>land_square_feet</th>\n",
       "      <th>gross_square_feet</th>\n",
       "      <th>year_built</th>\n",
       "      <th>tax_class_at_time_of_sale</th>\n",
       "      <th>building_class_at_time_of_sale</th>\n",
       "      <th>sale_price</th>\n",
       "      <th>sale_date</th>\n",
       "      <th>price_per_sqft</th>\n",
       "    </tr>\n",
       "  </thead>\n",
       "  <tbody>\n",
       "    <tr>\n",
       "      <th>0</th>\n",
       "      <td>1</td>\n",
       "      <td>ALPHABET CITY</td>\n",
       "      <td>01 ONE FAMILY DWELLINGS</td>\n",
       "      <td>1</td>\n",
       "      <td>376</td>\n",
       "      <td>43.0</td>\n",
       "      <td>S1</td>\n",
       "      <td>743 EAST 6TH STREET</td>\n",
       "      <td>NaN</td>\n",
       "      <td>10009.0</td>\n",
       "      <td>...</td>\n",
       "      <td>1.0</td>\n",
       "      <td>2.0</td>\n",
       "      <td>2090.0</td>\n",
       "      <td>3680.0</td>\n",
       "      <td>1940.0</td>\n",
       "      <td>1</td>\n",
       "      <td>S1</td>\n",
       "      <td>3200000.0</td>\n",
       "      <td>7/24/19</td>\n",
       "      <td>869.565217</td>\n",
       "    </tr>\n",
       "    <tr>\n",
       "      <th>1</th>\n",
       "      <td>1</td>\n",
       "      <td>ALPHABET CITY</td>\n",
       "      <td>01 ONE FAMILY DWELLINGS</td>\n",
       "      <td>1</td>\n",
       "      <td>390</td>\n",
       "      <td>61.0</td>\n",
       "      <td>A4</td>\n",
       "      <td>189 EAST 7TH STREET</td>\n",
       "      <td>NaN</td>\n",
       "      <td>10009.0</td>\n",
       "      <td>...</td>\n",
       "      <td>0.0</td>\n",
       "      <td>1.0</td>\n",
       "      <td>987.0</td>\n",
       "      <td>2183.0</td>\n",
       "      <td>1860.0</td>\n",
       "      <td>1</td>\n",
       "      <td>A4</td>\n",
       "      <td>0.0</td>\n",
       "      <td>9/25/19</td>\n",
       "      <td>0.000000</td>\n",
       "    </tr>\n",
       "    <tr>\n",
       "      <th>2</th>\n",
       "      <td>1</td>\n",
       "      <td>ALPHABET CITY</td>\n",
       "      <td>02 TWO FAMILY DWELLINGS</td>\n",
       "      <td>1</td>\n",
       "      <td>404</td>\n",
       "      <td>1.0</td>\n",
       "      <td>B9</td>\n",
       "      <td>166 AVENUE A</td>\n",
       "      <td>NaN</td>\n",
       "      <td>10009.0</td>\n",
       "      <td>...</td>\n",
       "      <td>0.0</td>\n",
       "      <td>2.0</td>\n",
       "      <td>1510.0</td>\n",
       "      <td>4520.0</td>\n",
       "      <td>1900.0</td>\n",
       "      <td>1</td>\n",
       "      <td>B9</td>\n",
       "      <td>0.0</td>\n",
       "      <td>7/22/19</td>\n",
       "      <td>0.000000</td>\n",
       "    </tr>\n",
       "    <tr>\n",
       "      <th>3</th>\n",
       "      <td>1</td>\n",
       "      <td>ALPHABET CITY</td>\n",
       "      <td>03 THREE FAMILY DWELLINGS</td>\n",
       "      <td>1</td>\n",
       "      <td>377</td>\n",
       "      <td>56.0</td>\n",
       "      <td>C0</td>\n",
       "      <td>263 EAST 7TH STREET</td>\n",
       "      <td>NaN</td>\n",
       "      <td>10009.0</td>\n",
       "      <td>...</td>\n",
       "      <td>0.0</td>\n",
       "      <td>3.0</td>\n",
       "      <td>2430.0</td>\n",
       "      <td>3600.0</td>\n",
       "      <td>1899.0</td>\n",
       "      <td>1</td>\n",
       "      <td>C0</td>\n",
       "      <td>6300000.0</td>\n",
       "      <td>4/30/19</td>\n",
       "      <td>1750.000000</td>\n",
       "    </tr>\n",
       "    <tr>\n",
       "      <th>4</th>\n",
       "      <td>1</td>\n",
       "      <td>ALPHABET CITY</td>\n",
       "      <td>03 THREE FAMILY DWELLINGS</td>\n",
       "      <td>1</td>\n",
       "      <td>393</td>\n",
       "      <td>9.0</td>\n",
       "      <td>C0</td>\n",
       "      <td>604 EAST 11TH STREET</td>\n",
       "      <td>NaN</td>\n",
       "      <td>10009.0</td>\n",
       "      <td>...</td>\n",
       "      <td>0.0</td>\n",
       "      <td>3.0</td>\n",
       "      <td>2375.0</td>\n",
       "      <td>5110.0</td>\n",
       "      <td>1939.0</td>\n",
       "      <td>1</td>\n",
       "      <td>C0</td>\n",
       "      <td>0.0</td>\n",
       "      <td>10/24/19</td>\n",
       "      <td>0.000000</td>\n",
       "    </tr>\n",
       "  </tbody>\n",
       "</table>\n",
       "<p>5 rows × 21 columns</p>\n",
       "</div>"
      ],
      "text/plain": [
       "   borough   neighborhood    building_class_category tax_class_at_present  \\\n",
       "0        1  ALPHABET CITY    01 ONE FAMILY DWELLINGS                    1   \n",
       "1        1  ALPHABET CITY    01 ONE FAMILY DWELLINGS                    1   \n",
       "2        1  ALPHABET CITY    02 TWO FAMILY DWELLINGS                    1   \n",
       "3        1  ALPHABET CITY  03 THREE FAMILY DWELLINGS                    1   \n",
       "4        1  ALPHABET CITY  03 THREE FAMILY DWELLINGS                    1   \n",
       "\n",
       "   block   lot building_class_at_present               address  \\\n",
       "0    376  43.0                        S1   743 EAST 6TH STREET   \n",
       "1    390  61.0                        A4   189 EAST 7TH STREET   \n",
       "2    404   1.0                        B9          166 AVENUE A   \n",
       "3    377  56.0                        C0   263 EAST 7TH STREET   \n",
       "4    393   9.0                        C0  604 EAST 11TH STREET   \n",
       "\n",
       "  apartment_number  zip_code  ...  commercial_units  total_units  \\\n",
       "0              NaN   10009.0  ...               1.0          2.0   \n",
       "1              NaN   10009.0  ...               0.0          1.0   \n",
       "2              NaN   10009.0  ...               0.0          2.0   \n",
       "3              NaN   10009.0  ...               0.0          3.0   \n",
       "4              NaN   10009.0  ...               0.0          3.0   \n",
       "\n",
       "   land_square_feet  gross_square_feet  year_built  tax_class_at_time_of_sale  \\\n",
       "0            2090.0             3680.0      1940.0                          1   \n",
       "1             987.0             2183.0      1860.0                          1   \n",
       "2            1510.0             4520.0      1900.0                          1   \n",
       "3            2430.0             3600.0      1899.0                          1   \n",
       "4            2375.0             5110.0      1939.0                          1   \n",
       "\n",
       "   building_class_at_time_of_sale sale_price  sale_date price_per_sqft  \n",
       "0                              S1  3200000.0    7/24/19     869.565217  \n",
       "1                              A4        0.0    9/25/19       0.000000  \n",
       "2                              B9        0.0    7/22/19       0.000000  \n",
       "3                              C0  6300000.0    4/30/19    1750.000000  \n",
       "4                              C0        0.0   10/24/19       0.000000  \n",
       "\n",
       "[5 rows x 21 columns]"
      ]
     },
     "execution_count": 125,
     "metadata": {},
     "output_type": "execute_result"
    }
   ],
   "source": [
    "df.head()"
   ]
  },
  {
   "cell_type": "markdown",
   "metadata": {},
   "source": [
    "###  EDA and Data Cleaning"
   ]
  },
  {
   "cell_type": "code",
   "execution_count": 126,
   "metadata": {},
   "outputs": [
    {
     "data": {
      "text/plain": [
       "(79071, 21)"
      ]
     },
     "execution_count": 126,
     "metadata": {},
     "output_type": "execute_result"
    }
   ],
   "source": [
    "# Check the shape of the data\n",
    "df.shape"
   ]
  },
  {
   "cell_type": "code",
   "execution_count": 127,
   "metadata": {},
   "outputs": [
    {
     "name": "stdout",
     "output_type": "stream",
     "text": [
      "<class 'pandas.core.frame.DataFrame'>\n",
      "RangeIndex: 79071 entries, 0 to 79070\n",
      "Data columns (total 21 columns):\n",
      "borough                           79071 non-null int64\n",
      "neighborhood                      79071 non-null object\n",
      "building_class_category           79071 non-null object\n",
      "tax_class_at_present              78765 non-null object\n",
      "block                             79071 non-null int64\n",
      "lot                               79071 non-null float64\n",
      "building_class_at_present         78765 non-null object\n",
      "address                           79071 non-null object\n",
      "apartment_number                  17728 non-null object\n",
      "zip_code                          79057 non-null float64\n",
      "residential_units                 63284 non-null float64\n",
      "commercial_units                  63284 non-null float64\n",
      "total_units                       63284 non-null float64\n",
      "land_square_feet                  63284 non-null float64\n",
      "gross_square_feet                 63285 non-null float64\n",
      "year_built                        73350 non-null float64\n",
      "tax_class_at_time_of_sale         79071 non-null int64\n",
      "building_class_at_time_of_sale    79071 non-null object\n",
      "sale_price                        79071 non-null float64\n",
      "sale_date                         79071 non-null object\n",
      "price_per_sqft                    58473 non-null float64\n",
      "dtypes: float64(10), int64(3), object(8)\n",
      "memory usage: 12.7+ MB\n"
     ]
    }
   ],
   "source": [
    "# Check nulls and data types\n",
    "df.info()"
   ]
  },
  {
   "cell_type": "code",
   "execution_count": 128,
   "metadata": {},
   "outputs": [
    {
     "data": {
      "text/plain": [
       "apartment_number                  0.775796\n",
       "price_per_sqft                    0.260500\n",
       "land_square_feet                  0.199656\n",
       "commercial_units                  0.199656\n",
       "total_units                       0.199656\n",
       "residential_units                 0.199656\n",
       "gross_square_feet                 0.199643\n",
       "year_built                        0.072353\n",
       "building_class_at_present         0.003870\n",
       "tax_class_at_present              0.003870\n",
       "zip_code                          0.000177\n",
       "tax_class_at_time_of_sale         0.000000\n",
       "building_class_at_time_of_sale    0.000000\n",
       "sale_date                         0.000000\n",
       "sale_price                        0.000000\n",
       "address                           0.000000\n",
       "lot                               0.000000\n",
       "block                             0.000000\n",
       "building_class_category           0.000000\n",
       "neighborhood                      0.000000\n",
       "borough                           0.000000\n",
       "dtype: float64"
      ]
     },
     "execution_count": 128,
     "metadata": {},
     "output_type": "execute_result"
    }
   ],
   "source": [
    "# Check percentage of null values\n",
    "df.isnull().mean().sort_values(ascending=False) "
   ]
  },
  {
   "cell_type": "markdown",
   "metadata": {},
   "source": [
    "#### Change Data Types"
   ]
  },
  {
   "cell_type": "code",
   "execution_count": 129,
   "metadata": {},
   "outputs": [],
   "source": [
    "def col_convert_float_to_int(col_list, df):\n",
    "    for i in col_list:\n",
    "        df[i] = df[i].astype('Int64')\n",
    "    return df"
   ]
  },
  {
   "cell_type": "code",
   "execution_count": 130,
   "metadata": {},
   "outputs": [],
   "source": [
    "list_of_col_to_int = ['borough', 'block', 'zip_code', 'year_built', 'tax_class_at_time_of_sale']"
   ]
  },
  {
   "cell_type": "code",
   "execution_count": 131,
   "metadata": {},
   "outputs": [],
   "source": [
    "df = col_convert_float_to_int(list_of_col_to_int, df)"
   ]
  },
  {
   "cell_type": "code",
   "execution_count": 132,
   "metadata": {
    "scrolled": true
   },
   "outputs": [
    {
     "data": {
      "text/html": [
       "<div>\n",
       "<style scoped>\n",
       "    .dataframe tbody tr th:only-of-type {\n",
       "        vertical-align: middle;\n",
       "    }\n",
       "\n",
       "    .dataframe tbody tr th {\n",
       "        vertical-align: top;\n",
       "    }\n",
       "\n",
       "    .dataframe thead th {\n",
       "        text-align: right;\n",
       "    }\n",
       "</style>\n",
       "<table border=\"1\" class=\"dataframe\">\n",
       "  <thead>\n",
       "    <tr style=\"text-align: right;\">\n",
       "      <th></th>\n",
       "      <th>borough</th>\n",
       "      <th>block</th>\n",
       "      <th>lot</th>\n",
       "      <th>zip_code</th>\n",
       "      <th>residential_units</th>\n",
       "      <th>commercial_units</th>\n",
       "      <th>total_units</th>\n",
       "      <th>land_square_feet</th>\n",
       "      <th>gross_square_feet</th>\n",
       "      <th>year_built</th>\n",
       "      <th>tax_class_at_time_of_sale</th>\n",
       "      <th>sale_price</th>\n",
       "      <th>price_per_sqft</th>\n",
       "    </tr>\n",
       "  </thead>\n",
       "  <tbody>\n",
       "    <tr>\n",
       "      <th>count</th>\n",
       "      <td>79071.000000</td>\n",
       "      <td>79071.000000</td>\n",
       "      <td>79071.000000</td>\n",
       "      <td>79057.000000</td>\n",
       "      <td>63284.000000</td>\n",
       "      <td>63284.000000</td>\n",
       "      <td>63284.000000</td>\n",
       "      <td>6.328400e+04</td>\n",
       "      <td>6.328500e+04</td>\n",
       "      <td>73350.000000</td>\n",
       "      <td>79071.000000</td>\n",
       "      <td>7.907100e+04</td>\n",
       "      <td>5.847300e+04</td>\n",
       "    </tr>\n",
       "    <tr>\n",
       "      <th>mean</th>\n",
       "      <td>2.989225</td>\n",
       "      <td>4420.006108</td>\n",
       "      <td>358.436304</td>\n",
       "      <td>10860.840786</td>\n",
       "      <td>2.167862</td>\n",
       "      <td>0.262562</td>\n",
       "      <td>2.430425</td>\n",
       "      <td>3.306690e+03</td>\n",
       "      <td>3.207432e+03</td>\n",
       "      <td>1950.509843</td>\n",
       "      <td>1.617774</td>\n",
       "      <td>1.430173e+06</td>\n",
       "      <td>inf</td>\n",
       "    </tr>\n",
       "    <tr>\n",
       "      <th>std</th>\n",
       "      <td>1.280595</td>\n",
       "      <td>3695.799417</td>\n",
       "      <td>643.130068</td>\n",
       "      <td>562.945244</td>\n",
       "      <td>10.188677</td>\n",
       "      <td>5.235532</td>\n",
       "      <td>11.520441</td>\n",
       "      <td>8.097639e+04</td>\n",
       "      <td>2.386094e+04</td>\n",
       "      <td>35.067876</td>\n",
       "      <td>0.797040</td>\n",
       "      <td>1.340893e+07</td>\n",
       "      <td>NaN</td>\n",
       "    </tr>\n",
       "    <tr>\n",
       "      <th>min</th>\n",
       "      <td>1.000000</td>\n",
       "      <td>1.000000</td>\n",
       "      <td>1.000000</td>\n",
       "      <td>10001.000000</td>\n",
       "      <td>0.000000</td>\n",
       "      <td>0.000000</td>\n",
       "      <td>0.000000</td>\n",
       "      <td>0.000000e+00</td>\n",
       "      <td>0.000000e+00</td>\n",
       "      <td>1018.000000</td>\n",
       "      <td>1.000000</td>\n",
       "      <td>0.000000e+00</td>\n",
       "      <td>0.000000e+00</td>\n",
       "    </tr>\n",
       "    <tr>\n",
       "      <th>25%</th>\n",
       "      <td>2.000000</td>\n",
       "      <td>1344.000000</td>\n",
       "      <td>22.000000</td>\n",
       "      <td>10306.000000</td>\n",
       "      <td>1.000000</td>\n",
       "      <td>0.000000</td>\n",
       "      <td>1.000000</td>\n",
       "      <td>0.000000e+00</td>\n",
       "      <td>0.000000e+00</td>\n",
       "      <td>1925.000000</td>\n",
       "      <td>1.000000</td>\n",
       "      <td>0.000000e+00</td>\n",
       "      <td>0.000000e+00</td>\n",
       "    </tr>\n",
       "    <tr>\n",
       "      <th>50%</th>\n",
       "      <td>3.000000</td>\n",
       "      <td>3497.000000</td>\n",
       "      <td>50.000000</td>\n",
       "      <td>11210.000000</td>\n",
       "      <td>1.000000</td>\n",
       "      <td>0.000000</td>\n",
       "      <td>1.000000</td>\n",
       "      <td>2.040000e+03</td>\n",
       "      <td>1.480000e+03</td>\n",
       "      <td>1945.000000</td>\n",
       "      <td>1.000000</td>\n",
       "      <td>4.700000e+05</td>\n",
       "      <td>3.719388e+02</td>\n",
       "    </tr>\n",
       "    <tr>\n",
       "      <th>75%</th>\n",
       "      <td>4.000000</td>\n",
       "      <td>6602.000000</td>\n",
       "      <td>380.000000</td>\n",
       "      <td>11358.000000</td>\n",
       "      <td>2.000000</td>\n",
       "      <td>0.000000</td>\n",
       "      <td>2.000000</td>\n",
       "      <td>3.100000e+03</td>\n",
       "      <td>2.376000e+03</td>\n",
       "      <td>1970.000000</td>\n",
       "      <td>2.000000</td>\n",
       "      <td>8.882650e+05</td>\n",
       "      <td>NaN</td>\n",
       "    </tr>\n",
       "    <tr>\n",
       "      <th>max</th>\n",
       "      <td>5.000000</td>\n",
       "      <td>16350.000000</td>\n",
       "      <td>9109.000000</td>\n",
       "      <td>11697.000000</td>\n",
       "      <td>826.000000</td>\n",
       "      <td>842.000000</td>\n",
       "      <td>842.000000</td>\n",
       "      <td>1.985040e+07</td>\n",
       "      <td>2.400000e+06</td>\n",
       "      <td>2020.000000</td>\n",
       "      <td>4.000000</td>\n",
       "      <td>2.155000e+09</td>\n",
       "      <td>inf</td>\n",
       "    </tr>\n",
       "  </tbody>\n",
       "</table>\n",
       "</div>"
      ],
      "text/plain": [
       "            borough         block           lot      zip_code  \\\n",
       "count  79071.000000  79071.000000  79071.000000  79057.000000   \n",
       "mean       2.989225   4420.006108    358.436304  10860.840786   \n",
       "std        1.280595   3695.799417    643.130068    562.945244   \n",
       "min        1.000000      1.000000      1.000000  10001.000000   \n",
       "25%        2.000000   1344.000000     22.000000  10306.000000   \n",
       "50%        3.000000   3497.000000     50.000000  11210.000000   \n",
       "75%        4.000000   6602.000000    380.000000  11358.000000   \n",
       "max        5.000000  16350.000000   9109.000000  11697.000000   \n",
       "\n",
       "       residential_units  commercial_units   total_units  land_square_feet  \\\n",
       "count       63284.000000      63284.000000  63284.000000      6.328400e+04   \n",
       "mean            2.167862          0.262562      2.430425      3.306690e+03   \n",
       "std            10.188677          5.235532     11.520441      8.097639e+04   \n",
       "min             0.000000          0.000000      0.000000      0.000000e+00   \n",
       "25%             1.000000          0.000000      1.000000      0.000000e+00   \n",
       "50%             1.000000          0.000000      1.000000      2.040000e+03   \n",
       "75%             2.000000          0.000000      2.000000      3.100000e+03   \n",
       "max           826.000000        842.000000    842.000000      1.985040e+07   \n",
       "\n",
       "       gross_square_feet    year_built  tax_class_at_time_of_sale  \\\n",
       "count       6.328500e+04  73350.000000               79071.000000   \n",
       "mean        3.207432e+03   1950.509843                   1.617774   \n",
       "std         2.386094e+04     35.067876                   0.797040   \n",
       "min         0.000000e+00   1018.000000                   1.000000   \n",
       "25%         0.000000e+00   1925.000000                   1.000000   \n",
       "50%         1.480000e+03   1945.000000                   1.000000   \n",
       "75%         2.376000e+03   1970.000000                   2.000000   \n",
       "max         2.400000e+06   2020.000000                   4.000000   \n",
       "\n",
       "         sale_price  price_per_sqft  \n",
       "count  7.907100e+04    5.847300e+04  \n",
       "mean   1.430173e+06             inf  \n",
       "std    1.340893e+07             NaN  \n",
       "min    0.000000e+00    0.000000e+00  \n",
       "25%    0.000000e+00    0.000000e+00  \n",
       "50%    4.700000e+05    3.719388e+02  \n",
       "75%    8.882650e+05             NaN  \n",
       "max    2.155000e+09             inf  "
      ]
     },
     "execution_count": 132,
     "metadata": {},
     "output_type": "execute_result"
    }
   ],
   "source": [
    "# Check general info of numerical columns\n",
    "df.describe()"
   ]
  },
  {
   "cell_type": "code",
   "execution_count": 133,
   "metadata": {},
   "outputs": [
    {
     "data": {
      "text/html": [
       "<div>\n",
       "<style scoped>\n",
       "    .dataframe tbody tr th:only-of-type {\n",
       "        vertical-align: middle;\n",
       "    }\n",
       "\n",
       "    .dataframe tbody tr th {\n",
       "        vertical-align: top;\n",
       "    }\n",
       "\n",
       "    .dataframe thead th {\n",
       "        text-align: right;\n",
       "    }\n",
       "</style>\n",
       "<table border=\"1\" class=\"dataframe\">\n",
       "  <thead>\n",
       "    <tr style=\"text-align: right;\">\n",
       "      <th></th>\n",
       "      <th>neighborhood</th>\n",
       "      <th>building_class_category</th>\n",
       "      <th>tax_class_at_present</th>\n",
       "      <th>building_class_at_present</th>\n",
       "      <th>address</th>\n",
       "      <th>apartment_number</th>\n",
       "      <th>building_class_at_time_of_sale</th>\n",
       "      <th>sale_date</th>\n",
       "    </tr>\n",
       "  </thead>\n",
       "  <tbody>\n",
       "    <tr>\n",
       "      <th>count</th>\n",
       "      <td>79071</td>\n",
       "      <td>79071</td>\n",
       "      <td>78765</td>\n",
       "      <td>78765</td>\n",
       "      <td>79071</td>\n",
       "      <td>17728</td>\n",
       "      <td>79071</td>\n",
       "      <td>79071</td>\n",
       "    </tr>\n",
       "    <tr>\n",
       "      <th>unique</th>\n",
       "      <td>258</td>\n",
       "      <td>44</td>\n",
       "      <td>10</td>\n",
       "      <td>167</td>\n",
       "      <td>76409</td>\n",
       "      <td>3895</td>\n",
       "      <td>167</td>\n",
       "      <td>364</td>\n",
       "    </tr>\n",
       "    <tr>\n",
       "      <th>top</th>\n",
       "      <td>FLUSHING-NORTH</td>\n",
       "      <td>01 ONE FAMILY DWELLINGS</td>\n",
       "      <td>1</td>\n",
       "      <td>D4</td>\n",
       "      <td>N/A BEACH 28 STREET</td>\n",
       "      <td>4</td>\n",
       "      <td>D4</td>\n",
       "      <td>6/27/19</td>\n",
       "    </tr>\n",
       "    <tr>\n",
       "      <th>freq</th>\n",
       "      <td>2374</td>\n",
       "      <td>17864</td>\n",
       "      <td>37822</td>\n",
       "      <td>11679</td>\n",
       "      <td>13</td>\n",
       "      <td>284</td>\n",
       "      <td>11679</td>\n",
       "      <td>642</td>\n",
       "    </tr>\n",
       "  </tbody>\n",
       "</table>\n",
       "</div>"
      ],
      "text/plain": [
       "          neighborhood  building_class_category tax_class_at_present  \\\n",
       "count            79071                    79071                78765   \n",
       "unique             258                       44                   10   \n",
       "top     FLUSHING-NORTH  01 ONE FAMILY DWELLINGS                    1   \n",
       "freq              2374                    17864                37822   \n",
       "\n",
       "       building_class_at_present              address apartment_number  \\\n",
       "count                      78765                79071            17728   \n",
       "unique                       167                76409             3895   \n",
       "top                           D4  N/A BEACH 28 STREET                4   \n",
       "freq                       11679                   13              284   \n",
       "\n",
       "       building_class_at_time_of_sale sale_date  \n",
       "count                           79071     79071  \n",
       "unique                            167       364  \n",
       "top                                D4   6/27/19  \n",
       "freq                            11679       642  "
      ]
     },
     "execution_count": 133,
     "metadata": {},
     "output_type": "execute_result"
    }
   ],
   "source": [
    "# Check general info of categorical columns\n",
    "df.describe(include=object)"
   ]
  },
  {
   "cell_type": "markdown",
   "metadata": {},
   "source": [
    "#### Drop unnecessary columns"
   ]
  },
  {
   "cell_type": "code",
   "execution_count": 134,
   "metadata": {},
   "outputs": [],
   "source": [
    "# Only keep the columns we care about, and make a new dataframe.\n",
    "columns_to_keep = ['borough', 'neighborhood', 'building_class_category', 'address', \n",
    "                   'zip_code', 'gross_square_feet', 'sale_price']\n",
    "df = df[columns_to_keep]"
   ]
  },
  {
   "cell_type": "code",
   "execution_count": 135,
   "metadata": {},
   "outputs": [
    {
     "data": {
      "text/plain": [
       "gross_square_feet          0.199643\n",
       "zip_code                   0.000177\n",
       "sale_price                 0.000000\n",
       "address                    0.000000\n",
       "building_class_category    0.000000\n",
       "neighborhood               0.000000\n",
       "borough                    0.000000\n",
       "dtype: float64"
      ]
     },
     "execution_count": 135,
     "metadata": {},
     "output_type": "execute_result"
    }
   ],
   "source": [
    "# Check percentage of null in the new dataframe\n",
    "df.isnull().mean().sort_values(ascending=False) "
   ]
  },
  {
   "cell_type": "markdown",
   "metadata": {},
   "source": [
    "#### Deal with null values in column 'gross_square_feet'"
   ]
  },
  {
   "cell_type": "code",
   "execution_count": 136,
   "metadata": {},
   "outputs": [
    {
     "data": {
      "text/plain": [
       "10 COOPS - ELEVATOR APARTMENTS                0.753642\n",
       "09 COOPS - WALKUP APARTMENTS                  0.153237\n",
       "17 CONDO COOPS                                0.064551\n",
       "13 CONDOS - ELEVATOR APARTMENTS               0.012733\n",
       "01 ONE FAMILY DWELLINGS                       0.009249\n",
       "15 CONDOS - 2-10 UNIT RESIDENTIAL             0.002534\n",
       "12 CONDOS - WALKUP APARTMENTS                 0.002090\n",
       "44 CONDO PARKING                              0.000950\n",
       "11 SPECIAL CONDO BILLING LOTS                 0.000317\n",
       "28 COMMERCIAL CONDOS                          0.000253\n",
       "46 CONDO STORE BUILDINGS                      0.000253\n",
       "42 CONDO CULTURAL/MEDICAL/EDUCATIONAL/ETC     0.000063\n",
       "02 TWO FAMILY DWELLINGS                       0.000063\n",
       "16 CONDOS - 2-10 UNIT WITH COMMERCIAL UNIT    0.000063\n",
       "Name: building_class_category, dtype: float64"
      ]
     },
     "execution_count": 136,
     "metadata": {},
     "output_type": "execute_result"
    }
   ],
   "source": [
    "# Check for all the observations that are missing 'gross_square_feet'\n",
    "# what are the percentage of each building category\n",
    "df.loc[np.isfinite(df['gross_square_feet']) == False]['building_class_category'].value_counts(normalize=True)"
   ]
  },
  {
   "cell_type": "markdown",
   "metadata": {},
   "source": [
    "Note: in NYC, the information of gross square feet is not required during sales. Therefore there are many missing data in the column 'gross_square_feet'. However, we cannot just drop this column since a large percentage of them are in the building class categories that we care about, such as coops and condos"
   ]
  },
  {
   "cell_type": "markdown",
   "metadata": {},
   "source": [
    "#### Check distributions of each building categories\n",
    "We only want to keep residential properties to calculate the wealthness of the neighborhood."
   ]
  },
  {
   "cell_type": "code",
   "execution_count": 137,
   "metadata": {},
   "outputs": [
    {
     "data": {
      "text/plain": [
       "building_class_category\n",
       "01 ONE FAMILY DWELLINGS                       17864\n",
       "02 TWO FAMILY DWELLINGS                       15454\n",
       "10 COOPS - ELEVATOR APARTMENTS                11897\n",
       "13 CONDOS - ELEVATOR APARTMENTS               11312\n",
       "03 THREE FAMILY DWELLINGS                      4475\n",
       "07 RENTALS - WALKUP APARTMENTS                 2830\n",
       "09 COOPS - WALKUP APARTMENTS                   2419\n",
       "04 TAX CLASS 1 CONDOS                          1547\n",
       "15 CONDOS - 2-10 UNIT RESIDENTIAL              1364\n",
       "05 TAX CLASS 1 VACANT LAND                     1244\n",
       "44 CONDO PARKING                               1158\n",
       "12 CONDOS - WALKUP APARTMENTS                  1096\n",
       "17 CONDO COOPS                                 1019\n",
       "22 STORE BUILDINGS                              913\n",
       "14 RENTALS - 4-10 UNIT                          605\n",
       "29 COMMERCIAL GARAGES                           461\n",
       "21 OFFICE BUILDINGS                             386\n",
       "08 RENTALS - ELEVATOR APARTMENTS                375\n",
       "31 COMMERCIAL VACANT LAND                       340\n",
       "43 CONDO OFFICE BUILDINGS                       338\n",
       "47 CONDO NON-BUSINESS STORAGE                   308\n",
       "30 WAREHOUSES                                   302\n",
       "46 CONDO STORE BUILDINGS                        185\n",
       "27 FACTORIES                                    181\n",
       "06 TAX CLASS 1 - OTHER                          159\n",
       "37 RELIGIOUS FACILITIES                         129\n",
       "41 TAX CLASS 4 - OTHER                          116\n",
       "16 CONDOS - 2-10 UNIT WITH COMMERCIAL UNIT       94\n",
       "45 CONDO HOTELS                                  79\n",
       "28 COMMERCIAL CONDOS                             64\n",
       "11 SPECIAL CONDO BILLING LOTS                    57\n",
       "33 EDUCATIONAL FACILITIES                        54\n",
       "26 OTHER HOTELS                                  45\n",
       "32 HOSPITAL AND HEALTH FACILITIES                45\n",
       "35 INDOOR PUBLIC AND CULTURAL FACILITIES         29\n",
       "23 LOFT BUILDINGS                                22\n",
       "25 LUXURY HOTELS                                 20\n",
       "36 OUTDOOR RECREATIONAL FACILITIES               20\n",
       "42 CONDO CULTURAL/MEDICAL/EDUCATIONAL/ETC        17\n",
       "48 CONDO TERRACES/GARDENS/CABANAS                15\n",
       "34 THEATRES                                      11\n",
       "49 CONDO WAREHOUSES/FACTORY/INDUS                11\n",
       "38 ASYLUMS AND HOMES                              9\n",
       "39 TRANSPORTATION FACILITIES                      2\n",
       "Name: building_class_category, dtype: int64"
      ]
     },
     "execution_count": 137,
     "metadata": {},
     "output_type": "execute_result"
    }
   ],
   "source": [
    "df.groupby('building_class_category')['building_class_category'].count().sort_values(ascending=False)"
   ]
  },
  {
   "cell_type": "code",
   "execution_count": 138,
   "metadata": {},
   "outputs": [],
   "source": [
    "building_categories_to_keep = ['01 ONE FAMILY DWELLINGS', '02 TWO FAMILY DWELLINGS',\n",
    "                               '10 COOPS - ELEVATOR APARTMENTS', '13 CONDOS - ELEVATOR APARTMENTS',\n",
    "                               '03 THREE FAMILY DWELLINGS', '07 RENTALS - WALKUP APARTMENTS',\n",
    "                               '09 COOPS - WALKUP APARTMENTS', '04 TAX CLASS 1 CONDOS',\n",
    "                               '15 CONDOS - 2-10 UNIT RESIDENTIAL','12 CONDOS - WALKUP APARTMENTS', \n",
    "                               '17 CONDO COOPS']"
   ]
  },
  {
   "cell_type": "code",
   "execution_count": 139,
   "metadata": {},
   "outputs": [],
   "source": [
    "# Only keep oberservations that is in the above building category \n",
    "df = df.loc[df['building_class_category'].isin(building_categories_to_keep)]"
   ]
  },
  {
   "cell_type": "markdown",
   "metadata": {},
   "source": [
    "#### Check distributions of 'sale_price'"
   ]
  },
  {
   "cell_type": "code",
   "execution_count": 140,
   "metadata": {
    "scrolled": true
   },
   "outputs": [
    {
     "data": {
      "text/html": [
       "<div>\n",
       "<style scoped>\n",
       "    .dataframe tbody tr th:only-of-type {\n",
       "        vertical-align: middle;\n",
       "    }\n",
       "\n",
       "    .dataframe tbody tr th {\n",
       "        vertical-align: top;\n",
       "    }\n",
       "\n",
       "    .dataframe thead th {\n",
       "        text-align: right;\n",
       "    }\n",
       "</style>\n",
       "<table border=\"1\" class=\"dataframe\">\n",
       "  <thead>\n",
       "    <tr style=\"text-align: right;\">\n",
       "      <th></th>\n",
       "      <th>borough</th>\n",
       "      <th>zip_code</th>\n",
       "      <th>gross_square_feet</th>\n",
       "      <th>sale_price</th>\n",
       "    </tr>\n",
       "  </thead>\n",
       "  <tbody>\n",
       "    <tr>\n",
       "      <th>count</th>\n",
       "      <td>71277.000000</td>\n",
       "      <td>71277.000000</td>\n",
       "      <td>55521.000000</td>\n",
       "      <td>7.127700e+04</td>\n",
       "    </tr>\n",
       "    <tr>\n",
       "      <th>mean</th>\n",
       "      <td>2.988650</td>\n",
       "      <td>10859.066866</td>\n",
       "      <td>1728.967958</td>\n",
       "      <td>8.358510e+05</td>\n",
       "    </tr>\n",
       "    <tr>\n",
       "      <th>std</th>\n",
       "      <td>1.287558</td>\n",
       "      <td>565.372339</td>\n",
       "      <td>2482.733978</td>\n",
       "      <td>2.496589e+06</td>\n",
       "    </tr>\n",
       "    <tr>\n",
       "      <th>min</th>\n",
       "      <td>1.000000</td>\n",
       "      <td>10001.000000</td>\n",
       "      <td>0.000000</td>\n",
       "      <td>0.000000e+00</td>\n",
       "    </tr>\n",
       "    <tr>\n",
       "      <th>25%</th>\n",
       "      <td>2.000000</td>\n",
       "      <td>10306.000000</td>\n",
       "      <td>0.000000</td>\n",
       "      <td>0.000000e+00</td>\n",
       "    </tr>\n",
       "    <tr>\n",
       "      <th>50%</th>\n",
       "      <td>3.000000</td>\n",
       "      <td>11210.000000</td>\n",
       "      <td>1520.000000</td>\n",
       "      <td>4.700000e+05</td>\n",
       "    </tr>\n",
       "    <tr>\n",
       "      <th>75%</th>\n",
       "      <td>4.000000</td>\n",
       "      <td>11361.000000</td>\n",
       "      <td>2295.000000</td>\n",
       "      <td>8.545000e+05</td>\n",
       "    </tr>\n",
       "    <tr>\n",
       "      <th>max</th>\n",
       "      <td>5.000000</td>\n",
       "      <td>11697.000000</td>\n",
       "      <td>84526.000000</td>\n",
       "      <td>2.399582e+08</td>\n",
       "    </tr>\n",
       "  </tbody>\n",
       "</table>\n",
       "</div>"
      ],
      "text/plain": [
       "            borough      zip_code  gross_square_feet    sale_price\n",
       "count  71277.000000  71277.000000       55521.000000  7.127700e+04\n",
       "mean       2.988650  10859.066866        1728.967958  8.358510e+05\n",
       "std        1.287558    565.372339        2482.733978  2.496589e+06\n",
       "min        1.000000  10001.000000           0.000000  0.000000e+00\n",
       "25%        2.000000  10306.000000           0.000000  0.000000e+00\n",
       "50%        3.000000  11210.000000        1520.000000  4.700000e+05\n",
       "75%        4.000000  11361.000000        2295.000000  8.545000e+05\n",
       "max        5.000000  11697.000000       84526.000000  2.399582e+08"
      ]
     },
     "execution_count": 140,
     "metadata": {},
     "output_type": "execute_result"
    }
   ],
   "source": [
    "df.describe()"
   ]
  },
  {
   "cell_type": "code",
   "execution_count": 141,
   "metadata": {
    "scrolled": true
   },
   "outputs": [
    {
     "data": {
      "text/plain": [
       "854500.0"
      ]
     },
     "execution_count": 141,
     "metadata": {},
     "output_type": "execute_result"
    }
   ],
   "source": [
    "np.percentile(df['sale_price'], 75)"
   ]
  },
  {
   "cell_type": "code",
   "execution_count": 142,
   "metadata": {},
   "outputs": [
    {
     "data": {
      "text/plain": [
       "854500.0"
      ]
     },
     "execution_count": 142,
     "metadata": {},
     "output_type": "execute_result"
    }
   ],
   "source": [
    "np.quantile(df['sale_price'], 0.75)"
   ]
  },
  {
   "cell_type": "code",
   "execution_count": 143,
   "metadata": {},
   "outputs": [
    {
     "data": {
      "image/png": "[encoded data removed]",
      "text/plain": [
       "<Figure size 432x288 with 1 Axes>"
      ]
     },
     "metadata": {
      "needs_background": "light"
     },
     "output_type": "display_data"
    }
   ],
   "source": [
    "# As we can see from the histogram, there are a lot of sale price = 0, causing the dataset to be extremely right skewed\n",
    "plt.hist(df['sale_price'], bins=100);"
   ]
  },
  {
   "cell_type": "code",
   "execution_count": 144,
   "metadata": {},
   "outputs": [],
   "source": [
    "# Get rid of obervations where sale price <50k\n",
    "df = df.loc[df['sale_price'] >= 50_000]"
   ]
  },
  {
   "cell_type": "code",
   "execution_count": 145,
   "metadata": {},
   "outputs": [
    {
     "data": {
      "text/plain": [
       "(48847, 7)"
      ]
     },
     "execution_count": 145,
     "metadata": {},
     "output_type": "execute_result"
    }
   ],
   "source": [
    "df.shape"
   ]
  },
  {
   "cell_type": "code",
   "execution_count": 146,
   "metadata": {
    "scrolled": true
   },
   "outputs": [
    {
     "data": {
      "text/html": [
       "<div>\n",
       "<style scoped>\n",
       "    .dataframe tbody tr th:only-of-type {\n",
       "        vertical-align: middle;\n",
       "    }\n",
       "\n",
       "    .dataframe tbody tr th {\n",
       "        vertical-align: top;\n",
       "    }\n",
       "\n",
       "    .dataframe thead th {\n",
       "        text-align: right;\n",
       "    }\n",
       "</style>\n",
       "<table border=\"1\" class=\"dataframe\">\n",
       "  <thead>\n",
       "    <tr style=\"text-align: right;\">\n",
       "      <th></th>\n",
       "      <th>borough</th>\n",
       "      <th>zip_code</th>\n",
       "      <th>gross_square_feet</th>\n",
       "      <th>sale_price</th>\n",
       "    </tr>\n",
       "  </thead>\n",
       "  <tbody>\n",
       "    <tr>\n",
       "      <th>count</th>\n",
       "      <td>48847.000000</td>\n",
       "      <td>48847.000000</td>\n",
       "      <td>35245.000000</td>\n",
       "      <td>4.884700e+04</td>\n",
       "    </tr>\n",
       "    <tr>\n",
       "      <th>mean</th>\n",
       "      <td>2.906279</td>\n",
       "      <td>10816.505353</td>\n",
       "      <td>1519.107221</td>\n",
       "      <td>1.219505e+06</td>\n",
       "    </tr>\n",
       "    <tr>\n",
       "      <th>std</th>\n",
       "      <td>1.331625</td>\n",
       "      <td>579.299270</td>\n",
       "      <td>2381.511790</td>\n",
       "      <td>2.937239e+06</td>\n",
       "    </tr>\n",
       "    <tr>\n",
       "      <th>min</th>\n",
       "      <td>1.000000</td>\n",
       "      <td>10001.000000</td>\n",
       "      <td>0.000000</td>\n",
       "      <td>5.000000e+04</td>\n",
       "    </tr>\n",
       "    <tr>\n",
       "      <th>25%</th>\n",
       "      <td>1.000000</td>\n",
       "      <td>10280.000000</td>\n",
       "      <td>0.000000</td>\n",
       "      <td>4.500000e+05</td>\n",
       "    </tr>\n",
       "    <tr>\n",
       "      <th>50%</th>\n",
       "      <td>3.000000</td>\n",
       "      <td>11207.000000</td>\n",
       "      <td>1344.000000</td>\n",
       "      <td>6.900000e+05</td>\n",
       "    </tr>\n",
       "    <tr>\n",
       "      <th>75%</th>\n",
       "      <td>4.000000</td>\n",
       "      <td>11358.000000</td>\n",
       "      <td>2100.000000</td>\n",
       "      <td>1.100000e+06</td>\n",
       "    </tr>\n",
       "    <tr>\n",
       "      <th>max</th>\n",
       "      <td>5.000000</td>\n",
       "      <td>11697.000000</td>\n",
       "      <td>84526.000000</td>\n",
       "      <td>2.399582e+08</td>\n",
       "    </tr>\n",
       "  </tbody>\n",
       "</table>\n",
       "</div>"
      ],
      "text/plain": [
       "            borough      zip_code  gross_square_feet    sale_price\n",
       "count  48847.000000  48847.000000       35245.000000  4.884700e+04\n",
       "mean       2.906279  10816.505353        1519.107221  1.219505e+06\n",
       "std        1.331625    579.299270        2381.511790  2.937239e+06\n",
       "min        1.000000  10001.000000           0.000000  5.000000e+04\n",
       "25%        1.000000  10280.000000           0.000000  4.500000e+05\n",
       "50%        3.000000  11207.000000        1344.000000  6.900000e+05\n",
       "75%        4.000000  11358.000000        2100.000000  1.100000e+06\n",
       "max        5.000000  11697.000000       84526.000000  2.399582e+08"
      ]
     },
     "execution_count": 146,
     "metadata": {},
     "output_type": "execute_result"
    }
   ],
   "source": [
    "df.describe()"
   ]
  },
  {
   "cell_type": "markdown",
   "metadata": {},
   "source": [
    "#### Define an Affluence Threshold"
   ]
  },
  {
   "cell_type": "code",
   "execution_count": 147,
   "metadata": {
    "scrolled": true
   },
   "outputs": [
    {
     "data": {
      "text/plain": [
       "690000.0"
      ]
     },
     "execution_count": 147,
     "metadata": {},
     "output_type": "execute_result"
    }
   ],
   "source": [
    "# Median sale price for all 5 boroughs\n",
    "df['sale_price'].median() "
   ]
  },
  {
   "cell_type": "code",
   "execution_count": 148,
   "metadata": {},
   "outputs": [
    {
     "data": {
      "text/plain": [
       "1219505.4491575737"
      ]
     },
     "execution_count": 148,
     "metadata": {},
     "output_type": "execute_result"
    }
   ],
   "source": [
    "# Mean sale price for all 5 boroughs\n",
    "df['sale_price'].mean()"
   ]
  },
  {
   "cell_type": "markdown",
   "metadata": {},
   "source": [
    "If a neiberhood's median sale price is above the NYC home sale prices, we define the neiborhood as \"affulent\", otherwise \"not affulent\"."
   ]
  },
  {
   "cell_type": "markdown",
   "metadata": {},
   "source": [
    "## Import Cluster Created From Yelp Data"
   ]
  },
  {
   "cell_type": "code",
   "execution_count": 149,
   "metadata": {},
   "outputs": [],
   "source": [
    "yelp_clusters = pd.read_csv('../data/cluster_zip_2.csv')"
   ]
  },
  {
   "cell_type": "code",
   "execution_count": 150,
   "metadata": {
    "scrolled": true
   },
   "outputs": [
    {
     "data": {
      "text/html": [
       "<div>\n",
       "<style scoped>\n",
       "    .dataframe tbody tr th:only-of-type {\n",
       "        vertical-align: middle;\n",
       "    }\n",
       "\n",
       "    .dataframe tbody tr th {\n",
       "        vertical-align: top;\n",
       "    }\n",
       "\n",
       "    .dataframe thead th {\n",
       "        text-align: right;\n",
       "    }\n",
       "</style>\n",
       "<table border=\"1\" class=\"dataframe\">\n",
       "  <thead>\n",
       "    <tr style=\"text-align: right;\">\n",
       "      <th></th>\n",
       "      <th>zipcode</th>\n",
       "      <th>cluster</th>\n",
       "    </tr>\n",
       "  </thead>\n",
       "  <tbody>\n",
       "    <tr>\n",
       "      <th>0</th>\n",
       "      <td>10001</td>\n",
       "      <td>8</td>\n",
       "    </tr>\n",
       "    <tr>\n",
       "      <th>1</th>\n",
       "      <td>10002</td>\n",
       "      <td>36</td>\n",
       "    </tr>\n",
       "    <tr>\n",
       "      <th>2</th>\n",
       "      <td>10003</td>\n",
       "      <td>52</td>\n",
       "    </tr>\n",
       "    <tr>\n",
       "      <th>3</th>\n",
       "      <td>10004</td>\n",
       "      <td>0</td>\n",
       "    </tr>\n",
       "    <tr>\n",
       "      <th>4</th>\n",
       "      <td>10005</td>\n",
       "      <td>0</td>\n",
       "    </tr>\n",
       "  </tbody>\n",
       "</table>\n",
       "</div>"
      ],
      "text/plain": [
       "   zipcode  cluster\n",
       "0    10001        8\n",
       "1    10002       36\n",
       "2    10003       52\n",
       "3    10004        0\n",
       "4    10005        0"
      ]
     },
     "execution_count": 150,
     "metadata": {},
     "output_type": "execute_result"
    }
   ],
   "source": [
    "yelp_clusters.head()"
   ]
  },
  {
   "cell_type": "code",
   "execution_count": 151,
   "metadata": {},
   "outputs": [
    {
     "data": {
      "text/plain": [
       "(170, 2)"
      ]
     },
     "execution_count": 151,
     "metadata": {},
     "output_type": "execute_result"
    }
   ],
   "source": [
    "yelp_clusters.shape"
   ]
  },
  {
   "cell_type": "code",
   "execution_count": 152,
   "metadata": {
    "scrolled": true
   },
   "outputs": [],
   "source": [
    "# Turn dataframe into a dictionary\n",
    "cluster_dict = dict(zip(yelp_clusters['zipcode'], yelp_clusters['cluster']))"
   ]
  },
  {
   "cell_type": "code",
   "execution_count": 153,
   "metadata": {},
   "outputs": [
    {
     "name": "stdout",
     "output_type": "stream",
     "text": [
      "60\n",
      "170\n"
     ]
    }
   ],
   "source": [
    "# Check key and values in the dictionary\n",
    "print(len(set(cluster_dict.values())))\n",
    "print(len(set(cluster_dict.keys())))"
   ]
  },
  {
   "cell_type": "code",
   "execution_count": 154,
   "metadata": {},
   "outputs": [
    {
     "data": {
      "text/html": [
       "<div>\n",
       "<style scoped>\n",
       "    .dataframe tbody tr th:only-of-type {\n",
       "        vertical-align: middle;\n",
       "    }\n",
       "\n",
       "    .dataframe tbody tr th {\n",
       "        vertical-align: top;\n",
       "    }\n",
       "\n",
       "    .dataframe thead th {\n",
       "        text-align: right;\n",
       "    }\n",
       "</style>\n",
       "<table border=\"1\" class=\"dataframe\">\n",
       "  <thead>\n",
       "    <tr style=\"text-align: right;\">\n",
       "      <th></th>\n",
       "      <th>borough</th>\n",
       "      <th>neighborhood</th>\n",
       "      <th>building_class_category</th>\n",
       "      <th>address</th>\n",
       "      <th>zip_code</th>\n",
       "      <th>gross_square_feet</th>\n",
       "      <th>sale_price</th>\n",
       "    </tr>\n",
       "  </thead>\n",
       "  <tbody>\n",
       "    <tr>\n",
       "      <th>0</th>\n",
       "      <td>1</td>\n",
       "      <td>ALPHABET CITY</td>\n",
       "      <td>01 ONE FAMILY DWELLINGS</td>\n",
       "      <td>743 EAST 6TH STREET</td>\n",
       "      <td>10009</td>\n",
       "      <td>3680.0</td>\n",
       "      <td>3200000.0</td>\n",
       "    </tr>\n",
       "    <tr>\n",
       "      <th>3</th>\n",
       "      <td>1</td>\n",
       "      <td>ALPHABET CITY</td>\n",
       "      <td>03 THREE FAMILY DWELLINGS</td>\n",
       "      <td>263 EAST 7TH STREET</td>\n",
       "      <td>10009</td>\n",
       "      <td>3600.0</td>\n",
       "      <td>6300000.0</td>\n",
       "    </tr>\n",
       "    <tr>\n",
       "      <th>5</th>\n",
       "      <td>1</td>\n",
       "      <td>ALPHABET CITY</td>\n",
       "      <td>07 RENTALS - WALKUP APARTMENTS</td>\n",
       "      <td>300 EAST 3RD STREET</td>\n",
       "      <td>10009</td>\n",
       "      <td>7989.0</td>\n",
       "      <td>1950000.0</td>\n",
       "    </tr>\n",
       "    <tr>\n",
       "      <th>6</th>\n",
       "      <td>1</td>\n",
       "      <td>ALPHABET CITY</td>\n",
       "      <td>07 RENTALS - WALKUP APARTMENTS</td>\n",
       "      <td>332 EAST 4TH STREET</td>\n",
       "      <td>10009</td>\n",
       "      <td>17478.0</td>\n",
       "      <td>14000000.0</td>\n",
       "    </tr>\n",
       "    <tr>\n",
       "      <th>8</th>\n",
       "      <td>1</td>\n",
       "      <td>ALPHABET CITY</td>\n",
       "      <td>07 RENTALS - WALKUP APARTMENTS</td>\n",
       "      <td>262 EAST 7TH STREET, 4</td>\n",
       "      <td>10009</td>\n",
       "      <td>4154.0</td>\n",
       "      <td>600000.0</td>\n",
       "    </tr>\n",
       "  </tbody>\n",
       "</table>\n",
       "</div>"
      ],
      "text/plain": [
       "   borough   neighborhood         building_class_category  \\\n",
       "0        1  ALPHABET CITY         01 ONE FAMILY DWELLINGS   \n",
       "3        1  ALPHABET CITY       03 THREE FAMILY DWELLINGS   \n",
       "5        1  ALPHABET CITY  07 RENTALS - WALKUP APARTMENTS   \n",
       "6        1  ALPHABET CITY  07 RENTALS - WALKUP APARTMENTS   \n",
       "8        1  ALPHABET CITY  07 RENTALS - WALKUP APARTMENTS   \n",
       "\n",
       "                  address  zip_code  gross_square_feet  sale_price  \n",
       "0     743 EAST 6TH STREET     10009             3680.0   3200000.0  \n",
       "3     263 EAST 7TH STREET     10009             3600.0   6300000.0  \n",
       "5     300 EAST 3RD STREET     10009             7989.0   1950000.0  \n",
       "6     332 EAST 4TH STREET     10009            17478.0  14000000.0  \n",
       "8  262 EAST 7TH STREET, 4     10009             4154.0    600000.0  "
      ]
     },
     "execution_count": 154,
     "metadata": {},
     "output_type": "execute_result"
    }
   ],
   "source": [
    "df.head()"
   ]
  },
  {
   "cell_type": "markdown",
   "metadata": {},
   "source": [
    "## Integrate Yelp clusters into NYC dept fin dataframe"
   ]
  },
  {
   "cell_type": "markdown",
   "metadata": {},
   "source": [
    "There are more zipcodes in the NYC dept fin home sale dataset than the Yelp Clusters. The following two steps will be taken in order to integrate the Yelp clusters:  \n",
    "       - step 1: filter NYC dept fin data-frame and only choose those observations that has a matching Zip Code in yelp clusters \n",
    "       - step 2: Using zipcode to match each property with a cluster."
   ]
  },
  {
   "cell_type": "code",
   "execution_count": 155,
   "metadata": {},
   "outputs": [
    {
     "data": {
      "text/plain": [
       "183"
      ]
     },
     "execution_count": 155,
     "metadata": {},
     "output_type": "execute_result"
    }
   ],
   "source": [
    "# Total number of zipcodes in the NYC dept fin dataset\n",
    "len(set(df['zip_code']))"
   ]
  },
  {
   "cell_type": "code",
   "execution_count": 156,
   "metadata": {
    "scrolled": false
   },
   "outputs": [
    {
     "data": {
      "text/plain": [
       "170"
      ]
     },
     "execution_count": 156,
     "metadata": {},
     "output_type": "execute_result"
    }
   ],
   "source": [
    "# Total number of zipcodes in the Yelp Clusters dataset\n",
    "len(set(cluster_dict.keys()))"
   ]
  },
  {
   "cell_type": "code",
   "execution_count": 157,
   "metadata": {},
   "outputs": [
    {
     "data": {
      "text/plain": [
       "(48847, 7)"
      ]
     },
     "execution_count": 157,
     "metadata": {},
     "output_type": "execute_result"
    }
   ],
   "source": [
    "df.shape"
   ]
  },
  {
   "cell_type": "code",
   "execution_count": 158,
   "metadata": {},
   "outputs": [],
   "source": [
    "df = df[df['zip_code'].isin(set(cluster_dict.keys()))]"
   ]
  },
  {
   "cell_type": "code",
   "execution_count": 159,
   "metadata": {},
   "outputs": [
    {
     "data": {
      "text/plain": [
       "(47358, 7)"
      ]
     },
     "execution_count": 159,
     "metadata": {},
     "output_type": "execute_result"
    }
   ],
   "source": [
    "df.shape"
   ]
  },
  {
   "cell_type": "code",
   "execution_count": 160,
   "metadata": {},
   "outputs": [],
   "source": [
    "# Create cluster column for the NYC dept fin dataset\n",
    "df['cluster'] = [cluster_dict[zipcode] for zipcode in df['zip_code']]"
   ]
  },
  {
   "cell_type": "code",
   "execution_count": 161,
   "metadata": {},
   "outputs": [
    {
     "data": {
      "text/html": [
       "<div>\n",
       "<style scoped>\n",
       "    .dataframe tbody tr th:only-of-type {\n",
       "        vertical-align: middle;\n",
       "    }\n",
       "\n",
       "    .dataframe tbody tr th {\n",
       "        vertical-align: top;\n",
       "    }\n",
       "\n",
       "    .dataframe thead th {\n",
       "        text-align: right;\n",
       "    }\n",
       "</style>\n",
       "<table border=\"1\" class=\"dataframe\">\n",
       "  <thead>\n",
       "    <tr style=\"text-align: right;\">\n",
       "      <th></th>\n",
       "      <th>borough</th>\n",
       "      <th>neighborhood</th>\n",
       "      <th>building_class_category</th>\n",
       "      <th>address</th>\n",
       "      <th>zip_code</th>\n",
       "      <th>gross_square_feet</th>\n",
       "      <th>sale_price</th>\n",
       "      <th>cluster</th>\n",
       "    </tr>\n",
       "  </thead>\n",
       "  <tbody>\n",
       "    <tr>\n",
       "      <th>0</th>\n",
       "      <td>1</td>\n",
       "      <td>ALPHABET CITY</td>\n",
       "      <td>01 ONE FAMILY DWELLINGS</td>\n",
       "      <td>743 EAST 6TH STREET</td>\n",
       "      <td>10009</td>\n",
       "      <td>3680.0</td>\n",
       "      <td>3200000.0</td>\n",
       "      <td>52</td>\n",
       "    </tr>\n",
       "    <tr>\n",
       "      <th>3</th>\n",
       "      <td>1</td>\n",
       "      <td>ALPHABET CITY</td>\n",
       "      <td>03 THREE FAMILY DWELLINGS</td>\n",
       "      <td>263 EAST 7TH STREET</td>\n",
       "      <td>10009</td>\n",
       "      <td>3600.0</td>\n",
       "      <td>6300000.0</td>\n",
       "      <td>52</td>\n",
       "    </tr>\n",
       "    <tr>\n",
       "      <th>5</th>\n",
       "      <td>1</td>\n",
       "      <td>ALPHABET CITY</td>\n",
       "      <td>07 RENTALS - WALKUP APARTMENTS</td>\n",
       "      <td>300 EAST 3RD STREET</td>\n",
       "      <td>10009</td>\n",
       "      <td>7989.0</td>\n",
       "      <td>1950000.0</td>\n",
       "      <td>52</td>\n",
       "    </tr>\n",
       "    <tr>\n",
       "      <th>6</th>\n",
       "      <td>1</td>\n",
       "      <td>ALPHABET CITY</td>\n",
       "      <td>07 RENTALS - WALKUP APARTMENTS</td>\n",
       "      <td>332 EAST 4TH STREET</td>\n",
       "      <td>10009</td>\n",
       "      <td>17478.0</td>\n",
       "      <td>14000000.0</td>\n",
       "      <td>52</td>\n",
       "    </tr>\n",
       "    <tr>\n",
       "      <th>8</th>\n",
       "      <td>1</td>\n",
       "      <td>ALPHABET CITY</td>\n",
       "      <td>07 RENTALS - WALKUP APARTMENTS</td>\n",
       "      <td>262 EAST 7TH STREET, 4</td>\n",
       "      <td>10009</td>\n",
       "      <td>4154.0</td>\n",
       "      <td>600000.0</td>\n",
       "      <td>52</td>\n",
       "    </tr>\n",
       "  </tbody>\n",
       "</table>\n",
       "</div>"
      ],
      "text/plain": [
       "   borough   neighborhood         building_class_category  \\\n",
       "0        1  ALPHABET CITY         01 ONE FAMILY DWELLINGS   \n",
       "3        1  ALPHABET CITY       03 THREE FAMILY DWELLINGS   \n",
       "5        1  ALPHABET CITY  07 RENTALS - WALKUP APARTMENTS   \n",
       "6        1  ALPHABET CITY  07 RENTALS - WALKUP APARTMENTS   \n",
       "8        1  ALPHABET CITY  07 RENTALS - WALKUP APARTMENTS   \n",
       "\n",
       "                  address  zip_code  gross_square_feet  sale_price  cluster  \n",
       "0     743 EAST 6TH STREET     10009             3680.0   3200000.0       52  \n",
       "3     263 EAST 7TH STREET     10009             3600.0   6300000.0       52  \n",
       "5     300 EAST 3RD STREET     10009             7989.0   1950000.0       52  \n",
       "6     332 EAST 4TH STREET     10009            17478.0  14000000.0       52  \n",
       "8  262 EAST 7TH STREET, 4     10009             4154.0    600000.0       52  "
      ]
     },
     "execution_count": 161,
     "metadata": {},
     "output_type": "execute_result"
    }
   ],
   "source": [
    "df.head()"
   ]
  },
  {
   "cell_type": "code",
   "execution_count": 162,
   "metadata": {},
   "outputs": [],
   "source": [
    "# Check if cluster is correctly integrated\n",
    "merged = dict(zip(df['zip_code'], df['cluster']))\n",
    "assert all([merged[k] == cluster_dict[k] for k in merged])"
   ]
  },
  {
   "cell_type": "markdown",
   "metadata": {},
   "source": [
    "### Calculate mean/ median property values for each cluster"
   ]
  },
  {
   "cell_type": "code",
   "execution_count": 163,
   "metadata": {
    "scrolled": false
   },
   "outputs": [],
   "source": [
    "df_median_property_value_per_cluster = pd.DataFrame(df.groupby('cluster')['sale_price'].median())"
   ]
  },
  {
   "cell_type": "code",
   "execution_count": 164,
   "metadata": {},
   "outputs": [
    {
     "data": {
      "text/html": [
       "<div>\n",
       "<style scoped>\n",
       "    .dataframe tbody tr th:only-of-type {\n",
       "        vertical-align: middle;\n",
       "    }\n",
       "\n",
       "    .dataframe tbody tr th {\n",
       "        vertical-align: top;\n",
       "    }\n",
       "\n",
       "    .dataframe thead th {\n",
       "        text-align: right;\n",
       "    }\n",
       "</style>\n",
       "<table border=\"1\" class=\"dataframe\">\n",
       "  <thead>\n",
       "    <tr style=\"text-align: right;\">\n",
       "      <th></th>\n",
       "      <th>sale_price</th>\n",
       "    </tr>\n",
       "    <tr>\n",
       "      <th>cluster</th>\n",
       "      <th></th>\n",
       "    </tr>\n",
       "  </thead>\n",
       "  <tbody>\n",
       "    <tr>\n",
       "      <th>0</th>\n",
       "      <td>2.530363e+06</td>\n",
       "    </tr>\n",
       "    <tr>\n",
       "      <th>1</th>\n",
       "      <td>7.028661e+05</td>\n",
       "    </tr>\n",
       "    <tr>\n",
       "      <th>2</th>\n",
       "      <td>1.058682e+06</td>\n",
       "    </tr>\n",
       "    <tr>\n",
       "      <th>3</th>\n",
       "      <td>1.050850e+06</td>\n",
       "    </tr>\n",
       "    <tr>\n",
       "      <th>4</th>\n",
       "      <td>8.969489e+05</td>\n",
       "    </tr>\n",
       "    <tr>\n",
       "      <th>5</th>\n",
       "      <td>5.560825e+05</td>\n",
       "    </tr>\n",
       "    <tr>\n",
       "      <th>6</th>\n",
       "      <td>8.027737e+05</td>\n",
       "    </tr>\n",
       "    <tr>\n",
       "      <th>7</th>\n",
       "      <td>1.346336e+06</td>\n",
       "    </tr>\n",
       "    <tr>\n",
       "      <th>8</th>\n",
       "      <td>2.099355e+06</td>\n",
       "    </tr>\n",
       "    <tr>\n",
       "      <th>9</th>\n",
       "      <td>9.922050e+05</td>\n",
       "    </tr>\n",
       "    <tr>\n",
       "      <th>10</th>\n",
       "      <td>1.798458e+06</td>\n",
       "    </tr>\n",
       "    <tr>\n",
       "      <th>11</th>\n",
       "      <td>6.290872e+05</td>\n",
       "    </tr>\n",
       "    <tr>\n",
       "      <th>12</th>\n",
       "      <td>5.553753e+05</td>\n",
       "    </tr>\n",
       "    <tr>\n",
       "      <th>13</th>\n",
       "      <td>5.679253e+05</td>\n",
       "    </tr>\n",
       "    <tr>\n",
       "      <th>14</th>\n",
       "      <td>8.870233e+05</td>\n",
       "    </tr>\n",
       "    <tr>\n",
       "      <th>15</th>\n",
       "      <td>5.527872e+05</td>\n",
       "    </tr>\n",
       "    <tr>\n",
       "      <th>16</th>\n",
       "      <td>1.767232e+06</td>\n",
       "    </tr>\n",
       "    <tr>\n",
       "      <th>17</th>\n",
       "      <td>1.616458e+06</td>\n",
       "    </tr>\n",
       "    <tr>\n",
       "      <th>18</th>\n",
       "      <td>6.838548e+05</td>\n",
       "    </tr>\n",
       "    <tr>\n",
       "      <th>19</th>\n",
       "      <td>2.347394e+06</td>\n",
       "    </tr>\n",
       "    <tr>\n",
       "      <th>20</th>\n",
       "      <td>7.887684e+05</td>\n",
       "    </tr>\n",
       "    <tr>\n",
       "      <th>21</th>\n",
       "      <td>5.623860e+05</td>\n",
       "    </tr>\n",
       "    <tr>\n",
       "      <th>22</th>\n",
       "      <td>5.051953e+05</td>\n",
       "    </tr>\n",
       "    <tr>\n",
       "      <th>23</th>\n",
       "      <td>8.339587e+05</td>\n",
       "    </tr>\n",
       "    <tr>\n",
       "      <th>24</th>\n",
       "      <td>6.199167e+05</td>\n",
       "    </tr>\n",
       "    <tr>\n",
       "      <th>25</th>\n",
       "      <td>2.427988e+06</td>\n",
       "    </tr>\n",
       "    <tr>\n",
       "      <th>26</th>\n",
       "      <td>6.569185e+05</td>\n",
       "    </tr>\n",
       "    <tr>\n",
       "      <th>27</th>\n",
       "      <td>3.154282e+06</td>\n",
       "    </tr>\n",
       "    <tr>\n",
       "      <th>28</th>\n",
       "      <td>2.094404e+06</td>\n",
       "    </tr>\n",
       "    <tr>\n",
       "      <th>29</th>\n",
       "      <td>5.719258e+05</td>\n",
       "    </tr>\n",
       "    <tr>\n",
       "      <th>30</th>\n",
       "      <td>6.043723e+05</td>\n",
       "    </tr>\n",
       "    <tr>\n",
       "      <th>31</th>\n",
       "      <td>2.770207e+06</td>\n",
       "    </tr>\n",
       "    <tr>\n",
       "      <th>32</th>\n",
       "      <td>6.425931e+05</td>\n",
       "    </tr>\n",
       "    <tr>\n",
       "      <th>33</th>\n",
       "      <td>1.171494e+06</td>\n",
       "    </tr>\n",
       "    <tr>\n",
       "      <th>34</th>\n",
       "      <td>1.176177e+06</td>\n",
       "    </tr>\n",
       "    <tr>\n",
       "      <th>35</th>\n",
       "      <td>1.477290e+06</td>\n",
       "    </tr>\n",
       "    <tr>\n",
       "      <th>36</th>\n",
       "      <td>3.334030e+06</td>\n",
       "    </tr>\n",
       "    <tr>\n",
       "      <th>37</th>\n",
       "      <td>7.828712e+05</td>\n",
       "    </tr>\n",
       "    <tr>\n",
       "      <th>38</th>\n",
       "      <td>6.268739e+05</td>\n",
       "    </tr>\n",
       "    <tr>\n",
       "      <th>39</th>\n",
       "      <td>6.603380e+05</td>\n",
       "    </tr>\n",
       "    <tr>\n",
       "      <th>40</th>\n",
       "      <td>1.034465e+06</td>\n",
       "    </tr>\n",
       "    <tr>\n",
       "      <th>41</th>\n",
       "      <td>9.358009e+05</td>\n",
       "    </tr>\n",
       "    <tr>\n",
       "      <th>42</th>\n",
       "      <td>9.708868e+05</td>\n",
       "    </tr>\n",
       "    <tr>\n",
       "      <th>43</th>\n",
       "      <td>5.532384e+05</td>\n",
       "    </tr>\n",
       "    <tr>\n",
       "      <th>44</th>\n",
       "      <td>6.632948e+05</td>\n",
       "    </tr>\n",
       "    <tr>\n",
       "      <th>45</th>\n",
       "      <td>5.868849e+05</td>\n",
       "    </tr>\n",
       "    <tr>\n",
       "      <th>46</th>\n",
       "      <td>8.158946e+05</td>\n",
       "    </tr>\n",
       "    <tr>\n",
       "      <th>47</th>\n",
       "      <td>4.556135e+05</td>\n",
       "    </tr>\n",
       "    <tr>\n",
       "      <th>48</th>\n",
       "      <td>7.196509e+05</td>\n",
       "    </tr>\n",
       "    <tr>\n",
       "      <th>49</th>\n",
       "      <td>5.360490e+05</td>\n",
       "    </tr>\n",
       "    <tr>\n",
       "      <th>50</th>\n",
       "      <td>1.547781e+06</td>\n",
       "    </tr>\n",
       "    <tr>\n",
       "      <th>51</th>\n",
       "      <td>3.454708e+06</td>\n",
       "    </tr>\n",
       "    <tr>\n",
       "      <th>52</th>\n",
       "      <td>2.154957e+06</td>\n",
       "    </tr>\n",
       "    <tr>\n",
       "      <th>53</th>\n",
       "      <td>6.063037e+05</td>\n",
       "    </tr>\n",
       "    <tr>\n",
       "      <th>54</th>\n",
       "      <td>1.116076e+06</td>\n",
       "    </tr>\n",
       "    <tr>\n",
       "      <th>55</th>\n",
       "      <td>5.015134e+05</td>\n",
       "    </tr>\n",
       "    <tr>\n",
       "      <th>56</th>\n",
       "      <td>5.349764e+05</td>\n",
       "    </tr>\n",
       "    <tr>\n",
       "      <th>57</th>\n",
       "      <td>1.307508e+06</td>\n",
       "    </tr>\n",
       "    <tr>\n",
       "      <th>58</th>\n",
       "      <td>4.560545e+05</td>\n",
       "    </tr>\n",
       "    <tr>\n",
       "      <th>59</th>\n",
       "      <td>1.200506e+06</td>\n",
       "    </tr>\n",
       "  </tbody>\n",
       "</table>\n",
       "</div>"
      ],
      "text/plain": [
       "           sale_price\n",
       "cluster              \n",
       "0        2.530363e+06\n",
       "1        7.028661e+05\n",
       "2        1.058682e+06\n",
       "3        1.050850e+06\n",
       "4        8.969489e+05\n",
       "5        5.560825e+05\n",
       "6        8.027737e+05\n",
       "7        1.346336e+06\n",
       "8        2.099355e+06\n",
       "9        9.922050e+05\n",
       "10       1.798458e+06\n",
       "11       6.290872e+05\n",
       "12       5.553753e+05\n",
       "13       5.679253e+05\n",
       "14       8.870233e+05\n",
       "15       5.527872e+05\n",
       "16       1.767232e+06\n",
       "17       1.616458e+06\n",
       "18       6.838548e+05\n",
       "19       2.347394e+06\n",
       "20       7.887684e+05\n",
       "21       5.623860e+05\n",
       "22       5.051953e+05\n",
       "23       8.339587e+05\n",
       "24       6.199167e+05\n",
       "25       2.427988e+06\n",
       "26       6.569185e+05\n",
       "27       3.154282e+06\n",
       "28       2.094404e+06\n",
       "29       5.719258e+05\n",
       "30       6.043723e+05\n",
       "31       2.770207e+06\n",
       "32       6.425931e+05\n",
       "33       1.171494e+06\n",
       "34       1.176177e+06\n",
       "35       1.477290e+06\n",
       "36       3.334030e+06\n",
       "37       7.828712e+05\n",
       "38       6.268739e+05\n",
       "39       6.603380e+05\n",
       "40       1.034465e+06\n",
       "41       9.358009e+05\n",
       "42       9.708868e+05\n",
       "43       5.532384e+05\n",
       "44       6.632948e+05\n",
       "45       5.868849e+05\n",
       "46       8.158946e+05\n",
       "47       4.556135e+05\n",
       "48       7.196509e+05\n",
       "49       5.360490e+05\n",
       "50       1.547781e+06\n",
       "51       3.454708e+06\n",
       "52       2.154957e+06\n",
       "53       6.063037e+05\n",
       "54       1.116076e+06\n",
       "55       5.015134e+05\n",
       "56       5.349764e+05\n",
       "57       1.307508e+06\n",
       "58       4.560545e+05\n",
       "59       1.200506e+06"
      ]
     },
     "execution_count": 164,
     "metadata": {},
     "output_type": "execute_result"
    }
   ],
   "source": [
    "pd.DataFrame(df.groupby('cluster')['sale_price'].mean())"
   ]
  },
  {
   "cell_type": "code",
   "execution_count": 166,
   "metadata": {
    "scrolled": true
   },
   "outputs": [
    {
     "data": {
      "text/plain": [
       "0.25     450000.0\n",
       "0.50     690000.0\n",
       "0.75    1100000.0\n",
       "Name: sale_price, dtype: float64"
      ]
     },
     "execution_count": 166,
     "metadata": {},
     "output_type": "execute_result"
    }
   ],
   "source": [
    "df['sale_price'].quantile([.25, .50, .75])"
   ]
  },
  {
   "cell_type": "code",
   "execution_count": 169,
   "metadata": {},
   "outputs": [],
   "source": [
    "df_median_property_value_per_cluster['aff_rank'] = [4 if i >= 1100000 else 3 if i >=690000 else 2 if i>=450000 else 1 for i in df_median_property_value_per_cluster['sale_price']]\n"
   ]
  },
  {
   "cell_type": "code",
   "execution_count": 170,
   "metadata": {},
   "outputs": [
    {
     "data": {
      "text/html": [
       "<div>\n",
       "<style scoped>\n",
       "    .dataframe tbody tr th:only-of-type {\n",
       "        vertical-align: middle;\n",
       "    }\n",
       "\n",
       "    .dataframe tbody tr th {\n",
       "        vertical-align: top;\n",
       "    }\n",
       "\n",
       "    .dataframe thead th {\n",
       "        text-align: right;\n",
       "    }\n",
       "</style>\n",
       "<table border=\"1\" class=\"dataframe\">\n",
       "  <thead>\n",
       "    <tr style=\"text-align: right;\">\n",
       "      <th></th>\n",
       "      <th>sale_price</th>\n",
       "      <th>aff_rank</th>\n",
       "    </tr>\n",
       "    <tr>\n",
       "      <th>cluster</th>\n",
       "      <th></th>\n",
       "      <th></th>\n",
       "    </tr>\n",
       "  </thead>\n",
       "  <tbody>\n",
       "    <tr>\n",
       "      <th>0</th>\n",
       "      <td>1404586.0</td>\n",
       "      <td>4</td>\n",
       "    </tr>\n",
       "    <tr>\n",
       "      <th>1</th>\n",
       "      <td>620000.0</td>\n",
       "      <td>2</td>\n",
       "    </tr>\n",
       "    <tr>\n",
       "      <th>2</th>\n",
       "      <td>970000.0</td>\n",
       "      <td>3</td>\n",
       "    </tr>\n",
       "    <tr>\n",
       "      <th>3</th>\n",
       "      <td>850000.0</td>\n",
       "      <td>3</td>\n",
       "    </tr>\n",
       "    <tr>\n",
       "      <th>4</th>\n",
       "      <td>550000.0</td>\n",
       "      <td>2</td>\n",
       "    </tr>\n",
       "    <tr>\n",
       "      <th>5</th>\n",
       "      <td>552500.0</td>\n",
       "      <td>2</td>\n",
       "    </tr>\n",
       "    <tr>\n",
       "      <th>6</th>\n",
       "      <td>595000.0</td>\n",
       "      <td>2</td>\n",
       "    </tr>\n",
       "    <tr>\n",
       "      <th>7</th>\n",
       "      <td>1080000.0</td>\n",
       "      <td>3</td>\n",
       "    </tr>\n",
       "    <tr>\n",
       "      <th>8</th>\n",
       "      <td>1385000.0</td>\n",
       "      <td>4</td>\n",
       "    </tr>\n",
       "    <tr>\n",
       "      <th>9</th>\n",
       "      <td>825000.0</td>\n",
       "      <td>3</td>\n",
       "    </tr>\n",
       "    <tr>\n",
       "      <th>10</th>\n",
       "      <td>1150000.0</td>\n",
       "      <td>4</td>\n",
       "    </tr>\n",
       "    <tr>\n",
       "      <th>11</th>\n",
       "      <td>540000.0</td>\n",
       "      <td>2</td>\n",
       "    </tr>\n",
       "    <tr>\n",
       "      <th>12</th>\n",
       "      <td>500000.0</td>\n",
       "      <td>2</td>\n",
       "    </tr>\n",
       "    <tr>\n",
       "      <th>13</th>\n",
       "      <td>520000.0</td>\n",
       "      <td>2</td>\n",
       "    </tr>\n",
       "    <tr>\n",
       "      <th>14</th>\n",
       "      <td>795000.0</td>\n",
       "      <td>3</td>\n",
       "    </tr>\n",
       "    <tr>\n",
       "      <th>15</th>\n",
       "      <td>539988.0</td>\n",
       "      <td>2</td>\n",
       "    </tr>\n",
       "    <tr>\n",
       "      <th>16</th>\n",
       "      <td>1274000.0</td>\n",
       "      <td>4</td>\n",
       "    </tr>\n",
       "    <tr>\n",
       "      <th>17</th>\n",
       "      <td>1250000.0</td>\n",
       "      <td>4</td>\n",
       "    </tr>\n",
       "    <tr>\n",
       "      <th>18</th>\n",
       "      <td>625000.0</td>\n",
       "      <td>2</td>\n",
       "    </tr>\n",
       "    <tr>\n",
       "      <th>19</th>\n",
       "      <td>995000.0</td>\n",
       "      <td>3</td>\n",
       "    </tr>\n",
       "    <tr>\n",
       "      <th>20</th>\n",
       "      <td>569000.0</td>\n",
       "      <td>2</td>\n",
       "    </tr>\n",
       "    <tr>\n",
       "      <th>21</th>\n",
       "      <td>540000.0</td>\n",
       "      <td>2</td>\n",
       "    </tr>\n",
       "    <tr>\n",
       "      <th>22</th>\n",
       "      <td>470000.0</td>\n",
       "      <td>2</td>\n",
       "    </tr>\n",
       "    <tr>\n",
       "      <th>23</th>\n",
       "      <td>420000.0</td>\n",
       "      <td>1</td>\n",
       "    </tr>\n",
       "    <tr>\n",
       "      <th>24</th>\n",
       "      <td>550000.0</td>\n",
       "      <td>2</td>\n",
       "    </tr>\n",
       "  </tbody>\n",
       "</table>\n",
       "</div>"
      ],
      "text/plain": [
       "         sale_price  aff_rank\n",
       "cluster                      \n",
       "0         1404586.0         4\n",
       "1          620000.0         2\n",
       "2          970000.0         3\n",
       "3          850000.0         3\n",
       "4          550000.0         2\n",
       "5          552500.0         2\n",
       "6          595000.0         2\n",
       "7         1080000.0         3\n",
       "8         1385000.0         4\n",
       "9          825000.0         3\n",
       "10        1150000.0         4\n",
       "11         540000.0         2\n",
       "12         500000.0         2\n",
       "13         520000.0         2\n",
       "14         795000.0         3\n",
       "15         539988.0         2\n",
       "16        1274000.0         4\n",
       "17        1250000.0         4\n",
       "18         625000.0         2\n",
       "19         995000.0         3\n",
       "20         569000.0         2\n",
       "21         540000.0         2\n",
       "22         470000.0         2\n",
       "23         420000.0         1\n",
       "24         550000.0         2"
      ]
     },
     "execution_count": 170,
     "metadata": {},
     "output_type": "execute_result"
    }
   ],
   "source": [
    "df_median_property_value_per_cluster.head(25)"
   ]
  },
  {
   "cell_type": "code",
   "execution_count": 171,
   "metadata": {},
   "outputs": [],
   "source": [
    "df_median_property_value_per_cluster.drop(columns=['sale_price'], inplace=True)"
   ]
  },
  {
   "cell_type": "code",
   "execution_count": 172,
   "metadata": {},
   "outputs": [
    {
     "data": {
      "text/plain": [
       "2    0.466667\n",
       "3    0.283333\n",
       "4    0.166667\n",
       "1    0.083333\n",
       "Name: aff_rank, dtype: float64"
      ]
     },
     "execution_count": 172,
     "metadata": {},
     "output_type": "execute_result"
    }
   ],
   "source": [
    "df_median_property_value_per_cluster['aff_rank'].value_counts(normalize=True)"
   ]
  },
  {
   "cell_type": "code",
   "execution_count": 173,
   "metadata": {},
   "outputs": [],
   "source": [
    "df_median_property_value_per_cluster.to_csv('../data/cluster_affluent_rank.csv')"
   ]
  },
  {
   "cell_type": "code",
   "execution_count": null,
   "metadata": {},
   "outputs": [],
   "source": []
  }
 ],
 "metadata": {
  "kernelspec": {
   "display_name": "Python 3",
   "language": "python",
   "name": "python3"
  },
  "language_info": {
   "codemirror_mode": {
    "name": "ipython",
    "version": 3
   },
   "file_extension": ".py",
   "mimetype": "text/x-python",
   "name": "python",
   "nbconvert_exporter": "python",
   "pygments_lexer": "ipython3",
   "version": "3.7.4"
  },
  "toc": {
   "base_numbering": 1,
   "nav_menu": {},
   "number_sections": true,
   "sideBar": true,
   "skip_h1_title": false,
   "title_cell": "Table of Contents",
   "title_sidebar": "Contents",
   "toc_cell": false,
   "toc_position": {},
   "toc_section_display": true,
   "toc_window_display": false
  }
 },
 "nbformat": 4,
 "nbformat_minor": 2
}
