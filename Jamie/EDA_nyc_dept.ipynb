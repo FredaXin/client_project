{
 "cells": [
  {
   "cell_type": "code",
   "execution_count": 81,
   "metadata": {},
   "outputs": [],
   "source": [
    "import pandas as pd\n",
    "import numpy as np\n",
    "import matplotlib.pyplot as plt\n",
    "import googlemaps"
   ]
  },
  {
   "cell_type": "code",
   "execution_count": 82,
   "metadata": {},
   "outputs": [],
   "source": [
    "df=pd.read_csv('../data/nyc_dept_fin.csv')"
   ]
  },
  {
   "cell_type": "code",
   "execution_count": 83,
   "metadata": {},
   "outputs": [],
   "source": [
    "#df1=pd.read_csv('../data/outpu1DONTDELETE.csv')"
   ]
  },
  {
   "cell_type": "code",
   "execution_count": 84,
   "metadata": {},
   "outputs": [
    {
     "data": {
      "text/html": [
       "<div>\n",
       "<style scoped>\n",
       "    .dataframe tbody tr th:only-of-type {\n",
       "        vertical-align: middle;\n",
       "    }\n",
       "\n",
       "    .dataframe tbody tr th {\n",
       "        vertical-align: top;\n",
       "    }\n",
       "\n",
       "    .dataframe thead th {\n",
       "        text-align: right;\n",
       "    }\n",
       "</style>\n",
       "<table border=\"1\" class=\"dataframe\">\n",
       "  <thead>\n",
       "    <tr style=\"text-align: right;\">\n",
       "      <th></th>\n",
       "      <th>borough</th>\n",
       "      <th>neighborhood</th>\n",
       "      <th>building_class_category</th>\n",
       "      <th>tax_class_at_present</th>\n",
       "      <th>block</th>\n",
       "      <th>lot</th>\n",
       "      <th>building_class_at_present</th>\n",
       "      <th>address</th>\n",
       "      <th>apartment_number</th>\n",
       "      <th>zip_code</th>\n",
       "      <th>...</th>\n",
       "      <th>commercial_units</th>\n",
       "      <th>total_units</th>\n",
       "      <th>land_square_feet</th>\n",
       "      <th>gross_square_feet</th>\n",
       "      <th>year_built</th>\n",
       "      <th>tax_class_at_time_of_sale</th>\n",
       "      <th>building_class_at_time_of_sale</th>\n",
       "      <th>sale_price</th>\n",
       "      <th>sale_date</th>\n",
       "      <th>price_per_sqft</th>\n",
       "    </tr>\n",
       "  </thead>\n",
       "  <tbody>\n",
       "    <tr>\n",
       "      <th>0</th>\n",
       "      <td>1</td>\n",
       "      <td>ALPHABET CITY</td>\n",
       "      <td>01 ONE FAMILY DWELLINGS</td>\n",
       "      <td>1</td>\n",
       "      <td>376</td>\n",
       "      <td>43.0</td>\n",
       "      <td>S1</td>\n",
       "      <td>743 EAST 6TH STREET</td>\n",
       "      <td>NaN</td>\n",
       "      <td>10009.0</td>\n",
       "      <td>...</td>\n",
       "      <td>1.0</td>\n",
       "      <td>2.0</td>\n",
       "      <td>2090.0</td>\n",
       "      <td>3680.0</td>\n",
       "      <td>1940.0</td>\n",
       "      <td>1</td>\n",
       "      <td>S1</td>\n",
       "      <td>3200000.0</td>\n",
       "      <td>7/24/19</td>\n",
       "      <td>869.565217</td>\n",
       "    </tr>\n",
       "    <tr>\n",
       "      <th>1</th>\n",
       "      <td>1</td>\n",
       "      <td>ALPHABET CITY</td>\n",
       "      <td>01 ONE FAMILY DWELLINGS</td>\n",
       "      <td>1</td>\n",
       "      <td>390</td>\n",
       "      <td>61.0</td>\n",
       "      <td>A4</td>\n",
       "      <td>189 EAST 7TH STREET</td>\n",
       "      <td>NaN</td>\n",
       "      <td>10009.0</td>\n",
       "      <td>...</td>\n",
       "      <td>0.0</td>\n",
       "      <td>1.0</td>\n",
       "      <td>987.0</td>\n",
       "      <td>2183.0</td>\n",
       "      <td>1860.0</td>\n",
       "      <td>1</td>\n",
       "      <td>A4</td>\n",
       "      <td>0.0</td>\n",
       "      <td>9/25/19</td>\n",
       "      <td>0.000000</td>\n",
       "    </tr>\n",
       "    <tr>\n",
       "      <th>2</th>\n",
       "      <td>1</td>\n",
       "      <td>ALPHABET CITY</td>\n",
       "      <td>02 TWO FAMILY DWELLINGS</td>\n",
       "      <td>1</td>\n",
       "      <td>404</td>\n",
       "      <td>1.0</td>\n",
       "      <td>B9</td>\n",
       "      <td>166 AVENUE A</td>\n",
       "      <td>NaN</td>\n",
       "      <td>10009.0</td>\n",
       "      <td>...</td>\n",
       "      <td>0.0</td>\n",
       "      <td>2.0</td>\n",
       "      <td>1510.0</td>\n",
       "      <td>4520.0</td>\n",
       "      <td>1900.0</td>\n",
       "      <td>1</td>\n",
       "      <td>B9</td>\n",
       "      <td>0.0</td>\n",
       "      <td>7/22/19</td>\n",
       "      <td>0.000000</td>\n",
       "    </tr>\n",
       "    <tr>\n",
       "      <th>3</th>\n",
       "      <td>1</td>\n",
       "      <td>ALPHABET CITY</td>\n",
       "      <td>03 THREE FAMILY DWELLINGS</td>\n",
       "      <td>1</td>\n",
       "      <td>377</td>\n",
       "      <td>56.0</td>\n",
       "      <td>C0</td>\n",
       "      <td>263 EAST 7TH STREET</td>\n",
       "      <td>NaN</td>\n",
       "      <td>10009.0</td>\n",
       "      <td>...</td>\n",
       "      <td>0.0</td>\n",
       "      <td>3.0</td>\n",
       "      <td>2430.0</td>\n",
       "      <td>3600.0</td>\n",
       "      <td>1899.0</td>\n",
       "      <td>1</td>\n",
       "      <td>C0</td>\n",
       "      <td>6300000.0</td>\n",
       "      <td>4/30/19</td>\n",
       "      <td>1750.000000</td>\n",
       "    </tr>\n",
       "    <tr>\n",
       "      <th>4</th>\n",
       "      <td>1</td>\n",
       "      <td>ALPHABET CITY</td>\n",
       "      <td>03 THREE FAMILY DWELLINGS</td>\n",
       "      <td>1</td>\n",
       "      <td>393</td>\n",
       "      <td>9.0</td>\n",
       "      <td>C0</td>\n",
       "      <td>604 EAST 11TH STREET</td>\n",
       "      <td>NaN</td>\n",
       "      <td>10009.0</td>\n",
       "      <td>...</td>\n",
       "      <td>0.0</td>\n",
       "      <td>3.0</td>\n",
       "      <td>2375.0</td>\n",
       "      <td>5110.0</td>\n",
       "      <td>1939.0</td>\n",
       "      <td>1</td>\n",
       "      <td>C0</td>\n",
       "      <td>0.0</td>\n",
       "      <td>10/24/19</td>\n",
       "      <td>0.000000</td>\n",
       "    </tr>\n",
       "  </tbody>\n",
       "</table>\n",
       "<p>5 rows × 21 columns</p>\n",
       "</div>"
      ],
      "text/plain": [
       "   borough   neighborhood    building_class_category tax_class_at_present  \\\n",
       "0        1  ALPHABET CITY    01 ONE FAMILY DWELLINGS                    1   \n",
       "1        1  ALPHABET CITY    01 ONE FAMILY DWELLINGS                    1   \n",
       "2        1  ALPHABET CITY    02 TWO FAMILY DWELLINGS                    1   \n",
       "3        1  ALPHABET CITY  03 THREE FAMILY DWELLINGS                    1   \n",
       "4        1  ALPHABET CITY  03 THREE FAMILY DWELLINGS                    1   \n",
       "\n",
       "   block   lot building_class_at_present               address  \\\n",
       "0    376  43.0                        S1   743 EAST 6TH STREET   \n",
       "1    390  61.0                        A4   189 EAST 7TH STREET   \n",
       "2    404   1.0                        B9          166 AVENUE A   \n",
       "3    377  56.0                        C0   263 EAST 7TH STREET   \n",
       "4    393   9.0                        C0  604 EAST 11TH STREET   \n",
       "\n",
       "  apartment_number  zip_code  ...  commercial_units  total_units  \\\n",
       "0              NaN   10009.0  ...               1.0          2.0   \n",
       "1              NaN   10009.0  ...               0.0          1.0   \n",
       "2              NaN   10009.0  ...               0.0          2.0   \n",
       "3              NaN   10009.0  ...               0.0          3.0   \n",
       "4              NaN   10009.0  ...               0.0          3.0   \n",
       "\n",
       "   land_square_feet  gross_square_feet  year_built  tax_class_at_time_of_sale  \\\n",
       "0            2090.0             3680.0      1940.0                          1   \n",
       "1             987.0             2183.0      1860.0                          1   \n",
       "2            1510.0             4520.0      1900.0                          1   \n",
       "3            2430.0             3600.0      1899.0                          1   \n",
       "4            2375.0             5110.0      1939.0                          1   \n",
       "\n",
       "   building_class_at_time_of_sale sale_price  sale_date price_per_sqft  \n",
       "0                              S1  3200000.0    7/24/19     869.565217  \n",
       "1                              A4        0.0    9/25/19       0.000000  \n",
       "2                              B9        0.0    7/22/19       0.000000  \n",
       "3                              C0  6300000.0    4/30/19    1750.000000  \n",
       "4                              C0        0.0   10/24/19       0.000000  \n",
       "\n",
       "[5 rows x 21 columns]"
      ]
     },
     "execution_count": 84,
     "metadata": {},
     "output_type": "execute_result"
    }
   ],
   "source": [
    "df.head()"
   ]
  },
  {
   "cell_type": "code",
   "execution_count": 85,
   "metadata": {},
   "outputs": [
    {
     "data": {
      "text/plain": [
       "(79071, 21)"
      ]
     },
     "execution_count": 85,
     "metadata": {},
     "output_type": "execute_result"
    }
   ],
   "source": [
    "df.shape"
   ]
  },
  {
   "cell_type": "code",
   "execution_count": 86,
   "metadata": {
    "scrolled": true
   },
   "outputs": [
    {
     "data": {
      "text/plain": [
       "building_class_category\n",
       "01 ONE FAMILY DWELLINGS            17864\n",
       "02 TWO FAMILY DWELLINGS            15454\n",
       "10 COOPS - ELEVATOR APARTMENTS     11897\n",
       "13 CONDOS - ELEVATOR APARTMENTS    11312\n",
       "03 THREE FAMILY DWELLINGS           4475\n",
       "07 RENTALS - WALKUP APARTMENTS      2830\n",
       "09 COOPS - WALKUP APARTMENTS        2419\n",
       "Name: building_class_category, dtype: int64"
      ]
     },
     "execution_count": 86,
     "metadata": {},
     "output_type": "execute_result"
    }
   ],
   "source": [
    "df.groupby('building_class_category')['building_class_category'].count().sort_values(ascending=False).head(7)"
   ]
  },
  {
   "cell_type": "code",
   "execution_count": 87,
   "metadata": {},
   "outputs": [],
   "source": [
    "nyc=[10453,10457,10460,10458,10467,10468,10451,10452,10456,10454,10455,10459,10474,10463,10471,10466,10469,\n",
    "10470,10475,10461,10462,10464,10465,10472,10473,11212,11213,11216,11233,11238,11209,11214,11228,\n",
    "11204,11218,11219,11230,11234,11236,11239,11223,11224,11229,11235,11201,11205,11215,11217,11231,\n",
    "11203,11210,11225,11226,11207,11208,11211,11222,11220,11232,11206,11221,11237,10026,10027,10030,10037,10039,\n",
    "10001,10011,10018,10019,10020,10036,10029,10035,10010,10016,10017,10022,10012,10013,10014,\n",
    "10004,10005,10006,10007,10038,10280,10002,10003,10009,10021,10028,10044,10065,10075,10128,10023,10024,10025,\n",
    "10031,10032,10033,10034,10040,11361,11362,11363,11364,11354,11355,11356,11357,11358,11359,11360,\n",
    "11365,11366,11367,11412,11423,11432,11433,11434,11435,11436,11101,11102,11103,11104,11105,11106,\n",
    "11374,11375,11379,11385,11691,11692,11693,11694,11695,11697,11004,11005,11411,11413,11422,11426,11427,11428,11429,\n",
    "11414,11415,11416,11417,11418,11419,11420,11421,11368,11369,11370,11372,11373,11377,11378,10302,10303,10310,\n",
    "10306,10307,10308,10309,10312,10301,10304,10305,10314]"
   ]
  },
  {
   "cell_type": "code",
   "execution_count": 88,
   "metadata": {},
   "outputs": [],
   "source": [
    "bronx=[10453,10457,10460,10458,10467,10468,10451,10452,10456,10454,10455,10459,10474,10463,10471,10466,10469,\n",
    "10470,10475,10461,10462,10464,10465,10472,10473]"
   ]
  },
  {
   "cell_type": "code",
   "execution_count": 89,
   "metadata": {},
   "outputs": [],
   "source": [
    "brooklyn=[11212,11213,11216,11233,11238,11209,11214,11228,\n",
    "11204,11218,11219,11230,11234,11236,11239,11223,11224,11229,11235,11201,11205,11215,11217,11231,\n",
    "11203,11210,11225,11226,11207,11208,11211,11222,11220,11232,11206,11221,11237]"
   ]
  },
  {
   "cell_type": "code",
   "execution_count": 90,
   "metadata": {},
   "outputs": [],
   "source": [
    "manhattan=[10026,10027,10030,10037,10039,\n",
    "10001,10011,10018,10019,10020,10036,10029,10035,10010,10016,10017,10022,10012,10013,10014,\n",
    "10004,10005,10006,10007,10038,10280,10002,10003,10009,10021,10028,10044,10065,10075,10128,10023,10024,10025,\n",
    "10031,10032,10033,10034,10040]"
   ]
  },
  {
   "cell_type": "code",
   "execution_count": 91,
   "metadata": {},
   "outputs": [],
   "source": [
    "queen=[11361,11362,11363,11364,11354,11355,11356,11357,11358,11359,11360,\n",
    "11365,11366,11367,11412,11423,11432,11433,11434,11435,11436,11101,11102,11103,11104,11105,11106,\n",
    "11374,11375,11379,11385,11691,11692,11693,11694,11695,11697,11004,11005,11411,11413,11422,11426,11427,11428,11429,\n",
    "11414,11415,11416,11417,11418,11419,11420,11421,11368,11369,11370,11372,11373,11377,11378]"
   ]
  },
  {
   "cell_type": "code",
   "execution_count": 92,
   "metadata": {},
   "outputs": [],
   "source": [
    "staten_island=[10302,10303,10310,\n",
    "10306,10307,10308,10309,10312,10301,10304,10305,10314]"
   ]
  },
  {
   "cell_type": "code",
   "execution_count": 93,
   "metadata": {
    "scrolled": true
   },
   "outputs": [
    {
     "data": {
      "text/plain": [
       "178"
      ]
     },
     "execution_count": 93,
     "metadata": {},
     "output_type": "execute_result"
    }
   ],
   "source": [
    "len(staten_island)+len(brooklyn)+len(queen)+len(bronx)+len(manhattan)"
   ]
  },
  {
   "cell_type": "code",
   "execution_count": 94,
   "metadata": {},
   "outputs": [
    {
     "data": {
      "text/plain": [
       "178"
      ]
     },
     "execution_count": 94,
     "metadata": {},
     "output_type": "execute_result"
    }
   ],
   "source": [
    "len(nyc)"
   ]
  },
  {
   "cell_type": "code",
   "execution_count": 95,
   "metadata": {},
   "outputs": [
    {
     "data": {
      "text/plain": [
       "apartment_number                  0.775796\n",
       "price_per_sqft                    0.260500\n",
       "land_square_feet                  0.199656\n",
       "commercial_units                  0.199656\n",
       "total_units                       0.199656\n",
       "residential_units                 0.199656\n",
       "gross_square_feet                 0.199643\n",
       "year_built                        0.072353\n",
       "building_class_at_present         0.003870\n",
       "tax_class_at_present              0.003870\n",
       "zip_code                          0.000177\n",
       "tax_class_at_time_of_sale         0.000000\n",
       "building_class_at_time_of_sale    0.000000\n",
       "sale_date                         0.000000\n",
       "sale_price                        0.000000\n",
       "address                           0.000000\n",
       "lot                               0.000000\n",
       "block                             0.000000\n",
       "building_class_category           0.000000\n",
       "neighborhood                      0.000000\n",
       "borough                           0.000000\n",
       "dtype: float64"
      ]
     },
     "execution_count": 95,
     "metadata": {},
     "output_type": "execute_result"
    }
   ],
   "source": [
    "df.isnull().mean().sort_values(ascending=False)"
   ]
  },
  {
   "cell_type": "code",
   "execution_count": 96,
   "metadata": {},
   "outputs": [],
   "source": [
    "df.dropna(subset = ['zip_code'], inplace=True)"
   ]
  },
  {
   "cell_type": "code",
   "execution_count": 97,
   "metadata": {},
   "outputs": [],
   "source": [
    "df['zip_code']=df['zip_code'].astype(int)"
   ]
  },
  {
   "cell_type": "code",
   "execution_count": 98,
   "metadata": {},
   "outputs": [],
   "source": [
    "df['in_nyc']=[i in nyc for i in df['zip_code']]\n",
    "df['in_mh']=[i in manhattan for i in df['zip_code']]\n",
    "df['in_bk']=[i in brooklyn for i in df['zip_code']]\n",
    "df['in_si']=[i in staten_island for i in df['zip_code']]\n",
    "df['in_bx']=[i in bronx for i in df['zip_code']]\n",
    "df['in_qu']=[i in queen for i in df['zip_code']]"
   ]
  },
  {
   "cell_type": "code",
   "execution_count": 99,
   "metadata": {},
   "outputs": [
    {
     "data": {
      "text/plain": [
       "01 ONE FAMILY DWELLINGS            8730\n",
       "02 TWO FAMILY DWELLINGS            5689\n",
       "10 COOPS - ELEVATOR APARTMENTS     3287\n",
       "13 CONDOS - ELEVATOR APARTMENTS    1452\n",
       "03 THREE FAMILY DWELLINGS          1316\n",
       "Name: building_class_category, dtype: int64"
      ]
     },
     "execution_count": 99,
     "metadata": {},
     "output_type": "execute_result"
    }
   ],
   "source": [
    "df[df['in_qu']==True]['building_class_category'].value_counts().head()"
   ]
  },
  {
   "cell_type": "code",
   "execution_count": 100,
   "metadata": {},
   "outputs": [
    {
     "data": {
      "text/plain": [
       "01 ONE FAMILY DWELLINGS            4213\n",
       "02 TWO FAMILY DWELLINGS            1676\n",
       "05 TAX CLASS 1 VACANT LAND          465\n",
       "04 TAX CLASS 1 CONDOS               439\n",
       "13 CONDOS - ELEVATOR APARTMENTS     128\n",
       "Name: building_class_category, dtype: int64"
      ]
     },
     "execution_count": 100,
     "metadata": {},
     "output_type": "execute_result"
    }
   ],
   "source": [
    "df[df['in_si']==True]['building_class_category'].value_counts().head()"
   ]
  },
  {
   "cell_type": "code",
   "execution_count": 101,
   "metadata": {},
   "outputs": [
    {
     "data": {
      "text/plain": [
       "02 TWO FAMILY DWELLINGS            2083\n",
       "01 ONE FAMILY DWELLINGS            1436\n",
       "10 COOPS - ELEVATOR APARTMENTS      940\n",
       "03 THREE FAMILY DWELLINGS           870\n",
       "13 CONDOS - ELEVATOR APARTMENTS     477\n",
       "Name: building_class_category, dtype: int64"
      ]
     },
     "execution_count": 101,
     "metadata": {},
     "output_type": "execute_result"
    }
   ],
   "source": [
    "df[df['in_bx']==True]['building_class_category'].value_counts().head()"
   ]
  },
  {
   "cell_type": "code",
   "execution_count": 102,
   "metadata": {
    "scrolled": true
   },
   "outputs": [
    {
     "data": {
      "text/plain": [
       "02 TWO FAMILY DWELLINGS            5852\n",
       "01 ONE FAMILY DWELLINGS            3263\n",
       "03 THREE FAMILY DWELLINGS          2135\n",
       "13 CONDOS - ELEVATOR APARTMENTS    2099\n",
       "10 COOPS - ELEVATOR APARTMENTS     2007\n",
       "Name: building_class_category, dtype: int64"
      ]
     },
     "execution_count": 102,
     "metadata": {},
     "output_type": "execute_result"
    }
   ],
   "source": [
    "df[df['in_bk']==True]['building_class_category'].value_counts().head()"
   ]
  },
  {
   "cell_type": "code",
   "execution_count": 103,
   "metadata": {},
   "outputs": [
    {
     "data": {
      "text/plain": [
       "13 CONDOS - ELEVATOR APARTMENTS    6798\n",
       "10 COOPS - ELEVATOR APARTMENTS     5585\n",
       "17 CONDO COOPS                      847\n",
       "09 COOPS - WALKUP APARTMENTS        723\n",
       "07 RENTALS - WALKUP APARTMENTS      599\n",
       "Name: building_class_category, dtype: int64"
      ]
     },
     "execution_count": 103,
     "metadata": {},
     "output_type": "execute_result"
    }
   ],
   "source": [
    "df[df['in_mh']==True]['building_class_category'].value_counts().head()"
   ]
  },
  {
   "cell_type": "code",
   "execution_count": 104,
   "metadata": {},
   "outputs": [
    {
     "data": {
      "text/plain": [
       "R4    6798\n",
       "D4    5372\n",
       "R9     847\n",
       "C6     723\n",
       "R1     246\n",
       "Name: building_class_at_time_of_sale, dtype: int64"
      ]
     },
     "execution_count": 104,
     "metadata": {},
     "output_type": "execute_result"
    }
   ],
   "source": [
    "df[df['in_mh']==True]['building_class_at_time_of_sale'].value_counts().head()"
   ]
  },
  {
   "cell_type": "code",
   "execution_count": 105,
   "metadata": {},
   "outputs": [
    {
     "data": {
      "text/plain": [
       "A5    1729\n",
       "A1    1215\n",
       "B2    1103\n",
       "A2     851\n",
       "V0     463\n",
       "Name: building_class_at_time_of_sale, dtype: int64"
      ]
     },
     "execution_count": 105,
     "metadata": {},
     "output_type": "execute_result"
    }
   ],
   "source": [
    "df[df['in_si']==True]['building_class_at_time_of_sale'].value_counts().head()"
   ]
  },
  {
   "cell_type": "code",
   "execution_count": 106,
   "metadata": {},
   "outputs": [
    {
     "data": {
      "text/plain": [
       "B1    963\n",
       "D4    940\n",
       "C0    870\n",
       "B2    628\n",
       "A1    544\n",
       "Name: building_class_at_time_of_sale, dtype: int64"
      ]
     },
     "execution_count": 106,
     "metadata": {},
     "output_type": "execute_result"
    }
   ],
   "source": [
    "df[df['in_bx']==True]['building_class_at_time_of_sale'].value_counts().head()"
   ]
  },
  {
   "cell_type": "code",
   "execution_count": 107,
   "metadata": {},
   "outputs": [
    {
     "data": {
      "text/plain": [
       "A1    4198\n",
       "D4    3287\n",
       "A5    2039\n",
       "B3    2029\n",
       "B2    1925\n",
       "Name: building_class_at_time_of_sale, dtype: int64"
      ]
     },
     "execution_count": 107,
     "metadata": {},
     "output_type": "execute_result"
    }
   ],
   "source": [
    "df[df['in_qu']==True]['building_class_at_time_of_sale'].value_counts().head()"
   ]
  },
  {
   "cell_type": "code",
   "execution_count": 108,
   "metadata": {
    "scrolled": true
   },
   "outputs": [
    {
     "data": {
      "text/plain": [
       "B1    2270\n",
       "C0    2135\n",
       "R4    2099\n",
       "D4    2006\n",
       "B2    1193\n",
       "Name: building_class_at_time_of_sale, dtype: int64"
      ]
     },
     "execution_count": 108,
     "metadata": {},
     "output_type": "execute_result"
    }
   ],
   "source": [
    "df[df['in_bk']==True]['building_class_at_time_of_sale'].value_counts().head()"
   ]
  },
  {
   "cell_type": "code",
   "execution_count": 109,
   "metadata": {},
   "outputs": [],
   "source": [
    "# df[(df['in_nyc']==True)&\n",
    "#    ((df['building_class_category']=='01 ONE FAMILY DWELLINGS')|\n",
    "#     (df['building_class_category']=='10 COOPS - ELEVATOR APARTMENTS')|\n",
    "#    (df['building_class_category']=='13 CONDOS - ELEVATOR APARTMENTS')|\n",
    "#     (df['building_class_category']=='10 COOPS - ELEVATOR APARTMENTS'))].shape\n",
    "                                                                                                          \n",
    "                                                                                                          \n",
    "                                                                                                          \n",
    "                                                                                                          "
   ]
  },
  {
   "cell_type": "code",
   "execution_count": 110,
   "metadata": {},
   "outputs": [
    {
     "data": {
      "text/plain": [
       "(39602, 27)"
      ]
     },
     "execution_count": 110,
     "metadata": {},
     "output_type": "execute_result"
    }
   ],
   "source": [
    "df[((df['in_si']==True)|(df['in_mh']==True)|(df['in_qu']==True)|(df['in_bx']==True)|(df['in_bk']==True))&\n",
    "   ((df['building_class_at_time_of_sale']=='B1')|(df['building_class_at_time_of_sale']=='R4')|\n",
    "   (df['building_class_at_time_of_sale']=='D4')|(df['building_class_at_time_of_sale']=='A1')|\n",
    "   (df['building_class_at_time_of_sale']=='A5'))].shape"
   ]
  },
  {
   "cell_type": "code",
   "execution_count": 111,
   "metadata": {
    "scrolled": true
   },
   "outputs": [
    {
     "data": {
      "text/plain": [
       "20000.0"
      ]
     },
     "execution_count": 111,
     "metadata": {},
     "output_type": "execute_result"
    }
   ],
   "source": [
    "df['sale_price'].quantile(.32)"
   ]
  },
  {
   "cell_type": "code",
   "execution_count": 112,
   "metadata": {},
   "outputs": [
    {
     "data": {
      "text/plain": [
       "79070    0.0\n",
       "25171    0.0\n",
       "64730    0.0\n",
       "25169    0.0\n",
       "25168    0.0\n",
       "25167    0.0\n",
       "25165    0.0\n",
       "25164    0.0\n",
       "25163    0.0\n",
       "25162    0.0\n",
       "25161    0.0\n",
       "25160    0.0\n",
       "64732    0.0\n",
       "25172    0.0\n",
       "25158    0.0\n",
       "64736    0.0\n",
       "64737    0.0\n",
       "64738    0.0\n",
       "25146    0.0\n",
       "25145    0.0\n",
       "25144    0.0\n",
       "25143    0.0\n",
       "64742    0.0\n",
       "64744    0.0\n",
       "25136    0.0\n",
       "Name: sale_price, dtype: float64"
      ]
     },
     "execution_count": 112,
     "metadata": {},
     "output_type": "execute_result"
    }
   ],
   "source": [
    "df['sale_price'].sort_values().head(25)"
   ]
  },
  {
   "cell_type": "code",
   "execution_count": 113,
   "metadata": {},
   "outputs": [
    {
     "data": {
      "text/plain": [
       "(79057, 27)"
      ]
     },
     "execution_count": 113,
     "metadata": {},
     "output_type": "execute_result"
    }
   ],
   "source": [
    "df.shape"
   ]
  },
  {
   "cell_type": "code",
   "execution_count": 114,
   "metadata": {},
   "outputs": [],
   "source": [
    "df.drop(df[df['sale_price']==0].index, axis = 0, inplace=True)"
   ]
  },
  {
   "cell_type": "code",
   "execution_count": 115,
   "metadata": {},
   "outputs": [
    {
     "data": {
      "text/plain": [
       "(55245, 27)"
      ]
     },
     "execution_count": 115,
     "metadata": {},
     "output_type": "execute_result"
    }
   ],
   "source": [
    "df.shape"
   ]
  },
  {
   "cell_type": "code",
   "execution_count": 116,
   "metadata": {},
   "outputs": [
    {
     "data": {
      "text/plain": [
       "(array([5.4693e+04, 2.9400e+02, 7.2000e+01, 4.8000e+01, 3.1000e+01,\n",
       "        8.0000e+00, 2.3000e+01, 3.0000e+00, 6.0000e+00, 6.0000e+00,\n",
       "        2.0000e+00, 2.0000e+00, 3.4000e+01, 3.0000e+00, 1.0000e+00,\n",
       "        9.0000e+00, 0.0000e+00, 1.0000e+00, 1.0000e+00, 1.0000e+00,\n",
       "        1.0000e+00, 0.0000e+00, 0.0000e+00, 0.0000e+00, 0.0000e+00,\n",
       "        0.0000e+00, 1.0000e+00, 1.0000e+00, 1.0000e+00, 0.0000e+00,\n",
       "        0.0000e+00, 0.0000e+00, 0.0000e+00, 0.0000e+00, 0.0000e+00,\n",
       "        0.0000e+00, 0.0000e+00, 0.0000e+00, 0.0000e+00, 1.0000e+00,\n",
       "        0.0000e+00, 0.0000e+00, 1.0000e+00, 0.0000e+00, 0.0000e+00,\n",
       "        0.0000e+00, 0.0000e+00, 0.0000e+00, 0.0000e+00, 0.0000e+00,\n",
       "        0.0000e+00, 0.0000e+00, 0.0000e+00, 0.0000e+00, 0.0000e+00,\n",
       "        0.0000e+00, 0.0000e+00, 0.0000e+00, 0.0000e+00, 0.0000e+00,\n",
       "        0.0000e+00, 0.0000e+00, 0.0000e+00, 0.0000e+00, 0.0000e+00,\n",
       "        0.0000e+00, 0.0000e+00, 0.0000e+00, 0.0000e+00, 0.0000e+00,\n",
       "        0.0000e+00, 0.0000e+00, 0.0000e+00, 0.0000e+00, 0.0000e+00,\n",
       "        0.0000e+00, 0.0000e+00, 0.0000e+00, 0.0000e+00, 0.0000e+00,\n",
       "        0.0000e+00, 0.0000e+00, 0.0000e+00, 0.0000e+00, 0.0000e+00,\n",
       "        0.0000e+00, 0.0000e+00, 0.0000e+00, 0.0000e+00, 0.0000e+00,\n",
       "        0.0000e+00, 0.0000e+00, 0.0000e+00, 0.0000e+00, 0.0000e+00,\n",
       "        0.0000e+00, 0.0000e+00, 0.0000e+00, 0.0000e+00, 1.0000e+00]),\n",
       " array([1.00000000e+00, 2.15500010e+07, 4.31000010e+07, 6.46500010e+07,\n",
       "        8.62000010e+07, 1.07750001e+08, 1.29300001e+08, 1.50850001e+08,\n",
       "        1.72400001e+08, 1.93950001e+08, 2.15500001e+08, 2.37050001e+08,\n",
       "        2.58600001e+08, 2.80150001e+08, 3.01700001e+08, 3.23250001e+08,\n",
       "        3.44800001e+08, 3.66350001e+08, 3.87900001e+08, 4.09450001e+08,\n",
       "        4.31000001e+08, 4.52550001e+08, 4.74100001e+08, 4.95650001e+08,\n",
       "        5.17200001e+08, 5.38750001e+08, 5.60300001e+08, 5.81850001e+08,\n",
       "        6.03400001e+08, 6.24950001e+08, 6.46500001e+08, 6.68050001e+08,\n",
       "        6.89600001e+08, 7.11150001e+08, 7.32700001e+08, 7.54250001e+08,\n",
       "        7.75800001e+08, 7.97350001e+08, 8.18900001e+08, 8.40450001e+08,\n",
       "        8.62000001e+08, 8.83550001e+08, 9.05100001e+08, 9.26650001e+08,\n",
       "        9.48200001e+08, 9.69750001e+08, 9.91300001e+08, 1.01285000e+09,\n",
       "        1.03440000e+09, 1.05595000e+09, 1.07750000e+09, 1.09905000e+09,\n",
       "        1.12060000e+09, 1.14215000e+09, 1.16370000e+09, 1.18525000e+09,\n",
       "        1.20680000e+09, 1.22835000e+09, 1.24990000e+09, 1.27145000e+09,\n",
       "        1.29300000e+09, 1.31455000e+09, 1.33610000e+09, 1.35765000e+09,\n",
       "        1.37920000e+09, 1.40075000e+09, 1.42230000e+09, 1.44385000e+09,\n",
       "        1.46540000e+09, 1.48695000e+09, 1.50850000e+09, 1.53005000e+09,\n",
       "        1.55160000e+09, 1.57315000e+09, 1.59470000e+09, 1.61625000e+09,\n",
       "        1.63780000e+09, 1.65935000e+09, 1.68090000e+09, 1.70245000e+09,\n",
       "        1.72400000e+09, 1.74555000e+09, 1.76710000e+09, 1.78865000e+09,\n",
       "        1.81020000e+09, 1.83175000e+09, 1.85330000e+09, 1.87485000e+09,\n",
       "        1.89640000e+09, 1.91795000e+09, 1.93950000e+09, 1.96105000e+09,\n",
       "        1.98260000e+09, 2.00415000e+09, 2.02570000e+09, 2.04725000e+09,\n",
       "        2.06880000e+09, 2.09035000e+09, 2.11190000e+09, 2.13345000e+09,\n",
       "        2.15500000e+09]),\n",
       " <a list of 100 Patch objects>)"
      ]
     },
     "execution_count": 116,
     "metadata": {},
     "output_type": "execute_result"
    },
    {
     "data": {
      "image/png": "[encoded data removed]",
      "text/plain": [
       "<Figure size 432x288 with 1 Axes>"
      ]
     },
     "metadata": {
      "needs_background": "light"
     },
     "output_type": "display_data"
    }
   ],
   "source": [
    "plt.hist(df['sale_price'],bins=100)"
   ]
  },
  {
   "cell_type": "code",
   "execution_count": 37,
   "metadata": {},
   "outputs": [
    {
     "data": {
      "text/plain": [
       "Series([], Name: neighborhood, dtype: int64)"
      ]
     },
     "execution_count": 37,
     "metadata": {},
     "output_type": "execute_result"
    }
   ],
   "source": [
    "df[df['sale_price']==100].groupby('neighborhood')['neighborhood'].count().sort_values()"
   ]
  },
  {
   "cell_type": "code",
   "execution_count": null,
   "metadata": {},
   "outputs": [],
   "source": []
  },
  {
   "cell_type": "code",
   "execution_count": 38,
   "metadata": {},
   "outputs": [
    {
     "ename": "ValueError",
     "evalue": "Must provide API key or enterprise credentials when creating client.",
     "output_type": "error",
     "traceback": [
      "\u001b[0;31m---------------------------------------------------------------------------\u001b[0m",
      "\u001b[0;31mValueError\u001b[0m                                Traceback (most recent call last)",
      "\u001b[0;32m<ipython-input-38-f811524a389b>\u001b[0m in \u001b[0;36m<module>\u001b[0;34m\u001b[0m\n\u001b[0;32m----> 1\u001b[0;31m \u001b[0mgmaps_key\u001b[0m\u001b[0;34m=\u001b[0m\u001b[0mgooglemaps\u001b[0m\u001b[0;34m.\u001b[0m\u001b[0mClient\u001b[0m\u001b[0;34m(\u001b[0m\u001b[0mkey\u001b[0m\u001b[0;34m=\u001b[0m\u001b[0;34m''\u001b[0m\u001b[0;34m)\u001b[0m\u001b[0;34m\u001b[0m\u001b[0;34m\u001b[0m\u001b[0m\n\u001b[0m",
      "\u001b[0;32m/opt/anaconda3/lib/python3.7/site-packages/googlemaps/client.py\u001b[0m in \u001b[0;36m__init__\u001b[0;34m(self, key, client_id, client_secret, timeout, connect_timeout, read_timeout, retry_timeout, requests_kwargs, queries_per_second, channel, retry_over_query_limit, experience_id)\u001b[0m\n\u001b[1;32m    119\u001b[0m         \"\"\"\n\u001b[1;32m    120\u001b[0m         \u001b[0;32mif\u001b[0m \u001b[0;32mnot\u001b[0m \u001b[0mkey\u001b[0m \u001b[0;32mand\u001b[0m \u001b[0;32mnot\u001b[0m \u001b[0;34m(\u001b[0m\u001b[0mclient_secret\u001b[0m \u001b[0;32mand\u001b[0m \u001b[0mclient_id\u001b[0m\u001b[0;34m)\u001b[0m\u001b[0;34m:\u001b[0m\u001b[0;34m\u001b[0m\u001b[0;34m\u001b[0m\u001b[0m\n\u001b[0;32m--> 121\u001b[0;31m             raise ValueError(\"Must provide API key or enterprise credentials \"\n\u001b[0m\u001b[1;32m    122\u001b[0m                              \"when creating client.\")\n\u001b[1;32m    123\u001b[0m \u001b[0;34m\u001b[0m\u001b[0m\n",
      "\u001b[0;31mValueError\u001b[0m: Must provide API key or enterprise credentials when creating client."
     ]
    }
   ],
   "source": [
    "gmaps_key=googlemaps.Client(key='')"
   ]
  },
  {
   "cell_type": "code",
   "execution_count": null,
   "metadata": {},
   "outputs": [],
   "source": [
    "df['latitude']=None\n",
    "df['longitude']=None"
   ]
  },
  {
   "cell_type": "code",
   "execution_count": null,
   "metadata": {},
   "outputs": [],
   "source": []
  },
  {
   "cell_type": "code",
   "execution_count": null,
   "metadata": {},
   "outputs": [],
   "source": [
    "df.loc[0,'address']"
   ]
  },
  {
   "cell_type": "code",
   "execution_count": null,
   "metadata": {},
   "outputs": [],
   "source": [
    "# bounds={\n",
    "#     'northeast': [40.911, -73.71],\n",
    "#     'southwest': [40.5, -74.26]\n",
    "# }"
   ]
  },
  {
   "cell_type": "code",
   "execution_count": null,
   "metadata": {},
   "outputs": [],
   "source": [
    "# for i in df.index[:4000]:\n",
    "#     geocode_result=gmaps_key.geocode(df.loc[i,'address'],bounds=bounds)\n",
    "#     try:\n",
    "#         lat=geocode_result[0]['geometry']['location']['lat']\n",
    "#         lon=geocode_result[0]['geometry']['location']['lng']\n",
    "#         df.loc[i,'latitude']=lat\n",
    "#         df.loc[i,'longitude']=lon\n",
    "#     except:\n",
    "#         lat=None\n",
    "#         lon=None\n",
    "    "
   ]
  },
  {
   "cell_type": "code",
   "execution_count": null,
   "metadata": {},
   "outputs": [],
   "source": [
    "df1.shape"
   ]
  },
  {
   "cell_type": "code",
   "execution_count": null,
   "metadata": {},
   "outputs": [],
   "source": [
    "df1=df1[(df1['latitude'].notnull())&(df1['latitude']>40.5)&(df1['latitude']<40.92)&(df1['longitude']>-74.252)&(df1['longitude']<-73.71)]"
   ]
  },
  {
   "cell_type": "code",
   "execution_count": null,
   "metadata": {},
   "outputs": [],
   "source": [
    "df1.head()"
   ]
  },
  {
   "cell_type": "code",
   "execution_count": null,
   "metadata": {
    "scrolled": true
   },
   "outputs": [],
   "source": [
    "df1=df1[(df1['latitude'].notnull())&(df1['latitude']>40.5)]"
   ]
  },
  {
   "cell_type": "code",
   "execution_count": null,
   "metadata": {},
   "outputs": [],
   "source": [
    "df1=df1[(df1['latitude'].notnull())&(df1['latitude']<40.92)]"
   ]
  },
  {
   "cell_type": "code",
   "execution_count": null,
   "metadata": {},
   "outputs": [],
   "source": [
    "df1=df1[(df1['longitude'].notnull())&(df1['longitude']>-74.252)]"
   ]
  },
  {
   "cell_type": "code",
   "execution_count": null,
   "metadata": {},
   "outputs": [],
   "source": [
    "df1=df1[(df1['longitude'].notnull())&(df1['longitude']<-73.71)]"
   ]
  },
  {
   "cell_type": "code",
   "execution_count": null,
   "metadata": {},
   "outputs": [],
   "source": [
    "df1[(df1['building_class_category']=='01 ONE FAMILY DWELLINGS')&(df1['zip_code']==10025)].count()"
   ]
  },
  {
   "cell_type": "code",
   "execution_count": null,
   "metadata": {},
   "outputs": [],
   "source": [
    "(df[df['longitude'].notnull()]['longitude']<-74.252).sum()"
   ]
  },
  {
   "cell_type": "code",
   "execution_count": null,
   "metadata": {},
   "outputs": [],
   "source": [
    "(df[df['longitude'].notnull()]['longitude']>-73.71).sum()"
   ]
  },
  {
   "cell_type": "code",
   "execution_count": null,
   "metadata": {},
   "outputs": [],
   "source": [
    "df['latitude'].sort_values().head(35)"
   ]
  },
  {
   "cell_type": "code",
   "execution_count": null,
   "metadata": {},
   "outputs": [],
   "source": [
    "#df.to_csv('../data/outpu2.csv')"
   ]
  },
  {
   "cell_type": "code",
   "execution_count": null,
   "metadata": {},
   "outputs": [],
   "source": [
    "plt.scatter(df1[df1['longitude'].notnull()]['longitude'],df1[df1['latitude'].notnull()]['latitude'])"
   ]
  },
  {
   "cell_type": "code",
   "execution_count": null,
   "metadata": {},
   "outputs": [],
   "source": [
    "df1.shape"
   ]
  },
  {
   "cell_type": "code",
   "execution_count": null,
   "metadata": {},
   "outputs": [],
   "source": []
  }
 ],
 "metadata": {
  "kernelspec": {
   "display_name": "Python 3",
   "language": "python",
   "name": "python3"
  },
  "language_info": {
   "codemirror_mode": {
    "name": "ipython",
    "version": 3
   },
   "file_extension": ".py",
   "mimetype": "text/x-python",
   "name": "python",
   "nbconvert_exporter": "python",
   "pygments_lexer": "ipython3",
   "version": "3.7.4"
  }
 },
 "nbformat": 4,
 "nbformat_minor": 2
}
