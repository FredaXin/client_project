{
 "cells": [
  {
   "cell_type": "code",
   "execution_count": 40,
   "metadata": {},
   "outputs": [],
   "source": [
    "import ast\n",
    "import pandas as pd\n",
    "import numpy as np\n",
    "import matplotlib.pyplot as plt\n",
    "import googlemaps"
   ]
  },
  {
   "cell_type": "code",
   "execution_count": 41,
   "metadata": {},
   "outputs": [],
   "source": [
    "df=pd.read_csv('../data/nyc_dept_fin.csv')"
   ]
  },
  {
   "cell_type": "markdown",
   "metadata": {},
   "source": [
    "## EDA NYC Department of Finance Housing Data"
   ]
  },
  {
   "cell_type": "code",
   "execution_count": 42,
   "metadata": {
    "scrolled": false
   },
   "outputs": [
    {
     "data": {
      "text/html": [
       "<div>\n",
       "<style scoped>\n",
       "    .dataframe tbody tr th:only-of-type {\n",
       "        vertical-align: middle;\n",
       "    }\n",
       "\n",
       "    .dataframe tbody tr th {\n",
       "        vertical-align: top;\n",
       "    }\n",
       "\n",
       "    .dataframe thead th {\n",
       "        text-align: right;\n",
       "    }\n",
       "</style>\n",
       "<table border=\"1\" class=\"dataframe\">\n",
       "  <thead>\n",
       "    <tr style=\"text-align: right;\">\n",
       "      <th></th>\n",
       "      <th>borough</th>\n",
       "      <th>neighborhood</th>\n",
       "      <th>building_class_category</th>\n",
       "      <th>tax_class_at_present</th>\n",
       "      <th>block</th>\n",
       "      <th>lot</th>\n",
       "      <th>building_class_at_present</th>\n",
       "      <th>address</th>\n",
       "      <th>apartment_number</th>\n",
       "      <th>zip_code</th>\n",
       "      <th>...</th>\n",
       "      <th>commercial_units</th>\n",
       "      <th>total_units</th>\n",
       "      <th>land_square_feet</th>\n",
       "      <th>gross_square_feet</th>\n",
       "      <th>year_built</th>\n",
       "      <th>tax_class_at_time_of_sale</th>\n",
       "      <th>building_class_at_time_of_sale</th>\n",
       "      <th>sale_price</th>\n",
       "      <th>sale_date</th>\n",
       "      <th>price_per_sqft</th>\n",
       "    </tr>\n",
       "  </thead>\n",
       "  <tbody>\n",
       "    <tr>\n",
       "      <th>0</th>\n",
       "      <td>1</td>\n",
       "      <td>ALPHABET CITY</td>\n",
       "      <td>01 ONE FAMILY DWELLINGS</td>\n",
       "      <td>1</td>\n",
       "      <td>376</td>\n",
       "      <td>43.0</td>\n",
       "      <td>S1</td>\n",
       "      <td>743 EAST 6TH STREET</td>\n",
       "      <td>NaN</td>\n",
       "      <td>10009.0</td>\n",
       "      <td>...</td>\n",
       "      <td>1.0</td>\n",
       "      <td>2.0</td>\n",
       "      <td>2090.0</td>\n",
       "      <td>3680.0</td>\n",
       "      <td>1940.0</td>\n",
       "      <td>1</td>\n",
       "      <td>S1</td>\n",
       "      <td>3200000.0</td>\n",
       "      <td>7/24/19</td>\n",
       "      <td>869.565217</td>\n",
       "    </tr>\n",
       "    <tr>\n",
       "      <th>1</th>\n",
       "      <td>1</td>\n",
       "      <td>ALPHABET CITY</td>\n",
       "      <td>01 ONE FAMILY DWELLINGS</td>\n",
       "      <td>1</td>\n",
       "      <td>390</td>\n",
       "      <td>61.0</td>\n",
       "      <td>A4</td>\n",
       "      <td>189 EAST 7TH STREET</td>\n",
       "      <td>NaN</td>\n",
       "      <td>10009.0</td>\n",
       "      <td>...</td>\n",
       "      <td>0.0</td>\n",
       "      <td>1.0</td>\n",
       "      <td>987.0</td>\n",
       "      <td>2183.0</td>\n",
       "      <td>1860.0</td>\n",
       "      <td>1</td>\n",
       "      <td>A4</td>\n",
       "      <td>0.0</td>\n",
       "      <td>9/25/19</td>\n",
       "      <td>0.000000</td>\n",
       "    </tr>\n",
       "    <tr>\n",
       "      <th>2</th>\n",
       "      <td>1</td>\n",
       "      <td>ALPHABET CITY</td>\n",
       "      <td>02 TWO FAMILY DWELLINGS</td>\n",
       "      <td>1</td>\n",
       "      <td>404</td>\n",
       "      <td>1.0</td>\n",
       "      <td>B9</td>\n",
       "      <td>166 AVENUE A</td>\n",
       "      <td>NaN</td>\n",
       "      <td>10009.0</td>\n",
       "      <td>...</td>\n",
       "      <td>0.0</td>\n",
       "      <td>2.0</td>\n",
       "      <td>1510.0</td>\n",
       "      <td>4520.0</td>\n",
       "      <td>1900.0</td>\n",
       "      <td>1</td>\n",
       "      <td>B9</td>\n",
       "      <td>0.0</td>\n",
       "      <td>7/22/19</td>\n",
       "      <td>0.000000</td>\n",
       "    </tr>\n",
       "    <tr>\n",
       "      <th>3</th>\n",
       "      <td>1</td>\n",
       "      <td>ALPHABET CITY</td>\n",
       "      <td>03 THREE FAMILY DWELLINGS</td>\n",
       "      <td>1</td>\n",
       "      <td>377</td>\n",
       "      <td>56.0</td>\n",
       "      <td>C0</td>\n",
       "      <td>263 EAST 7TH STREET</td>\n",
       "      <td>NaN</td>\n",
       "      <td>10009.0</td>\n",
       "      <td>...</td>\n",
       "      <td>0.0</td>\n",
       "      <td>3.0</td>\n",
       "      <td>2430.0</td>\n",
       "      <td>3600.0</td>\n",
       "      <td>1899.0</td>\n",
       "      <td>1</td>\n",
       "      <td>C0</td>\n",
       "      <td>6300000.0</td>\n",
       "      <td>4/30/19</td>\n",
       "      <td>1750.000000</td>\n",
       "    </tr>\n",
       "    <tr>\n",
       "      <th>4</th>\n",
       "      <td>1</td>\n",
       "      <td>ALPHABET CITY</td>\n",
       "      <td>03 THREE FAMILY DWELLINGS</td>\n",
       "      <td>1</td>\n",
       "      <td>393</td>\n",
       "      <td>9.0</td>\n",
       "      <td>C0</td>\n",
       "      <td>604 EAST 11TH STREET</td>\n",
       "      <td>NaN</td>\n",
       "      <td>10009.0</td>\n",
       "      <td>...</td>\n",
       "      <td>0.0</td>\n",
       "      <td>3.0</td>\n",
       "      <td>2375.0</td>\n",
       "      <td>5110.0</td>\n",
       "      <td>1939.0</td>\n",
       "      <td>1</td>\n",
       "      <td>C0</td>\n",
       "      <td>0.0</td>\n",
       "      <td>10/24/19</td>\n",
       "      <td>0.000000</td>\n",
       "    </tr>\n",
       "  </tbody>\n",
       "</table>\n",
       "<p>5 rows × 21 columns</p>\n",
       "</div>"
      ],
      "text/plain": [
       "   borough   neighborhood    building_class_category tax_class_at_present  \\\n",
       "0        1  ALPHABET CITY    01 ONE FAMILY DWELLINGS                    1   \n",
       "1        1  ALPHABET CITY    01 ONE FAMILY DWELLINGS                    1   \n",
       "2        1  ALPHABET CITY    02 TWO FAMILY DWELLINGS                    1   \n",
       "3        1  ALPHABET CITY  03 THREE FAMILY DWELLINGS                    1   \n",
       "4        1  ALPHABET CITY  03 THREE FAMILY DWELLINGS                    1   \n",
       "\n",
       "   block   lot building_class_at_present               address  \\\n",
       "0    376  43.0                        S1   743 EAST 6TH STREET   \n",
       "1    390  61.0                        A4   189 EAST 7TH STREET   \n",
       "2    404   1.0                        B9          166 AVENUE A   \n",
       "3    377  56.0                        C0   263 EAST 7TH STREET   \n",
       "4    393   9.0                        C0  604 EAST 11TH STREET   \n",
       "\n",
       "  apartment_number  zip_code  ...  commercial_units  total_units  \\\n",
       "0              NaN   10009.0  ...               1.0          2.0   \n",
       "1              NaN   10009.0  ...               0.0          1.0   \n",
       "2              NaN   10009.0  ...               0.0          2.0   \n",
       "3              NaN   10009.0  ...               0.0          3.0   \n",
       "4              NaN   10009.0  ...               0.0          3.0   \n",
       "\n",
       "   land_square_feet  gross_square_feet  year_built  tax_class_at_time_of_sale  \\\n",
       "0            2090.0             3680.0      1940.0                          1   \n",
       "1             987.0             2183.0      1860.0                          1   \n",
       "2            1510.0             4520.0      1900.0                          1   \n",
       "3            2430.0             3600.0      1899.0                          1   \n",
       "4            2375.0             5110.0      1939.0                          1   \n",
       "\n",
       "   building_class_at_time_of_sale sale_price  sale_date price_per_sqft  \n",
       "0                              S1  3200000.0    7/24/19     869.565217  \n",
       "1                              A4        0.0    9/25/19       0.000000  \n",
       "2                              B9        0.0    7/22/19       0.000000  \n",
       "3                              C0  6300000.0    4/30/19    1750.000000  \n",
       "4                              C0        0.0   10/24/19       0.000000  \n",
       "\n",
       "[5 rows x 21 columns]"
      ]
     },
     "execution_count": 42,
     "metadata": {},
     "output_type": "execute_result"
    }
   ],
   "source": [
    "df.head()"
   ]
  },
  {
   "cell_type": "code",
   "execution_count": 43,
   "metadata": {},
   "outputs": [
    {
     "data": {
      "text/plain": [
       "Index(['borough', 'neighborhood', 'building_class_category',\n",
       "       'tax_class_at_present', 'block', 'lot', 'building_class_at_present',\n",
       "       'address', 'apartment_number', 'zip_code', 'residential_units',\n",
       "       'commercial_units', 'total_units', 'land_square_feet',\n",
       "       'gross_square_feet', 'year_built', 'tax_class_at_time_of_sale',\n",
       "       'building_class_at_time_of_sale', 'sale_price', 'sale_date',\n",
       "       'price_per_sqft'],\n",
       "      dtype='object')"
      ]
     },
     "execution_count": 43,
     "metadata": {},
     "output_type": "execute_result"
    }
   ],
   "source": [
    "df.columns"
   ]
  },
  {
   "cell_type": "code",
   "execution_count": 44,
   "metadata": {},
   "outputs": [
    {
     "data": {
      "text/plain": [
       "(79071, 21)"
      ]
     },
     "execution_count": 44,
     "metadata": {},
     "output_type": "execute_result"
    }
   ],
   "source": [
    "df.shape"
   ]
  },
  {
   "cell_type": "code",
   "execution_count": 45,
   "metadata": {
    "scrolled": false
   },
   "outputs": [
    {
     "data": {
      "text/plain": [
       "apartment_number                  0.775796\n",
       "price_per_sqft                    0.260500\n",
       "land_square_feet                  0.199656\n",
       "commercial_units                  0.199656\n",
       "total_units                       0.199656\n",
       "residential_units                 0.199656\n",
       "gross_square_feet                 0.199643\n",
       "year_built                        0.072353\n",
       "building_class_at_present         0.003870\n",
       "tax_class_at_present              0.003870\n",
       "zip_code                          0.000177\n",
       "tax_class_at_time_of_sale         0.000000\n",
       "building_class_at_time_of_sale    0.000000\n",
       "sale_date                         0.000000\n",
       "sale_price                        0.000000\n",
       "address                           0.000000\n",
       "lot                               0.000000\n",
       "block                             0.000000\n",
       "building_class_category           0.000000\n",
       "neighborhood                      0.000000\n",
       "borough                           0.000000\n",
       "dtype: float64"
      ]
     },
     "execution_count": 45,
     "metadata": {},
     "output_type": "execute_result"
    }
   ],
   "source": [
    "df.isnull().mean().sort_values(ascending=False)"
   ]
  },
  {
   "cell_type": "code",
   "execution_count": 46,
   "metadata": {},
   "outputs": [],
   "source": [
    "df.dropna(subset = ['zip_code'], inplace=True)"
   ]
  },
  {
   "cell_type": "code",
   "execution_count": 47,
   "metadata": {},
   "outputs": [],
   "source": [
    "df.drop(columns = ['apartment_number','price_per_sqft','land_square_feet',\n",
    "                    'commercial_units','total_units','residential_units','gross_square_feet',\n",
    "                    'building_class_at_present','tax_class_at_present'], axis=1,inplace=True)"
   ]
  },
  {
   "cell_type": "code",
   "execution_count": 48,
   "metadata": {},
   "outputs": [],
   "source": [
    "list_of_col_to_int = [ 'block', 'zip_code', 'year_built', 'tax_class_at_time_of_sale']\n",
    "def col_convert_float_to_int(col_list, df):\n",
    "    for i in col_list:\n",
    "        df[i] = df[i].astype('Int64')\n",
    "    return df"
   ]
  },
  {
   "cell_type": "code",
   "execution_count": 49,
   "metadata": {},
   "outputs": [],
   "source": [
    "df = col_convert_float_to_int(list_of_col_to_int, df)"
   ]
  },
  {
   "cell_type": "markdown",
   "metadata": {},
   "source": [
    "## Removing outliers (outside of nyc)"
   ]
  },
  {
   "cell_type": "markdown",
   "metadata": {},
   "source": [
    "### We are going to read in a text file of zip_codes separated by borough "
   ]
  },
  {
   "cell_type": "code",
   "execution_count": 50,
   "metadata": {},
   "outputs": [],
   "source": [
    "text_file = open('../data/zipcodes.txt','r')"
   ]
  },
  {
   "cell_type": "code",
   "execution_count": 51,
   "metadata": {},
   "outputs": [],
   "source": [
    "lines = text_file.read()\n"
   ]
  },
  {
   "cell_type": "code",
   "execution_count": 52,
   "metadata": {},
   "outputs": [],
   "source": [
    "##get individual sets of zipcodes using split on new line. \n",
    "bronx=ast.literal_eval(lines.split('\\n')[0])\n",
    "brooklyn=ast.literal_eval(lines.split('\\n')[1])\n",
    "manhattan=ast.literal_eval(lines.split('\\n')[2])\n",
    "queen=ast.literal_eval(lines.split('\\n')[3])\n",
    "staten_island=ast.literal_eval(lines.split('\\n')[4])\n"
   ]
  },
  {
   "cell_type": "code",
   "execution_count": 53,
   "metadata": {},
   "outputs": [],
   "source": [
    "nyc=bronx+brooklyn+manhattan+queen+staten_island"
   ]
  },
  {
   "cell_type": "code",
   "execution_count": 54,
   "metadata": {},
   "outputs": [],
   "source": [
    "## if zip_code is in list of respective zip code set, these columns return True\n",
    "df['nyc']=[i in nyc for i in df['zip_code']]\n",
    "df['manhattan']=[i in manhattan for i in df['zip_code']]\n",
    "df['brooklyn']=[i in brooklyn for i in df['zip_code']]\n",
    "df['staten_island']=[i in staten_island for i in df['zip_code']]\n",
    "df['bronx']=[i in bronx for i in df['zip_code']]\n",
    "df['queens']=[i in queen for i in df['zip_code']]"
   ]
  },
  {
   "cell_type": "code",
   "execution_count": 55,
   "metadata": {},
   "outputs": [],
   "source": [
    "df=df[df['nyc']==True]"
   ]
  },
  {
   "cell_type": "code",
   "execution_count": 56,
   "metadata": {},
   "outputs": [],
   "source": [
    "df['borough']=None\n"
   ]
  },
  {
   "cell_type": "code",
   "execution_count": 57,
   "metadata": {},
   "outputs": [],
   "source": [
    "##assign borough based on boolean values\n",
    "df['borough']=np.where(df['manhattan']==True, 'manhattan', \n",
    "         (np.where(df['bronx']==True, 'bronx', \n",
    "         (np.where(df['queens']==True, 'queens',\n",
    "         (np.where(df['brooklyn']==True, 'brooklyn',\n",
    "                   'staten_island')))))))\n",
    "        "
   ]
  },
  {
   "cell_type": "code",
   "execution_count": null,
   "metadata": {},
   "outputs": [],
   "source": []
  },
  {
   "cell_type": "markdown",
   "metadata": {},
   "source": [
    "## Visualization approach by borough"
   ]
  },
  {
   "cell_type": "code",
   "execution_count": 58,
   "metadata": {},
   "outputs": [],
   "source": [
    "def bar_bcc(borough,category):\n",
    "    values = df[df[borough]==True][category].value_counts().head(12).keys().tolist()\n",
    "    counts = df[df[borough]==True][category].value_counts().head(12).tolist()\n",
    "    values1=[]\n",
    "\n",
    "    plt.bar(values,counts,color='red',alpha=0.5)\n",
    "    plt.xticks(rotation=90)\n",
    "    plt.title(f'{category} overall frequencies')\n",
    "\n",
    "        "
   ]
  },
  {
   "cell_type": "code",
   "execution_count": 59,
   "metadata": {},
   "outputs": [],
   "source": [
    "def borough_comparison(category,n):\n",
    "    nyc=['manhattan','queens','brooklyn','bronx','staten_island']\n",
    "\n",
    "    data={}\n",
    "    for i in df[category].value_counts().head(n).keys().tolist():\n",
    "        data.update({i:[]})\n",
    "        for j in nyc:\n",
    "        \n",
    "            data[i].append(df[(df['borough']==j)&(df[category]==i)][category].count())\n",
    "    df7=pd.DataFrame(data,index=nyc)\n",
    "    df7.plot.bar(rot=0,figsize=(12,4),title=f'{category} frequencies by borough')\n",
    "   \n",
    "    \n",
    "  "
   ]
  },
  {
   "cell_type": "code",
   "execution_count": 60,
   "metadata": {},
   "outputs": [
    {
     "data": {
      "image/png": "[encoded data removed]",
      "text/plain": [
       "<Figure size 432x288 with 1 Axes>"
      ]
     },
     "metadata": {
      "needs_background": "light"
     },
     "output_type": "display_data"
    }
   ],
   "source": [
    "bar_bcc('nyc','building_class_at_time_of_sale')"
   ]
  },
  {
   "cell_type": "code",
   "execution_count": 61,
   "metadata": {},
   "outputs": [
    {
     "data": {
      "image/png": "[encoded data removed]",
      "text/plain": [
       "<Figure size 864x288 with 1 Axes>"
      ]
     },
     "metadata": {
      "needs_background": "light"
     },
     "output_type": "display_data"
    }
   ],
   "source": [
    "borough_comparison('building_class_at_time_of_sale',8)"
   ]
  },
  {
   "cell_type": "code",
   "execution_count": 62,
   "metadata": {},
   "outputs": [
    {
     "data": {
      "image/png": "[encoded data removed]",
      "text/plain": [
       "<Figure size 432x288 with 1 Axes>"
      ]
     },
     "metadata": {
      "needs_background": "light"
     },
     "output_type": "display_data"
    }
   ],
   "source": [
    "bar_bcc('nyc','building_class_category')"
   ]
  },
  {
   "cell_type": "code",
   "execution_count": 217,
   "metadata": {
    "scrolled": false
   },
   "outputs": [
    {
     "data": {
      "image/png": "[encoded data removed]",
      "text/plain": [
       "<Figure size 864x288 with 1 Axes>"
      ]
     },
     "metadata": {
      "needs_background": "light"
     },
     "output_type": "display_data"
    }
   ],
   "source": [
    "borough_comparison('building_class_category',8)"
   ]
  },
  {
   "cell_type": "code",
   "execution_count": 199,
   "metadata": {},
   "outputs": [
    {
     "name": "stdout",
     "output_type": "stream",
     "text": [
      "Manhattan\n",
      "R4    6798\n",
      "D4    5372\n",
      "R9     847\n",
      "C6     723\n",
      "R1     246\n",
      "Name: building_class_at_time_of_sale, dtype: int64\n",
      "\n",
      "Queens\n",
      "A1    4198\n",
      "D4    3287\n",
      "A5    2039\n",
      "B3    2029\n",
      "B2    1925\n",
      "Name: building_class_at_time_of_sale, dtype: int64\n",
      "\n",
      "Brooklyn\n",
      "B1    2270\n",
      "C0    2135\n",
      "R4    2099\n",
      "D4    2006\n",
      "B2    1193\n",
      "Name: building_class_at_time_of_sale, dtype: int64\n",
      "\n",
      "Brooklyn\n",
      "B1    2270\n",
      "C0    2135\n",
      "R4    2099\n",
      "D4    2006\n",
      "B2    1193\n",
      "Name: building_class_at_time_of_sale, dtype: int64\n",
      "\n",
      "Staten Island\n",
      "A5    1729\n",
      "A1    1215\n",
      "B2    1103\n",
      "A2     851\n",
      "V0     463\n",
      "Name: building_class_at_time_of_sale, dtype: int64\n"
     ]
    }
   ],
   "source": [
    "print('Manhattan')\n",
    "print(df[df['manhattan']==True]['building_class_at_time_of_sale'].value_counts().head())\n",
    "print('\\nQueens')\n",
    "print(df[df['queens']==True]['building_class_at_time_of_sale'].value_counts().head())\n",
    "print('\\nBrooklyn')\n",
    "print(df[df['brooklyn']==True]['building_class_at_time_of_sale'].value_counts().head())\n",
    "print('\\nBrooklyn')\n",
    "print(df[df['brooklyn']==True]['building_class_at_time_of_sale'].value_counts().head())\n",
    "print('\\nStaten Island')\n",
    "print(df[df['staten_island']==True]['building_class_at_time_of_sale'].value_counts().head())"
   ]
  },
  {
   "cell_type": "code",
   "execution_count": 200,
   "metadata": {},
   "outputs": [],
   "source": [
    "df=df[(df['nyc']==True)&\n",
    "   ((df['building_class_at_time_of_sale']=='B1')|(df['building_class_at_time_of_sale']=='R4')|\n",
    "   (df['building_class_at_time_of_sale']=='D4')|(df['building_class_at_time_of_sale']=='A1')|\n",
    "   (df['building_class_at_time_of_sale']=='A5'))]"
   ]
  },
  {
   "cell_type": "code",
   "execution_count": 201,
   "metadata": {},
   "outputs": [
    {
     "data": {
      "text/plain": [
       "(39602, 18)"
      ]
     },
     "execution_count": 201,
     "metadata": {},
     "output_type": "execute_result"
    }
   ],
   "source": [
    "df.shape"
   ]
  },
  {
   "cell_type": "code",
   "execution_count": 202,
   "metadata": {
    "scrolled": false
   },
   "outputs": [
    {
     "data": {
      "text/plain": [
       "225000.0"
      ]
     },
     "execution_count": 202,
     "metadata": {},
     "output_type": "execute_result"
    }
   ],
   "source": [
    "df['sale_price'].quantile(.32)"
   ]
  },
  {
   "cell_type": "code",
   "execution_count": 203,
   "metadata": {},
   "outputs": [
    {
     "data": {
      "text/plain": [
       "sale_price\n",
       "0.0          10046\n",
       "10.0           346\n",
       "550000.0       228\n",
       "650000.0       204\n",
       "600000.0       197\n",
       "             ...  \n",
       "1369830.0        1\n",
       "1370800.0        1\n",
       "1372410.0        1\n",
       "1372500.0        1\n",
       "892307.0         1\n",
       "Name: sale_price, Length: 6019, dtype: int64"
      ]
     },
     "execution_count": 203,
     "metadata": {},
     "output_type": "execute_result"
    }
   ],
   "source": [
    "df.groupby('sale_price')['sale_price'].count().sort_values(ascending=False)"
   ]
  },
  {
   "cell_type": "code",
   "execution_count": 204,
   "metadata": {},
   "outputs": [],
   "source": [
    "df.drop(df[df['sale_price']<12000].index, axis = 0, inplace=True)"
   ]
  },
  {
   "cell_type": "code",
   "execution_count": 205,
   "metadata": {
    "scrolled": false
   },
   "outputs": [
    {
     "data": {
      "text/plain": [
       "(29022, 18)"
      ]
     },
     "execution_count": 205,
     "metadata": {},
     "output_type": "execute_result"
    }
   ],
   "source": [
    "df.shape"
   ]
  },
  {
   "cell_type": "code",
   "execution_count": 206,
   "metadata": {},
   "outputs": [
    {
     "data": {
      "text/plain": [
       "(array([1834., 5187., 6334., 4728., 3193., 1363., 1173.,  890.,  672.,\n",
       "         461.,  377.,  310.,  324.,  232.,  189.,  125.,  130.,  116.,\n",
       "          95.,  128.]),\n",
       " array([  12000.,  212650.,  413300.,  613950.,  814600., 1015250.,\n",
       "        1215900., 1416550., 1617200., 1817850., 2018500., 2219150.,\n",
       "        2419800., 2620450., 2821100., 3021750., 3222400., 3423050.,\n",
       "        3623700., 3824350., 4025000.]),\n",
       " <a list of 20 Patch objects>)"
      ]
     },
     "execution_count": 206,
     "metadata": {},
     "output_type": "execute_result"
    },
    {
     "data": {
      "image/png": "[encoded data removed]",
      "text/plain": [
       "<Figure size 432x288 with 1 Axes>"
      ]
     },
     "metadata": {
      "needs_background": "light"
     },
     "output_type": "display_data"
    }
   ],
   "source": [
    "plt.hist(df[df['sale_price']<df['sale_price'].quantile(.96)]['sale_price'],bins=20,color='red',alpha=0.5)"
   ]
  },
  {
   "cell_type": "code",
   "execution_count": 207,
   "metadata": {},
   "outputs": [
    {
     "data": {
      "text/plain": [
       "(array([1.600e+01, 4.800e+01, 5.200e+01, 9.600e+01, 3.890e+02, 1.704e+03,\n",
       "        3.865e+03, 7.772e+03, 7.412e+03, 3.623e+03, 2.053e+03, 1.029e+03,\n",
       "        5.370e+02, 1.940e+02, 1.000e+02, 9.100e+01, 2.900e+01, 9.000e+00,\n",
       "        1.000e+00, 2.000e+00]),\n",
       " array([ 9.39266193,  9.8878276 , 10.38299327, 10.87815895, 11.37332462,\n",
       "        11.86849029, 12.36365596, 12.85882164, 13.35398731, 13.84915298,\n",
       "        14.34431865, 14.83948433, 15.33465   , 15.82981567, 16.32498134,\n",
       "        16.82014702, 17.31531269, 17.81047836, 18.30564403, 18.80080971,\n",
       "        19.29597538]),\n",
       " <a list of 20 Patch objects>)"
      ]
     },
     "execution_count": 207,
     "metadata": {},
     "output_type": "execute_result"
    },
    {
     "data": {
      "image/png": "[encoded data removed]",
      "text/plain": [
       "<Figure size 432x288 with 1 Axes>"
      ]
     },
     "metadata": {
      "needs_background": "light"
     },
     "output_type": "display_data"
    }
   ],
   "source": [
    "plt.hist(np.log(df['sale_price']),bins=20,color='red',alpha=0.5)"
   ]
  },
  {
   "cell_type": "code",
   "execution_count": 208,
   "metadata": {},
   "outputs": [],
   "source": [
    "#df.to_csv('../data/outpu2.csv')"
   ]
  },
  {
   "cell_type": "code",
   "execution_count": 209,
   "metadata": {},
   "outputs": [
    {
     "data": {
      "text/plain": [
       "(29022, 18)"
      ]
     },
     "execution_count": 209,
     "metadata": {},
     "output_type": "execute_result"
    }
   ],
   "source": [
    "df.shape"
   ]
  },
  {
   "cell_type": "code",
   "execution_count": 210,
   "metadata": {},
   "outputs": [],
   "source": [
    "df=df.sample(15000,random_state=1881)"
   ]
  },
  {
   "cell_type": "code",
   "execution_count": 211,
   "metadata": {},
   "outputs": [
    {
     "data": {
      "text/plain": [
       "(15000, 18)"
      ]
     },
     "execution_count": 211,
     "metadata": {},
     "output_type": "execute_result"
    }
   ],
   "source": [
    "df.shape"
   ]
  },
  {
   "cell_type": "code",
   "execution_count": 212,
   "metadata": {},
   "outputs": [],
   "source": [
    "df.to_csv('../data/nyc_dept_forGeo.csv') "
   ]
  },
  {
   "cell_type": "code",
   "execution_count": null,
   "metadata": {},
   "outputs": [],
   "source": []
  }
 ],
 "metadata": {
  "kernelspec": {
   "display_name": "Python 3",
   "language": "python",
   "name": "python3"
  },
  "language_info": {
   "codemirror_mode": {
    "name": "ipython",
    "version": 3
   },
   "file_extension": ".py",
   "mimetype": "text/x-python",
   "name": "python",
   "nbconvert_exporter": "python",
   "pygments_lexer": "ipython3",
   "version": "3.7.4"
  }
 },
 "nbformat": 4,
 "nbformat_minor": 2
}
