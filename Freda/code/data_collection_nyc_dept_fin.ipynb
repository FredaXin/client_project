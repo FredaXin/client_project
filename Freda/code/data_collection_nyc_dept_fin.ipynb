{
 "cells": [
  {
   "cell_type": "markdown",
   "metadata": {},
   "source": [
    "## Import libraries"
   ]
  },
  {
   "cell_type": "code",
   "execution_count": 1,
   "metadata": {},
   "outputs": [],
   "source": [
    "import pandas as pd\n",
    "import numpy as np\n",
    "import matplotlib.pyplot as plt"
   ]
  },
  {
   "cell_type": "markdown",
   "metadata": {},
   "source": [
    "## Clean and combine all datasets from NYC"
   ]
  },
  {
   "cell_type": "code",
   "execution_count": 2,
   "metadata": {},
   "outputs": [],
   "source": [
    "boroughs = ['manhattan', 'brooklyn', 'bronx', 'queens', 'statenisland']"
   ]
  },
  {
   "cell_type": "code",
   "execution_count": 3,
   "metadata": {},
   "outputs": [],
   "source": [
    "# Define a funciton to clean and combine all datasets \n",
    "def clean_and_combine_all_boroughs(list_of_boroughs):\n",
    "    df_list = []\n",
    "    for borough in list_of_boroughs:\n",
    "        # read in csv\n",
    "        df_borough = pd.read_csv(f'../../data/raw_nyc_dept_fin_data/{borough}.csv', thousands=',')\n",
    "        # format column names\n",
    "        df_borough.columns = [i.strip().lower().replace(' ', '_') for i in df_borough.columns]\n",
    "        # drop empty rows created when export .xls as csv\n",
    "        df_borough = df_borough[np.isfinite(df_borough['borough'])]\n",
    "        # drop column 'ease-ment' that are all NaN\n",
    "        df_borough = df_borough.drop(columns=['ease-ment'])\n",
    "        df_list.append(df_borough)\n",
    "    return pd.concat(df_list)"
   ]
  },
  {
   "cell_type": "code",
   "execution_count": 4,
   "metadata": {},
   "outputs": [],
   "source": [
    "df = clean_and_combine_all_boroughs(boroughs)"
   ]
  },
  {
   "cell_type": "markdown",
   "metadata": {},
   "source": [
    "## Initial Data Cleaning"
   ]
  },
  {
   "cell_type": "markdown",
   "metadata": {},
   "source": [
    "### Change data types"
   ]
  },
  {
   "cell_type": "code",
   "execution_count": 5,
   "metadata": {},
   "outputs": [],
   "source": [
    "list_of_col_to_int = ['borough', 'block', 'zip_code', 'year_built', 'tax_class_at_time_of_sale']"
   ]
  },
  {
   "cell_type": "code",
   "execution_count": 6,
   "metadata": {},
   "outputs": [],
   "source": [
    "def col_convert_float_to_int(col_list, df):\n",
    "    for i in col_list:\n",
    "        df[i] = df[i].astype('Int64')\n",
    "    return df"
   ]
  },
  {
   "cell_type": "code",
   "execution_count": 7,
   "metadata": {},
   "outputs": [],
   "source": [
    "df = col_convert_float_to_int(list_of_col_to_int, df)"
   ]
  },
  {
   "cell_type": "markdown",
   "metadata": {},
   "source": [
    "## Engeiner the column 'price_per_sqft'"
   ]
  },
  {
   "cell_type": "code",
   "execution_count": 8,
   "metadata": {},
   "outputs": [],
   "source": [
    "df['price_per_sqft'] = df['sale_price'] / df['gross_square_feet']"
   ]
  },
  {
   "cell_type": "code",
   "execution_count": 9,
   "metadata": {},
   "outputs": [
    {
     "data": {
      "text/html": [
       "<div>\n",
       "<style scoped>\n",
       "    .dataframe tbody tr th:only-of-type {\n",
       "        vertical-align: middle;\n",
       "    }\n",
       "\n",
       "    .dataframe tbody tr th {\n",
       "        vertical-align: top;\n",
       "    }\n",
       "\n",
       "    .dataframe thead th {\n",
       "        text-align: right;\n",
       "    }\n",
       "</style>\n",
       "<table border=\"1\" class=\"dataframe\">\n",
       "  <thead>\n",
       "    <tr style=\"text-align: right;\">\n",
       "      <th></th>\n",
       "      <th>borough</th>\n",
       "      <th>neighborhood</th>\n",
       "      <th>building_class_category</th>\n",
       "      <th>tax_class_at_present</th>\n",
       "      <th>block</th>\n",
       "      <th>lot</th>\n",
       "      <th>building_class_at_present</th>\n",
       "      <th>address</th>\n",
       "      <th>apartment_number</th>\n",
       "      <th>zip_code</th>\n",
       "      <th>...</th>\n",
       "      <th>commercial_units</th>\n",
       "      <th>total_units</th>\n",
       "      <th>land_square_feet</th>\n",
       "      <th>gross_square_feet</th>\n",
       "      <th>year_built</th>\n",
       "      <th>tax_class_at_time_of_sale</th>\n",
       "      <th>building_class_at_time_of_sale</th>\n",
       "      <th>sale_price</th>\n",
       "      <th>sale_date</th>\n",
       "      <th>price_per_sqft</th>\n",
       "    </tr>\n",
       "  </thead>\n",
       "  <tbody>\n",
       "    <tr>\n",
       "      <th>0</th>\n",
       "      <td>1</td>\n",
       "      <td>ALPHABET CITY</td>\n",
       "      <td>01 ONE FAMILY DWELLINGS</td>\n",
       "      <td>1</td>\n",
       "      <td>376</td>\n",
       "      <td>43.0</td>\n",
       "      <td>S1</td>\n",
       "      <td>743 EAST 6TH STREET</td>\n",
       "      <td>NaN</td>\n",
       "      <td>10009</td>\n",
       "      <td>...</td>\n",
       "      <td>1.0</td>\n",
       "      <td>2.0</td>\n",
       "      <td>2090.0</td>\n",
       "      <td>3680.0</td>\n",
       "      <td>1940</td>\n",
       "      <td>1</td>\n",
       "      <td>S1</td>\n",
       "      <td>3200000.0</td>\n",
       "      <td>7/24/19</td>\n",
       "      <td>869.565217</td>\n",
       "    </tr>\n",
       "    <tr>\n",
       "      <th>1</th>\n",
       "      <td>1</td>\n",
       "      <td>ALPHABET CITY</td>\n",
       "      <td>01 ONE FAMILY DWELLINGS</td>\n",
       "      <td>1</td>\n",
       "      <td>390</td>\n",
       "      <td>61.0</td>\n",
       "      <td>A4</td>\n",
       "      <td>189 EAST 7TH STREET</td>\n",
       "      <td>NaN</td>\n",
       "      <td>10009</td>\n",
       "      <td>...</td>\n",
       "      <td>0.0</td>\n",
       "      <td>1.0</td>\n",
       "      <td>987.0</td>\n",
       "      <td>2183.0</td>\n",
       "      <td>1860</td>\n",
       "      <td>1</td>\n",
       "      <td>A4</td>\n",
       "      <td>0.0</td>\n",
       "      <td>9/25/19</td>\n",
       "      <td>0.000000</td>\n",
       "    </tr>\n",
       "    <tr>\n",
       "      <th>2</th>\n",
       "      <td>1</td>\n",
       "      <td>ALPHABET CITY</td>\n",
       "      <td>02 TWO FAMILY DWELLINGS</td>\n",
       "      <td>1</td>\n",
       "      <td>404</td>\n",
       "      <td>1.0</td>\n",
       "      <td>B9</td>\n",
       "      <td>166 AVENUE A</td>\n",
       "      <td>NaN</td>\n",
       "      <td>10009</td>\n",
       "      <td>...</td>\n",
       "      <td>0.0</td>\n",
       "      <td>2.0</td>\n",
       "      <td>1510.0</td>\n",
       "      <td>4520.0</td>\n",
       "      <td>1900</td>\n",
       "      <td>1</td>\n",
       "      <td>B9</td>\n",
       "      <td>0.0</td>\n",
       "      <td>7/22/19</td>\n",
       "      <td>0.000000</td>\n",
       "    </tr>\n",
       "    <tr>\n",
       "      <th>3</th>\n",
       "      <td>1</td>\n",
       "      <td>ALPHABET CITY</td>\n",
       "      <td>03 THREE FAMILY DWELLINGS</td>\n",
       "      <td>1</td>\n",
       "      <td>377</td>\n",
       "      <td>56.0</td>\n",
       "      <td>C0</td>\n",
       "      <td>263 EAST 7TH STREET</td>\n",
       "      <td>NaN</td>\n",
       "      <td>10009</td>\n",
       "      <td>...</td>\n",
       "      <td>0.0</td>\n",
       "      <td>3.0</td>\n",
       "      <td>2430.0</td>\n",
       "      <td>3600.0</td>\n",
       "      <td>1899</td>\n",
       "      <td>1</td>\n",
       "      <td>C0</td>\n",
       "      <td>6300000.0</td>\n",
       "      <td>4/30/19</td>\n",
       "      <td>1750.000000</td>\n",
       "    </tr>\n",
       "    <tr>\n",
       "      <th>4</th>\n",
       "      <td>1</td>\n",
       "      <td>ALPHABET CITY</td>\n",
       "      <td>03 THREE FAMILY DWELLINGS</td>\n",
       "      <td>1</td>\n",
       "      <td>393</td>\n",
       "      <td>9.0</td>\n",
       "      <td>C0</td>\n",
       "      <td>604 EAST 11TH STREET</td>\n",
       "      <td>NaN</td>\n",
       "      <td>10009</td>\n",
       "      <td>...</td>\n",
       "      <td>0.0</td>\n",
       "      <td>3.0</td>\n",
       "      <td>2375.0</td>\n",
       "      <td>5110.0</td>\n",
       "      <td>1939</td>\n",
       "      <td>1</td>\n",
       "      <td>C0</td>\n",
       "      <td>0.0</td>\n",
       "      <td>10/24/19</td>\n",
       "      <td>0.000000</td>\n",
       "    </tr>\n",
       "  </tbody>\n",
       "</table>\n",
       "<p>5 rows × 21 columns</p>\n",
       "</div>"
      ],
      "text/plain": [
       "   borough   neighborhood    building_class_category tax_class_at_present  \\\n",
       "0        1  ALPHABET CITY    01 ONE FAMILY DWELLINGS                    1   \n",
       "1        1  ALPHABET CITY    01 ONE FAMILY DWELLINGS                    1   \n",
       "2        1  ALPHABET CITY    02 TWO FAMILY DWELLINGS                    1   \n",
       "3        1  ALPHABET CITY  03 THREE FAMILY DWELLINGS                    1   \n",
       "4        1  ALPHABET CITY  03 THREE FAMILY DWELLINGS                    1   \n",
       "\n",
       "   block   lot building_class_at_present               address  \\\n",
       "0    376  43.0                        S1   743 EAST 6TH STREET   \n",
       "1    390  61.0                        A4   189 EAST 7TH STREET   \n",
       "2    404   1.0                        B9          166 AVENUE A   \n",
       "3    377  56.0                        C0   263 EAST 7TH STREET   \n",
       "4    393   9.0                        C0  604 EAST 11TH STREET   \n",
       "\n",
       "  apartment_number  zip_code  ...  commercial_units  total_units  \\\n",
       "0              NaN     10009  ...               1.0          2.0   \n",
       "1              NaN     10009  ...               0.0          1.0   \n",
       "2              NaN     10009  ...               0.0          2.0   \n",
       "3              NaN     10009  ...               0.0          3.0   \n",
       "4              NaN     10009  ...               0.0          3.0   \n",
       "\n",
       "   land_square_feet  gross_square_feet  year_built  tax_class_at_time_of_sale  \\\n",
       "0            2090.0             3680.0        1940                          1   \n",
       "1             987.0             2183.0        1860                          1   \n",
       "2            1510.0             4520.0        1900                          1   \n",
       "3            2430.0             3600.0        1899                          1   \n",
       "4            2375.0             5110.0        1939                          1   \n",
       "\n",
       "   building_class_at_time_of_sale sale_price  sale_date price_per_sqft  \n",
       "0                              S1  3200000.0    7/24/19     869.565217  \n",
       "1                              A4        0.0    9/25/19       0.000000  \n",
       "2                              B9        0.0    7/22/19       0.000000  \n",
       "3                              C0  6300000.0    4/30/19    1750.000000  \n",
       "4                              C0        0.0   10/24/19       0.000000  \n",
       "\n",
       "[5 rows x 21 columns]"
      ]
     },
     "execution_count": 9,
     "metadata": {},
     "output_type": "execute_result"
    }
   ],
   "source": [
    "df.head()"
   ]
  },
  {
   "cell_type": "markdown",
   "metadata": {},
   "source": [
    "## Export as .csv"
   ]
  },
  {
   "cell_type": "code",
   "execution_count": 10,
   "metadata": {},
   "outputs": [],
   "source": [
    "df.to_csv('../../data/nyc_dept_fin.csv', index=False)"
   ]
  }
 ],
 "metadata": {
  "kernelspec": {
   "display_name": "Python 3",
   "language": "python",
   "name": "python3"
  },
  "language_info": {
   "codemirror_mode": {
    "name": "ipython",
    "version": 3
   },
   "file_extension": ".py",
   "mimetype": "text/x-python",
   "name": "python",
   "nbconvert_exporter": "python",
   "pygments_lexer": "ipython3",
   "version": "3.7.4"
  },
  "toc": {
   "base_numbering": 1,
   "nav_menu": {},
   "number_sections": true,
   "sideBar": true,
   "skip_h1_title": false,
   "title_cell": "Table of Contents",
   "title_sidebar": "Contents",
   "toc_cell": false,
   "toc_position": {},
   "toc_section_display": true,
   "toc_window_display": false
  }
 },
 "nbformat": 4,
 "nbformat_minor": 2
}
