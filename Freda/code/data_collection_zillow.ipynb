{
 "cells": [
  {
   "cell_type": "markdown",
   "metadata": {},
   "source": [
    "## Import libraries"
   ]
  },
  {
   "cell_type": "code",
   "execution_count": 1,
   "metadata": {},
   "outputs": [],
   "source": [
    "import pandas as pd\n",
    "import requests\n",
    "import datetime as dt\n",
    "import re\n",
    "from pathlib import Path"
   ]
  },
  {
   "cell_type": "markdown",
   "metadata": {},
   "source": [
    "## Dataset\n",
    "\n",
    "Relesteate data not provided by countries via APIs.\n",
    "\n",
    "As per https://opendata.stackexchange.com/a/9989, counties have this data available\n",
    "\n",
    "We found data sets on https://www1.nyc.gov/site/finance/taxes/property-assessment-roll-archives.page\n",
    "\n",
    "Data dictionary available for data: https://www1.nyc.gov/assets/finance/downloads/tar/tarfieldcodes.pdf\n",
    "\n",
    "Explanation of tax classes: \n",
    "\n",
    "```\n",
    "Property in NYC is divided into 4 classes:\n",
    "\n",
    "Class 1: Most residential property of up to three units (family homes and small stores or offices with one or two apartments attached), and most condominiums that are not more than three stories.\n",
    "Class 2: All other property that is not in Class 1 and is primarily residential (rentals, cooperatives and condominiums). Class 2 includes:\n",
    "Sub-Class 2a  (4 -  6 unit rental building);\n",
    "Sub-Class 2b  (7 - 10 unit rental building);\n",
    "Sub-Class 2c  (2 - 10 unit cooperative or condominium); and\n",
    "Class 2  (11 units or more).\n",
    "Class 3: Most utility property.\n",
    "Class 4: All commercial and industrial properties, such as office, retail, factory buildings and all other properties not included in tax classes 1, 2 or 3.\n",
    "```\n",
    "\n",
    "## Converting Data\n",
    "\n",
    "Data is in mdb file (microsoft access)\n",
    "\n",
    "can export with mdbtools as per https://stackoverflow.com/a/52709174\n"
   ]
  },
  {
   "cell_type": "code",
   "execution_count": 4,
   "metadata": {},
   "outputs": [],
   "source": [
    "df = pd.read_csv('../data/nyc_assessor_tax_class_1.csv')"
   ]
  },
  {
   "cell_type": "code",
   "execution_count": 6,
   "metadata": {},
   "outputs": [
    {
     "data": {
      "text/plain": [
       "Index(['BBLE', 'BORO', 'BLOCK', 'LOT', 'EASE', 'SECVOL', 'DISTRICT', 'YEAR4',\n",
       "       'CUR_FV_L', 'CUR_FV_T',\n",
       "       ...\n",
       "       'O_AT_GRP', 'O_APPLIC', 'REUC', 'GEO_RC', 'COOP_NUM', 'EX_INDS',\n",
       "       'EX_COUNT', 'EX_CHGDT', 'DCHGDT', 'SM_CHGDT'],\n",
       "      dtype='object', length=117)"
      ]
     },
     "execution_count": 6,
     "metadata": {},
     "output_type": "execute_result"
    }
   ],
   "source": [
    "df.head()."
   ]
  },
  {
   "cell_type": "code",
   "execution_count": null,
   "metadata": {},
   "outputs": [],
   "source": []
  }
 ],
 "metadata": {
  "kernelspec": {
   "display_name": "Python 3",
   "language": "python",
   "name": "python3"
  },
  "language_info": {
   "codemirror_mode": {
    "name": "ipython",
    "version": 3
   },
   "file_extension": ".py",
   "mimetype": "text/x-python",
   "name": "python",
   "nbconvert_exporter": "python",
   "pygments_lexer": "ipython3",
   "version": "3.7.4"
  },
  "toc": {
   "base_numbering": 1,
   "nav_menu": {},
   "number_sections": true,
   "sideBar": true,
   "skip_h1_title": false,
   "title_cell": "Table of Contents",
   "title_sidebar": "Contents",
   "toc_cell": false,
   "toc_position": {},
   "toc_section_display": true,
   "toc_window_display": false
  }
 },
 "nbformat": 4,
 "nbformat_minor": 2
}
